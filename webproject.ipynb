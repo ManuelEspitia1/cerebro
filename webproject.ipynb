{
 "cells": [
  {
   "cell_type": "markdown",
   "source": "# SET UP",
   "metadata": {
    "formattedRanges": [],
    "cell_id": "66dd3c69f261426db82b559e6d8d6dcd",
    "tags": [],
    "is_collapsed": false,
    "deepnote_cell_type": "text-cell-h1"
   }
  },
  {
   "cell_type": "code",
   "metadata": {
    "cell_id": "78bf77c9a6a24bbbb7550b710972bd05",
    "tags": [],
    "deepnote_to_be_reexecuted": false,
    "source_hash": "866e2727",
    "execution_start": 1657660333503,
    "execution_millis": 8536,
    "deepnote_cell_type": "code",
    "deepnote_cell_height": 881
   },
   "source": "# Import requried libraries \nimport pandas as pd\nimport numpy as np\nimport plotly.express as px\nimport time\nfrom datetime import datetime\n!pip install gspread\n!pip install gspread_dataframe\nfrom gspread_dataframe import set_with_dataframe\nimport gspread\ngc = gspread.service_account(filename='/work/world-wide-web-356017-564c77672260.json')",
   "outputs": [
    {
     "name": "stdout",
     "text": "Collecting gspread\n  Downloading gspread-5.4.0-py3-none-any.whl (37 kB)\nRequirement already satisfied: google-auth-oauthlib>=0.4.1 in /shared-libs/python3.9/py/lib/python3.9/site-packages (from gspread) (0.4.6)\nRequirement already satisfied: google-auth>=1.12.0 in /shared-libs/python3.9/py/lib/python3.9/site-packages (from gspread) (2.7.0)\nRequirement already satisfied: six>=1.9.0 in /shared-libs/python3.9/py-core/lib/python3.9/site-packages (from google-auth>=1.12.0->gspread) (1.16.0)\nRequirement already satisfied: cachetools<6.0,>=2.0.0 in /shared-libs/python3.9/py/lib/python3.9/site-packages (from google-auth>=1.12.0->gspread) (5.2.0)\nRequirement already satisfied: rsa<5,>=3.1.4 in /shared-libs/python3.9/py/lib/python3.9/site-packages (from google-auth>=1.12.0->gspread) (4.8)\nRequirement already satisfied: pyasn1-modules>=0.2.1 in /shared-libs/python3.9/py/lib/python3.9/site-packages (from google-auth>=1.12.0->gspread) (0.2.8)\nRequirement already satisfied: requests-oauthlib>=0.7.0 in /shared-libs/python3.9/py/lib/python3.9/site-packages (from google-auth-oauthlib>=0.4.1->gspread) (1.3.1)\nRequirement already satisfied: pyasn1<0.5.0,>=0.4.6 in /shared-libs/python3.9/py/lib/python3.9/site-packages (from pyasn1-modules>=0.2.1->google-auth>=1.12.0->gspread) (0.4.8)\nRequirement already satisfied: oauthlib>=3.0.0 in /shared-libs/python3.9/py/lib/python3.9/site-packages (from requests-oauthlib>=0.7.0->google-auth-oauthlib>=0.4.1->gspread) (3.2.0)\nRequirement already satisfied: requests>=2.0.0 in /shared-libs/python3.9/py/lib/python3.9/site-packages (from requests-oauthlib>=0.7.0->google-auth-oauthlib>=0.4.1->gspread) (2.27.1)\nRequirement already satisfied: idna<4,>=2.5 in /shared-libs/python3.9/py-core/lib/python3.9/site-packages (from requests>=2.0.0->requests-oauthlib>=0.7.0->google-auth-oauthlib>=0.4.1->gspread) (3.3)\nRequirement already satisfied: charset-normalizer~=2.0.0 in /shared-libs/python3.9/py-core/lib/python3.9/site-packages (from requests>=2.0.0->requests-oauthlib>=0.7.0->google-auth-oauthlib>=0.4.1->gspread) (2.0.12)\nRequirement already satisfied: urllib3<1.27,>=1.21.1 in /shared-libs/python3.9/py/lib/python3.9/site-packages (from requests>=2.0.0->requests-oauthlib>=0.7.0->google-auth-oauthlib>=0.4.1->gspread) (1.26.9)\nRequirement already satisfied: certifi>=2017.4.17 in /shared-libs/python3.9/py/lib/python3.9/site-packages (from requests>=2.0.0->requests-oauthlib>=0.7.0->google-auth-oauthlib>=0.4.1->gspread) (2022.5.18.1)\nInstalling collected packages: gspread\nSuccessfully installed gspread-5.4.0\n\u001b[33mWARNING: You are using pip version 22.0.4; however, version 22.1.2 is available.\nYou should consider upgrading via the '/root/venv/bin/python -m pip install --upgrade pip' command.\u001b[0m\u001b[33m\n\u001b[0mCollecting gspread_dataframe\n  Downloading gspread_dataframe-3.3.0-py2.py3-none-any.whl (7.9 kB)\nRequirement already satisfied: six>=1.12.0 in /shared-libs/python3.9/py-core/lib/python3.9/site-packages (from gspread_dataframe) (1.16.0)\nRequirement already satisfied: pandas>=0.24.0 in /shared-libs/python3.9/py/lib/python3.9/site-packages (from gspread_dataframe) (1.2.5)\nRequirement already satisfied: gspread>=3.0.0 in /root/venv/lib/python3.9/site-packages (from gspread_dataframe) (5.4.0)\nRequirement already satisfied: google-auth-oauthlib>=0.4.1 in /shared-libs/python3.9/py/lib/python3.9/site-packages (from gspread>=3.0.0->gspread_dataframe) (0.4.6)\nRequirement already satisfied: google-auth>=1.12.0 in /shared-libs/python3.9/py/lib/python3.9/site-packages (from gspread>=3.0.0->gspread_dataframe) (2.7.0)\nRequirement already satisfied: numpy>=1.16.5 in /shared-libs/python3.9/py/lib/python3.9/site-packages (from pandas>=0.24.0->gspread_dataframe) (1.22.4)\nRequirement already satisfied: pytz>=2017.3 in /shared-libs/python3.9/py/lib/python3.9/site-packages (from pandas>=0.24.0->gspread_dataframe) (2022.1)\nRequirement already satisfied: python-dateutil>=2.7.3 in /shared-libs/python3.9/py-core/lib/python3.9/site-packages (from pandas>=0.24.0->gspread_dataframe) (2.8.2)\nRequirement already satisfied: cachetools<6.0,>=2.0.0 in /shared-libs/python3.9/py/lib/python3.9/site-packages (from google-auth>=1.12.0->gspread>=3.0.0->gspread_dataframe) (5.2.0)\nRequirement already satisfied: rsa<5,>=3.1.4 in /shared-libs/python3.9/py/lib/python3.9/site-packages (from google-auth>=1.12.0->gspread>=3.0.0->gspread_dataframe) (4.8)\nRequirement already satisfied: pyasn1-modules>=0.2.1 in /shared-libs/python3.9/py/lib/python3.9/site-packages (from google-auth>=1.12.0->gspread>=3.0.0->gspread_dataframe) (0.2.8)\nRequirement already satisfied: requests-oauthlib>=0.7.0 in /shared-libs/python3.9/py/lib/python3.9/site-packages (from google-auth-oauthlib>=0.4.1->gspread>=3.0.0->gspread_dataframe) (1.3.1)\nRequirement already satisfied: pyasn1<0.5.0,>=0.4.6 in /shared-libs/python3.9/py/lib/python3.9/site-packages (from pyasn1-modules>=0.2.1->google-auth>=1.12.0->gspread>=3.0.0->gspread_dataframe) (0.4.8)\nRequirement already satisfied: oauthlib>=3.0.0 in /shared-libs/python3.9/py/lib/python3.9/site-packages (from requests-oauthlib>=0.7.0->google-auth-oauthlib>=0.4.1->gspread>=3.0.0->gspread_dataframe) (3.2.0)\nRequirement already satisfied: requests>=2.0.0 in /shared-libs/python3.9/py/lib/python3.9/site-packages (from requests-oauthlib>=0.7.0->google-auth-oauthlib>=0.4.1->gspread>=3.0.0->gspread_dataframe) (2.27.1)\nRequirement already satisfied: certifi>=2017.4.17 in /shared-libs/python3.9/py/lib/python3.9/site-packages (from requests>=2.0.0->requests-oauthlib>=0.7.0->google-auth-oauthlib>=0.4.1->gspread>=3.0.0->gspread_dataframe) (2022.5.18.1)\nRequirement already satisfied: urllib3<1.27,>=1.21.1 in /shared-libs/python3.9/py/lib/python3.9/site-packages (from requests>=2.0.0->requests-oauthlib>=0.7.0->google-auth-oauthlib>=0.4.1->gspread>=3.0.0->gspread_dataframe) (1.26.9)\nRequirement already satisfied: charset-normalizer~=2.0.0 in /shared-libs/python3.9/py-core/lib/python3.9/site-packages (from requests>=2.0.0->requests-oauthlib>=0.7.0->google-auth-oauthlib>=0.4.1->gspread>=3.0.0->gspread_dataframe) (2.0.12)\nRequirement already satisfied: idna<4,>=2.5 in /shared-libs/python3.9/py-core/lib/python3.9/site-packages (from requests>=2.0.0->requests-oauthlib>=0.7.0->google-auth-oauthlib>=0.4.1->gspread>=3.0.0->gspread_dataframe) (3.3)\nInstalling collected packages: gspread_dataframe\nSuccessfully installed gspread_dataframe-3.3.0\n\u001b[33mWARNING: You are using pip version 22.0.4; however, version 22.1.2 is available.\nYou should consider upgrading via the '/root/venv/bin/python -m pip install --upgrade pip' command.\u001b[0m\u001b[33m\n\u001b[0m",
     "output_type": "stream"
    }
   ],
   "execution_count": null
  },
  {
   "cell_type": "markdown",
   "source": "# Extract",
   "metadata": {
    "formattedRanges": [],
    "cell_id": "b65ad254c20e4000a6f58267eddb5d57",
    "tags": [],
    "is_collapsed": false,
    "deepnote_cell_type": "text-cell-h1"
   }
  },
  {
   "cell_type": "code",
   "metadata": {
    "cell_id": "a042b483f34742f0a4aeae09be9eab35",
    "tags": [],
    "deepnote_to_be_reexecuted": false,
    "source_hash": "4e16b713",
    "execution_start": 1657660342046,
    "execution_millis": 13,
    "deepnote_cell_type": "code",
    "deepnote_cell_height": 117
   },
   "source": "# extract first df and create variable \"prices\". \n# list of default na values is redefined to exclude string 'NA' which happens to be Namibia's country code\nprices = pd.read_csv('/work/cerebro/worldwide internet prices in 2022 - IN 2022.csv',keep_default_na=False, na_values=['-1.#IND', '1.#QNAN', '1.#IND', '-1.#QNAN', '#N/A N/A', '#N/A', 'N/A', 'n/a', '#NA', 'NULL', 'null', 'NaN', '-NaN', 'nan', '-nan', ''])",
   "outputs": [],
   "execution_count": null
  },
  {
   "cell_type": "code",
   "metadata": {
    "cell_id": "f4c6be76dc934fb8851a1610933f770c",
    "tags": [],
    "deepnote_to_be_reexecuted": false,
    "source_hash": "281128c8",
    "execution_start": 1657660342064,
    "execution_millis": 3,
    "deepnote_cell_type": "code",
    "deepnote_cell_height": 99
   },
   "source": "# extract second df and create variable \"speed\"\nspeed = pd.read_csv('/work/cerebro/worldwide internet speed in 2022  - avg speed.csv')",
   "outputs": [],
   "execution_count": null
  },
  {
   "cell_type": "code",
   "metadata": {
    "cell_id": "a6cb254e7cda4ca28bf213e8c013f5d2",
    "tags": [],
    "deepnote_to_be_reexecuted": false,
    "source_hash": "77cf50ab",
    "execution_start": 1657660342077,
    "execution_millis": 2,
    "deepnote_cell_type": "code",
    "deepnote_cell_height": 99
   },
   "source": "# extract third df and create variable \"users\"\nusers = pd.read_csv('/work/cerebro/worldwide internet users - users.csv')",
   "outputs": [],
   "execution_count": null
  },
  {
   "cell_type": "markdown",
   "source": "# Transform",
   "metadata": {
    "formattedRanges": [],
    "cell_id": "a76d6afd74bd4900bda662429aa1e6d2",
    "tags": [],
    "is_collapsed": false,
    "deepnote_cell_type": "text-cell-h1"
   }
  },
  {
   "cell_type": "code",
   "metadata": {
    "cell_id": "f775a422d7254c2bb07388538bfe1c28",
    "tags": [],
    "deepnote_to_be_reexecuted": false,
    "source_hash": "5aaf8427",
    "execution_start": 1657660342126,
    "execution_millis": 61,
    "deepnote_cell_type": "code",
    "deepnote_cell_height": 635
   },
   "source": "# This is our DF\nprices",
   "outputs": [
    {
     "output_type": "execute_result",
     "execution_count": 5,
     "data": {
      "application/vnd.deepnote.dataframe.v3+json": {
       "column_count": 9,
       "row_count": 242,
       "columns": [
        {
         "name": "Country code",
         "dtype": "object",
         "stats": {
          "unique_count": 240,
          "nan_count": 0,
          "categories": [
           {
            "name": "TT",
            "count": 2
           },
           {
            "name": "CW",
            "count": 2
           },
           {
            "name": "238 others",
            "count": 238
           }
          ]
         }
        },
        {
         "name": "Name",
         "dtype": "object",
         "stats": {
          "unique_count": 241,
          "nan_count": 0,
          "categories": [
           {
            "name": "Tuvalu",
            "count": 2
           },
           {
            "name": "Israel",
            "count": 1
           },
           {
            "name": "239 others",
            "count": 239
           }
          ]
         }
        },
        {
         "name": "Continental region",
         "dtype": "object",
         "stats": {
          "unique_count": 14,
          "nan_count": 0,
          "categories": [
           {
            "name": "SUB-SAHARAN AFRICA",
            "count": 50
           },
           {
            "name": "CARIBBEAN",
            "count": 31
           },
           {
            "name": "12 others",
            "count": 161
           }
          ]
         }
        },
        {
         "name": "NO. OF Internet Plans ",
         "dtype": "float64",
         "stats": {
          "unique_count": 55,
          "nan_count": 12,
          "min": "1.0",
          "max": "60.0",
          "histogram": [
           {
            "bin_start": 1,
            "bin_end": 6.9,
            "count": 16
           },
           {
            "bin_start": 6.9,
            "bin_end": 12.8,
            "count": 26
           },
           {
            "bin_start": 12.8,
            "bin_end": 18.700000000000003,
            "count": 46
           },
           {
            "bin_start": 18.700000000000003,
            "bin_end": 24.6,
            "count": 43
           },
           {
            "bin_start": 24.6,
            "bin_end": 30.5,
            "count": 21
           },
           {
            "bin_start": 30.5,
            "bin_end": 36.400000000000006,
            "count": 21
           },
           {
            "bin_start": 36.400000000000006,
            "bin_end": 42.300000000000004,
            "count": 15
           },
           {
            "bin_start": 42.300000000000004,
            "bin_end": 48.2,
            "count": 10
           },
           {
            "bin_start": 48.2,
            "bin_end": 54.1,
            "count": 8
           },
           {
            "bin_start": 54.1,
            "bin_end": 60,
            "count": 24
           }
          ]
         }
        },
        {
         "name": "Average price of 1GB (USD)",
         "dtype": "object",
         "stats": {
          "unique_count": 199,
          "nan_count": 0,
          "categories": [
           {
            "name": "NO PROVIDERS",
            "count": 9
           },
           {
            "name": "$0.60",
            "count": 3
           },
           {
            "name": "197 others",
            "count": 230
           }
          ]
         }
        },
        {
         "name": "Cheapest 1GB for 30 days (USD)",
         "dtype": "object",
         "stats": {
          "unique_count": 133,
          "nan_count": 12,
          "categories": [
           {
            "name": "$0.24",
            "count": 6
           },
           {
            "name": "132 others",
            "count": 224
           },
           {
            "name": "Missing",
            "count": 12
           }
          ]
         }
        },
        {
         "name": "Most expensive 1GB (USD)",
         "dtype": "object",
         "stats": {
          "unique_count": 210,
          "nan_count": 12,
          "categories": [
           {
            "name": "$106.49",
            "count": 3
           },
           {
            "name": "209 others",
            "count": 227
           },
           {
            "name": "Missing",
            "count": 12
           }
          ]
         }
        },
        {
         "name": "Average price of 1GB (USD  at the start of 2021)",
         "dtype": "object",
         "stats": {
          "unique_count": 193,
          "nan_count": 12,
          "categories": [
           {
            "name": "$1.12",
            "count": 3
           },
           {
            "name": "192 others",
            "count": 227
           },
           {
            "name": "Missing",
            "count": 12
           }
          ]
         }
        },
        {
         "name": "Average price of 1GB (USD – at start of 2020)",
         "dtype": "object",
         "stats": {
          "unique_count": 214,
          "nan_count": 12,
          "categories": [
           {
            "name": "$2.25",
            "count": 3
           },
           {
            "name": "213 others",
            "count": 227
           },
           {
            "name": "Missing",
            "count": 12
           }
          ]
         }
        },
        {
         "name": "_deepnote_index_column",
         "dtype": "int64"
        }
       ],
       "rows": [
        {
         "Country code": "IL",
         "Name": "Israel",
         "Continental region": "NEAR EAST",
         "NO. OF Internet Plans ": 27,
         "Average price of 1GB (USD)": "$0.05",
         "Cheapest 1GB for 30 days (USD)": "$0.02",
         "Most expensive 1GB (USD)": "$20.95",
         "Average price of 1GB (USD  at the start of 2021)": "$0.11",
         "Average price of 1GB (USD – at start of 2020)": "$0.90",
         "_deepnote_index_column": 0
        },
        {
         "Country code": "KG",
         "Name": "Kyrgyzstan",
         "Continental region": "CIS (FORMER USSR)",
         "NO. OF Internet Plans ": 20,
         "Average price of 1GB (USD)": "$0.15",
         "Cheapest 1GB for 30 days (USD)": "$0.10",
         "Most expensive 1GB (USD)": "$7.08",
         "Average price of 1GB (USD  at the start of 2021)": "$0.21",
         "Average price of 1GB (USD – at start of 2020)": "$0.27",
         "_deepnote_index_column": 1
        },
        {
         "Country code": "FJ",
         "Name": "Fiji",
         "Continental region": "OCEANIA",
         "NO. OF Internet Plans ": 18,
         "Average price of 1GB (USD)": "$0.19",
         "Cheapest 1GB for 30 days (USD)": "$0.05",
         "Most expensive 1GB (USD)": "$0.85",
         "Average price of 1GB (USD  at the start of 2021)": "$0.59",
         "Average price of 1GB (USD – at start of 2020)": "$3.57",
         "_deepnote_index_column": 2
        },
        {
         "Country code": "IT",
         "Name": "Italy",
         "Continental region": "WESTERN EUROPE",
         "NO. OF Internet Plans ": 29,
         "Average price of 1GB (USD)": "$0.27",
         "Cheapest 1GB for 30 days (USD)": "$0.09",
         "Most expensive 1GB (USD)": "$3.54",
         "Average price of 1GB (USD  at the start of 2021)": "$0.43",
         "Average price of 1GB (USD – at start of 2020)": "$1.73",
         "_deepnote_index_column": 3
        },
        {
         "Country code": "SD",
         "Name": "Sudan",
         "Continental region": "SUB-SAHARAN AFRICA",
         "NO. OF Internet Plans ": 33,
         "Average price of 1GB (USD)": "$0.27",
         "Cheapest 1GB for 30 days (USD)": "$0.03",
         "Most expensive 1GB (USD)": "$0.92",
         "Average price of 1GB (USD  at the start of 2021)": "$0.63",
         "Average price of 1GB (USD – at start of 2020)": "$0.68",
         "_deepnote_index_column": 4
        },
        {
         "Country code": "RU",
         "Name": "Russian Federation",
         "Continental region": "CIS (FORMER USSR)",
         "NO. OF Internet Plans ": 22,
         "Average price of 1GB (USD)": "$0.29",
         "Cheapest 1GB for 30 days (USD)": "$0.13",
         "Most expensive 1GB (USD)": "$1.86",
         "Average price of 1GB (USD  at the start of 2021)": "$0.52",
         "Average price of 1GB (USD – at start of 2020)": "$0.91",
         "_deepnote_index_column": 5
        },
        {
         "Country code": "MD",
         "Name": "Moldova",
         "Continental region": "EASTERN EUROPE",
         "NO. OF Internet Plans ": 18,
         "Average price of 1GB (USD)": "$0.32",
         "Cheapest 1GB for 30 days (USD)": "$0.07",
         "Most expensive 1GB (USD)": "$2.79",
         "Average price of 1GB (USD  at the start of 2021)": "$1.12",
         "Average price of 1GB (USD – at start of 2020)": "$2.82",
         "_deepnote_index_column": 6
        },
        {
         "Country code": "BD",
         "Name": "Bangladesh",
         "Continental region": "ASIA (EX. NEAR EAST)",
         "NO. OF Internet Plans ": 60,
         "Average price of 1GB (USD)": "$0.34",
         "Cheapest 1GB for 30 days (USD)": "$0.11",
         "Most expensive 1GB (USD)": "$2.22",
         "Average price of 1GB (USD  at the start of 2021)": "$0.70",
         "Average price of 1GB (USD – at start of 2020)": "$0.99",
         "_deepnote_index_column": 7
        },
        {
         "Country code": "LK",
         "Name": "Sri Lanka",
         "Continental region": "ASIA (EX. NEAR EAST)",
         "NO. OF Internet Plans ": 60,
         "Average price of 1GB (USD)": "$0.38",
         "Cheapest 1GB for 30 days (USD)": "$0.00",
         "Most expensive 1GB (USD)": "$5.53",
         "Average price of 1GB (USD  at the start of 2021)": "$0.51",
         "Average price of 1GB (USD – at start of 2020)": "$0.78",
         "_deepnote_index_column": 8
        },
        {
         "Country code": "CL",
         "Name": "Chile",
         "Continental region": "SOUTH AMERICA",
         "NO. OF Internet Plans ": 59,
         "Average price of 1GB (USD)": "$0.39",
         "Cheapest 1GB for 30 days (USD)": "$0.24",
         "Most expensive 1GB (USD)": "$1.83",
         "Average price of 1GB (USD  at the start of 2021)": "$0.71",
         "Average price of 1GB (USD – at start of 2020)": "$1.87",
         "_deepnote_index_column": 9
        }
       ]
      },
      "text/plain": "    Country code                            Name  Continental region  \\\n0             IL                          Israel           NEAR EAST   \n1             KG                      Kyrgyzstan   CIS (FORMER USSR)   \n2             FJ                            Fiji             OCEANIA   \n3             IT                           Italy      WESTERN EUROPE   \n4             SD                           Sudan  SUB-SAHARAN AFRICA   \n..           ...                             ...                 ...   \n237           VA         Vatican City (Holy See)              Europe   \n238           VE                       Venezuela       SOUTH AMERICA   \n239           WF               Wallis and Futuna             OCEANIA   \n240           CD  Congo (Democratic Republic of)  SUB-SAHARAN AFRICA   \n241           ZW                        Zimbabwe  SUB-SAHARAN AFRICA   \n\n     NO. OF Internet Plans                 Average price of 1GB (USD)  \\\n0                      27.0                                     $0.05   \n1                      20.0                                     $0.15   \n2                      18.0                                     $0.19   \n3                      29.0                                     $0.27   \n4                      33.0                                     $0.27   \n..                      ...                                       ...   \n237                     NaN                              NO PROVIDERS   \n238                     NaN                            HYPERINFLATION   \n239                     NaN                              NO PROVIDERS   \n240                     NaN  Prices listed in non-convertible 'units'   \n241                     NaN                 UNRELIABLE EXCHANGE RATES   \n\n    Cheapest 1GB for 30 days (USD) Most expensive 1GB (USD)  \\\n0                            $0.02                   $20.95   \n1                            $0.10                    $7.08   \n2                            $0.05                    $0.85   \n3                            $0.09                    $3.54   \n4                            $0.03                    $0.92   \n..                             ...                      ...   \n237                            NaN                      NaN   \n238                            NaN                      NaN   \n239                            NaN                      NaN   \n240                            NaN                      NaN   \n241                            NaN                      NaN   \n\n    Average price of 1GB (USD  at the start of 2021)  \\\n0                                              $0.11   \n1                                              $0.21   \n2                                              $0.59   \n3                                              $0.43   \n4                                              $0.63   \n..                                               ...   \n237                                              NaN   \n238                                              NaN   \n239                                              NaN   \n240                                              NaN   \n241                                              NaN   \n\n    Average price of 1GB (USD – at start of 2020)  \n0                                           $0.90  \n1                                           $0.27  \n2                                           $3.57  \n3                                           $1.73  \n4                                           $0.68  \n..                                            ...  \n237                                           NaN  \n238                                           NaN  \n239                                           NaN  \n240                                           NaN  \n241                                           NaN  \n\n[242 rows x 9 columns]",
      "text/html": "<div>\n<style scoped>\n    .dataframe tbody tr th:only-of-type {\n        vertical-align: middle;\n    }\n\n    .dataframe tbody tr th {\n        vertical-align: top;\n    }\n\n    .dataframe thead th {\n        text-align: right;\n    }\n</style>\n<table border=\"1\" class=\"dataframe\">\n  <thead>\n    <tr style=\"text-align: right;\">\n      <th></th>\n      <th>Country code</th>\n      <th>Name</th>\n      <th>Continental region</th>\n      <th>NO. OF Internet Plans</th>\n      <th>Average price of 1GB (USD)</th>\n      <th>Cheapest 1GB for 30 days (USD)</th>\n      <th>Most expensive 1GB (USD)</th>\n      <th>Average price of 1GB (USD  at the start of 2021)</th>\n      <th>Average price of 1GB (USD – at start of 2020)</th>\n    </tr>\n  </thead>\n  <tbody>\n    <tr>\n      <th>0</th>\n      <td>IL</td>\n      <td>Israel</td>\n      <td>NEAR EAST</td>\n      <td>27.0</td>\n      <td>$0.05</td>\n      <td>$0.02</td>\n      <td>$20.95</td>\n      <td>$0.11</td>\n      <td>$0.90</td>\n    </tr>\n    <tr>\n      <th>1</th>\n      <td>KG</td>\n      <td>Kyrgyzstan</td>\n      <td>CIS (FORMER USSR)</td>\n      <td>20.0</td>\n      <td>$0.15</td>\n      <td>$0.10</td>\n      <td>$7.08</td>\n      <td>$0.21</td>\n      <td>$0.27</td>\n    </tr>\n    <tr>\n      <th>2</th>\n      <td>FJ</td>\n      <td>Fiji</td>\n      <td>OCEANIA</td>\n      <td>18.0</td>\n      <td>$0.19</td>\n      <td>$0.05</td>\n      <td>$0.85</td>\n      <td>$0.59</td>\n      <td>$3.57</td>\n    </tr>\n    <tr>\n      <th>3</th>\n      <td>IT</td>\n      <td>Italy</td>\n      <td>WESTERN EUROPE</td>\n      <td>29.0</td>\n      <td>$0.27</td>\n      <td>$0.09</td>\n      <td>$3.54</td>\n      <td>$0.43</td>\n      <td>$1.73</td>\n    </tr>\n    <tr>\n      <th>4</th>\n      <td>SD</td>\n      <td>Sudan</td>\n      <td>SUB-SAHARAN AFRICA</td>\n      <td>33.0</td>\n      <td>$0.27</td>\n      <td>$0.03</td>\n      <td>$0.92</td>\n      <td>$0.63</td>\n      <td>$0.68</td>\n    </tr>\n    <tr>\n      <th>...</th>\n      <td>...</td>\n      <td>...</td>\n      <td>...</td>\n      <td>...</td>\n      <td>...</td>\n      <td>...</td>\n      <td>...</td>\n      <td>...</td>\n      <td>...</td>\n    </tr>\n    <tr>\n      <th>237</th>\n      <td>VA</td>\n      <td>Vatican City (Holy See)</td>\n      <td>Europe</td>\n      <td>NaN</td>\n      <td>NO PROVIDERS</td>\n      <td>NaN</td>\n      <td>NaN</td>\n      <td>NaN</td>\n      <td>NaN</td>\n    </tr>\n    <tr>\n      <th>238</th>\n      <td>VE</td>\n      <td>Venezuela</td>\n      <td>SOUTH AMERICA</td>\n      <td>NaN</td>\n      <td>HYPERINFLATION</td>\n      <td>NaN</td>\n      <td>NaN</td>\n      <td>NaN</td>\n      <td>NaN</td>\n    </tr>\n    <tr>\n      <th>239</th>\n      <td>WF</td>\n      <td>Wallis and Futuna</td>\n      <td>OCEANIA</td>\n      <td>NaN</td>\n      <td>NO PROVIDERS</td>\n      <td>NaN</td>\n      <td>NaN</td>\n      <td>NaN</td>\n      <td>NaN</td>\n    </tr>\n    <tr>\n      <th>240</th>\n      <td>CD</td>\n      <td>Congo (Democratic Republic of)</td>\n      <td>SUB-SAHARAN AFRICA</td>\n      <td>NaN</td>\n      <td>Prices listed in non-convertible 'units'</td>\n      <td>NaN</td>\n      <td>NaN</td>\n      <td>NaN</td>\n      <td>NaN</td>\n    </tr>\n    <tr>\n      <th>241</th>\n      <td>ZW</td>\n      <td>Zimbabwe</td>\n      <td>SUB-SAHARAN AFRICA</td>\n      <td>NaN</td>\n      <td>UNRELIABLE EXCHANGE RATES</td>\n      <td>NaN</td>\n      <td>NaN</td>\n      <td>NaN</td>\n      <td>NaN</td>\n    </tr>\n  </tbody>\n</table>\n<p>242 rows × 9 columns</p>\n</div>"
     },
     "metadata": {}
    }
   ],
   "execution_count": null
  },
  {
   "cell_type": "code",
   "metadata": {
    "cell_id": "8f7b2ae0983f41eaa9d12a5a9a559d55",
    "tags": [],
    "deepnote_to_be_reexecuted": false,
    "source_hash": "d9501042",
    "execution_start": 1657660342187,
    "execution_millis": 24,
    "deepnote_cell_type": "code",
    "deepnote_cell_height": 433
   },
   "source": "# Checking prices columns, null values and data types\nprices.info()",
   "outputs": [
    {
     "name": "stdout",
     "text": "<class 'pandas.core.frame.DataFrame'>\nRangeIndex: 242 entries, 0 to 241\nData columns (total 9 columns):\n #   Column                                            Non-Null Count  Dtype  \n---  ------                                            --------------  -----  \n 0   Country code                                      242 non-null    object \n 1   Name                                              242 non-null    object \n 2   Continental region                                242 non-null    object \n 3   NO. OF Internet Plans                             230 non-null    float64\n 4   Average price of 1GB (USD)                        242 non-null    object \n 5   Cheapest 1GB for 30 days (USD)                    230 non-null    object \n 6   Most expensive 1GB (USD)                          230 non-null    object \n 7   Average price of 1GB (USD  at the start of 2021)  230 non-null    object \n 8   Average price of 1GB (USD – at start of 2020)     230 non-null    object \ndtypes: float64(1), object(8)\nmemory usage: 17.1+ KB\n",
     "output_type": "stream"
    }
   ],
   "execution_count": null
  },
  {
   "cell_type": "markdown",
   "source": "#### DF has some few null values in 5 of the columns. Let's explore them.",
   "metadata": {
    "cell_id": "91b4c97204284477a1a6c07c790ef461",
    "tags": [],
    "deepnote_cell_type": "markdown",
    "deepnote_cell_height": 54
   }
  },
  {
   "cell_type": "code",
   "metadata": {
    "cell_id": "28a739f681dd49ceadf2e55955105be6",
    "tags": [],
    "deepnote_to_be_reexecuted": false,
    "source_hash": "842d0d56",
    "execution_start": 1657660342212,
    "execution_millis": 34,
    "deepnote_table_state": {
     "pageSize": 10,
     "pageIndex": 0,
     "filters": [],
     "sortBy": []
    },
    "deepnote_table_loading": false,
    "deepnote_table_invalid": false,
    "deepnote_cell_type": "code",
    "deepnote_cell_height": 617
   },
   "source": "prices.loc[prices['NO. OF Internet Plans '].isnull(),]",
   "outputs": [
    {
     "output_type": "execute_result",
     "execution_count": 7,
     "data": {
      "application/vnd.deepnote.dataframe.v3+json": {
       "column_count": 9,
       "row_count": 12,
       "columns": [
        {
         "name": "Country code",
         "dtype": "object",
         "stats": {
          "unique_count": 12,
          "nan_count": 0,
          "categories": [
           {
            "name": "CW",
            "count": 1
           },
           {
            "name": "ER",
            "count": 1
           },
           {
            "name": "10 others",
            "count": 10
           }
          ]
         }
        },
        {
         "name": "Name",
         "dtype": "object",
         "stats": {
          "unique_count": 12,
          "nan_count": 0,
          "categories": [
           {
            "name": "Christmas Island",
            "count": 1
           },
           {
            "name": "Eritrea",
            "count": 1
           },
           {
            "name": "10 others",
            "count": 10
           }
          ]
         }
        },
        {
         "name": "Continental region",
         "dtype": "object",
         "stats": {
          "unique_count": 6,
          "nan_count": 0,
          "categories": [
           {
            "name": "CARIBBEAN",
            "count": 3
           },
           {
            "name": "OCEANIA",
            "count": 3
           },
           {
            "name": "4 others",
            "count": 6
           }
          ]
         }
        },
        {
         "name": "NO. OF Internet Plans ",
         "dtype": "float64",
         "stats": {
          "unique_count": 0,
          "nan_count": 12,
          "min": null,
          "max": null,
          "histogram": [
           {
            "bin_start": 0,
            "bin_end": 0.1,
            "count": 0
           },
           {
            "bin_start": 0.1,
            "bin_end": 0.2,
            "count": 0
           },
           {
            "bin_start": 0.2,
            "bin_end": 0.30000000000000004,
            "count": 0
           },
           {
            "bin_start": 0.30000000000000004,
            "bin_end": 0.4,
            "count": 0
           },
           {
            "bin_start": 0.4,
            "bin_end": 0.5,
            "count": 0
           },
           {
            "bin_start": 0.5,
            "bin_end": 0.6000000000000001,
            "count": 0
           },
           {
            "bin_start": 0.6000000000000001,
            "bin_end": 0.7000000000000001,
            "count": 0
           },
           {
            "bin_start": 0.7000000000000001,
            "bin_end": 0.8,
            "count": 0
           },
           {
            "bin_start": 0.8,
            "bin_end": 0.9,
            "count": 0
           },
           {
            "bin_start": 0.9,
            "bin_end": 1,
            "count": 0
           }
          ]
         }
        },
        {
         "name": "Average price of 1GB (USD)",
         "dtype": "object",
         "stats": {
          "unique_count": 4,
          "nan_count": 0,
          "categories": [
           {
            "name": "NO PROVIDERS",
            "count": 9
           },
           {
            "name": "HYPERINFLATION",
            "count": 1
           },
           {
            "name": "2 others",
            "count": 2
           }
          ]
         }
        },
        {
         "name": "Cheapest 1GB for 30 days (USD)",
         "dtype": "object",
         "stats": {
          "unique_count": 0,
          "nan_count": 12,
          "categories": [
           {
            "name": "Missing",
            "count": 12
           }
          ]
         }
        },
        {
         "name": "Most expensive 1GB (USD)",
         "dtype": "object",
         "stats": {
          "unique_count": 0,
          "nan_count": 12,
          "categories": [
           {
            "name": "Missing",
            "count": 12
           }
          ]
         }
        },
        {
         "name": "Average price of 1GB (USD  at the start of 2021)",
         "dtype": "object",
         "stats": {
          "unique_count": 0,
          "nan_count": 12,
          "categories": [
           {
            "name": "Missing",
            "count": 12
           }
          ]
         }
        },
        {
         "name": "Average price of 1GB (USD – at start of 2020)",
         "dtype": "object",
         "stats": {
          "unique_count": 0,
          "nan_count": 12,
          "categories": [
           {
            "name": "Missing",
            "count": 12
           }
          ]
         }
        },
        {
         "name": "_deepnote_index_column",
         "dtype": "int64"
        }
       ],
       "rows": [
        {
         "Country code": "CW",
         "Name": "Christmas Island",
         "Continental region": "CARIBBEAN",
         "NO. OF Internet Plans ": "nan",
         "Average price of 1GB (USD)": "NO PROVIDERS",
         "Cheapest 1GB for 30 days (USD)": "nan",
         "Most expensive 1GB (USD)": "nan",
         "Average price of 1GB (USD  at the start of 2021)": "nan",
         "Average price of 1GB (USD – at start of 2020)": "nan",
         "_deepnote_index_column": 230
        },
        {
         "Country code": "ER",
         "Name": "Eritrea",
         "Continental region": "NORTHERN AFRICA",
         "NO. OF Internet Plans ": "nan",
         "Average price of 1GB (USD)": "NO PROVIDERS",
         "Cheapest 1GB for 30 days (USD)": "nan",
         "Most expensive 1GB (USD)": "nan",
         "Average price of 1GB (USD  at the start of 2021)": "nan",
         "Average price of 1GB (USD – at start of 2020)": "nan",
         "_deepnote_index_column": 231
        },
        {
         "Country code": "KP",
         "Name": "North Korea",
         "Continental region": "CARIBBEAN",
         "NO. OF Internet Plans ": "nan",
         "Average price of 1GB (USD)": "NO PROVIDERS",
         "Cheapest 1GB for 30 days (USD)": "nan",
         "Most expensive 1GB (USD)": "nan",
         "Average price of 1GB (USD  at the start of 2021)": "nan",
         "Average price of 1GB (USD – at start of 2020)": "nan",
         "_deepnote_index_column": 232
        },
        {
         "Country code": "MH",
         "Name": "Marshall Islands",
         "Continental region": "OCEANIA",
         "NO. OF Internet Plans ": "nan",
         "Average price of 1GB (USD)": "NO PROVIDERS",
         "Cheapest 1GB for 30 days (USD)": "nan",
         "Most expensive 1GB (USD)": "nan",
         "Average price of 1GB (USD  at the start of 2021)": "nan",
         "Average price of 1GB (USD – at start of 2020)": "nan",
         "_deepnote_index_column": 233
        },
        {
         "Country code": "PM",
         "Name": "St. Pierre and Miquelon",
         "Continental region": "CARIBBEAN",
         "NO. OF Internet Plans ": "nan",
         "Average price of 1GB (USD)": "NO PROVIDERS",
         "Cheapest 1GB for 30 days (USD)": "nan",
         "Most expensive 1GB (USD)": "nan",
         "Average price of 1GB (USD  at the start of 2021)": "nan",
         "Average price of 1GB (USD – at start of 2020)": "nan",
         "_deepnote_index_column": 234
        },
        {
         "Country code": "SS",
         "Name": "South Sudan",
         "Continental region": "SUB-SAHARAN AFRICA",
         "NO. OF Internet Plans ": "nan",
         "Average price of 1GB (USD)": "NO PROVIDERS",
         "Cheapest 1GB for 30 days (USD)": "nan",
         "Most expensive 1GB (USD)": "nan",
         "Average price of 1GB (USD  at the start of 2021)": "nan",
         "Average price of 1GB (USD – at start of 2020)": "nan",
         "_deepnote_index_column": 235
        },
        {
         "Country code": "TT",
         "Name": "Tuvalu",
         "Continental region": "OCEANIA",
         "NO. OF Internet Plans ": "nan",
         "Average price of 1GB (USD)": "NO PROVIDERS",
         "Cheapest 1GB for 30 days (USD)": "nan",
         "Most expensive 1GB (USD)": "nan",
         "Average price of 1GB (USD  at the start of 2021)": "nan",
         "Average price of 1GB (USD – at start of 2020)": "nan",
         "_deepnote_index_column": 236
        },
        {
         "Country code": "VA",
         "Name": "Vatican City (Holy See)",
         "Continental region": "Europe",
         "NO. OF Internet Plans ": "nan",
         "Average price of 1GB (USD)": "NO PROVIDERS",
         "Cheapest 1GB for 30 days (USD)": "nan",
         "Most expensive 1GB (USD)": "nan",
         "Average price of 1GB (USD  at the start of 2021)": "nan",
         "Average price of 1GB (USD – at start of 2020)": "nan",
         "_deepnote_index_column": 237
        },
        {
         "Country code": "VE",
         "Name": "Venezuela",
         "Continental region": "SOUTH AMERICA",
         "NO. OF Internet Plans ": "nan",
         "Average price of 1GB (USD)": "HYPERINFLATION",
         "Cheapest 1GB for 30 days (USD)": "nan",
         "Most expensive 1GB (USD)": "nan",
         "Average price of 1GB (USD  at the start of 2021)": "nan",
         "Average price of 1GB (USD – at start of 2020)": "nan",
         "_deepnote_index_column": 238
        },
        {
         "Country code": "WF",
         "Name": "Wallis and Futuna",
         "Continental region": "OCEANIA",
         "NO. OF Internet Plans ": "nan",
         "Average price of 1GB (USD)": "NO PROVIDERS",
         "Cheapest 1GB for 30 days (USD)": "nan",
         "Most expensive 1GB (USD)": "nan",
         "Average price of 1GB (USD  at the start of 2021)": "nan",
         "Average price of 1GB (USD – at start of 2020)": "nan",
         "_deepnote_index_column": 239
        }
       ]
      },
      "text/plain": "    Country code                            Name  Continental region  \\\n230           CW                Christmas Island           CARIBBEAN   \n231           ER                         Eritrea     NORTHERN AFRICA   \n232           KP                     North Korea           CARIBBEAN   \n233           MH                Marshall Islands             OCEANIA   \n234           PM         St. Pierre and Miquelon           CARIBBEAN   \n235           SS                     South Sudan  SUB-SAHARAN AFRICA   \n236           TT                          Tuvalu             OCEANIA   \n237           VA         Vatican City (Holy See)              Europe   \n238           VE                       Venezuela       SOUTH AMERICA   \n239           WF               Wallis and Futuna             OCEANIA   \n240           CD  Congo (Democratic Republic of)  SUB-SAHARAN AFRICA   \n241           ZW                        Zimbabwe  SUB-SAHARAN AFRICA   \n\n     NO. OF Internet Plans                 Average price of 1GB (USD)  \\\n230                     NaN                              NO PROVIDERS   \n231                     NaN                              NO PROVIDERS   \n232                     NaN                              NO PROVIDERS   \n233                     NaN                              NO PROVIDERS   \n234                     NaN                              NO PROVIDERS   \n235                     NaN                              NO PROVIDERS   \n236                     NaN                              NO PROVIDERS   \n237                     NaN                              NO PROVIDERS   \n238                     NaN                            HYPERINFLATION   \n239                     NaN                              NO PROVIDERS   \n240                     NaN  Prices listed in non-convertible 'units'   \n241                     NaN                 UNRELIABLE EXCHANGE RATES   \n\n    Cheapest 1GB for 30 days (USD) Most expensive 1GB (USD)  \\\n230                            NaN                      NaN   \n231                            NaN                      NaN   \n232                            NaN                      NaN   \n233                            NaN                      NaN   \n234                            NaN                      NaN   \n235                            NaN                      NaN   \n236                            NaN                      NaN   \n237                            NaN                      NaN   \n238                            NaN                      NaN   \n239                            NaN                      NaN   \n240                            NaN                      NaN   \n241                            NaN                      NaN   \n\n    Average price of 1GB (USD  at the start of 2021)  \\\n230                                              NaN   \n231                                              NaN   \n232                                              NaN   \n233                                              NaN   \n234                                              NaN   \n235                                              NaN   \n236                                              NaN   \n237                                              NaN   \n238                                              NaN   \n239                                              NaN   \n240                                              NaN   \n241                                              NaN   \n\n    Average price of 1GB (USD – at start of 2020)  \n230                                           NaN  \n231                                           NaN  \n232                                           NaN  \n233                                           NaN  \n234                                           NaN  \n235                                           NaN  \n236                                           NaN  \n237                                           NaN  \n238                                           NaN  \n239                                           NaN  \n240                                           NaN  \n241                                           NaN  ",
      "text/html": "<div>\n<style scoped>\n    .dataframe tbody tr th:only-of-type {\n        vertical-align: middle;\n    }\n\n    .dataframe tbody tr th {\n        vertical-align: top;\n    }\n\n    .dataframe thead th {\n        text-align: right;\n    }\n</style>\n<table border=\"1\" class=\"dataframe\">\n  <thead>\n    <tr style=\"text-align: right;\">\n      <th></th>\n      <th>Country code</th>\n      <th>Name</th>\n      <th>Continental region</th>\n      <th>NO. OF Internet Plans</th>\n      <th>Average price of 1GB (USD)</th>\n      <th>Cheapest 1GB for 30 days (USD)</th>\n      <th>Most expensive 1GB (USD)</th>\n      <th>Average price of 1GB (USD  at the start of 2021)</th>\n      <th>Average price of 1GB (USD – at start of 2020)</th>\n    </tr>\n  </thead>\n  <tbody>\n    <tr>\n      <th>230</th>\n      <td>CW</td>\n      <td>Christmas Island</td>\n      <td>CARIBBEAN</td>\n      <td>NaN</td>\n      <td>NO PROVIDERS</td>\n      <td>NaN</td>\n      <td>NaN</td>\n      <td>NaN</td>\n      <td>NaN</td>\n    </tr>\n    <tr>\n      <th>231</th>\n      <td>ER</td>\n      <td>Eritrea</td>\n      <td>NORTHERN AFRICA</td>\n      <td>NaN</td>\n      <td>NO PROVIDERS</td>\n      <td>NaN</td>\n      <td>NaN</td>\n      <td>NaN</td>\n      <td>NaN</td>\n    </tr>\n    <tr>\n      <th>232</th>\n      <td>KP</td>\n      <td>North Korea</td>\n      <td>CARIBBEAN</td>\n      <td>NaN</td>\n      <td>NO PROVIDERS</td>\n      <td>NaN</td>\n      <td>NaN</td>\n      <td>NaN</td>\n      <td>NaN</td>\n    </tr>\n    <tr>\n      <th>233</th>\n      <td>MH</td>\n      <td>Marshall Islands</td>\n      <td>OCEANIA</td>\n      <td>NaN</td>\n      <td>NO PROVIDERS</td>\n      <td>NaN</td>\n      <td>NaN</td>\n      <td>NaN</td>\n      <td>NaN</td>\n    </tr>\n    <tr>\n      <th>234</th>\n      <td>PM</td>\n      <td>St. Pierre and Miquelon</td>\n      <td>CARIBBEAN</td>\n      <td>NaN</td>\n      <td>NO PROVIDERS</td>\n      <td>NaN</td>\n      <td>NaN</td>\n      <td>NaN</td>\n      <td>NaN</td>\n    </tr>\n    <tr>\n      <th>235</th>\n      <td>SS</td>\n      <td>South Sudan</td>\n      <td>SUB-SAHARAN AFRICA</td>\n      <td>NaN</td>\n      <td>NO PROVIDERS</td>\n      <td>NaN</td>\n      <td>NaN</td>\n      <td>NaN</td>\n      <td>NaN</td>\n    </tr>\n    <tr>\n      <th>236</th>\n      <td>TT</td>\n      <td>Tuvalu</td>\n      <td>OCEANIA</td>\n      <td>NaN</td>\n      <td>NO PROVIDERS</td>\n      <td>NaN</td>\n      <td>NaN</td>\n      <td>NaN</td>\n      <td>NaN</td>\n    </tr>\n    <tr>\n      <th>237</th>\n      <td>VA</td>\n      <td>Vatican City (Holy See)</td>\n      <td>Europe</td>\n      <td>NaN</td>\n      <td>NO PROVIDERS</td>\n      <td>NaN</td>\n      <td>NaN</td>\n      <td>NaN</td>\n      <td>NaN</td>\n    </tr>\n    <tr>\n      <th>238</th>\n      <td>VE</td>\n      <td>Venezuela</td>\n      <td>SOUTH AMERICA</td>\n      <td>NaN</td>\n      <td>HYPERINFLATION</td>\n      <td>NaN</td>\n      <td>NaN</td>\n      <td>NaN</td>\n      <td>NaN</td>\n    </tr>\n    <tr>\n      <th>239</th>\n      <td>WF</td>\n      <td>Wallis and Futuna</td>\n      <td>OCEANIA</td>\n      <td>NaN</td>\n      <td>NO PROVIDERS</td>\n      <td>NaN</td>\n      <td>NaN</td>\n      <td>NaN</td>\n      <td>NaN</td>\n    </tr>\n    <tr>\n      <th>240</th>\n      <td>CD</td>\n      <td>Congo (Democratic Republic of)</td>\n      <td>SUB-SAHARAN AFRICA</td>\n      <td>NaN</td>\n      <td>Prices listed in non-convertible 'units'</td>\n      <td>NaN</td>\n      <td>NaN</td>\n      <td>NaN</td>\n      <td>NaN</td>\n    </tr>\n    <tr>\n      <th>241</th>\n      <td>ZW</td>\n      <td>Zimbabwe</td>\n      <td>SUB-SAHARAN AFRICA</td>\n      <td>NaN</td>\n      <td>UNRELIABLE EXCHANGE RATES</td>\n      <td>NaN</td>\n      <td>NaN</td>\n      <td>NaN</td>\n      <td>NaN</td>\n    </tr>\n  </tbody>\n</table>\n</div>"
     },
     "metadata": {}
    }
   ],
   "execution_count": null
  },
  {
   "cell_type": "markdown",
   "source": "#### Indeed, this DF has basically no info from index 230 to 241, besides the country/region reference. We can drop this rows and we won't miss any valuable information.  ",
   "metadata": {
    "cell_id": "a224e0a64f5841c28d2b9a242eaeba83",
    "tags": [],
    "deepnote_cell_type": "markdown",
    "deepnote_cell_height": 78
   }
  },
  {
   "cell_type": "code",
   "metadata": {
    "cell_id": "aa47092414bf4ede87dddc7f39b13920",
    "tags": [],
    "deepnote_to_be_reexecuted": false,
    "source_hash": "741a859",
    "execution_start": 1657660342249,
    "execution_millis": 20,
    "deepnote_cell_type": "code",
    "deepnote_cell_height": 135
   },
   "source": "# drop rows with null values for selected columns only\nprices.dropna(subset=['NO. OF Internet Plans ','Average price of 1GB (USD)','Cheapest 1GB for 30 days (USD)',\n    'Most expensive 1GB (USD)','Average price of 1GB (USD  at the start of 2021)',\n    'Average price of 1GB (USD – at start of 2020)'],inplace=True)",
   "outputs": [],
   "execution_count": null
  },
  {
   "cell_type": "markdown",
   "source": "#### Let's now check our DF in more detail, without null values",
   "metadata": {
    "cell_id": "403916944427492aa77249c870a6e068",
    "tags": [],
    "deepnote_cell_type": "markdown",
    "deepnote_cell_height": 54
   }
  },
  {
   "cell_type": "code",
   "metadata": {
    "cell_id": "9b6352b55e2f46d7a255d64d5a14c98e",
    "tags": [],
    "deepnote_to_be_reexecuted": false,
    "source_hash": "125d7fb6",
    "execution_start": 1657660342271,
    "execution_millis": 65,
    "deepnote_cell_type": "code",
    "deepnote_cell_height": 617
   },
   "source": "prices",
   "outputs": [
    {
     "output_type": "execute_result",
     "execution_count": 9,
     "data": {
      "application/vnd.deepnote.dataframe.v3+json": {
       "column_count": 9,
       "row_count": 230,
       "columns": [
        {
         "name": "Country code",
         "dtype": "object",
         "stats": {
          "unique_count": 230,
          "nan_count": 0,
          "categories": [
           {
            "name": "IL",
            "count": 1
           },
           {
            "name": "KG",
            "count": 1
           },
           {
            "name": "228 others",
            "count": 228
           }
          ]
         }
        },
        {
         "name": "Name",
         "dtype": "object",
         "stats": {
          "unique_count": 230,
          "nan_count": 0,
          "categories": [
           {
            "name": "Israel",
            "count": 1
           },
           {
            "name": "Kyrgyzstan",
            "count": 1
           },
           {
            "name": "228 others",
            "count": 228
           }
          ]
         }
        },
        {
         "name": "Continental region",
         "dtype": "object",
         "stats": {
          "unique_count": 13,
          "nan_count": 0,
          "categories": [
           {
            "name": "SUB-SAHARAN AFRICA",
            "count": 47
           },
           {
            "name": "WESTERN EUROPE",
            "count": 30
           },
           {
            "name": "11 others",
            "count": 153
           }
          ]
         }
        },
        {
         "name": "NO. OF Internet Plans ",
         "dtype": "float64",
         "stats": {
          "unique_count": 55,
          "nan_count": 0,
          "min": "1.0",
          "max": "60.0",
          "histogram": [
           {
            "bin_start": 1,
            "bin_end": 6.9,
            "count": 16
           },
           {
            "bin_start": 6.9,
            "bin_end": 12.8,
            "count": 26
           },
           {
            "bin_start": 12.8,
            "bin_end": 18.700000000000003,
            "count": 46
           },
           {
            "bin_start": 18.700000000000003,
            "bin_end": 24.6,
            "count": 43
           },
           {
            "bin_start": 24.6,
            "bin_end": 30.5,
            "count": 21
           },
           {
            "bin_start": 30.5,
            "bin_end": 36.400000000000006,
            "count": 21
           },
           {
            "bin_start": 36.400000000000006,
            "bin_end": 42.300000000000004,
            "count": 15
           },
           {
            "bin_start": 42.300000000000004,
            "bin_end": 48.2,
            "count": 10
           },
           {
            "bin_start": 48.2,
            "bin_end": 54.1,
            "count": 8
           },
           {
            "bin_start": 54.1,
            "bin_end": 60,
            "count": 24
           }
          ]
         }
        },
        {
         "name": "Average price of 1GB (USD)",
         "dtype": "object",
         "stats": {
          "unique_count": 195,
          "nan_count": 0,
          "categories": [
           {
            "name": "$0.60",
            "count": 3
           },
           {
            "name": "$0.75",
            "count": 3
           },
           {
            "name": "193 others",
            "count": 224
           }
          ]
         }
        },
        {
         "name": "Cheapest 1GB for 30 days (USD)",
         "dtype": "object",
         "stats": {
          "unique_count": 133,
          "nan_count": 0,
          "categories": [
           {
            "name": "$0.24",
            "count": 6
           },
           {
            "name": "$0.02",
            "count": 5
           },
           {
            "name": "131 others",
            "count": 219
           }
          ]
         }
        },
        {
         "name": "Most expensive 1GB (USD)",
         "dtype": "object",
         "stats": {
          "unique_count": 210,
          "nan_count": 0,
          "categories": [
           {
            "name": "$106.49",
            "count": 3
           },
           {
            "name": "$18.06",
            "count": 3
           },
           {
            "name": "208 others",
            "count": 224
           }
          ]
         }
        },
        {
         "name": "Average price of 1GB (USD  at the start of 2021)",
         "dtype": "object",
         "stats": {
          "unique_count": 193,
          "nan_count": 0,
          "categories": [
           {
            "name": "$1.12",
            "count": 3
           },
           {
            "name": "$4.12",
            "count": 3
           },
           {
            "name": "191 others",
            "count": 224
           }
          ]
         }
        },
        {
         "name": "Average price of 1GB (USD – at start of 2020)",
         "dtype": "object",
         "stats": {
          "unique_count": 214,
          "nan_count": 0,
          "categories": [
           {
            "name": "$2.25",
            "count": 3
           },
           {
            "name": "NO PACKAGES",
            "count": 3
           },
           {
            "name": "212 others",
            "count": 224
           }
          ]
         }
        },
        {
         "name": "_deepnote_index_column",
         "dtype": "int64"
        }
       ],
       "rows": [
        {
         "Country code": "IL",
         "Name": "Israel",
         "Continental region": "NEAR EAST",
         "NO. OF Internet Plans ": 27,
         "Average price of 1GB (USD)": "$0.05",
         "Cheapest 1GB for 30 days (USD)": "$0.02",
         "Most expensive 1GB (USD)": "$20.95",
         "Average price of 1GB (USD  at the start of 2021)": "$0.11",
         "Average price of 1GB (USD – at start of 2020)": "$0.90",
         "_deepnote_index_column": 0
        },
        {
         "Country code": "KG",
         "Name": "Kyrgyzstan",
         "Continental region": "CIS (FORMER USSR)",
         "NO. OF Internet Plans ": 20,
         "Average price of 1GB (USD)": "$0.15",
         "Cheapest 1GB for 30 days (USD)": "$0.10",
         "Most expensive 1GB (USD)": "$7.08",
         "Average price of 1GB (USD  at the start of 2021)": "$0.21",
         "Average price of 1GB (USD – at start of 2020)": "$0.27",
         "_deepnote_index_column": 1
        },
        {
         "Country code": "FJ",
         "Name": "Fiji",
         "Continental region": "OCEANIA",
         "NO. OF Internet Plans ": 18,
         "Average price of 1GB (USD)": "$0.19",
         "Cheapest 1GB for 30 days (USD)": "$0.05",
         "Most expensive 1GB (USD)": "$0.85",
         "Average price of 1GB (USD  at the start of 2021)": "$0.59",
         "Average price of 1GB (USD – at start of 2020)": "$3.57",
         "_deepnote_index_column": 2
        },
        {
         "Country code": "IT",
         "Name": "Italy",
         "Continental region": "WESTERN EUROPE",
         "NO. OF Internet Plans ": 29,
         "Average price of 1GB (USD)": "$0.27",
         "Cheapest 1GB for 30 days (USD)": "$0.09",
         "Most expensive 1GB (USD)": "$3.54",
         "Average price of 1GB (USD  at the start of 2021)": "$0.43",
         "Average price of 1GB (USD – at start of 2020)": "$1.73",
         "_deepnote_index_column": 3
        },
        {
         "Country code": "SD",
         "Name": "Sudan",
         "Continental region": "SUB-SAHARAN AFRICA",
         "NO. OF Internet Plans ": 33,
         "Average price of 1GB (USD)": "$0.27",
         "Cheapest 1GB for 30 days (USD)": "$0.03",
         "Most expensive 1GB (USD)": "$0.92",
         "Average price of 1GB (USD  at the start of 2021)": "$0.63",
         "Average price of 1GB (USD – at start of 2020)": "$0.68",
         "_deepnote_index_column": 4
        },
        {
         "Country code": "RU",
         "Name": "Russian Federation",
         "Continental region": "CIS (FORMER USSR)",
         "NO. OF Internet Plans ": 22,
         "Average price of 1GB (USD)": "$0.29",
         "Cheapest 1GB for 30 days (USD)": "$0.13",
         "Most expensive 1GB (USD)": "$1.86",
         "Average price of 1GB (USD  at the start of 2021)": "$0.52",
         "Average price of 1GB (USD – at start of 2020)": "$0.91",
         "_deepnote_index_column": 5
        },
        {
         "Country code": "MD",
         "Name": "Moldova",
         "Continental region": "EASTERN EUROPE",
         "NO. OF Internet Plans ": 18,
         "Average price of 1GB (USD)": "$0.32",
         "Cheapest 1GB for 30 days (USD)": "$0.07",
         "Most expensive 1GB (USD)": "$2.79",
         "Average price of 1GB (USD  at the start of 2021)": "$1.12",
         "Average price of 1GB (USD – at start of 2020)": "$2.82",
         "_deepnote_index_column": 6
        },
        {
         "Country code": "BD",
         "Name": "Bangladesh",
         "Continental region": "ASIA (EX. NEAR EAST)",
         "NO. OF Internet Plans ": 60,
         "Average price of 1GB (USD)": "$0.34",
         "Cheapest 1GB for 30 days (USD)": "$0.11",
         "Most expensive 1GB (USD)": "$2.22",
         "Average price of 1GB (USD  at the start of 2021)": "$0.70",
         "Average price of 1GB (USD – at start of 2020)": "$0.99",
         "_deepnote_index_column": 7
        },
        {
         "Country code": "LK",
         "Name": "Sri Lanka",
         "Continental region": "ASIA (EX. NEAR EAST)",
         "NO. OF Internet Plans ": 60,
         "Average price of 1GB (USD)": "$0.38",
         "Cheapest 1GB for 30 days (USD)": "$0.00",
         "Most expensive 1GB (USD)": "$5.53",
         "Average price of 1GB (USD  at the start of 2021)": "$0.51",
         "Average price of 1GB (USD – at start of 2020)": "$0.78",
         "_deepnote_index_column": 8
        },
        {
         "Country code": "CL",
         "Name": "Chile",
         "Continental region": "SOUTH AMERICA",
         "NO. OF Internet Plans ": 59,
         "Average price of 1GB (USD)": "$0.39",
         "Cheapest 1GB for 30 days (USD)": "$0.24",
         "Most expensive 1GB (USD)": "$1.83",
         "Average price of 1GB (USD  at the start of 2021)": "$0.71",
         "Average price of 1GB (USD – at start of 2020)": "$1.87",
         "_deepnote_index_column": 9
        }
       ]
      },
      "text/plain": "    Country code                   Name  Continental region  \\\n0             IL                 Israel           NEAR EAST   \n1             KG             Kyrgyzstan   CIS (FORMER USSR)   \n2             FJ                   Fiji             OCEANIA   \n3             IT                  Italy      WESTERN EUROPE   \n4             SD                  Sudan  SUB-SAHARAN AFRICA   \n..           ...                    ...                 ...   \n225           MW                 Malawi  SUB-SAHARAN AFRICA   \n226           ST  São Tomé and Príncipe  SUB-SAHARAN AFRICA   \n227           SH           Saint Helena  SUB-SAHARAN AFRICA   \n228           FK       Falkland Islands       SOUTH AMERICA   \n229           GQ      Equatorial Guinea  SUB-SAHARAN AFRICA   \n\n     NO. OF Internet Plans  Average price of 1GB (USD)  \\\n0                      27.0                      $0.05   \n1                      20.0                      $0.15   \n2                      18.0                      $0.19   \n3                      29.0                      $0.27   \n4                      33.0                      $0.27   \n..                      ...                        ...   \n225                     5.0                     $25.46   \n226                    16.0                     $30.97   \n227                     4.0                     $39.87   \n228                     4.0                     $44.56   \n229                     4.0                     $49.67   \n\n    Cheapest 1GB for 30 days (USD) Most expensive 1GB (USD)  \\\n0                            $0.02                   $20.95   \n1                            $0.10                    $7.08   \n2                            $0.05                    $0.85   \n3                            $0.09                    $3.54   \n4                            $0.03                    $0.92   \n..                             ...                      ...   \n225                         $20.37                   $25.46   \n226                         $13.27                  $121.65   \n227                         $38.57                   $51.42   \n228                         $29.71                   $82.26   \n229                         $45.16                   $63.22   \n\n    Average price of 1GB (USD  at the start of 2021)  \\\n0                                              $0.11   \n1                                              $0.21   \n2                                              $0.59   \n3                                              $0.43   \n4                                              $0.63   \n..                                               ...   \n225                                           $27.41   \n226                                           $28.26   \n227                                           $52.50   \n228                                           $40.41   \n229                                           $12.78   \n\n    Average price of 1GB (USD – at start of 2020)  \n0                                           $0.90  \n1                                           $0.27  \n2                                           $3.57  \n3                                           $1.73  \n4                                           $0.68  \n..                                            ...  \n225                                         $3.59  \n226                                         $5.33  \n227                                         $6.04  \n228                                        $55.47  \n229                                        $47.39  \n\n[230 rows x 9 columns]",
      "text/html": "<div>\n<style scoped>\n    .dataframe tbody tr th:only-of-type {\n        vertical-align: middle;\n    }\n\n    .dataframe tbody tr th {\n        vertical-align: top;\n    }\n\n    .dataframe thead th {\n        text-align: right;\n    }\n</style>\n<table border=\"1\" class=\"dataframe\">\n  <thead>\n    <tr style=\"text-align: right;\">\n      <th></th>\n      <th>Country code</th>\n      <th>Name</th>\n      <th>Continental region</th>\n      <th>NO. OF Internet Plans</th>\n      <th>Average price of 1GB (USD)</th>\n      <th>Cheapest 1GB for 30 days (USD)</th>\n      <th>Most expensive 1GB (USD)</th>\n      <th>Average price of 1GB (USD  at the start of 2021)</th>\n      <th>Average price of 1GB (USD – at start of 2020)</th>\n    </tr>\n  </thead>\n  <tbody>\n    <tr>\n      <th>0</th>\n      <td>IL</td>\n      <td>Israel</td>\n      <td>NEAR EAST</td>\n      <td>27.0</td>\n      <td>$0.05</td>\n      <td>$0.02</td>\n      <td>$20.95</td>\n      <td>$0.11</td>\n      <td>$0.90</td>\n    </tr>\n    <tr>\n      <th>1</th>\n      <td>KG</td>\n      <td>Kyrgyzstan</td>\n      <td>CIS (FORMER USSR)</td>\n      <td>20.0</td>\n      <td>$0.15</td>\n      <td>$0.10</td>\n      <td>$7.08</td>\n      <td>$0.21</td>\n      <td>$0.27</td>\n    </tr>\n    <tr>\n      <th>2</th>\n      <td>FJ</td>\n      <td>Fiji</td>\n      <td>OCEANIA</td>\n      <td>18.0</td>\n      <td>$0.19</td>\n      <td>$0.05</td>\n      <td>$0.85</td>\n      <td>$0.59</td>\n      <td>$3.57</td>\n    </tr>\n    <tr>\n      <th>3</th>\n      <td>IT</td>\n      <td>Italy</td>\n      <td>WESTERN EUROPE</td>\n      <td>29.0</td>\n      <td>$0.27</td>\n      <td>$0.09</td>\n      <td>$3.54</td>\n      <td>$0.43</td>\n      <td>$1.73</td>\n    </tr>\n    <tr>\n      <th>4</th>\n      <td>SD</td>\n      <td>Sudan</td>\n      <td>SUB-SAHARAN AFRICA</td>\n      <td>33.0</td>\n      <td>$0.27</td>\n      <td>$0.03</td>\n      <td>$0.92</td>\n      <td>$0.63</td>\n      <td>$0.68</td>\n    </tr>\n    <tr>\n      <th>...</th>\n      <td>...</td>\n      <td>...</td>\n      <td>...</td>\n      <td>...</td>\n      <td>...</td>\n      <td>...</td>\n      <td>...</td>\n      <td>...</td>\n      <td>...</td>\n    </tr>\n    <tr>\n      <th>225</th>\n      <td>MW</td>\n      <td>Malawi</td>\n      <td>SUB-SAHARAN AFRICA</td>\n      <td>5.0</td>\n      <td>$25.46</td>\n      <td>$20.37</td>\n      <td>$25.46</td>\n      <td>$27.41</td>\n      <td>$3.59</td>\n    </tr>\n    <tr>\n      <th>226</th>\n      <td>ST</td>\n      <td>São Tomé and Príncipe</td>\n      <td>SUB-SAHARAN AFRICA</td>\n      <td>16.0</td>\n      <td>$30.97</td>\n      <td>$13.27</td>\n      <td>$121.65</td>\n      <td>$28.26</td>\n      <td>$5.33</td>\n    </tr>\n    <tr>\n      <th>227</th>\n      <td>SH</td>\n      <td>Saint Helena</td>\n      <td>SUB-SAHARAN AFRICA</td>\n      <td>4.0</td>\n      <td>$39.87</td>\n      <td>$38.57</td>\n      <td>$51.42</td>\n      <td>$52.50</td>\n      <td>$6.04</td>\n    </tr>\n    <tr>\n      <th>228</th>\n      <td>FK</td>\n      <td>Falkland Islands</td>\n      <td>SOUTH AMERICA</td>\n      <td>4.0</td>\n      <td>$44.56</td>\n      <td>$29.71</td>\n      <td>$82.26</td>\n      <td>$40.41</td>\n      <td>$55.47</td>\n    </tr>\n    <tr>\n      <th>229</th>\n      <td>GQ</td>\n      <td>Equatorial Guinea</td>\n      <td>SUB-SAHARAN AFRICA</td>\n      <td>4.0</td>\n      <td>$49.67</td>\n      <td>$45.16</td>\n      <td>$63.22</td>\n      <td>$12.78</td>\n      <td>$47.39</td>\n    </tr>\n  </tbody>\n</table>\n<p>230 rows × 9 columns</p>\n</div>"
     },
     "metadata": {}
    }
   ],
   "execution_count": null
  },
  {
   "cell_type": "markdown",
   "source": "#### Last five columns represent different types of internet costs for every country. We should convert those columns to integers and delete the $ sign for a better manipulation. ",
   "metadata": {
    "cell_id": "5419c6937b9e4f8d870cb8805273857c",
    "tags": [],
    "deepnote_cell_type": "markdown",
    "deepnote_cell_height": 78
   }
  },
  {
   "cell_type": "code",
   "metadata": {
    "cell_id": "991df8091abe41339c53ce70d00fed6d",
    "tags": [],
    "deepnote_to_be_reexecuted": false,
    "source_hash": "9e8f7f66",
    "execution_start": 1657660342339,
    "execution_millis": 20,
    "deepnote_cell_type": "code",
    "deepnote_cell_height": 243
   },
   "source": "# First, let's apply a function to delete the $ sign \ncols = ['Average price of 1GB (USD)', 'Cheapest 1GB for 30 days (USD)', 'Most expensive 1GB (USD)','Average price of 1GB (USD  at the start of 2021)','Average price of 1GB (USD – at start of 2020)']\nprices[cols] = prices[cols].apply(lambda x: x.str.lstrip('$'))\n\n# now let's convert these columns to numeric\nprices[cols] = prices[cols].apply(pd.to_numeric, errors= 'coerce')\n\n# Finally, column names are a bit messy, we could improve them\nprices.rename({'NO. OF Internet Plans ':'num_internet_plans','Average price of 1GB (USD)': 'avg_price_1gb','Cheapest 1GB for 30 days (USD)':'cheapest_1gb_30_days',\n            'Most expensive 1GB (USD)':'most_expensive_1gb','Average price of 1GB (USD  at the start of 2021)':'avg_price_1gb_2021','Average price of 1GB (USD – at start of 2020)':'avg_price_1gb_2020'}, axis=1, inplace=True)",
   "outputs": [],
   "execution_count": null
  },
  {
   "cell_type": "markdown",
   "source": "#### This should look better now.",
   "metadata": {
    "cell_id": "09f2eaf9ec6b45f1bec23b701307619c",
    "tags": [],
    "deepnote_cell_type": "markdown",
    "deepnote_cell_height": 54
   }
  },
  {
   "cell_type": "code",
   "metadata": {
    "cell_id": "7d7cb1c49882491181a23cccdd1e4335",
    "tags": [],
    "deepnote_to_be_reexecuted": false,
    "source_hash": "238fd73",
    "execution_start": 1657660342362,
    "execution_millis": 52,
    "deepnote_cell_type": "code",
    "deepnote_cell_height": 175.75,
    "deepnote_output_heights": [
     78.75
    ]
   },
   "source": "prices.columns",
   "outputs": [
    {
     "output_type": "execute_result",
     "execution_count": 11,
     "data": {
      "text/plain": "Index(['Country code', 'Name', 'Continental region', 'num_internet_plans',\n       'avg_price_1gb', 'cheapest_1gb_30_days', 'most_expensive_1gb',\n       'avg_price_1gb_2021', 'avg_price_1gb_2020'],\n      dtype='object')"
     },
     "metadata": {}
    }
   ],
   "execution_count": null
  },
  {
   "cell_type": "markdown",
   "source": "#### Once done with the numeric columns, let's check the ones containing text",
   "metadata": {
    "cell_id": "aa72bfee09e841c68b31a1a28be653bf",
    "tags": [],
    "deepnote_cell_type": "markdown",
    "deepnote_cell_height": 54
   }
  },
  {
   "cell_type": "code",
   "metadata": {
    "cell_id": "5de71ccf5e124055902df01f552af297",
    "tags": [],
    "deepnote_to_be_reexecuted": false,
    "source_hash": "1204e7cf",
    "execution_start": 1657660342411,
    "execution_millis": 1,
    "deepnote_table_state": {
     "pageSize": 10,
     "pageIndex": 10,
     "filters": [],
     "sortBy": []
    },
    "deepnote_table_loading": false,
    "deepnote_table_invalid": false,
    "deepnote_cell_type": "code",
    "deepnote_cell_height": 171
   },
   "source": "# As a good practice, let's get rid of whitespaces at the begining and end in all three columns\ncols = ['Country code', 'Name', 'Continental region']\nprices[cols] = prices[cols].apply(lambda x: x.str.strip())\n\n# We can also improve the column names\nprices.rename({'Country code':'country_code','Name': 'name','Continental region':'continental_region'}, axis=1, inplace=True)",
   "outputs": [],
   "execution_count": null
  },
  {
   "cell_type": "markdown",
   "source": "#### Finally, let's check the \"continental_region\" column, it seems like with some transformations it can be insightful. ",
   "metadata": {
    "cell_id": "8693a3d524d84e1faa68a6eef33b1d83",
    "tags": [],
    "deepnote_cell_type": "markdown",
    "deepnote_cell_height": 78
   }
  },
  {
   "cell_type": "code",
   "metadata": {
    "cell_id": "23fec06bb0b84e2db4ca8ed4a807b8df",
    "tags": [],
    "deepnote_to_be_reexecuted": false,
    "source_hash": "ad8da21a",
    "execution_start": 1657660342412,
    "execution_millis": 45,
    "deepnote_table_state": {
     "pageSize": 10,
     "pageIndex": 0,
     "filters": [
      {
       "id": "Continental region",
       "value": "cis",
       "type": "contains"
      }
     ],
     "sortBy": []
    },
    "deepnote_table_loading": false,
    "deepnote_cell_type": "code",
    "deepnote_cell_height": 368,
    "deepnote_output_heights": [
     270.625
    ]
   },
   "source": "prices['continental_region'].value_counts()",
   "outputs": [
    {
     "output_type": "execute_result",
     "execution_count": 13,
     "data": {
      "text/plain": "SUB-SAHARAN AFRICA      47\nWESTERN EUROPE          30\nASIA (EX. NEAR EAST)    28\nCARIBBEAN               28\nOCEANIA                 22\nNEAR EAST               15\nEASTERN EUROPE          14\nSOUTH AMERICA           13\nCIS (FORMER USSR)       11\nCENTRAL AMERICA          8\nNORTHERN AFRICA          7\nNORTHERN AMERICA         4\nBALTICS                  3\nName: continental_region, dtype: int64"
     },
     "metadata": {}
    }
   ],
   "execution_count": null
  },
  {
   "cell_type": "markdown",
   "source": "#### Quite a few regions. Let's make it just 5: Asia, Americas, Europe, Africa and Oceania. I'll be usefull when visualizing this data in a map, to filter by region.",
   "metadata": {
    "cell_id": "d767e2b56c7248bcb0481efdf921a01a",
    "tags": [],
    "deepnote_cell_type": "markdown",
    "deepnote_cell_height": 78
   }
  },
  {
   "cell_type": "code",
   "metadata": {
    "cell_id": "afb41c3b4a5b4874b48e75ce8e3e570e",
    "tags": [],
    "deepnote_to_be_reexecuted": false,
    "source_hash": "32389ef8",
    "execution_start": 1657660342447,
    "execution_millis": 0,
    "deepnote_cell_type": "code",
    "deepnote_cell_height": 207
   },
   "source": "# Reduce continental_region column to 5 regions\nconditions = [ (prices['continental_region'].isin(('SOUTH AMERICA', 'CENTRAL AMERICA','NORTHERN AMERICA','CARIBBEAN'))),\n                (prices['continental_region'].isin(('WESTERN EUROPE', 'EASTERN EUROPE', 'BALTICS'))),\n                (prices['continental_region'].isin(('SUB-SAHARAN AFRICA', 'NORTHERN AFRICA'))),\n                (prices['continental_region'].isin(('ASIA (EX. NEAR EAST)', 'NEAR EAST','CIS (FORMER USSR)'))),\n                (prices['continental_region'].str.contains(('OCEANIA'))) ]\nregions = ['Americas', 'Europe', 'Africa','Asia','Oceania']\nprices[\"continental_region\"] = np.select(conditions, regions, default=np.nan)",
   "outputs": [],
   "execution_count": null
  },
  {
   "cell_type": "code",
   "metadata": {
    "cell_id": "a54d38b4e0544abc83ab5437f1a25dbf",
    "tags": [],
    "deepnote_to_be_reexecuted": false,
    "source_hash": "cd0f17f3",
    "execution_start": 1657660342448,
    "execution_millis": 1,
    "deepnote_cell_type": "code",
    "deepnote_cell_height": 135
   },
   "source": "# There seems to be a problem with a few european countries that figure as Asian. Let's correct this. \nprices.loc[prices['name'] == 'Belarus','continental_region'] = 'Europe'\nprices.loc[prices['name'] == 'Ukraine','continental_region'] = 'Europe'\nprices.loc[prices['name'] == 'Cyprus','continental_region'] = 'Europe'",
   "outputs": [],
   "execution_count": null
  },
  {
   "cell_type": "markdown",
   "source": "#### It looks like we have a pretty clean data set now",
   "metadata": {
    "cell_id": "8bb0d174cfce457fbe72a954fd168500",
    "tags": [],
    "deepnote_cell_type": "markdown",
    "deepnote_cell_height": 54
   }
  },
  {
   "cell_type": "code",
   "metadata": {
    "cell_id": "ae9af45221044c3c8616d48e8cb17e22",
    "tags": [],
    "deepnote_to_be_reexecuted": false,
    "source_hash": "f5914f3e",
    "execution_start": 1657660342453,
    "execution_millis": 86,
    "deepnote_table_state": {
     "pageSize": 10,
     "pageIndex": 0,
     "filters": [],
     "sortBy": []
    },
    "deepnote_table_loading": false,
    "deepnote_cell_type": "code",
    "deepnote_cell_height": 518
   },
   "source": "prices.describe()",
   "outputs": [
    {
     "output_type": "execute_result",
     "execution_count": 16,
     "data": {
      "application/vnd.deepnote.dataframe.v3+json": {
       "column_count": 6,
       "row_count": 8,
       "columns": [
        {
         "name": "num_internet_plans",
         "dtype": "float64",
         "stats": {
          "unique_count": 8,
          "nan_count": 0,
          "min": "1.0",
          "max": "230.0",
          "histogram": [
           {
            "bin_start": 1,
            "bin_end": 23.9,
            "count": 4
           },
           {
            "bin_start": 23.9,
            "bin_end": 46.8,
            "count": 2
           },
           {
            "bin_start": 46.8,
            "bin_end": 69.69999999999999,
            "count": 1
           },
           {
            "bin_start": 69.69999999999999,
            "bin_end": 92.6,
            "count": 0
           },
           {
            "bin_start": 92.6,
            "bin_end": 115.5,
            "count": 0
           },
           {
            "bin_start": 115.5,
            "bin_end": 138.39999999999998,
            "count": 0
           },
           {
            "bin_start": 138.39999999999998,
            "bin_end": 161.29999999999998,
            "count": 0
           },
           {
            "bin_start": 161.29999999999998,
            "bin_end": 184.2,
            "count": 0
           },
           {
            "bin_start": 184.2,
            "bin_end": 207.1,
            "count": 0
           },
           {
            "bin_start": 207.1,
            "bin_end": 230,
            "count": 1
           }
          ]
         }
        },
        {
         "name": "avg_price_1gb",
         "dtype": "float64",
         "stats": {
          "unique_count": 8,
          "nan_count": 0,
          "min": "0.05",
          "max": "230.0",
          "histogram": [
           {
            "bin_start": 0.05,
            "bin_end": 23.044999999999998,
            "count": 6
           },
           {
            "bin_start": 23.044999999999998,
            "bin_end": 46.03999999999999,
            "count": 0
           },
           {
            "bin_start": 46.03999999999999,
            "bin_end": 69.03499999999998,
            "count": 1
           },
           {
            "bin_start": 69.03499999999998,
            "bin_end": 92.02999999999999,
            "count": 0
           },
           {
            "bin_start": 92.02999999999999,
            "bin_end": 115.02499999999999,
            "count": 0
           },
           {
            "bin_start": 115.02499999999999,
            "bin_end": 138.01999999999998,
            "count": 0
           },
           {
            "bin_start": 138.01999999999998,
            "bin_end": 161.015,
            "count": 0
           },
           {
            "bin_start": 161.015,
            "bin_end": 184.01,
            "count": 0
           },
           {
            "bin_start": 184.01,
            "bin_end": 207.005,
            "count": 0
           },
           {
            "bin_start": 207.005,
            "bin_end": 230,
            "count": 1
           }
          ]
         }
        },
        {
         "name": "cheapest_1gb_30_days",
         "dtype": "float64",
         "stats": {
          "unique_count": 8,
          "nan_count": 0,
          "min": "0.0",
          "max": "230.0",
          "histogram": [
           {
            "bin_start": 0,
            "bin_end": 23,
            "count": 6
           },
           {
            "bin_start": 23,
            "bin_end": 46,
            "count": 1
           },
           {
            "bin_start": 46,
            "bin_end": 69,
            "count": 0
           },
           {
            "bin_start": 69,
            "bin_end": 92,
            "count": 0
           },
           {
            "bin_start": 92,
            "bin_end": 115,
            "count": 0
           },
           {
            "bin_start": 115,
            "bin_end": 138,
            "count": 0
           },
           {
            "bin_start": 138,
            "bin_end": 161,
            "count": 0
           },
           {
            "bin_start": 161,
            "bin_end": 184,
            "count": 0
           },
           {
            "bin_start": 184,
            "bin_end": 207,
            "count": 0
           },
           {
            "bin_start": 207,
            "bin_end": 230,
            "count": 1
           }
          ]
         }
        },
        {
         "name": "most_expensive_1gb",
         "dtype": "float64",
         "stats": {
          "unique_count": 8,
          "nan_count": 0,
          "min": "0.63",
          "max": "768.87",
          "histogram": [
           {
            "bin_start": 0.63,
            "bin_end": 77.454,
            "count": 6
           },
           {
            "bin_start": 77.454,
            "bin_end": 154.278,
            "count": 0
           },
           {
            "bin_start": 154.278,
            "bin_end": 231.10199999999998,
            "count": 1
           },
           {
            "bin_start": 231.10199999999998,
            "bin_end": 307.926,
            "count": 0
           },
           {
            "bin_start": 307.926,
            "bin_end": 384.75,
            "count": 0
           },
           {
            "bin_start": 384.75,
            "bin_end": 461.57399999999996,
            "count": 0
           },
           {
            "bin_start": 461.57399999999996,
            "bin_end": 538.398,
            "count": 0
           },
           {
            "bin_start": 538.398,
            "bin_end": 615.222,
            "count": 0
           },
           {
            "bin_start": 615.222,
            "bin_end": 692.0459999999999,
            "count": 0
           },
           {
            "bin_start": 692.0459999999999,
            "bin_end": 768.87,
            "count": 1
           }
          ]
         }
        },
        {
         "name": "avg_price_1gb_2021",
         "dtype": "float64",
         "stats": {
          "unique_count": 8,
          "nan_count": 0,
          "min": "0.09",
          "max": "228.0",
          "histogram": [
           {
            "bin_start": 0.09,
            "bin_end": 22.881,
            "count": 6
           },
           {
            "bin_start": 22.881,
            "bin_end": 45.672000000000004,
            "count": 0
           },
           {
            "bin_start": 45.672000000000004,
            "bin_end": 68.46300000000001,
            "count": 1
           },
           {
            "bin_start": 68.46300000000001,
            "bin_end": 91.254,
            "count": 0
           },
           {
            "bin_start": 91.254,
            "bin_end": 114.045,
            "count": 0
           },
           {
            "bin_start": 114.045,
            "bin_end": 136.836,
            "count": 0
           },
           {
            "bin_start": 136.836,
            "bin_end": 159.627,
            "count": 0
           },
           {
            "bin_start": 159.627,
            "bin_end": 182.418,
            "count": 0
           },
           {
            "bin_start": 182.418,
            "bin_end": 205.209,
            "count": 0
           },
           {
            "bin_start": 205.209,
            "bin_end": 228,
            "count": 1
           }
          ]
         }
        },
        {
         "name": "avg_price_1gb_2020",
         "dtype": "float64",
         "stats": {
          "unique_count": 8,
          "nan_count": 0,
          "min": "0.26",
          "max": "227.0",
          "histogram": [
           {
            "bin_start": 0.26,
            "bin_end": 22.934,
            "count": 6
           },
           {
            "bin_start": 22.934,
            "bin_end": 45.608,
            "count": 0
           },
           {
            "bin_start": 45.608,
            "bin_end": 68.282,
            "count": 1
           },
           {
            "bin_start": 68.282,
            "bin_end": 90.956,
            "count": 0
           },
           {
            "bin_start": 90.956,
            "bin_end": 113.63000000000001,
            "count": 0
           },
           {
            "bin_start": 113.63000000000001,
            "bin_end": 136.30399999999997,
            "count": 0
           },
           {
            "bin_start": 136.30399999999997,
            "bin_end": 158.97799999999998,
            "count": 0
           },
           {
            "bin_start": 158.97799999999998,
            "bin_end": 181.652,
            "count": 0
           },
           {
            "bin_start": 181.652,
            "bin_end": 204.326,
            "count": 0
           },
           {
            "bin_start": 204.326,
            "bin_end": 227,
            "count": 1
           }
          ]
         }
        },
        {
         "name": "_deepnote_index_column",
         "dtype": "object"
        }
       ],
       "rows": [
        {
         "num_internet_plans": 230,
         "avg_price_1gb": 230,
         "cheapest_1gb_30_days": 230,
         "most_expensive_1gb": 230,
         "avg_price_1gb_2021": 228,
         "avg_price_1gb_2020": 227,
         "_deepnote_index_column": "count"
        },
        {
         "num_internet_plans": 26.730434782608697,
         "avg_price_1gb": 4.072956521739131,
         "cheapest_1gb_30_days": 1.7226521739130436,
         "most_expensive_1gb": 29.730347826086955,
         "avg_price_1gb_2021": 5.091535087719298,
         "avg_price_1gb_2020": 8.176960352422906,
         "_deepnote_index_column": "mean"
        },
        {
         "num_internet_plans": 16.468215642494275,
         "avg_price_1gb": 6.443006970278868,
         "cheapest_1gb_30_days": 4.774479409731203,
         "most_expensive_1gb": 59.329736602258194,
         "avg_price_1gb_2021": 6.653536955694306,
         "avg_price_1gb_2020": 8.87316297892885,
         "_deepnote_index_column": "std"
        },
        {
         "num_internet_plans": 1,
         "avg_price_1gb": 0.05,
         "cheapest_1gb_30_days": 0,
         "most_expensive_1gb": 0.63,
         "avg_price_1gb_2021": 0.09,
         "avg_price_1gb_2020": 0.26,
         "_deepnote_index_column": "min"
        },
        {
         "num_internet_plans": 15,
         "avg_price_1gb": 1.0825,
         "cheapest_1gb_30_days": 0.2125,
         "most_expensive_1gb": 5.9025,
         "avg_price_1gb_2021": 1.385,
         "avg_price_1gb_2020": 2.85,
         "_deepnote_index_column": "25%"
        },
        {
         "num_internet_plans": 22,
         "avg_price_1gb": 2.205,
         "cheapest_1gb_30_days": 0.63,
         "most_expensive_1gb": 12.525,
         "avg_price_1gb_2021": 3.24,
         "avg_price_1gb_2020": 5.25,
         "_deepnote_index_column": "50%"
        },
        {
         "num_internet_plans": 36,
         "avg_price_1gb": 4.3575,
         "cheapest_1gb_30_days": 1.39,
         "most_expensive_1gb": 34.295,
         "avg_price_1gb_2021": 5.3325000000000005,
         "avg_price_1gb_2020": 11.035,
         "_deepnote_index_column": "75%"
        },
        {
         "num_internet_plans": 60,
         "avg_price_1gb": 49.67,
         "cheapest_1gb_30_days": 45.16,
         "most_expensive_1gb": 768.87,
         "avg_price_1gb_2021": 52.5,
         "avg_price_1gb_2020": 65.83,
         "_deepnote_index_column": "max"
        }
       ]
      },
      "text/plain": "       num_internet_plans  avg_price_1gb  cheapest_1gb_30_days  \\\ncount          230.000000     230.000000            230.000000   \nmean            26.730435       4.072957              1.722652   \nstd             16.468216       6.443007              4.774479   \nmin              1.000000       0.050000              0.000000   \n25%             15.000000       1.082500              0.212500   \n50%             22.000000       2.205000              0.630000   \n75%             36.000000       4.357500              1.390000   \nmax             60.000000      49.670000             45.160000   \n\n       most_expensive_1gb  avg_price_1gb_2021  avg_price_1gb_2020  \ncount          230.000000          228.000000          227.000000  \nmean            29.730348            5.091535            8.176960  \nstd             59.329737            6.653537            8.873163  \nmin              0.630000            0.090000            0.260000  \n25%              5.902500            1.385000            2.850000  \n50%             12.525000            3.240000            5.250000  \n75%             34.295000            5.332500           11.035000  \nmax            768.870000           52.500000           65.830000  ",
      "text/html": "<div>\n<style scoped>\n    .dataframe tbody tr th:only-of-type {\n        vertical-align: middle;\n    }\n\n    .dataframe tbody tr th {\n        vertical-align: top;\n    }\n\n    .dataframe thead th {\n        text-align: right;\n    }\n</style>\n<table border=\"1\" class=\"dataframe\">\n  <thead>\n    <tr style=\"text-align: right;\">\n      <th></th>\n      <th>num_internet_plans</th>\n      <th>avg_price_1gb</th>\n      <th>cheapest_1gb_30_days</th>\n      <th>most_expensive_1gb</th>\n      <th>avg_price_1gb_2021</th>\n      <th>avg_price_1gb_2020</th>\n    </tr>\n  </thead>\n  <tbody>\n    <tr>\n      <th>count</th>\n      <td>230.000000</td>\n      <td>230.000000</td>\n      <td>230.000000</td>\n      <td>230.000000</td>\n      <td>228.000000</td>\n      <td>227.000000</td>\n    </tr>\n    <tr>\n      <th>mean</th>\n      <td>26.730435</td>\n      <td>4.072957</td>\n      <td>1.722652</td>\n      <td>29.730348</td>\n      <td>5.091535</td>\n      <td>8.176960</td>\n    </tr>\n    <tr>\n      <th>std</th>\n      <td>16.468216</td>\n      <td>6.443007</td>\n      <td>4.774479</td>\n      <td>59.329737</td>\n      <td>6.653537</td>\n      <td>8.873163</td>\n    </tr>\n    <tr>\n      <th>min</th>\n      <td>1.000000</td>\n      <td>0.050000</td>\n      <td>0.000000</td>\n      <td>0.630000</td>\n      <td>0.090000</td>\n      <td>0.260000</td>\n    </tr>\n    <tr>\n      <th>25%</th>\n      <td>15.000000</td>\n      <td>1.082500</td>\n      <td>0.212500</td>\n      <td>5.902500</td>\n      <td>1.385000</td>\n      <td>2.850000</td>\n    </tr>\n    <tr>\n      <th>50%</th>\n      <td>22.000000</td>\n      <td>2.205000</td>\n      <td>0.630000</td>\n      <td>12.525000</td>\n      <td>3.240000</td>\n      <td>5.250000</td>\n    </tr>\n    <tr>\n      <th>75%</th>\n      <td>36.000000</td>\n      <td>4.357500</td>\n      <td>1.390000</td>\n      <td>34.295000</td>\n      <td>5.332500</td>\n      <td>11.035000</td>\n    </tr>\n    <tr>\n      <th>max</th>\n      <td>60.000000</td>\n      <td>49.670000</td>\n      <td>45.160000</td>\n      <td>768.870000</td>\n      <td>52.500000</td>\n      <td>65.830000</td>\n    </tr>\n  </tbody>\n</table>\n</div>"
     },
     "metadata": {}
    }
   ],
   "execution_count": null
  },
  {
   "cell_type": "markdown",
   "source": "#### Let's now check the distributions of our numeric columns as they seem to have some outliers.",
   "metadata": {
    "cell_id": "e72baf9dd00240eb9a8cbd4a9f0a5b14",
    "tags": [],
    "deepnote_cell_type": "markdown",
    "deepnote_cell_height": 54
   }
  },
  {
   "cell_type": "code",
   "metadata": {
    "cell_id": "9bf587cd0ab04182a7e714779311d5e8",
    "tags": [],
    "deepnote_to_be_reexecuted": false,
    "source_hash": "dcc314f7",
    "execution_start": 1657660342527,
    "execution_millis": 3695,
    "deepnote_cell_type": "code",
    "deepnote_cell_height": 642,
    "deepnote_output_heights": [
     527
    ]
   },
   "source": "fig = px.histogram(prices, x='avg_price_1gb', title='Distribution_avg_price_1gb', marginal='box')\nfig.show()",
   "outputs": [
    {
     "data": {
      "text/html": "<html>\n<head><meta charset=\"utf-8\" /></head>\n<body>\n    <div>            <script src=\"https://cdnjs.cloudflare.com/ajax/libs/mathjax/2.7.5/MathJax.js?config=TeX-AMS-MML_SVG\"></script><script type=\"text/javascript\">if (window.MathJax && window.MathJax.Hub && && window.MathJax.Hub.Config) {window.MathJax.Hub.Config({SVG: {font: \"STIX-Web\"}});}</script>                <script type=\"text/javascript\">window.PlotlyConfig = {MathJaxConfig: 'local'};</script>\n        <script src=\"https://cdn.plot.ly/plotly-2.12.1.min.js\"></script>                <div id=\"5e644400-862c-4495-ae58-b99708aa11e4\" class=\"plotly-graph-div\" style=\"height:525px; width:100%;\"></div>            <script type=\"text/javascript\">                                    window.PLOTLYENV=window.PLOTLYENV || {};                                    if (document.getElementById(\"5e644400-862c-4495-ae58-b99708aa11e4\")) {                    Plotly.newPlot(                        \"5e644400-862c-4495-ae58-b99708aa11e4\",                        [{\"alignmentgroup\":\"True\",\"bingroup\":\"x\",\"hovertemplate\":\"avg_price_1gb=%{x}<br>count=%{y}<extra></extra>\",\"legendgroup\":\"\",\"marker\":{\"color\":\"#636efa\",\"pattern\":{\"shape\":\"\"}},\"name\":\"\",\"offsetgroup\":\"\",\"orientation\":\"v\",\"showlegend\":false,\"x\":[0.05,0.15,0.19,0.27,0.27,0.29,0.32,0.34,0.38,0.39,0.41,0.42,0.43,0.43,0.49,0.51,0.52,0.56,0.59,0.59,0.6,0.6,0.6,0.61,0.63,0.64,0.66,0.68,0.7,0.74,0.75,0.75,0.75,0.76,0.76,0.78,0.79,0.81,0.82,0.83,0.83,0.85,0.88,0.88,0.88,0.89,0.89,0.9,0.92,0.94,0.94,0.96,0.97,1.02,1.04,1.06,1.06,1.08,1.09,1.09,1.12,1.13,1.14,1.15,1.17,1.18,1.23,1.24,1.25,1.28,1.28,1.3,1.32,1.33,1.38,1.39,1.41,1.42,1.42,1.45,1.46,1.47,1.51,1.51,1.52,1.56,1.56,1.58,1.61,1.67,1.67,1.7,1.71,1.71,1.72,1.76,1.77,1.8,1.8,1.82,1.9,1.93,1.94,1.94,1.99,2.0,2.0,2.01,2.1,2.12,2.12,2.12,2.14,2.15,2.18,2.23,2.24,2.25,2.26,2.26,2.3,2.35,2.36,2.36,2.38,2.39,2.41,2.44,2.53,2.58,2.59,2.6,2.62,2.64,2.66,2.67,2.74,2.75,2.78,2.79,2.8,2.8,2.88,2.97,3.0,3.1,3.11,3.19,3.2,3.21,3.24,3.26,3.28,3.33,3.38,3.38,3.46,3.46,3.49,3.5,3.55,3.61,3.62,3.7,3.85,3.85,3.92,3.97,4.0,4.01,4.17,4.2,4.41,4.44,4.44,4.49,4.52,4.65,4.69,4.72,4.78,4.81,4.82,5.14,5.24,5.25,5.28,5.56,5.67,5.72,5.81,5.86,5.98,6.06,6.35,6.47,6.49,6.79,6.99,7.15,7.37,7.49,7.5,7.5,7.62,7.62,7.83,7.85,8.0,8.15,8.16,8.64,8.84,9.03,9.54,9.94,10.94,11.97,13.47,15.98,19.8,20.48,21.41,22.37,23.33,25.46,30.97,39.87,44.56,49.67],\"xaxis\":\"x\",\"yaxis\":\"y\",\"type\":\"histogram\"},{\"alignmentgroup\":\"True\",\"hovertemplate\":\"avg_price_1gb=%{x}<extra></extra>\",\"legendgroup\":\"\",\"marker\":{\"color\":\"#636efa\"},\"name\":\"\",\"notched\":true,\"offsetgroup\":\"\",\"showlegend\":false,\"x\":[0.05,0.15,0.19,0.27,0.27,0.29,0.32,0.34,0.38,0.39,0.41,0.42,0.43,0.43,0.49,0.51,0.52,0.56,0.59,0.59,0.6,0.6,0.6,0.61,0.63,0.64,0.66,0.68,0.7,0.74,0.75,0.75,0.75,0.76,0.76,0.78,0.79,0.81,0.82,0.83,0.83,0.85,0.88,0.88,0.88,0.89,0.89,0.9,0.92,0.94,0.94,0.96,0.97,1.02,1.04,1.06,1.06,1.08,1.09,1.09,1.12,1.13,1.14,1.15,1.17,1.18,1.23,1.24,1.25,1.28,1.28,1.3,1.32,1.33,1.38,1.39,1.41,1.42,1.42,1.45,1.46,1.47,1.51,1.51,1.52,1.56,1.56,1.58,1.61,1.67,1.67,1.7,1.71,1.71,1.72,1.76,1.77,1.8,1.8,1.82,1.9,1.93,1.94,1.94,1.99,2.0,2.0,2.01,2.1,2.12,2.12,2.12,2.14,2.15,2.18,2.23,2.24,2.25,2.26,2.26,2.3,2.35,2.36,2.36,2.38,2.39,2.41,2.44,2.53,2.58,2.59,2.6,2.62,2.64,2.66,2.67,2.74,2.75,2.78,2.79,2.8,2.8,2.88,2.97,3.0,3.1,3.11,3.19,3.2,3.21,3.24,3.26,3.28,3.33,3.38,3.38,3.46,3.46,3.49,3.5,3.55,3.61,3.62,3.7,3.85,3.85,3.92,3.97,4.0,4.01,4.17,4.2,4.41,4.44,4.44,4.49,4.52,4.65,4.69,4.72,4.78,4.81,4.82,5.14,5.24,5.25,5.28,5.56,5.67,5.72,5.81,5.86,5.98,6.06,6.35,6.47,6.49,6.79,6.99,7.15,7.37,7.49,7.5,7.5,7.62,7.62,7.83,7.85,8.0,8.15,8.16,8.64,8.84,9.03,9.54,9.94,10.94,11.97,13.47,15.98,19.8,20.48,21.41,22.37,23.33,25.46,30.97,39.87,44.56,49.67],\"xaxis\":\"x2\",\"yaxis\":\"y2\",\"type\":\"box\"}],                        {\"template\":{\"data\":{\"histogram2dcontour\":[{\"type\":\"histogram2dcontour\",\"colorbar\":{\"outlinewidth\":0,\"ticks\":\"\"},\"colorscale\":[[0.0,\"#0d0887\"],[0.1111111111111111,\"#46039f\"],[0.2222222222222222,\"#7201a8\"],[0.3333333333333333,\"#9c179e\"],[0.4444444444444444,\"#bd3786\"],[0.5555555555555556,\"#d8576b\"],[0.6666666666666666,\"#ed7953\"],[0.7777777777777778,\"#fb9f3a\"],[0.8888888888888888,\"#fdca26\"],[1.0,\"#f0f921\"]]}],\"choropleth\":[{\"type\":\"choropleth\",\"colorbar\":{\"outlinewidth\":0,\"ticks\":\"\"}}],\"histogram2d\":[{\"type\":\"histogram2d\",\"colorbar\":{\"outlinewidth\":0,\"ticks\":\"\"},\"colorscale\":[[0.0,\"#0d0887\"],[0.1111111111111111,\"#46039f\"],[0.2222222222222222,\"#7201a8\"],[0.3333333333333333,\"#9c179e\"],[0.4444444444444444,\"#bd3786\"],[0.5555555555555556,\"#d8576b\"],[0.6666666666666666,\"#ed7953\"],[0.7777777777777778,\"#fb9f3a\"],[0.8888888888888888,\"#fdca26\"],[1.0,\"#f0f921\"]]}],\"heatmap\":[{\"type\":\"heatmap\",\"colorbar\":{\"outlinewidth\":0,\"ticks\":\"\"},\"colorscale\":[[0.0,\"#0d0887\"],[0.1111111111111111,\"#46039f\"],[0.2222222222222222,\"#7201a8\"],[0.3333333333333333,\"#9c179e\"],[0.4444444444444444,\"#bd3786\"],[0.5555555555555556,\"#d8576b\"],[0.6666666666666666,\"#ed7953\"],[0.7777777777777778,\"#fb9f3a\"],[0.8888888888888888,\"#fdca26\"],[1.0,\"#f0f921\"]]}],\"heatmapgl\":[{\"type\":\"heatmapgl\",\"colorbar\":{\"outlinewidth\":0,\"ticks\":\"\"},\"colorscale\":[[0.0,\"#0d0887\"],[0.1111111111111111,\"#46039f\"],[0.2222222222222222,\"#7201a8\"],[0.3333333333333333,\"#9c179e\"],[0.4444444444444444,\"#bd3786\"],[0.5555555555555556,\"#d8576b\"],[0.6666666666666666,\"#ed7953\"],[0.7777777777777778,\"#fb9f3a\"],[0.8888888888888888,\"#fdca26\"],[1.0,\"#f0f921\"]]}],\"contourcarpet\":[{\"type\":\"contourcarpet\",\"colorbar\":{\"outlinewidth\":0,\"ticks\":\"\"}}],\"contour\":[{\"type\":\"contour\",\"colorbar\":{\"outlinewidth\":0,\"ticks\":\"\"},\"colorscale\":[[0.0,\"#0d0887\"],[0.1111111111111111,\"#46039f\"],[0.2222222222222222,\"#7201a8\"],[0.3333333333333333,\"#9c179e\"],[0.4444444444444444,\"#bd3786\"],[0.5555555555555556,\"#d8576b\"],[0.6666666666666666,\"#ed7953\"],[0.7777777777777778,\"#fb9f3a\"],[0.8888888888888888,\"#fdca26\"],[1.0,\"#f0f921\"]]}],\"surface\":[{\"type\":\"surface\",\"colorbar\":{\"outlinewidth\":0,\"ticks\":\"\"},\"colorscale\":[[0.0,\"#0d0887\"],[0.1111111111111111,\"#46039f\"],[0.2222222222222222,\"#7201a8\"],[0.3333333333333333,\"#9c179e\"],[0.4444444444444444,\"#bd3786\"],[0.5555555555555556,\"#d8576b\"],[0.6666666666666666,\"#ed7953\"],[0.7777777777777778,\"#fb9f3a\"],[0.8888888888888888,\"#fdca26\"],[1.0,\"#f0f921\"]]}],\"mesh3d\":[{\"type\":\"mesh3d\",\"colorbar\":{\"outlinewidth\":0,\"ticks\":\"\"}}],\"scatter\":[{\"fillpattern\":{\"fillmode\":\"overlay\",\"size\":10,\"solidity\":0.2},\"type\":\"scatter\"}],\"parcoords\":[{\"type\":\"parcoords\",\"line\":{\"colorbar\":{\"outlinewidth\":0,\"ticks\":\"\"}}}],\"scatterpolargl\":[{\"type\":\"scatterpolargl\",\"marker\":{\"colorbar\":{\"outlinewidth\":0,\"ticks\":\"\"}}}],\"bar\":[{\"error_x\":{\"color\":\"#2a3f5f\"},\"error_y\":{\"color\":\"#2a3f5f\"},\"marker\":{\"line\":{\"color\":\"#E5ECF6\",\"width\":0.5},\"pattern\":{\"fillmode\":\"overlay\",\"size\":10,\"solidity\":0.2}},\"type\":\"bar\"}],\"scattergeo\":[{\"type\":\"scattergeo\",\"marker\":{\"colorbar\":{\"outlinewidth\":0,\"ticks\":\"\"}}}],\"scatterpolar\":[{\"type\":\"scatterpolar\",\"marker\":{\"colorbar\":{\"outlinewidth\":0,\"ticks\":\"\"}}}],\"histogram\":[{\"marker\":{\"pattern\":{\"fillmode\":\"overlay\",\"size\":10,\"solidity\":0.2}},\"type\":\"histogram\"}],\"scattergl\":[{\"type\":\"scattergl\",\"marker\":{\"colorbar\":{\"outlinewidth\":0,\"ticks\":\"\"}}}],\"scatter3d\":[{\"type\":\"scatter3d\",\"line\":{\"colorbar\":{\"outlinewidth\":0,\"ticks\":\"\"}},\"marker\":{\"colorbar\":{\"outlinewidth\":0,\"ticks\":\"\"}}}],\"scattermapbox\":[{\"type\":\"scattermapbox\",\"marker\":{\"colorbar\":{\"outlinewidth\":0,\"ticks\":\"\"}}}],\"scatterternary\":[{\"type\":\"scatterternary\",\"marker\":{\"colorbar\":{\"outlinewidth\":0,\"ticks\":\"\"}}}],\"scattercarpet\":[{\"type\":\"scattercarpet\",\"marker\":{\"colorbar\":{\"outlinewidth\":0,\"ticks\":\"\"}}}],\"carpet\":[{\"aaxis\":{\"endlinecolor\":\"#2a3f5f\",\"gridcolor\":\"white\",\"linecolor\":\"white\",\"minorgridcolor\":\"white\",\"startlinecolor\":\"#2a3f5f\"},\"baxis\":{\"endlinecolor\":\"#2a3f5f\",\"gridcolor\":\"white\",\"linecolor\":\"white\",\"minorgridcolor\":\"white\",\"startlinecolor\":\"#2a3f5f\"},\"type\":\"carpet\"}],\"table\":[{\"cells\":{\"fill\":{\"color\":\"#EBF0F8\"},\"line\":{\"color\":\"white\"}},\"header\":{\"fill\":{\"color\":\"#C8D4E3\"},\"line\":{\"color\":\"white\"}},\"type\":\"table\"}],\"barpolar\":[{\"marker\":{\"line\":{\"color\":\"#E5ECF6\",\"width\":0.5},\"pattern\":{\"fillmode\":\"overlay\",\"size\":10,\"solidity\":0.2}},\"type\":\"barpolar\"}],\"pie\":[{\"automargin\":true,\"type\":\"pie\"}]},\"layout\":{\"autotypenumbers\":\"strict\",\"colorway\":[\"#636efa\",\"#EF553B\",\"#00cc96\",\"#ab63fa\",\"#FFA15A\",\"#19d3f3\",\"#FF6692\",\"#B6E880\",\"#FF97FF\",\"#FECB52\"],\"font\":{\"color\":\"#2a3f5f\"},\"hovermode\":\"closest\",\"hoverlabel\":{\"align\":\"left\"},\"paper_bgcolor\":\"white\",\"plot_bgcolor\":\"#E5ECF6\",\"polar\":{\"bgcolor\":\"#E5ECF6\",\"angularaxis\":{\"gridcolor\":\"white\",\"linecolor\":\"white\",\"ticks\":\"\"},\"radialaxis\":{\"gridcolor\":\"white\",\"linecolor\":\"white\",\"ticks\":\"\"}},\"ternary\":{\"bgcolor\":\"#E5ECF6\",\"aaxis\":{\"gridcolor\":\"white\",\"linecolor\":\"white\",\"ticks\":\"\"},\"baxis\":{\"gridcolor\":\"white\",\"linecolor\":\"white\",\"ticks\":\"\"},\"caxis\":{\"gridcolor\":\"white\",\"linecolor\":\"white\",\"ticks\":\"\"}},\"coloraxis\":{\"colorbar\":{\"outlinewidth\":0,\"ticks\":\"\"}},\"colorscale\":{\"sequential\":[[0.0,\"#0d0887\"],[0.1111111111111111,\"#46039f\"],[0.2222222222222222,\"#7201a8\"],[0.3333333333333333,\"#9c179e\"],[0.4444444444444444,\"#bd3786\"],[0.5555555555555556,\"#d8576b\"],[0.6666666666666666,\"#ed7953\"],[0.7777777777777778,\"#fb9f3a\"],[0.8888888888888888,\"#fdca26\"],[1.0,\"#f0f921\"]],\"sequentialminus\":[[0.0,\"#0d0887\"],[0.1111111111111111,\"#46039f\"],[0.2222222222222222,\"#7201a8\"],[0.3333333333333333,\"#9c179e\"],[0.4444444444444444,\"#bd3786\"],[0.5555555555555556,\"#d8576b\"],[0.6666666666666666,\"#ed7953\"],[0.7777777777777778,\"#fb9f3a\"],[0.8888888888888888,\"#fdca26\"],[1.0,\"#f0f921\"]],\"diverging\":[[0,\"#8e0152\"],[0.1,\"#c51b7d\"],[0.2,\"#de77ae\"],[0.3,\"#f1b6da\"],[0.4,\"#fde0ef\"],[0.5,\"#f7f7f7\"],[0.6,\"#e6f5d0\"],[0.7,\"#b8e186\"],[0.8,\"#7fbc41\"],[0.9,\"#4d9221\"],[1,\"#276419\"]]},\"xaxis\":{\"gridcolor\":\"white\",\"linecolor\":\"white\",\"ticks\":\"\",\"title\":{\"standoff\":15},\"zerolinecolor\":\"white\",\"automargin\":true,\"zerolinewidth\":2},\"yaxis\":{\"gridcolor\":\"white\",\"linecolor\":\"white\",\"ticks\":\"\",\"title\":{\"standoff\":15},\"zerolinecolor\":\"white\",\"automargin\":true,\"zerolinewidth\":2},\"scene\":{\"xaxis\":{\"backgroundcolor\":\"#E5ECF6\",\"gridcolor\":\"white\",\"linecolor\":\"white\",\"showbackground\":true,\"ticks\":\"\",\"zerolinecolor\":\"white\",\"gridwidth\":2},\"yaxis\":{\"backgroundcolor\":\"#E5ECF6\",\"gridcolor\":\"white\",\"linecolor\":\"white\",\"showbackground\":true,\"ticks\":\"\",\"zerolinecolor\":\"white\",\"gridwidth\":2},\"zaxis\":{\"backgroundcolor\":\"#E5ECF6\",\"gridcolor\":\"white\",\"linecolor\":\"white\",\"showbackground\":true,\"ticks\":\"\",\"zerolinecolor\":\"white\",\"gridwidth\":2}},\"shapedefaults\":{\"line\":{\"color\":\"#2a3f5f\"}},\"annotationdefaults\":{\"arrowcolor\":\"#2a3f5f\",\"arrowhead\":0,\"arrowwidth\":1},\"geo\":{\"bgcolor\":\"white\",\"landcolor\":\"#E5ECF6\",\"subunitcolor\":\"white\",\"showland\":true,\"showlakes\":true,\"lakecolor\":\"white\"},\"title\":{\"x\":0.05},\"mapbox\":{\"style\":\"light\"}}},\"xaxis\":{\"anchor\":\"y\",\"domain\":[0.0,1.0],\"title\":{\"text\":\"avg_price_1gb\"}},\"yaxis\":{\"anchor\":\"x\",\"domain\":[0.0,0.8316],\"title\":{\"text\":\"count\"}},\"xaxis2\":{\"anchor\":\"y2\",\"domain\":[0.0,1.0],\"matches\":\"x\",\"showticklabels\":false,\"showgrid\":true},\"yaxis2\":{\"anchor\":\"x2\",\"domain\":[0.8416,1.0],\"matches\":\"y2\",\"showticklabels\":false,\"showline\":false,\"ticks\":\"\",\"showgrid\":false},\"legend\":{\"tracegroupgap\":0},\"title\":{\"text\":\"Distribution_avg_price_1gb\"},\"barmode\":\"relative\"},                        {\"responsive\": true}                    ).then(function(){\n                            \nvar gd = document.getElementById('5e644400-862c-4495-ae58-b99708aa11e4');\nvar x = new MutationObserver(function (mutations, observer) {{\n        var display = window.getComputedStyle(gd).display;\n        if (!display || display === 'none') {{\n            console.log([gd, 'removed!']);\n            Plotly.purge(gd);\n            observer.disconnect();\n        }}\n}});\n\n// Listen for the removal of the full notebook cells\nvar notebookContainer = gd.closest('#notebook-container');\nif (notebookContainer) {{\n    x.observe(notebookContainer, {childList: true});\n}}\n\n// Listen for the clearing of the current output cell\nvar outputEl = gd.closest('.output');\nif (outputEl) {{\n    x.observe(outputEl, {childList: true});\n}}\n\n                        })                };                            </script>        </div>\n</body>\n</html>"
     },
     "metadata": {},
     "output_type": "display_data"
    }
   ],
   "execution_count": null
  },
  {
   "cell_type": "code",
   "metadata": {
    "cell_id": "d558961ada0b484bb1ba72f33599dbe8",
    "tags": [],
    "deepnote_to_be_reexecuted": false,
    "source_hash": "80a846f7",
    "execution_start": 1657660345584,
    "execution_millis": 853,
    "deepnote_cell_type": "code",
    "deepnote_cell_height": 642,
    "deepnote_output_heights": [
     527
    ]
   },
   "source": "fig = px.histogram(prices, x='cheapest_1gb_30_days', title='Distribution_cheapest_1gb_30_days', marginal='box')\nfig.show() ",
   "outputs": [
    {
     "data": {
      "text/html": "<html>\n<head><meta charset=\"utf-8\" /></head>\n<body>\n    <div>            <script src=\"https://cdnjs.cloudflare.com/ajax/libs/mathjax/2.7.5/MathJax.js?config=TeX-AMS-MML_SVG\"></script><script type=\"text/javascript\">if (window.MathJax && window.MathJax.Hub && && window.MathJax.Hub.Config) {window.MathJax.Hub.Config({SVG: {font: \"STIX-Web\"}});}</script>                <script type=\"text/javascript\">window.PlotlyConfig = {MathJaxConfig: 'local'};</script>\n        <script src=\"https://cdn.plot.ly/plotly-2.12.1.min.js\"></script>                <div id=\"1b8c0dda-3827-4e98-8eca-8f0406e2b13e\" class=\"plotly-graph-div\" style=\"height:525px; width:100%;\"></div>            <script type=\"text/javascript\">                                    window.PLOTLYENV=window.PLOTLYENV || {};                                    if (document.getElementById(\"1b8c0dda-3827-4e98-8eca-8f0406e2b13e\")) {                    Plotly.newPlot(                        \"1b8c0dda-3827-4e98-8eca-8f0406e2b13e\",                        [{\"alignmentgroup\":\"True\",\"bingroup\":\"x\",\"hovertemplate\":\"cheapest_1gb_30_days=%{x}<br>count=%{y}<extra></extra>\",\"legendgroup\":\"\",\"marker\":{\"color\":\"#636efa\",\"pattern\":{\"shape\":\"\"}},\"name\":\"\",\"offsetgroup\":\"\",\"orientation\":\"v\",\"showlegend\":false,\"x\":[0.02,0.1,0.05,0.09,0.03,0.13,0.07,0.11,0.0,0.24,0.09,0.17,0.02,0.24,0.07,0.16,0.3,0.19,0.06,0.25,0.01,0.18,0.22,0.22,0.05,0.03,0.17,0.05,0.1,0.0,0.14,0.28,0.04,0.24,0.22,0.0,0.0,0.01,0.25,0.1,0.33,0.27,0.03,0.44,0.44,0.12,0.49,0.6,0.18,0.3,0.02,0.48,0.26,0.38,0.02,0.63,0.34,0.84,0.33,0.25,0.47,0.01,0.68,0.85,0.24,0.11,0.16,0.57,0.35,1.09,0.47,0.17,0.54,0.5,0.09,0.35,0.24,0.11,0.13,0.2,0.16,0.33,0.1,0.33,0.22,0.45,0.69,0.82,1.03,1.0,0.83,0.16,0.46,1.41,0.02,1.11,0.95,0.3,0.42,0.24,0.21,0.99,1.29,1.72,0.79,1.33,0.5,0.82,0.09,1.27,0.13,0.14,1.0,1.0,0.87,1.78,0.69,0.26,0.71,0.63,0.21,0.26,1.6,0.59,0.44,0.63,1.48,1.84,0.73,1.17,1.55,0.87,1.46,1.1,1.29,0.12,0.86,2.35,1.67,0.19,0.72,0.42,1.0,1.48,1.42,0.19,0.77,0.18,1.1,0.6,1.85,2.17,1.2,1.0,0.35,0.88,0.59,0.59,0.29,1.49,1.04,0.45,1.2,1.85,1.18,1.11,1.63,2.22,0.5,1.11,0.83,1.65,2.25,1.48,0.74,2.0,2.35,0.58,2.03,0.06,1.07,1.21,1.06,0.66,1.6,3.82,1.48,2.78,0.42,0.8,1.74,2.37,3.99,0.75,5.72,2.78,2.1,4.94,1.22,0.19,4.48,1.06,3.2,6.67,0.8,7.62,3.14,0.99,5.0,0.94,1.06,2.36,2.06,3.01,3.38,2.35,6.25,4.79,7.62,0.4,4.17,15.54,7.14,1.2,2.21,20.37,13.27,38.57,29.71,45.16],\"xaxis\":\"x\",\"yaxis\":\"y\",\"type\":\"histogram\"},{\"alignmentgroup\":\"True\",\"hovertemplate\":\"cheapest_1gb_30_days=%{x}<extra></extra>\",\"legendgroup\":\"\",\"marker\":{\"color\":\"#636efa\"},\"name\":\"\",\"notched\":true,\"offsetgroup\":\"\",\"showlegend\":false,\"x\":[0.02,0.1,0.05,0.09,0.03,0.13,0.07,0.11,0.0,0.24,0.09,0.17,0.02,0.24,0.07,0.16,0.3,0.19,0.06,0.25,0.01,0.18,0.22,0.22,0.05,0.03,0.17,0.05,0.1,0.0,0.14,0.28,0.04,0.24,0.22,0.0,0.0,0.01,0.25,0.1,0.33,0.27,0.03,0.44,0.44,0.12,0.49,0.6,0.18,0.3,0.02,0.48,0.26,0.38,0.02,0.63,0.34,0.84,0.33,0.25,0.47,0.01,0.68,0.85,0.24,0.11,0.16,0.57,0.35,1.09,0.47,0.17,0.54,0.5,0.09,0.35,0.24,0.11,0.13,0.2,0.16,0.33,0.1,0.33,0.22,0.45,0.69,0.82,1.03,1.0,0.83,0.16,0.46,1.41,0.02,1.11,0.95,0.3,0.42,0.24,0.21,0.99,1.29,1.72,0.79,1.33,0.5,0.82,0.09,1.27,0.13,0.14,1.0,1.0,0.87,1.78,0.69,0.26,0.71,0.63,0.21,0.26,1.6,0.59,0.44,0.63,1.48,1.84,0.73,1.17,1.55,0.87,1.46,1.1,1.29,0.12,0.86,2.35,1.67,0.19,0.72,0.42,1.0,1.48,1.42,0.19,0.77,0.18,1.1,0.6,1.85,2.17,1.2,1.0,0.35,0.88,0.59,0.59,0.29,1.49,1.04,0.45,1.2,1.85,1.18,1.11,1.63,2.22,0.5,1.11,0.83,1.65,2.25,1.48,0.74,2.0,2.35,0.58,2.03,0.06,1.07,1.21,1.06,0.66,1.6,3.82,1.48,2.78,0.42,0.8,1.74,2.37,3.99,0.75,5.72,2.78,2.1,4.94,1.22,0.19,4.48,1.06,3.2,6.67,0.8,7.62,3.14,0.99,5.0,0.94,1.06,2.36,2.06,3.01,3.38,2.35,6.25,4.79,7.62,0.4,4.17,15.54,7.14,1.2,2.21,20.37,13.27,38.57,29.71,45.16],\"xaxis\":\"x2\",\"yaxis\":\"y2\",\"type\":\"box\"}],                        {\"template\":{\"data\":{\"histogram2dcontour\":[{\"type\":\"histogram2dcontour\",\"colorbar\":{\"outlinewidth\":0,\"ticks\":\"\"},\"colorscale\":[[0.0,\"#0d0887\"],[0.1111111111111111,\"#46039f\"],[0.2222222222222222,\"#7201a8\"],[0.3333333333333333,\"#9c179e\"],[0.4444444444444444,\"#bd3786\"],[0.5555555555555556,\"#d8576b\"],[0.6666666666666666,\"#ed7953\"],[0.7777777777777778,\"#fb9f3a\"],[0.8888888888888888,\"#fdca26\"],[1.0,\"#f0f921\"]]}],\"choropleth\":[{\"type\":\"choropleth\",\"colorbar\":{\"outlinewidth\":0,\"ticks\":\"\"}}],\"histogram2d\":[{\"type\":\"histogram2d\",\"colorbar\":{\"outlinewidth\":0,\"ticks\":\"\"},\"colorscale\":[[0.0,\"#0d0887\"],[0.1111111111111111,\"#46039f\"],[0.2222222222222222,\"#7201a8\"],[0.3333333333333333,\"#9c179e\"],[0.4444444444444444,\"#bd3786\"],[0.5555555555555556,\"#d8576b\"],[0.6666666666666666,\"#ed7953\"],[0.7777777777777778,\"#fb9f3a\"],[0.8888888888888888,\"#fdca26\"],[1.0,\"#f0f921\"]]}],\"heatmap\":[{\"type\":\"heatmap\",\"colorbar\":{\"outlinewidth\":0,\"ticks\":\"\"},\"colorscale\":[[0.0,\"#0d0887\"],[0.1111111111111111,\"#46039f\"],[0.2222222222222222,\"#7201a8\"],[0.3333333333333333,\"#9c179e\"],[0.4444444444444444,\"#bd3786\"],[0.5555555555555556,\"#d8576b\"],[0.6666666666666666,\"#ed7953\"],[0.7777777777777778,\"#fb9f3a\"],[0.8888888888888888,\"#fdca26\"],[1.0,\"#f0f921\"]]}],\"heatmapgl\":[{\"type\":\"heatmapgl\",\"colorbar\":{\"outlinewidth\":0,\"ticks\":\"\"},\"colorscale\":[[0.0,\"#0d0887\"],[0.1111111111111111,\"#46039f\"],[0.2222222222222222,\"#7201a8\"],[0.3333333333333333,\"#9c179e\"],[0.4444444444444444,\"#bd3786\"],[0.5555555555555556,\"#d8576b\"],[0.6666666666666666,\"#ed7953\"],[0.7777777777777778,\"#fb9f3a\"],[0.8888888888888888,\"#fdca26\"],[1.0,\"#f0f921\"]]}],\"contourcarpet\":[{\"type\":\"contourcarpet\",\"colorbar\":{\"outlinewidth\":0,\"ticks\":\"\"}}],\"contour\":[{\"type\":\"contour\",\"colorbar\":{\"outlinewidth\":0,\"ticks\":\"\"},\"colorscale\":[[0.0,\"#0d0887\"],[0.1111111111111111,\"#46039f\"],[0.2222222222222222,\"#7201a8\"],[0.3333333333333333,\"#9c179e\"],[0.4444444444444444,\"#bd3786\"],[0.5555555555555556,\"#d8576b\"],[0.6666666666666666,\"#ed7953\"],[0.7777777777777778,\"#fb9f3a\"],[0.8888888888888888,\"#fdca26\"],[1.0,\"#f0f921\"]]}],\"surface\":[{\"type\":\"surface\",\"colorbar\":{\"outlinewidth\":0,\"ticks\":\"\"},\"colorscale\":[[0.0,\"#0d0887\"],[0.1111111111111111,\"#46039f\"],[0.2222222222222222,\"#7201a8\"],[0.3333333333333333,\"#9c179e\"],[0.4444444444444444,\"#bd3786\"],[0.5555555555555556,\"#d8576b\"],[0.6666666666666666,\"#ed7953\"],[0.7777777777777778,\"#fb9f3a\"],[0.8888888888888888,\"#fdca26\"],[1.0,\"#f0f921\"]]}],\"mesh3d\":[{\"type\":\"mesh3d\",\"colorbar\":{\"outlinewidth\":0,\"ticks\":\"\"}}],\"scatter\":[{\"fillpattern\":{\"fillmode\":\"overlay\",\"size\":10,\"solidity\":0.2},\"type\":\"scatter\"}],\"parcoords\":[{\"type\":\"parcoords\",\"line\":{\"colorbar\":{\"outlinewidth\":0,\"ticks\":\"\"}}}],\"scatterpolargl\":[{\"type\":\"scatterpolargl\",\"marker\":{\"colorbar\":{\"outlinewidth\":0,\"ticks\":\"\"}}}],\"bar\":[{\"error_x\":{\"color\":\"#2a3f5f\"},\"error_y\":{\"color\":\"#2a3f5f\"},\"marker\":{\"line\":{\"color\":\"#E5ECF6\",\"width\":0.5},\"pattern\":{\"fillmode\":\"overlay\",\"size\":10,\"solidity\":0.2}},\"type\":\"bar\"}],\"scattergeo\":[{\"type\":\"scattergeo\",\"marker\":{\"colorbar\":{\"outlinewidth\":0,\"ticks\":\"\"}}}],\"scatterpolar\":[{\"type\":\"scatterpolar\",\"marker\":{\"colorbar\":{\"outlinewidth\":0,\"ticks\":\"\"}}}],\"histogram\":[{\"marker\":{\"pattern\":{\"fillmode\":\"overlay\",\"size\":10,\"solidity\":0.2}},\"type\":\"histogram\"}],\"scattergl\":[{\"type\":\"scattergl\",\"marker\":{\"colorbar\":{\"outlinewidth\":0,\"ticks\":\"\"}}}],\"scatter3d\":[{\"type\":\"scatter3d\",\"line\":{\"colorbar\":{\"outlinewidth\":0,\"ticks\":\"\"}},\"marker\":{\"colorbar\":{\"outlinewidth\":0,\"ticks\":\"\"}}}],\"scattermapbox\":[{\"type\":\"scattermapbox\",\"marker\":{\"colorbar\":{\"outlinewidth\":0,\"ticks\":\"\"}}}],\"scatterternary\":[{\"type\":\"scatterternary\",\"marker\":{\"colorbar\":{\"outlinewidth\":0,\"ticks\":\"\"}}}],\"scattercarpet\":[{\"type\":\"scattercarpet\",\"marker\":{\"colorbar\":{\"outlinewidth\":0,\"ticks\":\"\"}}}],\"carpet\":[{\"aaxis\":{\"endlinecolor\":\"#2a3f5f\",\"gridcolor\":\"white\",\"linecolor\":\"white\",\"minorgridcolor\":\"white\",\"startlinecolor\":\"#2a3f5f\"},\"baxis\":{\"endlinecolor\":\"#2a3f5f\",\"gridcolor\":\"white\",\"linecolor\":\"white\",\"minorgridcolor\":\"white\",\"startlinecolor\":\"#2a3f5f\"},\"type\":\"carpet\"}],\"table\":[{\"cells\":{\"fill\":{\"color\":\"#EBF0F8\"},\"line\":{\"color\":\"white\"}},\"header\":{\"fill\":{\"color\":\"#C8D4E3\"},\"line\":{\"color\":\"white\"}},\"type\":\"table\"}],\"barpolar\":[{\"marker\":{\"line\":{\"color\":\"#E5ECF6\",\"width\":0.5},\"pattern\":{\"fillmode\":\"overlay\",\"size\":10,\"solidity\":0.2}},\"type\":\"barpolar\"}],\"pie\":[{\"automargin\":true,\"type\":\"pie\"}]},\"layout\":{\"autotypenumbers\":\"strict\",\"colorway\":[\"#636efa\",\"#EF553B\",\"#00cc96\",\"#ab63fa\",\"#FFA15A\",\"#19d3f3\",\"#FF6692\",\"#B6E880\",\"#FF97FF\",\"#FECB52\"],\"font\":{\"color\":\"#2a3f5f\"},\"hovermode\":\"closest\",\"hoverlabel\":{\"align\":\"left\"},\"paper_bgcolor\":\"white\",\"plot_bgcolor\":\"#E5ECF6\",\"polar\":{\"bgcolor\":\"#E5ECF6\",\"angularaxis\":{\"gridcolor\":\"white\",\"linecolor\":\"white\",\"ticks\":\"\"},\"radialaxis\":{\"gridcolor\":\"white\",\"linecolor\":\"white\",\"ticks\":\"\"}},\"ternary\":{\"bgcolor\":\"#E5ECF6\",\"aaxis\":{\"gridcolor\":\"white\",\"linecolor\":\"white\",\"ticks\":\"\"},\"baxis\":{\"gridcolor\":\"white\",\"linecolor\":\"white\",\"ticks\":\"\"},\"caxis\":{\"gridcolor\":\"white\",\"linecolor\":\"white\",\"ticks\":\"\"}},\"coloraxis\":{\"colorbar\":{\"outlinewidth\":0,\"ticks\":\"\"}},\"colorscale\":{\"sequential\":[[0.0,\"#0d0887\"],[0.1111111111111111,\"#46039f\"],[0.2222222222222222,\"#7201a8\"],[0.3333333333333333,\"#9c179e\"],[0.4444444444444444,\"#bd3786\"],[0.5555555555555556,\"#d8576b\"],[0.6666666666666666,\"#ed7953\"],[0.7777777777777778,\"#fb9f3a\"],[0.8888888888888888,\"#fdca26\"],[1.0,\"#f0f921\"]],\"sequentialminus\":[[0.0,\"#0d0887\"],[0.1111111111111111,\"#46039f\"],[0.2222222222222222,\"#7201a8\"],[0.3333333333333333,\"#9c179e\"],[0.4444444444444444,\"#bd3786\"],[0.5555555555555556,\"#d8576b\"],[0.6666666666666666,\"#ed7953\"],[0.7777777777777778,\"#fb9f3a\"],[0.8888888888888888,\"#fdca26\"],[1.0,\"#f0f921\"]],\"diverging\":[[0,\"#8e0152\"],[0.1,\"#c51b7d\"],[0.2,\"#de77ae\"],[0.3,\"#f1b6da\"],[0.4,\"#fde0ef\"],[0.5,\"#f7f7f7\"],[0.6,\"#e6f5d0\"],[0.7,\"#b8e186\"],[0.8,\"#7fbc41\"],[0.9,\"#4d9221\"],[1,\"#276419\"]]},\"xaxis\":{\"gridcolor\":\"white\",\"linecolor\":\"white\",\"ticks\":\"\",\"title\":{\"standoff\":15},\"zerolinecolor\":\"white\",\"automargin\":true,\"zerolinewidth\":2},\"yaxis\":{\"gridcolor\":\"white\",\"linecolor\":\"white\",\"ticks\":\"\",\"title\":{\"standoff\":15},\"zerolinecolor\":\"white\",\"automargin\":true,\"zerolinewidth\":2},\"scene\":{\"xaxis\":{\"backgroundcolor\":\"#E5ECF6\",\"gridcolor\":\"white\",\"linecolor\":\"white\",\"showbackground\":true,\"ticks\":\"\",\"zerolinecolor\":\"white\",\"gridwidth\":2},\"yaxis\":{\"backgroundcolor\":\"#E5ECF6\",\"gridcolor\":\"white\",\"linecolor\":\"white\",\"showbackground\":true,\"ticks\":\"\",\"zerolinecolor\":\"white\",\"gridwidth\":2},\"zaxis\":{\"backgroundcolor\":\"#E5ECF6\",\"gridcolor\":\"white\",\"linecolor\":\"white\",\"showbackground\":true,\"ticks\":\"\",\"zerolinecolor\":\"white\",\"gridwidth\":2}},\"shapedefaults\":{\"line\":{\"color\":\"#2a3f5f\"}},\"annotationdefaults\":{\"arrowcolor\":\"#2a3f5f\",\"arrowhead\":0,\"arrowwidth\":1},\"geo\":{\"bgcolor\":\"white\",\"landcolor\":\"#E5ECF6\",\"subunitcolor\":\"white\",\"showland\":true,\"showlakes\":true,\"lakecolor\":\"white\"},\"title\":{\"x\":0.05},\"mapbox\":{\"style\":\"light\"}}},\"xaxis\":{\"anchor\":\"y\",\"domain\":[0.0,1.0],\"title\":{\"text\":\"cheapest_1gb_30_days\"}},\"yaxis\":{\"anchor\":\"x\",\"domain\":[0.0,0.8316],\"title\":{\"text\":\"count\"}},\"xaxis2\":{\"anchor\":\"y2\",\"domain\":[0.0,1.0],\"matches\":\"x\",\"showticklabels\":false,\"showgrid\":true},\"yaxis2\":{\"anchor\":\"x2\",\"domain\":[0.8416,1.0],\"matches\":\"y2\",\"showticklabels\":false,\"showline\":false,\"ticks\":\"\",\"showgrid\":false},\"legend\":{\"tracegroupgap\":0},\"title\":{\"text\":\"Distribution_cheapest_1gb_30_days\"},\"barmode\":\"relative\"},                        {\"responsive\": true}                    ).then(function(){\n                            \nvar gd = document.getElementById('1b8c0dda-3827-4e98-8eca-8f0406e2b13e');\nvar x = new MutationObserver(function (mutations, observer) {{\n        var display = window.getComputedStyle(gd).display;\n        if (!display || display === 'none') {{\n            console.log([gd, 'removed!']);\n            Plotly.purge(gd);\n            observer.disconnect();\n        }}\n}});\n\n// Listen for the removal of the full notebook cells\nvar notebookContainer = gd.closest('#notebook-container');\nif (notebookContainer) {{\n    x.observe(notebookContainer, {childList: true});\n}}\n\n// Listen for the clearing of the current output cell\nvar outputEl = gd.closest('.output');\nif (outputEl) {{\n    x.observe(outputEl, {childList: true});\n}}\n\n                        })                };                            </script>        </div>\n</body>\n</html>"
     },
     "metadata": {},
     "output_type": "display_data"
    }
   ],
   "execution_count": null
  },
  {
   "cell_type": "code",
   "metadata": {
    "cell_id": "94f3c67cedaf4c518a78a83620dbb9aa",
    "tags": [],
    "deepnote_to_be_reexecuted": false,
    "source_hash": "bc8d876f",
    "execution_start": 1657660345681,
    "execution_millis": 757,
    "deepnote_cell_type": "code",
    "deepnote_cell_height": 642,
    "deepnote_output_heights": [
     527
    ]
   },
   "source": "fig = px.histogram(prices, x='most_expensive_1gb', title='Distribution_most_expensive_1gb', marginal='box')\nfig.show() ",
   "outputs": [
    {
     "data": {
      "text/html": "<html>\n<head><meta charset=\"utf-8\" /></head>\n<body>\n    <div>            <script src=\"https://cdnjs.cloudflare.com/ajax/libs/mathjax/2.7.5/MathJax.js?config=TeX-AMS-MML_SVG\"></script><script type=\"text/javascript\">if (window.MathJax && window.MathJax.Hub && && window.MathJax.Hub.Config) {window.MathJax.Hub.Config({SVG: {font: \"STIX-Web\"}});}</script>                <script type=\"text/javascript\">window.PlotlyConfig = {MathJaxConfig: 'local'};</script>\n        <script src=\"https://cdn.plot.ly/plotly-2.12.1.min.js\"></script>                <div id=\"c7fb6bb4-3e14-4d7a-956f-896686df21da\" class=\"plotly-graph-div\" style=\"height:525px; width:100%;\"></div>            <script type=\"text/javascript\">                                    window.PLOTLYENV=window.PLOTLYENV || {};                                    if (document.getElementById(\"c7fb6bb4-3e14-4d7a-956f-896686df21da\")) {                    Plotly.newPlot(                        \"c7fb6bb4-3e14-4d7a-956f-896686df21da\",                        [{\"alignmentgroup\":\"True\",\"bingroup\":\"x\",\"hovertemplate\":\"most_expensive_1gb=%{x}<br>count=%{y}<extra></extra>\",\"legendgroup\":\"\",\"marker\":{\"color\":\"#636efa\",\"pattern\":{\"shape\":\"\"}},\"name\":\"\",\"offsetgroup\":\"\",\"orientation\":\"v\",\"showlegend\":false,\"x\":[20.95,7.08,0.85,3.54,0.92,1.86,2.79,2.22,5.53,1.83,118.2,2.94,16.62,0.63,5.55,2.24,1.21,6.86,8.59,2.35,23.75,6.67,3.7,2.66,2.26,23.02,3.47,2.73,7.62,2.22,35.88,4.31,6.49,118.2,13.02,14.15,2.23,6.29,6.8,2.0,1.06,1.9,5.25,5.5,5.5,7.26,3.55,7.22,2.72,6.02,2.82,9.6,1.63,2.12,2.38,3.0,10.32,2.37,3.63,74.32,28.01,6.8,27.35,15.58,23.43,11.83,17.29,57.98,23.1,1.46,12.04,14.09,17.14,7.5,17.75,18.93,7.05,71.29,11.64,75.08,54.84,13.33,6.33,18.17,6.21,22.71,50.0,5.91,3.21,2.5,2.5,8.04,3.64,4.17,88.68,14.62,8.21,7.98,34.28,9.8,143.18,8.29,5.14,2.73,4.96,2.92,8.33,59.04,5.12,8.49,8.67,5.9,70.0,60.0,14.44,7.43,2.8,10.93,9.61,84.5,10.73,12.92,2.94,106.49,11.47,21.26,3.33,4.44,9.12,18.06,20.0,13.12,4.44,163.9,9.02,34.95,9.6,8.81,2.98,6.98,96.39,9.88,7.64,6.82,7.1,24.06,15.97,4.25,4.39,96.41,12.95,4.4,169.79,30.0,11.83,45.53,106.49,106.49,70.87,11.42,35.5,60.21,12.06,24.42,14.15,15.91,36.23,11.43,20.0,29.23,6.92,52.66,36.12,42.18,8.96,7.48,18.06,29.03,40.64,96.88,48.35,77.7,18.06,50.09,17.83,9.52,21.3,13.91,46.67,79.54,29.03,97.71,10.74,28.23,10.17,14.34,210.16,64.24,27.98,38.8,28.69,65.07,12.5,10.0,34.3,7.62,12.55,59.16,23.0,36.05,768.87,22.67,59.1,60.21,29.9,22.87,24.0,41.48,19.32,39.94,100.0,27.98,30.44,72.06,45.16,25.46,121.65,51.42,82.26,63.22],\"xaxis\":\"x\",\"yaxis\":\"y\",\"type\":\"histogram\"},{\"alignmentgroup\":\"True\",\"hovertemplate\":\"most_expensive_1gb=%{x}<extra></extra>\",\"legendgroup\":\"\",\"marker\":{\"color\":\"#636efa\"},\"name\":\"\",\"notched\":true,\"offsetgroup\":\"\",\"showlegend\":false,\"x\":[20.95,7.08,0.85,3.54,0.92,1.86,2.79,2.22,5.53,1.83,118.2,2.94,16.62,0.63,5.55,2.24,1.21,6.86,8.59,2.35,23.75,6.67,3.7,2.66,2.26,23.02,3.47,2.73,7.62,2.22,35.88,4.31,6.49,118.2,13.02,14.15,2.23,6.29,6.8,2.0,1.06,1.9,5.25,5.5,5.5,7.26,3.55,7.22,2.72,6.02,2.82,9.6,1.63,2.12,2.38,3.0,10.32,2.37,3.63,74.32,28.01,6.8,27.35,15.58,23.43,11.83,17.29,57.98,23.1,1.46,12.04,14.09,17.14,7.5,17.75,18.93,7.05,71.29,11.64,75.08,54.84,13.33,6.33,18.17,6.21,22.71,50.0,5.91,3.21,2.5,2.5,8.04,3.64,4.17,88.68,14.62,8.21,7.98,34.28,9.8,143.18,8.29,5.14,2.73,4.96,2.92,8.33,59.04,5.12,8.49,8.67,5.9,70.0,60.0,14.44,7.43,2.8,10.93,9.61,84.5,10.73,12.92,2.94,106.49,11.47,21.26,3.33,4.44,9.12,18.06,20.0,13.12,4.44,163.9,9.02,34.95,9.6,8.81,2.98,6.98,96.39,9.88,7.64,6.82,7.1,24.06,15.97,4.25,4.39,96.41,12.95,4.4,169.79,30.0,11.83,45.53,106.49,106.49,70.87,11.42,35.5,60.21,12.06,24.42,14.15,15.91,36.23,11.43,20.0,29.23,6.92,52.66,36.12,42.18,8.96,7.48,18.06,29.03,40.64,96.88,48.35,77.7,18.06,50.09,17.83,9.52,21.3,13.91,46.67,79.54,29.03,97.71,10.74,28.23,10.17,14.34,210.16,64.24,27.98,38.8,28.69,65.07,12.5,10.0,34.3,7.62,12.55,59.16,23.0,36.05,768.87,22.67,59.1,60.21,29.9,22.87,24.0,41.48,19.32,39.94,100.0,27.98,30.44,72.06,45.16,25.46,121.65,51.42,82.26,63.22],\"xaxis\":\"x2\",\"yaxis\":\"y2\",\"type\":\"box\"}],                        {\"template\":{\"data\":{\"histogram2dcontour\":[{\"type\":\"histogram2dcontour\",\"colorbar\":{\"outlinewidth\":0,\"ticks\":\"\"},\"colorscale\":[[0.0,\"#0d0887\"],[0.1111111111111111,\"#46039f\"],[0.2222222222222222,\"#7201a8\"],[0.3333333333333333,\"#9c179e\"],[0.4444444444444444,\"#bd3786\"],[0.5555555555555556,\"#d8576b\"],[0.6666666666666666,\"#ed7953\"],[0.7777777777777778,\"#fb9f3a\"],[0.8888888888888888,\"#fdca26\"],[1.0,\"#f0f921\"]]}],\"choropleth\":[{\"type\":\"choropleth\",\"colorbar\":{\"outlinewidth\":0,\"ticks\":\"\"}}],\"histogram2d\":[{\"type\":\"histogram2d\",\"colorbar\":{\"outlinewidth\":0,\"ticks\":\"\"},\"colorscale\":[[0.0,\"#0d0887\"],[0.1111111111111111,\"#46039f\"],[0.2222222222222222,\"#7201a8\"],[0.3333333333333333,\"#9c179e\"],[0.4444444444444444,\"#bd3786\"],[0.5555555555555556,\"#d8576b\"],[0.6666666666666666,\"#ed7953\"],[0.7777777777777778,\"#fb9f3a\"],[0.8888888888888888,\"#fdca26\"],[1.0,\"#f0f921\"]]}],\"heatmap\":[{\"type\":\"heatmap\",\"colorbar\":{\"outlinewidth\":0,\"ticks\":\"\"},\"colorscale\":[[0.0,\"#0d0887\"],[0.1111111111111111,\"#46039f\"],[0.2222222222222222,\"#7201a8\"],[0.3333333333333333,\"#9c179e\"],[0.4444444444444444,\"#bd3786\"],[0.5555555555555556,\"#d8576b\"],[0.6666666666666666,\"#ed7953\"],[0.7777777777777778,\"#fb9f3a\"],[0.8888888888888888,\"#fdca26\"],[1.0,\"#f0f921\"]]}],\"heatmapgl\":[{\"type\":\"heatmapgl\",\"colorbar\":{\"outlinewidth\":0,\"ticks\":\"\"},\"colorscale\":[[0.0,\"#0d0887\"],[0.1111111111111111,\"#46039f\"],[0.2222222222222222,\"#7201a8\"],[0.3333333333333333,\"#9c179e\"],[0.4444444444444444,\"#bd3786\"],[0.5555555555555556,\"#d8576b\"],[0.6666666666666666,\"#ed7953\"],[0.7777777777777778,\"#fb9f3a\"],[0.8888888888888888,\"#fdca26\"],[1.0,\"#f0f921\"]]}],\"contourcarpet\":[{\"type\":\"contourcarpet\",\"colorbar\":{\"outlinewidth\":0,\"ticks\":\"\"}}],\"contour\":[{\"type\":\"contour\",\"colorbar\":{\"outlinewidth\":0,\"ticks\":\"\"},\"colorscale\":[[0.0,\"#0d0887\"],[0.1111111111111111,\"#46039f\"],[0.2222222222222222,\"#7201a8\"],[0.3333333333333333,\"#9c179e\"],[0.4444444444444444,\"#bd3786\"],[0.5555555555555556,\"#d8576b\"],[0.6666666666666666,\"#ed7953\"],[0.7777777777777778,\"#fb9f3a\"],[0.8888888888888888,\"#fdca26\"],[1.0,\"#f0f921\"]]}],\"surface\":[{\"type\":\"surface\",\"colorbar\":{\"outlinewidth\":0,\"ticks\":\"\"},\"colorscale\":[[0.0,\"#0d0887\"],[0.1111111111111111,\"#46039f\"],[0.2222222222222222,\"#7201a8\"],[0.3333333333333333,\"#9c179e\"],[0.4444444444444444,\"#bd3786\"],[0.5555555555555556,\"#d8576b\"],[0.6666666666666666,\"#ed7953\"],[0.7777777777777778,\"#fb9f3a\"],[0.8888888888888888,\"#fdca26\"],[1.0,\"#f0f921\"]]}],\"mesh3d\":[{\"type\":\"mesh3d\",\"colorbar\":{\"outlinewidth\":0,\"ticks\":\"\"}}],\"scatter\":[{\"fillpattern\":{\"fillmode\":\"overlay\",\"size\":10,\"solidity\":0.2},\"type\":\"scatter\"}],\"parcoords\":[{\"type\":\"parcoords\",\"line\":{\"colorbar\":{\"outlinewidth\":0,\"ticks\":\"\"}}}],\"scatterpolargl\":[{\"type\":\"scatterpolargl\",\"marker\":{\"colorbar\":{\"outlinewidth\":0,\"ticks\":\"\"}}}],\"bar\":[{\"error_x\":{\"color\":\"#2a3f5f\"},\"error_y\":{\"color\":\"#2a3f5f\"},\"marker\":{\"line\":{\"color\":\"#E5ECF6\",\"width\":0.5},\"pattern\":{\"fillmode\":\"overlay\",\"size\":10,\"solidity\":0.2}},\"type\":\"bar\"}],\"scattergeo\":[{\"type\":\"scattergeo\",\"marker\":{\"colorbar\":{\"outlinewidth\":0,\"ticks\":\"\"}}}],\"scatterpolar\":[{\"type\":\"scatterpolar\",\"marker\":{\"colorbar\":{\"outlinewidth\":0,\"ticks\":\"\"}}}],\"histogram\":[{\"marker\":{\"pattern\":{\"fillmode\":\"overlay\",\"size\":10,\"solidity\":0.2}},\"type\":\"histogram\"}],\"scattergl\":[{\"type\":\"scattergl\",\"marker\":{\"colorbar\":{\"outlinewidth\":0,\"ticks\":\"\"}}}],\"scatter3d\":[{\"type\":\"scatter3d\",\"line\":{\"colorbar\":{\"outlinewidth\":0,\"ticks\":\"\"}},\"marker\":{\"colorbar\":{\"outlinewidth\":0,\"ticks\":\"\"}}}],\"scattermapbox\":[{\"type\":\"scattermapbox\",\"marker\":{\"colorbar\":{\"outlinewidth\":0,\"ticks\":\"\"}}}],\"scatterternary\":[{\"type\":\"scatterternary\",\"marker\":{\"colorbar\":{\"outlinewidth\":0,\"ticks\":\"\"}}}],\"scattercarpet\":[{\"type\":\"scattercarpet\",\"marker\":{\"colorbar\":{\"outlinewidth\":0,\"ticks\":\"\"}}}],\"carpet\":[{\"aaxis\":{\"endlinecolor\":\"#2a3f5f\",\"gridcolor\":\"white\",\"linecolor\":\"white\",\"minorgridcolor\":\"white\",\"startlinecolor\":\"#2a3f5f\"},\"baxis\":{\"endlinecolor\":\"#2a3f5f\",\"gridcolor\":\"white\",\"linecolor\":\"white\",\"minorgridcolor\":\"white\",\"startlinecolor\":\"#2a3f5f\"},\"type\":\"carpet\"}],\"table\":[{\"cells\":{\"fill\":{\"color\":\"#EBF0F8\"},\"line\":{\"color\":\"white\"}},\"header\":{\"fill\":{\"color\":\"#C8D4E3\"},\"line\":{\"color\":\"white\"}},\"type\":\"table\"}],\"barpolar\":[{\"marker\":{\"line\":{\"color\":\"#E5ECF6\",\"width\":0.5},\"pattern\":{\"fillmode\":\"overlay\",\"size\":10,\"solidity\":0.2}},\"type\":\"barpolar\"}],\"pie\":[{\"automargin\":true,\"type\":\"pie\"}]},\"layout\":{\"autotypenumbers\":\"strict\",\"colorway\":[\"#636efa\",\"#EF553B\",\"#00cc96\",\"#ab63fa\",\"#FFA15A\",\"#19d3f3\",\"#FF6692\",\"#B6E880\",\"#FF97FF\",\"#FECB52\"],\"font\":{\"color\":\"#2a3f5f\"},\"hovermode\":\"closest\",\"hoverlabel\":{\"align\":\"left\"},\"paper_bgcolor\":\"white\",\"plot_bgcolor\":\"#E5ECF6\",\"polar\":{\"bgcolor\":\"#E5ECF6\",\"angularaxis\":{\"gridcolor\":\"white\",\"linecolor\":\"white\",\"ticks\":\"\"},\"radialaxis\":{\"gridcolor\":\"white\",\"linecolor\":\"white\",\"ticks\":\"\"}},\"ternary\":{\"bgcolor\":\"#E5ECF6\",\"aaxis\":{\"gridcolor\":\"white\",\"linecolor\":\"white\",\"ticks\":\"\"},\"baxis\":{\"gridcolor\":\"white\",\"linecolor\":\"white\",\"ticks\":\"\"},\"caxis\":{\"gridcolor\":\"white\",\"linecolor\":\"white\",\"ticks\":\"\"}},\"coloraxis\":{\"colorbar\":{\"outlinewidth\":0,\"ticks\":\"\"}},\"colorscale\":{\"sequential\":[[0.0,\"#0d0887\"],[0.1111111111111111,\"#46039f\"],[0.2222222222222222,\"#7201a8\"],[0.3333333333333333,\"#9c179e\"],[0.4444444444444444,\"#bd3786\"],[0.5555555555555556,\"#d8576b\"],[0.6666666666666666,\"#ed7953\"],[0.7777777777777778,\"#fb9f3a\"],[0.8888888888888888,\"#fdca26\"],[1.0,\"#f0f921\"]],\"sequentialminus\":[[0.0,\"#0d0887\"],[0.1111111111111111,\"#46039f\"],[0.2222222222222222,\"#7201a8\"],[0.3333333333333333,\"#9c179e\"],[0.4444444444444444,\"#bd3786\"],[0.5555555555555556,\"#d8576b\"],[0.6666666666666666,\"#ed7953\"],[0.7777777777777778,\"#fb9f3a\"],[0.8888888888888888,\"#fdca26\"],[1.0,\"#f0f921\"]],\"diverging\":[[0,\"#8e0152\"],[0.1,\"#c51b7d\"],[0.2,\"#de77ae\"],[0.3,\"#f1b6da\"],[0.4,\"#fde0ef\"],[0.5,\"#f7f7f7\"],[0.6,\"#e6f5d0\"],[0.7,\"#b8e186\"],[0.8,\"#7fbc41\"],[0.9,\"#4d9221\"],[1,\"#276419\"]]},\"xaxis\":{\"gridcolor\":\"white\",\"linecolor\":\"white\",\"ticks\":\"\",\"title\":{\"standoff\":15},\"zerolinecolor\":\"white\",\"automargin\":true,\"zerolinewidth\":2},\"yaxis\":{\"gridcolor\":\"white\",\"linecolor\":\"white\",\"ticks\":\"\",\"title\":{\"standoff\":15},\"zerolinecolor\":\"white\",\"automargin\":true,\"zerolinewidth\":2},\"scene\":{\"xaxis\":{\"backgroundcolor\":\"#E5ECF6\",\"gridcolor\":\"white\",\"linecolor\":\"white\",\"showbackground\":true,\"ticks\":\"\",\"zerolinecolor\":\"white\",\"gridwidth\":2},\"yaxis\":{\"backgroundcolor\":\"#E5ECF6\",\"gridcolor\":\"white\",\"linecolor\":\"white\",\"showbackground\":true,\"ticks\":\"\",\"zerolinecolor\":\"white\",\"gridwidth\":2},\"zaxis\":{\"backgroundcolor\":\"#E5ECF6\",\"gridcolor\":\"white\",\"linecolor\":\"white\",\"showbackground\":true,\"ticks\":\"\",\"zerolinecolor\":\"white\",\"gridwidth\":2}},\"shapedefaults\":{\"line\":{\"color\":\"#2a3f5f\"}},\"annotationdefaults\":{\"arrowcolor\":\"#2a3f5f\",\"arrowhead\":0,\"arrowwidth\":1},\"geo\":{\"bgcolor\":\"white\",\"landcolor\":\"#E5ECF6\",\"subunitcolor\":\"white\",\"showland\":true,\"showlakes\":true,\"lakecolor\":\"white\"},\"title\":{\"x\":0.05},\"mapbox\":{\"style\":\"light\"}}},\"xaxis\":{\"anchor\":\"y\",\"domain\":[0.0,1.0],\"title\":{\"text\":\"most_expensive_1gb\"}},\"yaxis\":{\"anchor\":\"x\",\"domain\":[0.0,0.8316],\"title\":{\"text\":\"count\"}},\"xaxis2\":{\"anchor\":\"y2\",\"domain\":[0.0,1.0],\"matches\":\"x\",\"showticklabels\":false,\"showgrid\":true},\"yaxis2\":{\"anchor\":\"x2\",\"domain\":[0.8416,1.0],\"matches\":\"y2\",\"showticklabels\":false,\"showline\":false,\"ticks\":\"\",\"showgrid\":false},\"legend\":{\"tracegroupgap\":0},\"title\":{\"text\":\"Distribution_most_expensive_1gb\"},\"barmode\":\"relative\"},                        {\"responsive\": true}                    ).then(function(){\n                            \nvar gd = document.getElementById('c7fb6bb4-3e14-4d7a-956f-896686df21da');\nvar x = new MutationObserver(function (mutations, observer) {{\n        var display = window.getComputedStyle(gd).display;\n        if (!display || display === 'none') {{\n            console.log([gd, 'removed!']);\n            Plotly.purge(gd);\n            observer.disconnect();\n        }}\n}});\n\n// Listen for the removal of the full notebook cells\nvar notebookContainer = gd.closest('#notebook-container');\nif (notebookContainer) {{\n    x.observe(notebookContainer, {childList: true});\n}}\n\n// Listen for the clearing of the current output cell\nvar outputEl = gd.closest('.output');\nif (outputEl) {{\n    x.observe(outputEl, {childList: true});\n}}\n\n                        })                };                            </script>        </div>\n</body>\n</html>"
     },
     "metadata": {},
     "output_type": "display_data"
    }
   ],
   "execution_count": null
  },
  {
   "cell_type": "code",
   "metadata": {
    "cell_id": "af16109ea926406d9ed4933222081038",
    "tags": [],
    "deepnote_to_be_reexecuted": false,
    "source_hash": "79894e5a",
    "execution_start": 1657660345750,
    "execution_millis": 689,
    "deepnote_cell_type": "code",
    "deepnote_cell_height": 642,
    "deepnote_output_heights": [
     527
    ]
   },
   "source": "fig = px.histogram(prices, x='avg_price_1gb_2021', title='Distribution_avg_price_1gb_2021', marginal='box')\nfig.show() ",
   "outputs": [
    {
     "data": {
      "text/html": "<html>\n<head><meta charset=\"utf-8\" /></head>\n<body>\n    <div>            <script src=\"https://cdnjs.cloudflare.com/ajax/libs/mathjax/2.7.5/MathJax.js?config=TeX-AMS-MML_SVG\"></script><script type=\"text/javascript\">if (window.MathJax && window.MathJax.Hub && && window.MathJax.Hub.Config) {window.MathJax.Hub.Config({SVG: {font: \"STIX-Web\"}});}</script>                <script type=\"text/javascript\">window.PlotlyConfig = {MathJaxConfig: 'local'};</script>\n        <script src=\"https://cdn.plot.ly/plotly-2.12.1.min.js\"></script>                <div id=\"ea825f0c-bb58-42c7-b60c-c510b95d6c0d\" class=\"plotly-graph-div\" style=\"height:525px; width:100%;\"></div>            <script type=\"text/javascript\">                                    window.PLOTLYENV=window.PLOTLYENV || {};                                    if (document.getElementById(\"ea825f0c-bb58-42c7-b60c-c510b95d6c0d\")) {                    Plotly.newPlot(                        \"ea825f0c-bb58-42c7-b60c-c510b95d6c0d\",                        [{\"alignmentgroup\":\"True\",\"bingroup\":\"x\",\"hovertemplate\":\"avg_price_1gb_2021=%{x}<br>count=%{y}<extra></extra>\",\"legendgroup\":\"\",\"marker\":{\"color\":\"#636efa\",\"pattern\":{\"shape\":\"\"}},\"name\":\"\",\"offsetgroup\":\"\",\"orientation\":\"v\",\"showlegend\":false,\"x\":[0.11,0.21,0.59,0.43,0.63,0.52,1.12,0.7,0.51,0.71,0.81,0.64,0.89,1.16,0.57,0.65,0.61,10.86,0.69,0.46,1.34,0.5,0.74,0.86,0.72,0.7,0.94,0.09,0.68,4.73,0.46,0.73,2.48,0.72,1.05,0.78,0.8,0.77,1.08,1.5,1.16,2.74,1.39,0.99,0.99,1.12,2.42,2.75,1.01,3.3,1.71,1.75,2.14,1.55,1.09,3.24,1.23,0.98,1.37,2.47,1.12,1.36,4.2,2.13,1.08,1.03,1.46,1.81,1.48,3.41,3.3,1.6,1.71,1.45,1.85,1.27,1.03,1.39,1.36,2.07,1.24,2.12,1.58,0.74,0.75,1.62,3.12,3.61,5.29,2.5,2.08,5.32,3.26,2.44,1.48,4.92,1.42,0.93,1.66,1.86,5.92,2.89,2.17,4.92,2.08,2.5,4.67,3.62,2.12,2.27,4.58,3.94,2.0,2.65,5.09,2.64,13.31,1.05,5.4,2.22,2.55,2.48,2.74,4.06,1.45,3.04,3.33,5.37,2.3,3.2,3.25,4.65,3.27,2.41,2.13,4.3,3.88,3.24,7.38,3.33,2.83,3.46,1.94,3.25,3.89,4.01,2.98,4.16,4.12,4.38,3.88,3.69,4.12,8.0,4.06,3.91,3.32,2.6,3.79,null,3.84,27.22,4.77,11.07,4.97,5.92,13.87,9.56,9.17,8.33,4.66,15.42,4.12,7.17,9.11,6.69,2.47,5.9,4.5,10.94,4.81,3.82,4.89,8.81,8.38,5.46,4.88,4.63,5.91,12.55,5.28,5.1,6.02,4.25,null,11.06,4.81,9.32,6.06,6.55,4.5,9.54,13.33,7.5,3.78,30.47,8.53,7.2,13.33,7.95,12.06,11.43,13.56,8.25,12.5,10.5,9.95,23.05,16.98,15.98,28.75,17.75,11.44,4.78,23.33,27.41,28.26,52.5,40.41,12.78],\"xaxis\":\"x\",\"yaxis\":\"y\",\"type\":\"histogram\"},{\"alignmentgroup\":\"True\",\"hovertemplate\":\"avg_price_1gb_2021=%{x}<extra></extra>\",\"legendgroup\":\"\",\"marker\":{\"color\":\"#636efa\"},\"name\":\"\",\"notched\":true,\"offsetgroup\":\"\",\"showlegend\":false,\"x\":[0.11,0.21,0.59,0.43,0.63,0.52,1.12,0.7,0.51,0.71,0.81,0.64,0.89,1.16,0.57,0.65,0.61,10.86,0.69,0.46,1.34,0.5,0.74,0.86,0.72,0.7,0.94,0.09,0.68,4.73,0.46,0.73,2.48,0.72,1.05,0.78,0.8,0.77,1.08,1.5,1.16,2.74,1.39,0.99,0.99,1.12,2.42,2.75,1.01,3.3,1.71,1.75,2.14,1.55,1.09,3.24,1.23,0.98,1.37,2.47,1.12,1.36,4.2,2.13,1.08,1.03,1.46,1.81,1.48,3.41,3.3,1.6,1.71,1.45,1.85,1.27,1.03,1.39,1.36,2.07,1.24,2.12,1.58,0.74,0.75,1.62,3.12,3.61,5.29,2.5,2.08,5.32,3.26,2.44,1.48,4.92,1.42,0.93,1.66,1.86,5.92,2.89,2.17,4.92,2.08,2.5,4.67,3.62,2.12,2.27,4.58,3.94,2.0,2.65,5.09,2.64,13.31,1.05,5.4,2.22,2.55,2.48,2.74,4.06,1.45,3.04,3.33,5.37,2.3,3.2,3.25,4.65,3.27,2.41,2.13,4.3,3.88,3.24,7.38,3.33,2.83,3.46,1.94,3.25,3.89,4.01,2.98,4.16,4.12,4.38,3.88,3.69,4.12,8.0,4.06,3.91,3.32,2.6,3.79,null,3.84,27.22,4.77,11.07,4.97,5.92,13.87,9.56,9.17,8.33,4.66,15.42,4.12,7.17,9.11,6.69,2.47,5.9,4.5,10.94,4.81,3.82,4.89,8.81,8.38,5.46,4.88,4.63,5.91,12.55,5.28,5.1,6.02,4.25,null,11.06,4.81,9.32,6.06,6.55,4.5,9.54,13.33,7.5,3.78,30.47,8.53,7.2,13.33,7.95,12.06,11.43,13.56,8.25,12.5,10.5,9.95,23.05,16.98,15.98,28.75,17.75,11.44,4.78,23.33,27.41,28.26,52.5,40.41,12.78],\"xaxis\":\"x2\",\"yaxis\":\"y2\",\"type\":\"box\"}],                        {\"template\":{\"data\":{\"histogram2dcontour\":[{\"type\":\"histogram2dcontour\",\"colorbar\":{\"outlinewidth\":0,\"ticks\":\"\"},\"colorscale\":[[0.0,\"#0d0887\"],[0.1111111111111111,\"#46039f\"],[0.2222222222222222,\"#7201a8\"],[0.3333333333333333,\"#9c179e\"],[0.4444444444444444,\"#bd3786\"],[0.5555555555555556,\"#d8576b\"],[0.6666666666666666,\"#ed7953\"],[0.7777777777777778,\"#fb9f3a\"],[0.8888888888888888,\"#fdca26\"],[1.0,\"#f0f921\"]]}],\"choropleth\":[{\"type\":\"choropleth\",\"colorbar\":{\"outlinewidth\":0,\"ticks\":\"\"}}],\"histogram2d\":[{\"type\":\"histogram2d\",\"colorbar\":{\"outlinewidth\":0,\"ticks\":\"\"},\"colorscale\":[[0.0,\"#0d0887\"],[0.1111111111111111,\"#46039f\"],[0.2222222222222222,\"#7201a8\"],[0.3333333333333333,\"#9c179e\"],[0.4444444444444444,\"#bd3786\"],[0.5555555555555556,\"#d8576b\"],[0.6666666666666666,\"#ed7953\"],[0.7777777777777778,\"#fb9f3a\"],[0.8888888888888888,\"#fdca26\"],[1.0,\"#f0f921\"]]}],\"heatmap\":[{\"type\":\"heatmap\",\"colorbar\":{\"outlinewidth\":0,\"ticks\":\"\"},\"colorscale\":[[0.0,\"#0d0887\"],[0.1111111111111111,\"#46039f\"],[0.2222222222222222,\"#7201a8\"],[0.3333333333333333,\"#9c179e\"],[0.4444444444444444,\"#bd3786\"],[0.5555555555555556,\"#d8576b\"],[0.6666666666666666,\"#ed7953\"],[0.7777777777777778,\"#fb9f3a\"],[0.8888888888888888,\"#fdca26\"],[1.0,\"#f0f921\"]]}],\"heatmapgl\":[{\"type\":\"heatmapgl\",\"colorbar\":{\"outlinewidth\":0,\"ticks\":\"\"},\"colorscale\":[[0.0,\"#0d0887\"],[0.1111111111111111,\"#46039f\"],[0.2222222222222222,\"#7201a8\"],[0.3333333333333333,\"#9c179e\"],[0.4444444444444444,\"#bd3786\"],[0.5555555555555556,\"#d8576b\"],[0.6666666666666666,\"#ed7953\"],[0.7777777777777778,\"#fb9f3a\"],[0.8888888888888888,\"#fdca26\"],[1.0,\"#f0f921\"]]}],\"contourcarpet\":[{\"type\":\"contourcarpet\",\"colorbar\":{\"outlinewidth\":0,\"ticks\":\"\"}}],\"contour\":[{\"type\":\"contour\",\"colorbar\":{\"outlinewidth\":0,\"ticks\":\"\"},\"colorscale\":[[0.0,\"#0d0887\"],[0.1111111111111111,\"#46039f\"],[0.2222222222222222,\"#7201a8\"],[0.3333333333333333,\"#9c179e\"],[0.4444444444444444,\"#bd3786\"],[0.5555555555555556,\"#d8576b\"],[0.6666666666666666,\"#ed7953\"],[0.7777777777777778,\"#fb9f3a\"],[0.8888888888888888,\"#fdca26\"],[1.0,\"#f0f921\"]]}],\"surface\":[{\"type\":\"surface\",\"colorbar\":{\"outlinewidth\":0,\"ticks\":\"\"},\"colorscale\":[[0.0,\"#0d0887\"],[0.1111111111111111,\"#46039f\"],[0.2222222222222222,\"#7201a8\"],[0.3333333333333333,\"#9c179e\"],[0.4444444444444444,\"#bd3786\"],[0.5555555555555556,\"#d8576b\"],[0.6666666666666666,\"#ed7953\"],[0.7777777777777778,\"#fb9f3a\"],[0.8888888888888888,\"#fdca26\"],[1.0,\"#f0f921\"]]}],\"mesh3d\":[{\"type\":\"mesh3d\",\"colorbar\":{\"outlinewidth\":0,\"ticks\":\"\"}}],\"scatter\":[{\"fillpattern\":{\"fillmode\":\"overlay\",\"size\":10,\"solidity\":0.2},\"type\":\"scatter\"}],\"parcoords\":[{\"type\":\"parcoords\",\"line\":{\"colorbar\":{\"outlinewidth\":0,\"ticks\":\"\"}}}],\"scatterpolargl\":[{\"type\":\"scatterpolargl\",\"marker\":{\"colorbar\":{\"outlinewidth\":0,\"ticks\":\"\"}}}],\"bar\":[{\"error_x\":{\"color\":\"#2a3f5f\"},\"error_y\":{\"color\":\"#2a3f5f\"},\"marker\":{\"line\":{\"color\":\"#E5ECF6\",\"width\":0.5},\"pattern\":{\"fillmode\":\"overlay\",\"size\":10,\"solidity\":0.2}},\"type\":\"bar\"}],\"scattergeo\":[{\"type\":\"scattergeo\",\"marker\":{\"colorbar\":{\"outlinewidth\":0,\"ticks\":\"\"}}}],\"scatterpolar\":[{\"type\":\"scatterpolar\",\"marker\":{\"colorbar\":{\"outlinewidth\":0,\"ticks\":\"\"}}}],\"histogram\":[{\"marker\":{\"pattern\":{\"fillmode\":\"overlay\",\"size\":10,\"solidity\":0.2}},\"type\":\"histogram\"}],\"scattergl\":[{\"type\":\"scattergl\",\"marker\":{\"colorbar\":{\"outlinewidth\":0,\"ticks\":\"\"}}}],\"scatter3d\":[{\"type\":\"scatter3d\",\"line\":{\"colorbar\":{\"outlinewidth\":0,\"ticks\":\"\"}},\"marker\":{\"colorbar\":{\"outlinewidth\":0,\"ticks\":\"\"}}}],\"scattermapbox\":[{\"type\":\"scattermapbox\",\"marker\":{\"colorbar\":{\"outlinewidth\":0,\"ticks\":\"\"}}}],\"scatterternary\":[{\"type\":\"scatterternary\",\"marker\":{\"colorbar\":{\"outlinewidth\":0,\"ticks\":\"\"}}}],\"scattercarpet\":[{\"type\":\"scattercarpet\",\"marker\":{\"colorbar\":{\"outlinewidth\":0,\"ticks\":\"\"}}}],\"carpet\":[{\"aaxis\":{\"endlinecolor\":\"#2a3f5f\",\"gridcolor\":\"white\",\"linecolor\":\"white\",\"minorgridcolor\":\"white\",\"startlinecolor\":\"#2a3f5f\"},\"baxis\":{\"endlinecolor\":\"#2a3f5f\",\"gridcolor\":\"white\",\"linecolor\":\"white\",\"minorgridcolor\":\"white\",\"startlinecolor\":\"#2a3f5f\"},\"type\":\"carpet\"}],\"table\":[{\"cells\":{\"fill\":{\"color\":\"#EBF0F8\"},\"line\":{\"color\":\"white\"}},\"header\":{\"fill\":{\"color\":\"#C8D4E3\"},\"line\":{\"color\":\"white\"}},\"type\":\"table\"}],\"barpolar\":[{\"marker\":{\"line\":{\"color\":\"#E5ECF6\",\"width\":0.5},\"pattern\":{\"fillmode\":\"overlay\",\"size\":10,\"solidity\":0.2}},\"type\":\"barpolar\"}],\"pie\":[{\"automargin\":true,\"type\":\"pie\"}]},\"layout\":{\"autotypenumbers\":\"strict\",\"colorway\":[\"#636efa\",\"#EF553B\",\"#00cc96\",\"#ab63fa\",\"#FFA15A\",\"#19d3f3\",\"#FF6692\",\"#B6E880\",\"#FF97FF\",\"#FECB52\"],\"font\":{\"color\":\"#2a3f5f\"},\"hovermode\":\"closest\",\"hoverlabel\":{\"align\":\"left\"},\"paper_bgcolor\":\"white\",\"plot_bgcolor\":\"#E5ECF6\",\"polar\":{\"bgcolor\":\"#E5ECF6\",\"angularaxis\":{\"gridcolor\":\"white\",\"linecolor\":\"white\",\"ticks\":\"\"},\"radialaxis\":{\"gridcolor\":\"white\",\"linecolor\":\"white\",\"ticks\":\"\"}},\"ternary\":{\"bgcolor\":\"#E5ECF6\",\"aaxis\":{\"gridcolor\":\"white\",\"linecolor\":\"white\",\"ticks\":\"\"},\"baxis\":{\"gridcolor\":\"white\",\"linecolor\":\"white\",\"ticks\":\"\"},\"caxis\":{\"gridcolor\":\"white\",\"linecolor\":\"white\",\"ticks\":\"\"}},\"coloraxis\":{\"colorbar\":{\"outlinewidth\":0,\"ticks\":\"\"}},\"colorscale\":{\"sequential\":[[0.0,\"#0d0887\"],[0.1111111111111111,\"#46039f\"],[0.2222222222222222,\"#7201a8\"],[0.3333333333333333,\"#9c179e\"],[0.4444444444444444,\"#bd3786\"],[0.5555555555555556,\"#d8576b\"],[0.6666666666666666,\"#ed7953\"],[0.7777777777777778,\"#fb9f3a\"],[0.8888888888888888,\"#fdca26\"],[1.0,\"#f0f921\"]],\"sequentialminus\":[[0.0,\"#0d0887\"],[0.1111111111111111,\"#46039f\"],[0.2222222222222222,\"#7201a8\"],[0.3333333333333333,\"#9c179e\"],[0.4444444444444444,\"#bd3786\"],[0.5555555555555556,\"#d8576b\"],[0.6666666666666666,\"#ed7953\"],[0.7777777777777778,\"#fb9f3a\"],[0.8888888888888888,\"#fdca26\"],[1.0,\"#f0f921\"]],\"diverging\":[[0,\"#8e0152\"],[0.1,\"#c51b7d\"],[0.2,\"#de77ae\"],[0.3,\"#f1b6da\"],[0.4,\"#fde0ef\"],[0.5,\"#f7f7f7\"],[0.6,\"#e6f5d0\"],[0.7,\"#b8e186\"],[0.8,\"#7fbc41\"],[0.9,\"#4d9221\"],[1,\"#276419\"]]},\"xaxis\":{\"gridcolor\":\"white\",\"linecolor\":\"white\",\"ticks\":\"\",\"title\":{\"standoff\":15},\"zerolinecolor\":\"white\",\"automargin\":true,\"zerolinewidth\":2},\"yaxis\":{\"gridcolor\":\"white\",\"linecolor\":\"white\",\"ticks\":\"\",\"title\":{\"standoff\":15},\"zerolinecolor\":\"white\",\"automargin\":true,\"zerolinewidth\":2},\"scene\":{\"xaxis\":{\"backgroundcolor\":\"#E5ECF6\",\"gridcolor\":\"white\",\"linecolor\":\"white\",\"showbackground\":true,\"ticks\":\"\",\"zerolinecolor\":\"white\",\"gridwidth\":2},\"yaxis\":{\"backgroundcolor\":\"#E5ECF6\",\"gridcolor\":\"white\",\"linecolor\":\"white\",\"showbackground\":true,\"ticks\":\"\",\"zerolinecolor\":\"white\",\"gridwidth\":2},\"zaxis\":{\"backgroundcolor\":\"#E5ECF6\",\"gridcolor\":\"white\",\"linecolor\":\"white\",\"showbackground\":true,\"ticks\":\"\",\"zerolinecolor\":\"white\",\"gridwidth\":2}},\"shapedefaults\":{\"line\":{\"color\":\"#2a3f5f\"}},\"annotationdefaults\":{\"arrowcolor\":\"#2a3f5f\",\"arrowhead\":0,\"arrowwidth\":1},\"geo\":{\"bgcolor\":\"white\",\"landcolor\":\"#E5ECF6\",\"subunitcolor\":\"white\",\"showland\":true,\"showlakes\":true,\"lakecolor\":\"white\"},\"title\":{\"x\":0.05},\"mapbox\":{\"style\":\"light\"}}},\"xaxis\":{\"anchor\":\"y\",\"domain\":[0.0,1.0],\"title\":{\"text\":\"avg_price_1gb_2021\"}},\"yaxis\":{\"anchor\":\"x\",\"domain\":[0.0,0.8316],\"title\":{\"text\":\"count\"}},\"xaxis2\":{\"anchor\":\"y2\",\"domain\":[0.0,1.0],\"matches\":\"x\",\"showticklabels\":false,\"showgrid\":true},\"yaxis2\":{\"anchor\":\"x2\",\"domain\":[0.8416,1.0],\"matches\":\"y2\",\"showticklabels\":false,\"showline\":false,\"ticks\":\"\",\"showgrid\":false},\"legend\":{\"tracegroupgap\":0},\"title\":{\"text\":\"Distribution_avg_price_1gb_2021\"},\"barmode\":\"relative\"},                        {\"responsive\": true}                    ).then(function(){\n                            \nvar gd = document.getElementById('ea825f0c-bb58-42c7-b60c-c510b95d6c0d');\nvar x = new MutationObserver(function (mutations, observer) {{\n        var display = window.getComputedStyle(gd).display;\n        if (!display || display === 'none') {{\n            console.log([gd, 'removed!']);\n            Plotly.purge(gd);\n            observer.disconnect();\n        }}\n}});\n\n// Listen for the removal of the full notebook cells\nvar notebookContainer = gd.closest('#notebook-container');\nif (notebookContainer) {{\n    x.observe(notebookContainer, {childList: true});\n}}\n\n// Listen for the clearing of the current output cell\nvar outputEl = gd.closest('.output');\nif (outputEl) {{\n    x.observe(outputEl, {childList: true});\n}}\n\n                        })                };                            </script>        </div>\n</body>\n</html>"
     },
     "metadata": {},
     "output_type": "display_data"
    }
   ],
   "execution_count": null
  },
  {
   "cell_type": "code",
   "metadata": {
    "cell_id": "e67cc0c3f200484686c0748b22200333",
    "tags": [],
    "deepnote_to_be_reexecuted": false,
    "source_hash": "b29aba90",
    "execution_start": 1657660345858,
    "execution_millis": 582,
    "deepnote_cell_type": "code",
    "deepnote_cell_height": 642,
    "deepnote_output_heights": [
     527
    ]
   },
   "source": "fig = px.histogram(prices, x='avg_price_1gb_2020', title='Distribution_avg_price_1gb_2020', marginal='box')\nfig.show() ",
   "outputs": [
    {
     "data": {
      "text/html": "<html>\n<head><meta charset=\"utf-8\" /></head>\n<body>\n    <div>            <script src=\"https://cdnjs.cloudflare.com/ajax/libs/mathjax/2.7.5/MathJax.js?config=TeX-AMS-MML_SVG\"></script><script type=\"text/javascript\">if (window.MathJax && window.MathJax.Hub && && window.MathJax.Hub.Config) {window.MathJax.Hub.Config({SVG: {font: \"STIX-Web\"}});}</script>                <script type=\"text/javascript\">window.PlotlyConfig = {MathJaxConfig: 'local'};</script>\n        <script src=\"https://cdn.plot.ly/plotly-2.12.1.min.js\"></script>                <div id=\"752e6735-3421-43b1-8004-75124d1d64ce\" class=\"plotly-graph-div\" style=\"height:525px; width:100%;\"></div>            <script type=\"text/javascript\">                                    window.PLOTLYENV=window.PLOTLYENV || {};                                    if (document.getElementById(\"752e6735-3421-43b1-8004-75124d1d64ce\")) {                    Plotly.newPlot(                        \"752e6735-3421-43b1-8004-75124d1d64ce\",                        [{\"alignmentgroup\":\"True\",\"bingroup\":\"x\",\"hovertemplate\":\"avg_price_1gb_2020=%{x}<br>count=%{y}<extra></extra>\",\"legendgroup\":\"\",\"marker\":{\"color\":\"#636efa\",\"pattern\":{\"shape\":\"\"}},\"name\":\"\",\"offsetgroup\":\"\",\"orientation\":\"v\",\"showlegend\":false,\"x\":[0.9,0.27,3.57,1.73,0.68,0.91,2.82,0.99,0.78,1.87,1.21,2.99,2.36,6.86,1.31,5.15,9.89,30.09,1.85,0.49,3.27,6.19,0.82,2.25,2.25,1.32,1.56,0.26,2.47,4.87,5.93,3.71,0.51,1.65,2.51,0.87,1.36,2.01,2.22,10.18,1.49,1.25,7.91,1.18,1.66,1.66,6.06,1.71,3.5,3.28,65.83,3.62,1.16,1.6,1.49,6.93,2.78,1.21,3.67,2.87,37.92,2.25,8.0,2.48,1.88,1.89,3.78,0.56,3.79,2.92,25.52,4.83,3.82,4.55,2.06,3.67,1.79,6.66,3.95,3.66,3.05,5.62,2.8,1.28,1.88,5.02,4.69,13.41,7.95,8.34,4.48,2.91,6.56,2.06,2.21,14.6,3.16,5.63,3.33,6.42,2.69,17.1,4.84,6.08,4.53,1.94,4.97,13.1,18.79,2.0,11.28,2.83,4.26,12.97,5.99,8.51,5.25,2.73,12.14,11.51,7.15,4.0,4.89,5.04,7.4,3.05,3.58,12.0,11.56,6.18,3.75,4.1,4.84,9.78,7.19,7.77,2.43,4.64,3.1,12.82,5.28,3.22,4.57,4.39,13.95,7.99,4.62,3.42,12.57,5.27,5.79,9.22,12.37,8.34,6.96,10.4,8.46,7.12,18.12,5.56,7.38,20.99,15.05,14.9,13.98,14.12,16.79,11.12,14.61,4.92,21.64,4.96,11.71,12.7,5.56,4.69,10.26,11.76,15.12,9.21,4.25,5.84,3.39,7.24,20.22,12.3,3.12,9.49,12.02,13.21,5.33,6.89,4.94,null,12.42,16.91,7.21,15.82,9.79,4.14,9.2,12.58,null,9.31,10.23,28.13,8.37,12.87,23.09,32.71,4.91,19.55,20.25,6.03,18.55,11.05,9.57,26.79,null,15.73,37.74,29.96,19.81,11.02,23.33,3.59,5.33,6.04,55.47,47.39],\"xaxis\":\"x\",\"yaxis\":\"y\",\"type\":\"histogram\"},{\"alignmentgroup\":\"True\",\"hovertemplate\":\"avg_price_1gb_2020=%{x}<extra></extra>\",\"legendgroup\":\"\",\"marker\":{\"color\":\"#636efa\"},\"name\":\"\",\"notched\":true,\"offsetgroup\":\"\",\"showlegend\":false,\"x\":[0.9,0.27,3.57,1.73,0.68,0.91,2.82,0.99,0.78,1.87,1.21,2.99,2.36,6.86,1.31,5.15,9.89,30.09,1.85,0.49,3.27,6.19,0.82,2.25,2.25,1.32,1.56,0.26,2.47,4.87,5.93,3.71,0.51,1.65,2.51,0.87,1.36,2.01,2.22,10.18,1.49,1.25,7.91,1.18,1.66,1.66,6.06,1.71,3.5,3.28,65.83,3.62,1.16,1.6,1.49,6.93,2.78,1.21,3.67,2.87,37.92,2.25,8.0,2.48,1.88,1.89,3.78,0.56,3.79,2.92,25.52,4.83,3.82,4.55,2.06,3.67,1.79,6.66,3.95,3.66,3.05,5.62,2.8,1.28,1.88,5.02,4.69,13.41,7.95,8.34,4.48,2.91,6.56,2.06,2.21,14.6,3.16,5.63,3.33,6.42,2.69,17.1,4.84,6.08,4.53,1.94,4.97,13.1,18.79,2.0,11.28,2.83,4.26,12.97,5.99,8.51,5.25,2.73,12.14,11.51,7.15,4.0,4.89,5.04,7.4,3.05,3.58,12.0,11.56,6.18,3.75,4.1,4.84,9.78,7.19,7.77,2.43,4.64,3.1,12.82,5.28,3.22,4.57,4.39,13.95,7.99,4.62,3.42,12.57,5.27,5.79,9.22,12.37,8.34,6.96,10.4,8.46,7.12,18.12,5.56,7.38,20.99,15.05,14.9,13.98,14.12,16.79,11.12,14.61,4.92,21.64,4.96,11.71,12.7,5.56,4.69,10.26,11.76,15.12,9.21,4.25,5.84,3.39,7.24,20.22,12.3,3.12,9.49,12.02,13.21,5.33,6.89,4.94,null,12.42,16.91,7.21,15.82,9.79,4.14,9.2,12.58,null,9.31,10.23,28.13,8.37,12.87,23.09,32.71,4.91,19.55,20.25,6.03,18.55,11.05,9.57,26.79,null,15.73,37.74,29.96,19.81,11.02,23.33,3.59,5.33,6.04,55.47,47.39],\"xaxis\":\"x2\",\"yaxis\":\"y2\",\"type\":\"box\"}],                        {\"template\":{\"data\":{\"histogram2dcontour\":[{\"type\":\"histogram2dcontour\",\"colorbar\":{\"outlinewidth\":0,\"ticks\":\"\"},\"colorscale\":[[0.0,\"#0d0887\"],[0.1111111111111111,\"#46039f\"],[0.2222222222222222,\"#7201a8\"],[0.3333333333333333,\"#9c179e\"],[0.4444444444444444,\"#bd3786\"],[0.5555555555555556,\"#d8576b\"],[0.6666666666666666,\"#ed7953\"],[0.7777777777777778,\"#fb9f3a\"],[0.8888888888888888,\"#fdca26\"],[1.0,\"#f0f921\"]]}],\"choropleth\":[{\"type\":\"choropleth\",\"colorbar\":{\"outlinewidth\":0,\"ticks\":\"\"}}],\"histogram2d\":[{\"type\":\"histogram2d\",\"colorbar\":{\"outlinewidth\":0,\"ticks\":\"\"},\"colorscale\":[[0.0,\"#0d0887\"],[0.1111111111111111,\"#46039f\"],[0.2222222222222222,\"#7201a8\"],[0.3333333333333333,\"#9c179e\"],[0.4444444444444444,\"#bd3786\"],[0.5555555555555556,\"#d8576b\"],[0.6666666666666666,\"#ed7953\"],[0.7777777777777778,\"#fb9f3a\"],[0.8888888888888888,\"#fdca26\"],[1.0,\"#f0f921\"]]}],\"heatmap\":[{\"type\":\"heatmap\",\"colorbar\":{\"outlinewidth\":0,\"ticks\":\"\"},\"colorscale\":[[0.0,\"#0d0887\"],[0.1111111111111111,\"#46039f\"],[0.2222222222222222,\"#7201a8\"],[0.3333333333333333,\"#9c179e\"],[0.4444444444444444,\"#bd3786\"],[0.5555555555555556,\"#d8576b\"],[0.6666666666666666,\"#ed7953\"],[0.7777777777777778,\"#fb9f3a\"],[0.8888888888888888,\"#fdca26\"],[1.0,\"#f0f921\"]]}],\"heatmapgl\":[{\"type\":\"heatmapgl\",\"colorbar\":{\"outlinewidth\":0,\"ticks\":\"\"},\"colorscale\":[[0.0,\"#0d0887\"],[0.1111111111111111,\"#46039f\"],[0.2222222222222222,\"#7201a8\"],[0.3333333333333333,\"#9c179e\"],[0.4444444444444444,\"#bd3786\"],[0.5555555555555556,\"#d8576b\"],[0.6666666666666666,\"#ed7953\"],[0.7777777777777778,\"#fb9f3a\"],[0.8888888888888888,\"#fdca26\"],[1.0,\"#f0f921\"]]}],\"contourcarpet\":[{\"type\":\"contourcarpet\",\"colorbar\":{\"outlinewidth\":0,\"ticks\":\"\"}}],\"contour\":[{\"type\":\"contour\",\"colorbar\":{\"outlinewidth\":0,\"ticks\":\"\"},\"colorscale\":[[0.0,\"#0d0887\"],[0.1111111111111111,\"#46039f\"],[0.2222222222222222,\"#7201a8\"],[0.3333333333333333,\"#9c179e\"],[0.4444444444444444,\"#bd3786\"],[0.5555555555555556,\"#d8576b\"],[0.6666666666666666,\"#ed7953\"],[0.7777777777777778,\"#fb9f3a\"],[0.8888888888888888,\"#fdca26\"],[1.0,\"#f0f921\"]]}],\"surface\":[{\"type\":\"surface\",\"colorbar\":{\"outlinewidth\":0,\"ticks\":\"\"},\"colorscale\":[[0.0,\"#0d0887\"],[0.1111111111111111,\"#46039f\"],[0.2222222222222222,\"#7201a8\"],[0.3333333333333333,\"#9c179e\"],[0.4444444444444444,\"#bd3786\"],[0.5555555555555556,\"#d8576b\"],[0.6666666666666666,\"#ed7953\"],[0.7777777777777778,\"#fb9f3a\"],[0.8888888888888888,\"#fdca26\"],[1.0,\"#f0f921\"]]}],\"mesh3d\":[{\"type\":\"mesh3d\",\"colorbar\":{\"outlinewidth\":0,\"ticks\":\"\"}}],\"scatter\":[{\"fillpattern\":{\"fillmode\":\"overlay\",\"size\":10,\"solidity\":0.2},\"type\":\"scatter\"}],\"parcoords\":[{\"type\":\"parcoords\",\"line\":{\"colorbar\":{\"outlinewidth\":0,\"ticks\":\"\"}}}],\"scatterpolargl\":[{\"type\":\"scatterpolargl\",\"marker\":{\"colorbar\":{\"outlinewidth\":0,\"ticks\":\"\"}}}],\"bar\":[{\"error_x\":{\"color\":\"#2a3f5f\"},\"error_y\":{\"color\":\"#2a3f5f\"},\"marker\":{\"line\":{\"color\":\"#E5ECF6\",\"width\":0.5},\"pattern\":{\"fillmode\":\"overlay\",\"size\":10,\"solidity\":0.2}},\"type\":\"bar\"}],\"scattergeo\":[{\"type\":\"scattergeo\",\"marker\":{\"colorbar\":{\"outlinewidth\":0,\"ticks\":\"\"}}}],\"scatterpolar\":[{\"type\":\"scatterpolar\",\"marker\":{\"colorbar\":{\"outlinewidth\":0,\"ticks\":\"\"}}}],\"histogram\":[{\"marker\":{\"pattern\":{\"fillmode\":\"overlay\",\"size\":10,\"solidity\":0.2}},\"type\":\"histogram\"}],\"scattergl\":[{\"type\":\"scattergl\",\"marker\":{\"colorbar\":{\"outlinewidth\":0,\"ticks\":\"\"}}}],\"scatter3d\":[{\"type\":\"scatter3d\",\"line\":{\"colorbar\":{\"outlinewidth\":0,\"ticks\":\"\"}},\"marker\":{\"colorbar\":{\"outlinewidth\":0,\"ticks\":\"\"}}}],\"scattermapbox\":[{\"type\":\"scattermapbox\",\"marker\":{\"colorbar\":{\"outlinewidth\":0,\"ticks\":\"\"}}}],\"scatterternary\":[{\"type\":\"scatterternary\",\"marker\":{\"colorbar\":{\"outlinewidth\":0,\"ticks\":\"\"}}}],\"scattercarpet\":[{\"type\":\"scattercarpet\",\"marker\":{\"colorbar\":{\"outlinewidth\":0,\"ticks\":\"\"}}}],\"carpet\":[{\"aaxis\":{\"endlinecolor\":\"#2a3f5f\",\"gridcolor\":\"white\",\"linecolor\":\"white\",\"minorgridcolor\":\"white\",\"startlinecolor\":\"#2a3f5f\"},\"baxis\":{\"endlinecolor\":\"#2a3f5f\",\"gridcolor\":\"white\",\"linecolor\":\"white\",\"minorgridcolor\":\"white\",\"startlinecolor\":\"#2a3f5f\"},\"type\":\"carpet\"}],\"table\":[{\"cells\":{\"fill\":{\"color\":\"#EBF0F8\"},\"line\":{\"color\":\"white\"}},\"header\":{\"fill\":{\"color\":\"#C8D4E3\"},\"line\":{\"color\":\"white\"}},\"type\":\"table\"}],\"barpolar\":[{\"marker\":{\"line\":{\"color\":\"#E5ECF6\",\"width\":0.5},\"pattern\":{\"fillmode\":\"overlay\",\"size\":10,\"solidity\":0.2}},\"type\":\"barpolar\"}],\"pie\":[{\"automargin\":true,\"type\":\"pie\"}]},\"layout\":{\"autotypenumbers\":\"strict\",\"colorway\":[\"#636efa\",\"#EF553B\",\"#00cc96\",\"#ab63fa\",\"#FFA15A\",\"#19d3f3\",\"#FF6692\",\"#B6E880\",\"#FF97FF\",\"#FECB52\"],\"font\":{\"color\":\"#2a3f5f\"},\"hovermode\":\"closest\",\"hoverlabel\":{\"align\":\"left\"},\"paper_bgcolor\":\"white\",\"plot_bgcolor\":\"#E5ECF6\",\"polar\":{\"bgcolor\":\"#E5ECF6\",\"angularaxis\":{\"gridcolor\":\"white\",\"linecolor\":\"white\",\"ticks\":\"\"},\"radialaxis\":{\"gridcolor\":\"white\",\"linecolor\":\"white\",\"ticks\":\"\"}},\"ternary\":{\"bgcolor\":\"#E5ECF6\",\"aaxis\":{\"gridcolor\":\"white\",\"linecolor\":\"white\",\"ticks\":\"\"},\"baxis\":{\"gridcolor\":\"white\",\"linecolor\":\"white\",\"ticks\":\"\"},\"caxis\":{\"gridcolor\":\"white\",\"linecolor\":\"white\",\"ticks\":\"\"}},\"coloraxis\":{\"colorbar\":{\"outlinewidth\":0,\"ticks\":\"\"}},\"colorscale\":{\"sequential\":[[0.0,\"#0d0887\"],[0.1111111111111111,\"#46039f\"],[0.2222222222222222,\"#7201a8\"],[0.3333333333333333,\"#9c179e\"],[0.4444444444444444,\"#bd3786\"],[0.5555555555555556,\"#d8576b\"],[0.6666666666666666,\"#ed7953\"],[0.7777777777777778,\"#fb9f3a\"],[0.8888888888888888,\"#fdca26\"],[1.0,\"#f0f921\"]],\"sequentialminus\":[[0.0,\"#0d0887\"],[0.1111111111111111,\"#46039f\"],[0.2222222222222222,\"#7201a8\"],[0.3333333333333333,\"#9c179e\"],[0.4444444444444444,\"#bd3786\"],[0.5555555555555556,\"#d8576b\"],[0.6666666666666666,\"#ed7953\"],[0.7777777777777778,\"#fb9f3a\"],[0.8888888888888888,\"#fdca26\"],[1.0,\"#f0f921\"]],\"diverging\":[[0,\"#8e0152\"],[0.1,\"#c51b7d\"],[0.2,\"#de77ae\"],[0.3,\"#f1b6da\"],[0.4,\"#fde0ef\"],[0.5,\"#f7f7f7\"],[0.6,\"#e6f5d0\"],[0.7,\"#b8e186\"],[0.8,\"#7fbc41\"],[0.9,\"#4d9221\"],[1,\"#276419\"]]},\"xaxis\":{\"gridcolor\":\"white\",\"linecolor\":\"white\",\"ticks\":\"\",\"title\":{\"standoff\":15},\"zerolinecolor\":\"white\",\"automargin\":true,\"zerolinewidth\":2},\"yaxis\":{\"gridcolor\":\"white\",\"linecolor\":\"white\",\"ticks\":\"\",\"title\":{\"standoff\":15},\"zerolinecolor\":\"white\",\"automargin\":true,\"zerolinewidth\":2},\"scene\":{\"xaxis\":{\"backgroundcolor\":\"#E5ECF6\",\"gridcolor\":\"white\",\"linecolor\":\"white\",\"showbackground\":true,\"ticks\":\"\",\"zerolinecolor\":\"white\",\"gridwidth\":2},\"yaxis\":{\"backgroundcolor\":\"#E5ECF6\",\"gridcolor\":\"white\",\"linecolor\":\"white\",\"showbackground\":true,\"ticks\":\"\",\"zerolinecolor\":\"white\",\"gridwidth\":2},\"zaxis\":{\"backgroundcolor\":\"#E5ECF6\",\"gridcolor\":\"white\",\"linecolor\":\"white\",\"showbackground\":true,\"ticks\":\"\",\"zerolinecolor\":\"white\",\"gridwidth\":2}},\"shapedefaults\":{\"line\":{\"color\":\"#2a3f5f\"}},\"annotationdefaults\":{\"arrowcolor\":\"#2a3f5f\",\"arrowhead\":0,\"arrowwidth\":1},\"geo\":{\"bgcolor\":\"white\",\"landcolor\":\"#E5ECF6\",\"subunitcolor\":\"white\",\"showland\":true,\"showlakes\":true,\"lakecolor\":\"white\"},\"title\":{\"x\":0.05},\"mapbox\":{\"style\":\"light\"}}},\"xaxis\":{\"anchor\":\"y\",\"domain\":[0.0,1.0],\"title\":{\"text\":\"avg_price_1gb_2020\"}},\"yaxis\":{\"anchor\":\"x\",\"domain\":[0.0,0.8316],\"title\":{\"text\":\"count\"}},\"xaxis2\":{\"anchor\":\"y2\",\"domain\":[0.0,1.0],\"matches\":\"x\",\"showticklabels\":false,\"showgrid\":true},\"yaxis2\":{\"anchor\":\"x2\",\"domain\":[0.8416,1.0],\"matches\":\"y2\",\"showticklabels\":false,\"showline\":false,\"ticks\":\"\",\"showgrid\":false},\"legend\":{\"tracegroupgap\":0},\"title\":{\"text\":\"Distribution_avg_price_1gb_2020\"},\"barmode\":\"relative\"},                        {\"responsive\": true}                    ).then(function(){\n                            \nvar gd = document.getElementById('752e6735-3421-43b1-8004-75124d1d64ce');\nvar x = new MutationObserver(function (mutations, observer) {{\n        var display = window.getComputedStyle(gd).display;\n        if (!display || display === 'none') {{\n            console.log([gd, 'removed!']);\n            Plotly.purge(gd);\n            observer.disconnect();\n        }}\n}});\n\n// Listen for the removal of the full notebook cells\nvar notebookContainer = gd.closest('#notebook-container');\nif (notebookContainer) {{\n    x.observe(notebookContainer, {childList: true});\n}}\n\n// Listen for the clearing of the current output cell\nvar outputEl = gd.closest('.output');\nif (outputEl) {{\n    x.observe(outputEl, {childList: true});\n}}\n\n                        })                };                            </script>        </div>\n</body>\n</html>"
     },
     "metadata": {},
     "output_type": "display_data"
    }
   ],
   "execution_count": null
  },
  {
   "cell_type": "markdown",
   "source": "#### As expected, these four distributions are heavily right skewed. Let's fix this to get good insights once we visualize the data.",
   "metadata": {
    "cell_id": "2f68805929764e2fbac55b4704d8b935",
    "tags": [],
    "deepnote_cell_type": "markdown",
    "deepnote_cell_height": 148
   },
   "outputs": [],
   "execution_count": null
  },
  {
   "cell_type": "code",
   "metadata": {
    "cell_id": "e5814e31e12b4c33a2c3d8f454f91578",
    "tags": [],
    "deepnote_to_be_reexecuted": false,
    "source_hash": "3c07af22",
    "execution_start": 1657660345903,
    "execution_millis": 538,
    "owner_user_id": "a75a09da-af1d-43d3-afa9-7caf9a44a34e",
    "deepnote_cell_type": "code",
    "deepnote_cell_height": 600
   },
   "source": "users",
   "outputs": [
    {
     "output_type": "execute_result",
     "execution_count": 22,
     "data": {
      "application/vnd.deepnote.dataframe.v3+json": {
       "column_count": 5,
       "row_count": 214,
       "columns": [
        {
         "name": "Country or area",
         "dtype": "object",
         "stats": {
          "unique_count": 214,
          "nan_count": 0,
          "categories": [
           {
            "name": "China",
            "count": 1
           },
           {
            "name": "India",
            "count": 1
           },
           {
            "name": "212 others",
            "count": 212
           }
          ]
         }
        },
        {
         "name": "Subregion",
         "dtype": "object",
         "stats": {
          "unique_count": 22,
          "nan_count": 0,
          "categories": [
           {
            "name": "Caribbean",
            "count": 20
           },
           {
            "name": "Western Asia",
            "count": 18
           },
           {
            "name": "20 others",
            "count": 176
           }
          ]
         }
        },
        {
         "name": "Region",
         "dtype": "object",
         "stats": {
          "unique_count": 5,
          "nan_count": 0,
          "categories": [
           {
            "name": "Africa",
            "count": 55
           },
           {
            "name": "Asia",
            "count": 49
           },
           {
            "name": "3 others",
            "count": 110
           }
          ]
         }
        },
        {
         "name": "Internet users",
         "dtype": "object",
         "stats": {
          "unique_count": 214,
          "nan_count": 0,
          "categories": [
           {
            "name": "1,010,740,000",
            "count": 1
           },
           {
            "name": "833,710,000",
            "count": 1
           },
           {
            "name": "212 others",
            "count": 212
           }
          ]
         }
        },
        {
         "name": "Population",
         "dtype": "object",
         "stats": {
          "unique_count": 212,
          "nan_count": 2,
          "categories": [
           {
            "name": "1,427,647,786",
            "count": 1
           },
           {
            "name": "211 others",
            "count": 211
           },
           {
            "name": "Missing",
            "count": 2
           }
          ]
         }
        },
        {
         "name": "_deepnote_index_column",
         "dtype": "int64"
        }
       ],
       "rows": [
        {
         "Country or area": "China",
         "Subregion": "Eastern Asia",
         "Region": "Asia",
         "Internet users": "1,010,740,000",
         "Population": "1,427,647,786",
         "_deepnote_index_column": 0
        },
        {
         "Country or area": "India",
         "Subregion": "Southern Asia",
         "Region": "Asia",
         "Internet users": "833,710,000",
         "Population": "1,352,642,280",
         "_deepnote_index_column": 1
        },
        {
         "Country or area": "United States",
         "Subregion": "Northern America",
         "Region": "Americas",
         "Internet users": "312,320,000",
         "Population": "327,096,265",
         "_deepnote_index_column": 2
        },
        {
         "Country or area": "Indonesia",
         "Subregion": "South-eastern Asia",
         "Region": "Asia",
         "Internet users": "196,000,000",
         "Population": "267,670,543",
         "_deepnote_index_column": 3
        },
        {
         "Country or area": "Brazil",
         "Subregion": "South America",
         "Region": "Americas",
         "Internet users": "160,010,801",
         "Population": "209,469,323",
         "_deepnote_index_column": 4
        },
        {
         "Country or area": "Nigeria",
         "Subregion": "Western Africa",
         "Region": "Africa",
         "Internet users": "136,203,231",
         "Population": "195,874,685",
         "_deepnote_index_column": 5
        },
        {
         "Country or area": "Bangladesh",
         "Subregion": "Southern Asia",
         "Region": "Asia",
         "Internet users": "129,180,000",
         "Population": "166,303,498",
         "_deepnote_index_column": 6
        },
        {
         "Country or area": "Russia",
         "Subregion": "Eastern Europe",
         "Region": "Europe",
         "Internet users": "124,000,000",
         "Population": "145,734,038",
         "_deepnote_index_column": 7
        },
        {
         "Country or area": "Pakistan",
         "Subregion": "Southern Asia",
         "Region": "Asia",
         "Internet users": "118,800,000",
         "Population": "213,756,286",
         "_deepnote_index_column": 8
        },
        {
         "Country or area": "Japan",
         "Subregion": "Eastern Asia",
         "Region": "Asia",
         "Internet users": "117,400,000",
         "Population": "127,202,192",
         "_deepnote_index_column": 9
        }
       ]
      },
      "text/plain": "                                  Country or area           Subregion  \\\n0                                           China        Eastern Asia   \n1                                           India       Southern Asia   \n2                                   United States    Northern America   \n3                                       Indonesia  South-eastern Asia   \n4                                          Brazil       South America   \n..                                            ...                 ...   \n209  Saint Helena, Ascension and Tristan da Cunha      Western Africa   \n210                              Falkland Islands       South America   \n211                                    Montserrat           Caribbean   \n212                             Wallis and Futuna           Polynesia   \n213                                          Niue           Polynesia   \n\n       Region Internet users     Population  \n0        Asia  1,010,740,000  1,427,647,786  \n1        Asia    833,710,000  1,352,642,280  \n2    Americas    312,320,000    327,096,265  \n3        Asia    196,000,000    267,670,543  \n4    Americas    160,010,801    209,469,323  \n..        ...            ...            ...  \n209    Africa          2,906          6,035  \n210  Americas          2,881          3,234  \n211  Americas          2,833          4,993  \n212   Oceania          1,383         11,661  \n213   Oceania          1,034          1,620  \n\n[214 rows x 5 columns]",
      "text/html": "<div>\n<style scoped>\n    .dataframe tbody tr th:only-of-type {\n        vertical-align: middle;\n    }\n\n    .dataframe tbody tr th {\n        vertical-align: top;\n    }\n\n    .dataframe thead th {\n        text-align: right;\n    }\n</style>\n<table border=\"1\" class=\"dataframe\">\n  <thead>\n    <tr style=\"text-align: right;\">\n      <th></th>\n      <th>Country or area</th>\n      <th>Subregion</th>\n      <th>Region</th>\n      <th>Internet users</th>\n      <th>Population</th>\n    </tr>\n  </thead>\n  <tbody>\n    <tr>\n      <th>0</th>\n      <td>China</td>\n      <td>Eastern Asia</td>\n      <td>Asia</td>\n      <td>1,010,740,000</td>\n      <td>1,427,647,786</td>\n    </tr>\n    <tr>\n      <th>1</th>\n      <td>India</td>\n      <td>Southern Asia</td>\n      <td>Asia</td>\n      <td>833,710,000</td>\n      <td>1,352,642,280</td>\n    </tr>\n    <tr>\n      <th>2</th>\n      <td>United States</td>\n      <td>Northern America</td>\n      <td>Americas</td>\n      <td>312,320,000</td>\n      <td>327,096,265</td>\n    </tr>\n    <tr>\n      <th>3</th>\n      <td>Indonesia</td>\n      <td>South-eastern Asia</td>\n      <td>Asia</td>\n      <td>196,000,000</td>\n      <td>267,670,543</td>\n    </tr>\n    <tr>\n      <th>4</th>\n      <td>Brazil</td>\n      <td>South America</td>\n      <td>Americas</td>\n      <td>160,010,801</td>\n      <td>209,469,323</td>\n    </tr>\n    <tr>\n      <th>...</th>\n      <td>...</td>\n      <td>...</td>\n      <td>...</td>\n      <td>...</td>\n      <td>...</td>\n    </tr>\n    <tr>\n      <th>209</th>\n      <td>Saint Helena, Ascension and Tristan da Cunha</td>\n      <td>Western Africa</td>\n      <td>Africa</td>\n      <td>2,906</td>\n      <td>6,035</td>\n    </tr>\n    <tr>\n      <th>210</th>\n      <td>Falkland Islands</td>\n      <td>South America</td>\n      <td>Americas</td>\n      <td>2,881</td>\n      <td>3,234</td>\n    </tr>\n    <tr>\n      <th>211</th>\n      <td>Montserrat</td>\n      <td>Caribbean</td>\n      <td>Americas</td>\n      <td>2,833</td>\n      <td>4,993</td>\n    </tr>\n    <tr>\n      <th>212</th>\n      <td>Wallis and Futuna</td>\n      <td>Polynesia</td>\n      <td>Oceania</td>\n      <td>1,383</td>\n      <td>11,661</td>\n    </tr>\n    <tr>\n      <th>213</th>\n      <td>Niue</td>\n      <td>Polynesia</td>\n      <td>Oceania</td>\n      <td>1,034</td>\n      <td>1,620</td>\n    </tr>\n  </tbody>\n</table>\n<p>214 rows × 5 columns</p>\n</div>"
     },
     "metadata": {}
    }
   ],
   "execution_count": null
  },
  {
   "cell_type": "code",
   "metadata": {
    "cell_id": "5dfff4d13c364664b2002195df3b13ca",
    "tags": [],
    "deepnote_to_be_reexecuted": false,
    "source_hash": "362f96b4",
    "execution_start": 1657660345951,
    "execution_millis": 1,
    "deepnote_cell_type": "code",
    "deepnote_cell_height": 81
   },
   "source": "prices_speed_users = pd.merge(prices,speed,left_on='name',right_on='Country',how='inner')",
   "outputs": [],
   "execution_count": null
  },
  {
   "cell_type": "code",
   "metadata": {
    "cell_id": "a5971b8eb5a54afbb940f8d5529b0554",
    "tags": [],
    "deepnote_to_be_reexecuted": false,
    "source_hash": "69d4a3b0",
    "execution_start": 1657660345952,
    "execution_millis": 490,
    "deepnote_table_state": {
     "pageSize": 10,
     "pageIndex": 0,
     "filters": [],
     "sortBy": [
      {
       "id": "Name",
       "type": "asc"
      }
     ]
    },
    "deepnote_table_loading": false,
    "deepnote_table_invalid": false,
    "deepnote_cell_type": "code",
    "deepnote_cell_height": 635
   },
   "source": "# prices_speed_users.loc[prices_speed_users['Country'].isnull(),]\nprices_speed_users",
   "outputs": [
    {
     "output_type": "execute_result",
     "execution_count": 24,
     "data": {
      "application/vnd.deepnote.dataframe.v3+json": {
       "column_count": 11,
       "row_count": 133,
       "columns": [
        {
         "name": "country_code",
         "dtype": "object",
         "stats": {
          "unique_count": 132,
          "nan_count": 0,
          "categories": [
           {
            "name": "LB",
            "count": 2
           },
           {
            "name": "IL",
            "count": 1
           },
           {
            "name": "130 others",
            "count": 130
           }
          ]
         }
        },
        {
         "name": "name",
         "dtype": "object",
         "stats": {
          "unique_count": 132,
          "nan_count": 0,
          "categories": [
           {
            "name": "Lebanon",
            "count": 2
           },
           {
            "name": "Israel",
            "count": 1
           },
           {
            "name": "130 others",
            "count": 130
           }
          ]
         }
        },
        {
         "name": "continental_region",
         "dtype": "object",
         "stats": {
          "unique_count": 5,
          "nan_count": 0,
          "categories": [
           {
            "name": "Asia",
            "count": 44
           },
           {
            "name": "Europe",
            "count": 36
           },
           {
            "name": "3 others",
            "count": 53
           }
          ]
         }
        },
        {
         "name": "num_internet_plans",
         "dtype": "float64",
         "stats": {
          "unique_count": 45,
          "nan_count": 0,
          "min": "3.0",
          "max": "60.0",
          "histogram": [
           {
            "bin_start": 3,
            "bin_end": 8.7,
            "count": 3
           },
           {
            "bin_start": 8.7,
            "bin_end": 14.4,
            "count": 10
           },
           {
            "bin_start": 14.4,
            "bin_end": 20.1,
            "count": 24
           },
           {
            "bin_start": 20.1,
            "bin_end": 25.8,
            "count": 21
           },
           {
            "bin_start": 25.8,
            "bin_end": 31.5,
            "count": 11
           },
           {
            "bin_start": 31.5,
            "bin_end": 37.2,
            "count": 18
           },
           {
            "bin_start": 37.2,
            "bin_end": 42.9,
            "count": 7
           },
           {
            "bin_start": 42.9,
            "bin_end": 48.6,
            "count": 9
           },
           {
            "bin_start": 48.6,
            "bin_end": 54.300000000000004,
            "count": 6
           },
           {
            "bin_start": 54.300000000000004,
            "bin_end": 60,
            "count": 24
           }
          ]
         }
        },
        {
         "name": "avg_price_1gb",
         "dtype": "float64",
         "stats": {
          "unique_count": 114,
          "nan_count": 0,
          "min": "0.05",
          "max": "25.46",
          "histogram": [
           {
            "bin_start": 0.05,
            "bin_end": 2.5909999999999997,
            "count": 94
           },
           {
            "bin_start": 2.5909999999999997,
            "bin_end": 5.132,
            "count": 23
           },
           {
            "bin_start": 5.132,
            "bin_end": 7.672999999999999,
            "count": 10
           },
           {
            "bin_start": 7.672999999999999,
            "bin_end": 10.214,
            "count": 3
           },
           {
            "bin_start": 10.214,
            "bin_end": 12.755,
            "count": 0
           },
           {
            "bin_start": 12.755,
            "bin_end": 15.296,
            "count": 0
           },
           {
            "bin_start": 15.296,
            "bin_end": 17.837,
            "count": 1
           },
           {
            "bin_start": 17.837,
            "bin_end": 20.378,
            "count": 0
           },
           {
            "bin_start": 20.378,
            "bin_end": 22.919,
            "count": 1
           },
           {
            "bin_start": 22.919,
            "bin_end": 25.46,
            "count": 1
           }
          ]
         }
        },
        {
         "name": "cheapest_1gb_30_days",
         "dtype": "float64",
         "stats": {
          "unique_count": 78,
          "nan_count": 0,
          "min": "0.0",
          "max": "20.37",
          "histogram": [
           {
            "bin_start": 0,
            "bin_end": 2.037,
            "count": 129
           },
           {
            "bin_start": 2.037,
            "bin_end": 4.074,
            "count": 3
           },
           {
            "bin_start": 4.074,
            "bin_end": 6.111,
            "count": 0
           },
           {
            "bin_start": 6.111,
            "bin_end": 8.148,
            "count": 0
           },
           {
            "bin_start": 8.148,
            "bin_end": 10.184999999999999,
            "count": 0
           },
           {
            "bin_start": 10.184999999999999,
            "bin_end": 12.222,
            "count": 0
           },
           {
            "bin_start": 12.222,
            "bin_end": 14.259,
            "count": 0
           },
           {
            "bin_start": 14.259,
            "bin_end": 16.296,
            "count": 0
           },
           {
            "bin_start": 16.296,
            "bin_end": 18.333,
            "count": 0
           },
           {
            "bin_start": 18.333,
            "bin_end": 20.37,
            "count": 1
           }
          ]
         }
        },
        {
         "name": "most_expensive_1gb",
         "dtype": "float64",
         "stats": {
          "unique_count": 127,
          "nan_count": 0,
          "min": "0.85",
          "max": "768.87",
          "histogram": [
           {
            "bin_start": 0.85,
            "bin_end": 77.65199999999999,
            "count": 123
           },
           {
            "bin_start": 77.65199999999999,
            "bin_end": 154.45399999999998,
            "count": 9
           },
           {
            "bin_start": 154.45399999999998,
            "bin_end": 231.25599999999997,
            "count": 0
           },
           {
            "bin_start": 231.25599999999997,
            "bin_end": 308.058,
            "count": 0
           },
           {
            "bin_start": 308.058,
            "bin_end": 384.86,
            "count": 0
           },
           {
            "bin_start": 384.86,
            "bin_end": 461.662,
            "count": 0
           },
           {
            "bin_start": 461.662,
            "bin_end": 538.4639999999999,
            "count": 0
           },
           {
            "bin_start": 538.4639999999999,
            "bin_end": 615.266,
            "count": 0
           },
           {
            "bin_start": 615.266,
            "bin_end": 692.068,
            "count": 0
           },
           {
            "bin_start": 692.068,
            "bin_end": 768.87,
            "count": 1
           }
          ]
         }
        },
        {
         "name": "avg_price_1gb_2021",
         "dtype": "float64",
         "stats": {
          "unique_count": 120,
          "nan_count": 0,
          "min": "0.09",
          "max": "27.41",
          "histogram": [
           {
            "bin_start": 0.09,
            "bin_end": 2.822,
            "count": 79
           },
           {
            "bin_start": 2.822,
            "bin_end": 5.554,
            "count": 36
           },
           {
            "bin_start": 5.554,
            "bin_end": 8.286000000000001,
            "count": 8
           },
           {
            "bin_start": 8.286000000000001,
            "bin_end": 11.018,
            "count": 3
           },
           {
            "bin_start": 11.018,
            "bin_end": 13.75,
            "count": 4
           },
           {
            "bin_start": 13.75,
            "bin_end": 16.482000000000003,
            "count": 2
           },
           {
            "bin_start": 16.482000000000003,
            "bin_end": 19.214000000000002,
            "count": 0
           },
           {
            "bin_start": 19.214000000000002,
            "bin_end": 21.946,
            "count": 0
           },
           {
            "bin_start": 21.946,
            "bin_end": 24.678,
            "count": 0
           },
           {
            "bin_start": 24.678,
            "bin_end": 27.41,
            "count": 1
           }
          ]
         }
        },
        {
         "name": "avg_price_1gb_2020",
         "dtype": "float64",
         "stats": {
          "unique_count": 124,
          "nan_count": 1,
          "min": "0.26",
          "max": "65.83",
          "histogram": [
           {
            "bin_start": 0.26,
            "bin_end": 6.816999999999999,
            "count": 94
           },
           {
            "bin_start": 6.816999999999999,
            "bin_end": 13.373999999999999,
            "count": 25
           },
           {
            "bin_start": 13.373999999999999,
            "bin_end": 19.931,
            "count": 9
           },
           {
            "bin_start": 19.931,
            "bin_end": 26.488,
            "count": 2
           },
           {
            "bin_start": 26.488,
            "bin_end": 33.044999999999995,
            "count": 1
           },
           {
            "bin_start": 33.044999999999995,
            "bin_end": 39.602,
            "count": 0
           },
           {
            "bin_start": 39.602,
            "bin_end": 46.15899999999999,
            "count": 0
           },
           {
            "bin_start": 46.15899999999999,
            "bin_end": 52.715999999999994,
            "count": 0
           },
           {
            "bin_start": 52.715999999999994,
            "bin_end": 59.272999999999996,
            "count": 0
           },
           {
            "bin_start": 59.272999999999996,
            "bin_end": 65.83,
            "count": 1
           }
          ]
         }
        },
        {
         "name": "Country",
         "dtype": "object",
         "stats": {
          "unique_count": 132,
          "nan_count": 0,
          "categories": [
           {
            "name": "Lebanon",
            "count": 2
           },
           {
            "name": "Israel",
            "count": 1
           },
           {
            "name": "130 others",
            "count": 130
           }
          ]
         }
        },
        {
         "name": "Avg \n(Mbit/s)Ookla",
         "dtype": "float64",
         "stats": {
          "unique_count": 130,
          "nan_count": 1,
          "min": "5.5",
          "max": "135.35",
          "histogram": [
           {
            "bin_start": 5.5,
            "bin_end": 18.485,
            "count": 43
           },
           {
            "bin_start": 18.485,
            "bin_end": 31.47,
            "count": 33
           },
           {
            "bin_start": 31.47,
            "bin_end": 44.455,
            "count": 17
           },
           {
            "bin_start": 44.455,
            "bin_end": 57.44,
            "count": 16
           },
           {
            "bin_start": 57.44,
            "bin_end": 70.425,
            "count": 6
           },
           {
            "bin_start": 70.425,
            "bin_end": 83.41,
            "count": 7
           },
           {
            "bin_start": 83.41,
            "bin_end": 96.395,
            "count": 4
           },
           {
            "bin_start": 96.395,
            "bin_end": 109.38,
            "count": 2
           },
           {
            "bin_start": 109.38,
            "bin_end": 122.365,
            "count": 2
           },
           {
            "bin_start": 122.365,
            "bin_end": 135.35,
            "count": 2
           }
          ]
         }
        },
        {
         "name": "_deepnote_index_column",
         "dtype": "int64"
        }
       ],
       "rows": [
        {
         "country_code": "IL",
         "name": "Israel",
         "continental_region": "Asia",
         "num_internet_plans": 27,
         "avg_price_1gb": 0.05,
         "cheapest_1gb_30_days": 0.02,
         "most_expensive_1gb": 20.95,
         "avg_price_1gb_2021": 0.11,
         "avg_price_1gb_2020": 0.9,
         "Country": "Israel",
         "Avg \n(Mbit/s)Ookla": 28.01,
         "_deepnote_index_column": 0
        },
        {
         "country_code": "KG",
         "name": "Kyrgyzstan",
         "continental_region": "Asia",
         "num_internet_plans": 20,
         "avg_price_1gb": 0.15,
         "cheapest_1gb_30_days": 0.1,
         "most_expensive_1gb": 7.08,
         "avg_price_1gb_2021": 0.21,
         "avg_price_1gb_2020": 0.27,
         "Country": "Kyrgyzstan",
         "Avg \n(Mbit/s)Ookla": 16.3,
         "_deepnote_index_column": 1
        },
        {
         "country_code": "FJ",
         "name": "Fiji",
         "continental_region": "Oceania",
         "num_internet_plans": 18,
         "avg_price_1gb": 0.19,
         "cheapest_1gb_30_days": 0.05,
         "most_expensive_1gb": 0.85,
         "avg_price_1gb_2021": 0.59,
         "avg_price_1gb_2020": 3.57,
         "Country": "Fiji",
         "Avg \n(Mbit/s)Ookla": 25.99,
         "_deepnote_index_column": 2
        },
        {
         "country_code": "IT",
         "name": "Italy",
         "continental_region": "Europe",
         "num_internet_plans": 29,
         "avg_price_1gb": 0.27,
         "cheapest_1gb_30_days": 0.09,
         "most_expensive_1gb": 3.54,
         "avg_price_1gb_2021": 0.43,
         "avg_price_1gb_2020": 1.73,
         "Country": "Italy",
         "Avg \n(Mbit/s)Ookla": 37.15,
         "_deepnote_index_column": 3
        },
        {
         "country_code": "SD",
         "name": "Sudan",
         "continental_region": "Africa",
         "num_internet_plans": 33,
         "avg_price_1gb": 0.27,
         "cheapest_1gb_30_days": 0.03,
         "most_expensive_1gb": 0.92,
         "avg_price_1gb_2021": 0.63,
         "avg_price_1gb_2020": 0.68,
         "Country": "Sudan",
         "Avg \n(Mbit/s)Ookla": 9.5,
         "_deepnote_index_column": 4
        },
        {
         "country_code": "MD",
         "name": "Moldova",
         "continental_region": "Europe",
         "num_internet_plans": 18,
         "avg_price_1gb": 0.32,
         "cheapest_1gb_30_days": 0.07,
         "most_expensive_1gb": 2.79,
         "avg_price_1gb_2021": 1.12,
         "avg_price_1gb_2020": 2.82,
         "Country": "Moldova",
         "Avg \n(Mbit/s)Ookla": 29.46,
         "_deepnote_index_column": 5
        },
        {
         "country_code": "BD",
         "name": "Bangladesh",
         "continental_region": "Asia",
         "num_internet_plans": 60,
         "avg_price_1gb": 0.34,
         "cheapest_1gb_30_days": 0.11,
         "most_expensive_1gb": 2.22,
         "avg_price_1gb_2021": 0.7,
         "avg_price_1gb_2020": 0.99,
         "Country": "Bangladesh",
         "Avg \n(Mbit/s)Ookla": 10.43,
         "_deepnote_index_column": 6
        },
        {
         "country_code": "LK",
         "name": "Sri Lanka",
         "continental_region": "Asia",
         "num_internet_plans": 60,
         "avg_price_1gb": 0.38,
         "cheapest_1gb_30_days": 0,
         "most_expensive_1gb": 5.53,
         "avg_price_1gb_2021": 0.51,
         "avg_price_1gb_2020": 0.78,
         "Country": "Sri Lanka",
         "Avg \n(Mbit/s)Ookla": 13.15,
         "_deepnote_index_column": 7
        },
        {
         "country_code": "CL",
         "name": "Chile",
         "continental_region": "Americas",
         "num_internet_plans": 59,
         "avg_price_1gb": 0.39,
         "cheapest_1gb_30_days": 0.24,
         "most_expensive_1gb": 1.83,
         "avg_price_1gb_2021": 0.71,
         "avg_price_1gb_2020": 1.87,
         "Country": "Chile",
         "Avg \n(Mbit/s)Ookla": 22.49,
         "_deepnote_index_column": 8
        },
        {
         "country_code": "FR",
         "name": "France",
         "continental_region": "Europe",
         "num_internet_plans": 45,
         "avg_price_1gb": 0.41,
         "cheapest_1gb_30_days": 0.09,
         "most_expensive_1gb": 118.2,
         "avg_price_1gb_2021": 0.81,
         "avg_price_1gb_2020": 1.21,
         "Country": "France",
         "Avg \n(Mbit/s)Ookla": 60.94,
         "_deepnote_index_column": 9
        }
       ]
      },
      "text/plain": "    country_code        name continental_region  num_internet_plans  \\\n0             IL      Israel               Asia                27.0   \n1             KG  Kyrgyzstan               Asia                20.0   \n2             FJ        Fiji            Oceania                18.0   \n3             IT       Italy             Europe                29.0   \n4             SD       Sudan             Africa                33.0   \n..           ...         ...                ...                 ...   \n128           GR      Greece             Europe                22.0   \n129           CY      Cyprus             Europe                22.0   \n130           YE       Yemen               Asia                17.0   \n131           NA     Namibia             Africa                33.0   \n132           MW      Malawi             Africa                 5.0   \n\n     avg_price_1gb  cheapest_1gb_30_days  most_expensive_1gb  \\\n0             0.05                  0.02               20.95   \n1             0.15                  0.10                7.08   \n2             0.19                  0.05                0.85   \n3             0.27                  0.09                3.54   \n4             0.27                  0.03                0.92   \n..             ...                   ...                 ...   \n128           8.16                  1.06              768.87   \n129           8.84                  2.06               59.10   \n130          15.98                  0.40               39.94   \n131          22.37                  1.20               72.06   \n132          25.46                 20.37               25.46   \n\n     avg_price_1gb_2021  avg_price_1gb_2020     Country  Avg \\n(Mbit/s)Ookla  \n0                  0.11                0.90      Israel                28.01  \n1                  0.21                0.27  Kyrgyzstan                16.30  \n2                  0.59                3.57        Fiji                25.99  \n3                  0.43                1.73       Italy                37.15  \n4                  0.63                0.68       Sudan                 9.50  \n..                  ...                 ...         ...                  ...  \n128               12.06                4.91      Greece                59.42  \n129               13.56               20.25      Cyprus                75.48  \n130               15.98               15.73       Yemen                16.89  \n131                4.78               11.02     Namibia                18.43  \n132               27.41                3.59      Malawi                17.95  \n\n[133 rows x 11 columns]",
      "text/html": "<div>\n<style scoped>\n    .dataframe tbody tr th:only-of-type {\n        vertical-align: middle;\n    }\n\n    .dataframe tbody tr th {\n        vertical-align: top;\n    }\n\n    .dataframe thead th {\n        text-align: right;\n    }\n</style>\n<table border=\"1\" class=\"dataframe\">\n  <thead>\n    <tr style=\"text-align: right;\">\n      <th></th>\n      <th>country_code</th>\n      <th>name</th>\n      <th>continental_region</th>\n      <th>num_internet_plans</th>\n      <th>avg_price_1gb</th>\n      <th>cheapest_1gb_30_days</th>\n      <th>most_expensive_1gb</th>\n      <th>avg_price_1gb_2021</th>\n      <th>avg_price_1gb_2020</th>\n      <th>Country</th>\n      <th>Avg \\n(Mbit/s)Ookla</th>\n    </tr>\n  </thead>\n  <tbody>\n    <tr>\n      <th>0</th>\n      <td>IL</td>\n      <td>Israel</td>\n      <td>Asia</td>\n      <td>27.0</td>\n      <td>0.05</td>\n      <td>0.02</td>\n      <td>20.95</td>\n      <td>0.11</td>\n      <td>0.90</td>\n      <td>Israel</td>\n      <td>28.01</td>\n    </tr>\n    <tr>\n      <th>1</th>\n      <td>KG</td>\n      <td>Kyrgyzstan</td>\n      <td>Asia</td>\n      <td>20.0</td>\n      <td>0.15</td>\n      <td>0.10</td>\n      <td>7.08</td>\n      <td>0.21</td>\n      <td>0.27</td>\n      <td>Kyrgyzstan</td>\n      <td>16.30</td>\n    </tr>\n    <tr>\n      <th>2</th>\n      <td>FJ</td>\n      <td>Fiji</td>\n      <td>Oceania</td>\n      <td>18.0</td>\n      <td>0.19</td>\n      <td>0.05</td>\n      <td>0.85</td>\n      <td>0.59</td>\n      <td>3.57</td>\n      <td>Fiji</td>\n      <td>25.99</td>\n    </tr>\n    <tr>\n      <th>3</th>\n      <td>IT</td>\n      <td>Italy</td>\n      <td>Europe</td>\n      <td>29.0</td>\n      <td>0.27</td>\n      <td>0.09</td>\n      <td>3.54</td>\n      <td>0.43</td>\n      <td>1.73</td>\n      <td>Italy</td>\n      <td>37.15</td>\n    </tr>\n    <tr>\n      <th>4</th>\n      <td>SD</td>\n      <td>Sudan</td>\n      <td>Africa</td>\n      <td>33.0</td>\n      <td>0.27</td>\n      <td>0.03</td>\n      <td>0.92</td>\n      <td>0.63</td>\n      <td>0.68</td>\n      <td>Sudan</td>\n      <td>9.50</td>\n    </tr>\n    <tr>\n      <th>...</th>\n      <td>...</td>\n      <td>...</td>\n      <td>...</td>\n      <td>...</td>\n      <td>...</td>\n      <td>...</td>\n      <td>...</td>\n      <td>...</td>\n      <td>...</td>\n      <td>...</td>\n      <td>...</td>\n    </tr>\n    <tr>\n      <th>128</th>\n      <td>GR</td>\n      <td>Greece</td>\n      <td>Europe</td>\n      <td>22.0</td>\n      <td>8.16</td>\n      <td>1.06</td>\n      <td>768.87</td>\n      <td>12.06</td>\n      <td>4.91</td>\n      <td>Greece</td>\n      <td>59.42</td>\n    </tr>\n    <tr>\n      <th>129</th>\n      <td>CY</td>\n      <td>Cyprus</td>\n      <td>Europe</td>\n      <td>22.0</td>\n      <td>8.84</td>\n      <td>2.06</td>\n      <td>59.10</td>\n      <td>13.56</td>\n      <td>20.25</td>\n      <td>Cyprus</td>\n      <td>75.48</td>\n    </tr>\n    <tr>\n      <th>130</th>\n      <td>YE</td>\n      <td>Yemen</td>\n      <td>Asia</td>\n      <td>17.0</td>\n      <td>15.98</td>\n      <td>0.40</td>\n      <td>39.94</td>\n      <td>15.98</td>\n      <td>15.73</td>\n      <td>Yemen</td>\n      <td>16.89</td>\n    </tr>\n    <tr>\n      <th>131</th>\n      <td>NA</td>\n      <td>Namibia</td>\n      <td>Africa</td>\n      <td>33.0</td>\n      <td>22.37</td>\n      <td>1.20</td>\n      <td>72.06</td>\n      <td>4.78</td>\n      <td>11.02</td>\n      <td>Namibia</td>\n      <td>18.43</td>\n    </tr>\n    <tr>\n      <th>132</th>\n      <td>MW</td>\n      <td>Malawi</td>\n      <td>Africa</td>\n      <td>5.0</td>\n      <td>25.46</td>\n      <td>20.37</td>\n      <td>25.46</td>\n      <td>27.41</td>\n      <td>3.59</td>\n      <td>Malawi</td>\n      <td>17.95</td>\n    </tr>\n  </tbody>\n</table>\n<p>133 rows × 11 columns</p>\n</div>"
     },
     "metadata": {}
    }
   ],
   "execution_count": null
  },
  {
   "cell_type": "code",
   "metadata": {
    "cell_id": "c57f12c0e5304dd1aadc65b2918cc6d6",
    "tags": [],
    "deepnote_to_be_reexecuted": false,
    "source_hash": "17d266d4",
    "execution_start": 1657660345987,
    "execution_millis": 456,
    "deepnote_table_state": {
     "pageSize": 10,
     "pageIndex": 0,
     "filters": [
      {
       "id": "Country",
       "value": "",
       "type": "contains"
      }
     ],
     "sortBy": [
      {
       "id": "Country",
       "type": "asc"
      }
     ]
    },
    "deepnote_table_loading": false,
    "deepnote_cell_type": "code",
    "deepnote_cell_height": 660
   },
   "source": "speed",
   "outputs": [
    {
     "output_type": "execute_result",
     "execution_count": 25,
     "data": {
      "application/vnd.deepnote.dataframe.v3+json": {
       "column_count": 2,
       "row_count": 144,
       "columns": [
        {
         "name": "Country",
         "dtype": "object",
         "stats": {
          "unique_count": 143,
          "nan_count": 0,
          "categories": [
           {
            "name": "Lebanon",
            "count": 2
           },
           {
            "name": "Afghanistan",
            "count": 1
           },
           {
            "name": "141 others",
            "count": 141
           }
          ]
         }
        },
        {
         "name": "Avg \n(Mbit/s)Ookla",
         "dtype": "float64",
         "stats": {
          "unique_count": 141,
          "nan_count": 1,
          "min": "4.89",
          "max": "135.35",
          "histogram": [
           {
            "bin_start": 4.89,
            "bin_end": 17.936,
            "count": 44
           },
           {
            "bin_start": 17.936,
            "bin_end": 30.982000000000003,
            "count": 40
           },
           {
            "bin_start": 30.982000000000003,
            "bin_end": 44.028000000000006,
            "count": 16
           },
           {
            "bin_start": 44.028000000000006,
            "bin_end": 57.074000000000005,
            "count": 17
           },
           {
            "bin_start": 57.074000000000005,
            "bin_end": 70.12,
            "count": 7
           },
           {
            "bin_start": 70.12,
            "bin_end": 83.16600000000001,
            "count": 8
           },
           {
            "bin_start": 83.16600000000001,
            "bin_end": 96.212,
            "count": 3
           },
           {
            "bin_start": 96.212,
            "bin_end": 109.25800000000001,
            "count": 4
           },
           {
            "bin_start": 109.25800000000001,
            "bin_end": 122.30400000000002,
            "count": 2
           },
           {
            "bin_start": 122.30400000000002,
            "bin_end": 135.35,
            "count": 2
           }
          ]
         }
        },
        {
         "name": "_deepnote_index_column",
         "dtype": "int64"
        }
       ],
       "rows": [
        {
         "Country": "Afghanistan",
         "Avg \n(Mbit/s)Ookla": 5.5,
         "_deepnote_index_column": 70
        },
        {
         "Country": "Albania",
         "Avg \n(Mbit/s)Ookla": 40.48,
         "_deepnote_index_column": 28
        },
        {
         "Country": "Algeria",
         "Avg \n(Mbit/s)Ookla": 12.44,
         "_deepnote_index_column": 96
        },
        {
         "Country": "Angola",
         "Avg \n(Mbit/s)Ookla": 22.59,
         "_deepnote_index_column": 121
        },
        {
         "Country": "Argentina",
         "Avg \n(Mbit/s)Ookla": 20.64,
         "_deepnote_index_column": 49
        },
        {
         "Country": "Armenia",
         "Avg \n(Mbit/s)Ookla": 22.01,
         "_deepnote_index_column": 122
        },
        {
         "Country": "Australia",
         "Avg \n(Mbit/s)Ookla": 76.52,
         "_deepnote_index_column": 6
        },
        {
         "Country": "Austria",
         "Avg \n(Mbit/s)Ookla": 56.6,
         "_deepnote_index_column": 11
        },
        {
         "Country": "Azerbaijan",
         "Avg \n(Mbit/s)Ookla": 30.4,
         "_deepnote_index_column": 48
        },
        {
         "Country": "Bahamas",
         "Avg \n(Mbit/s)Ookla": 26.77,
         "_deepnote_index_column": 116
        }
       ]
      },
      "text/plain": "         Country  Avg \\n(Mbit/s)Ookla\n0         Canada                75.18\n1    South Korea               117.95\n2    Netherlands               108.33\n3          Japan                44.05\n4         Norway               134.73\n..           ...                  ...\n139        Sudan                 9.50\n140         Cuba                 9.10\n141   Tajikistan                 7.05\n142    Venezuela                 5.68\n143    Palestine                 4.89\n\n[144 rows x 2 columns]",
      "text/html": "<div>\n<style scoped>\n    .dataframe tbody tr th:only-of-type {\n        vertical-align: middle;\n    }\n\n    .dataframe tbody tr th {\n        vertical-align: top;\n    }\n\n    .dataframe thead th {\n        text-align: right;\n    }\n</style>\n<table border=\"1\" class=\"dataframe\">\n  <thead>\n    <tr style=\"text-align: right;\">\n      <th></th>\n      <th>Country</th>\n      <th>Avg \\n(Mbit/s)Ookla</th>\n    </tr>\n  </thead>\n  <tbody>\n    <tr>\n      <th>0</th>\n      <td>Canada</td>\n      <td>75.18</td>\n    </tr>\n    <tr>\n      <th>1</th>\n      <td>South Korea</td>\n      <td>117.95</td>\n    </tr>\n    <tr>\n      <th>2</th>\n      <td>Netherlands</td>\n      <td>108.33</td>\n    </tr>\n    <tr>\n      <th>3</th>\n      <td>Japan</td>\n      <td>44.05</td>\n    </tr>\n    <tr>\n      <th>4</th>\n      <td>Norway</td>\n      <td>134.73</td>\n    </tr>\n    <tr>\n      <th>...</th>\n      <td>...</td>\n      <td>...</td>\n    </tr>\n    <tr>\n      <th>139</th>\n      <td>Sudan</td>\n      <td>9.50</td>\n    </tr>\n    <tr>\n      <th>140</th>\n      <td>Cuba</td>\n      <td>9.10</td>\n    </tr>\n    <tr>\n      <th>141</th>\n      <td>Tajikistan</td>\n      <td>7.05</td>\n    </tr>\n    <tr>\n      <th>142</th>\n      <td>Venezuela</td>\n      <td>5.68</td>\n    </tr>\n    <tr>\n      <th>143</th>\n      <td>Palestine</td>\n      <td>4.89</td>\n    </tr>\n  </tbody>\n</table>\n<p>144 rows × 2 columns</p>\n</div>"
     },
     "metadata": {}
    }
   ],
   "execution_count": null
  },
  {
   "cell_type": "markdown",
   "source": "# Load",
   "metadata": {
    "formattedRanges": [],
    "cell_id": "1efcd1bf959246f88bf5639f2c8b0bc5",
    "tags": [],
    "is_collapsed": false,
    "deepnote_cell_type": "text-cell-h1"
   }
  },
  {
   "cell_type": "code",
   "metadata": {
    "cell_id": "e76ecf2f801147cc9bc6960586cd523f",
    "tags": [],
    "deepnote_to_be_reexecuted": false,
    "source_hash": "59a5d537",
    "execution_start": 1657660346001,
    "execution_millis": 3700,
    "deepnote_cell_type": "code",
    "deepnote_cell_height": 387
   },
   "source": "#load data to google sheets\n#Create key\nkey = \"1ta2iOwjKzIRu7CL60DqzXpVlYhvaTOz7618GmgF8Kts\"\n\n#Selects the sheet to export to\nsheet = gc.open_by_key(key).worksheet('prices')\nsheet1 = gc.open_by_key(key).worksheet('speed')\nsheet2 = gc.open_by_key(key).worksheet('users')\n\n#Clears the sheet and exports data\nsheet.batch_clear([\"A100:L40000\"])\nset_with_dataframe(sheet, prices) \n\nsheet1.batch_clear([\"A100:R15000\"])\nset_with_dataframe(sheet1, speed) \n\nsheet2.batch_clear([\"A100:Z15000\"])\nset_with_dataframe(sheet2, users)",
   "outputs": [],
   "execution_count": null
  },
  {
   "cell_type": "markdown",
   "source": "<a style='text-decoration:none;line-height:16px;display:flex;color:#5B5B62;padding:10px;justify-content:end;' href='https://deepnote.com?utm_source=created-in-deepnote-cell&projectId=07a4ffe0-c8ed-4f4e-b576-dc2d51ba276d' target=\"_blank\">\n<img alt='Created in deepnote.com' style='display:inline;max-height:16px;margin:0px;margin-right:7.5px;' src='data:image/svg+xml;base64,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' > </img>\nCreated in <span style='font-weight:600;margin-left:4px;'>Deepnote</span></a>",
   "metadata": {
    "tags": [],
    "created_in_deepnote_cell": true,
    "deepnote_cell_type": "markdown"
   }
  }
 ],
 "nbformat": 4,
 "nbformat_minor": 2,
 "metadata": {
  "orig_nbformat": 2,
  "deepnote": {},
  "deepnote_notebook_id": "ef00011f-1fd0-4834-8d1a-ef3b393682c4",
  "deepnote_execution_queue": []
 }
}