{
 "cells": [
  {
   "cell_type": "markdown",
   "source": "# SET UP",
   "metadata": {
    "formattedRanges": [],
    "cell_id": "66dd3c69f261426db82b559e6d8d6dcd",
    "tags": [],
    "is_collapsed": false,
    "deepnote_cell_type": "text-cell-h1"
   }
  },
  {
   "cell_type": "code",
   "metadata": {
    "cell_id": "78bf77c9a6a24bbbb7550b710972bd05",
    "tags": [],
    "deepnote_to_be_reexecuted": false,
    "source_hash": "f0b17186",
    "execution_start": 1657584871044,
    "execution_millis": 6673,
    "deepnote_cell_type": "code",
    "deepnote_cell_height": 863
   },
   "source": "# Import requried libraries \nimport pandas as pd\nimport numpy as np\nimport time\nfrom datetime import datetime\n!pip install gspread\n!pip install gspread_dataframe\nfrom gspread_dataframe import set_with_dataframe\nimport gspread\ngc = gspread.service_account(filename='world-wide-web-356017-564c77672260.json')",
   "execution_count": 1,
   "outputs": [
    {
     "name": "stdout",
     "text": "Requirement already satisfied: gspread in /root/venv/lib/python3.9/site-packages (5.4.0)\nRequirement already satisfied: google-auth-oauthlib>=0.4.1 in /shared-libs/python3.9/py/lib/python3.9/site-packages (from gspread) (0.4.6)\nRequirement already satisfied: google-auth>=1.12.0 in /shared-libs/python3.9/py/lib/python3.9/site-packages (from gspread) (2.7.0)\nRequirement already satisfied: rsa<5,>=3.1.4 in /shared-libs/python3.9/py/lib/python3.9/site-packages (from google-auth>=1.12.0->gspread) (4.8)\nRequirement already satisfied: cachetools<6.0,>=2.0.0 in /shared-libs/python3.9/py/lib/python3.9/site-packages (from google-auth>=1.12.0->gspread) (5.2.0)\nRequirement already satisfied: pyasn1-modules>=0.2.1 in /shared-libs/python3.9/py/lib/python3.9/site-packages (from google-auth>=1.12.0->gspread) (0.2.8)\nRequirement already satisfied: six>=1.9.0 in /shared-libs/python3.9/py-core/lib/python3.9/site-packages (from google-auth>=1.12.0->gspread) (1.16.0)\nRequirement already satisfied: requests-oauthlib>=0.7.0 in /shared-libs/python3.9/py/lib/python3.9/site-packages (from google-auth-oauthlib>=0.4.1->gspread) (1.3.1)\nRequirement already satisfied: pyasn1<0.5.0,>=0.4.6 in /shared-libs/python3.9/py/lib/python3.9/site-packages (from pyasn1-modules>=0.2.1->google-auth>=1.12.0->gspread) (0.4.8)\nRequirement already satisfied: oauthlib>=3.0.0 in /shared-libs/python3.9/py/lib/python3.9/site-packages (from requests-oauthlib>=0.7.0->google-auth-oauthlib>=0.4.1->gspread) (3.2.0)\nRequirement already satisfied: requests>=2.0.0 in /shared-libs/python3.9/py/lib/python3.9/site-packages (from requests-oauthlib>=0.7.0->google-auth-oauthlib>=0.4.1->gspread) (2.27.1)\nRequirement already satisfied: idna<4,>=2.5 in /shared-libs/python3.9/py-core/lib/python3.9/site-packages (from requests>=2.0.0->requests-oauthlib>=0.7.0->google-auth-oauthlib>=0.4.1->gspread) (3.3)\nRequirement already satisfied: certifi>=2017.4.17 in /shared-libs/python3.9/py/lib/python3.9/site-packages (from requests>=2.0.0->requests-oauthlib>=0.7.0->google-auth-oauthlib>=0.4.1->gspread) (2022.5.18.1)\nRequirement already satisfied: urllib3<1.27,>=1.21.1 in /shared-libs/python3.9/py/lib/python3.9/site-packages (from requests>=2.0.0->requests-oauthlib>=0.7.0->google-auth-oauthlib>=0.4.1->gspread) (1.26.9)\nRequirement already satisfied: charset-normalizer~=2.0.0 in /shared-libs/python3.9/py-core/lib/python3.9/site-packages (from requests>=2.0.0->requests-oauthlib>=0.7.0->google-auth-oauthlib>=0.4.1->gspread) (2.0.12)\n\u001b[33mWARNING: You are using pip version 22.0.4; however, version 22.1.2 is available.\nYou should consider upgrading via the '/root/venv/bin/python -m pip install --upgrade pip' command.\u001b[0m\u001b[33m\n\u001b[0mRequirement already satisfied: gspread_dataframe in /root/venv/lib/python3.9/site-packages (3.3.0)\nRequirement already satisfied: pandas>=0.24.0 in /shared-libs/python3.9/py/lib/python3.9/site-packages (from gspread_dataframe) (1.2.5)\nRequirement already satisfied: six>=1.12.0 in /shared-libs/python3.9/py-core/lib/python3.9/site-packages (from gspread_dataframe) (1.16.0)\nRequirement already satisfied: gspread>=3.0.0 in /root/venv/lib/python3.9/site-packages (from gspread_dataframe) (5.4.0)\nRequirement already satisfied: google-auth>=1.12.0 in /shared-libs/python3.9/py/lib/python3.9/site-packages (from gspread>=3.0.0->gspread_dataframe) (2.7.0)\nRequirement already satisfied: google-auth-oauthlib>=0.4.1 in /shared-libs/python3.9/py/lib/python3.9/site-packages (from gspread>=3.0.0->gspread_dataframe) (0.4.6)\nRequirement already satisfied: pytz>=2017.3 in /shared-libs/python3.9/py/lib/python3.9/site-packages (from pandas>=0.24.0->gspread_dataframe) (2022.1)\nRequirement already satisfied: python-dateutil>=2.7.3 in /shared-libs/python3.9/py-core/lib/python3.9/site-packages (from pandas>=0.24.0->gspread_dataframe) (2.8.2)\nRequirement already satisfied: numpy>=1.16.5 in /shared-libs/python3.9/py/lib/python3.9/site-packages (from pandas>=0.24.0->gspread_dataframe) (1.22.4)\nRequirement already satisfied: cachetools<6.0,>=2.0.0 in /shared-libs/python3.9/py/lib/python3.9/site-packages (from google-auth>=1.12.0->gspread>=3.0.0->gspread_dataframe) (5.2.0)\nRequirement already satisfied: pyasn1-modules>=0.2.1 in /shared-libs/python3.9/py/lib/python3.9/site-packages (from google-auth>=1.12.0->gspread>=3.0.0->gspread_dataframe) (0.2.8)\nRequirement already satisfied: rsa<5,>=3.1.4 in /shared-libs/python3.9/py/lib/python3.9/site-packages (from google-auth>=1.12.0->gspread>=3.0.0->gspread_dataframe) (4.8)\nRequirement already satisfied: requests-oauthlib>=0.7.0 in /shared-libs/python3.9/py/lib/python3.9/site-packages (from google-auth-oauthlib>=0.4.1->gspread>=3.0.0->gspread_dataframe) (1.3.1)\nRequirement already satisfied: pyasn1<0.5.0,>=0.4.6 in /shared-libs/python3.9/py/lib/python3.9/site-packages (from pyasn1-modules>=0.2.1->google-auth>=1.12.0->gspread>=3.0.0->gspread_dataframe) (0.4.8)\nRequirement already satisfied: requests>=2.0.0 in /shared-libs/python3.9/py/lib/python3.9/site-packages (from requests-oauthlib>=0.7.0->google-auth-oauthlib>=0.4.1->gspread>=3.0.0->gspread_dataframe) (2.27.1)\nRequirement already satisfied: oauthlib>=3.0.0 in /shared-libs/python3.9/py/lib/python3.9/site-packages (from requests-oauthlib>=0.7.0->google-auth-oauthlib>=0.4.1->gspread>=3.0.0->gspread_dataframe) (3.2.0)\nRequirement already satisfied: certifi>=2017.4.17 in /shared-libs/python3.9/py/lib/python3.9/site-packages (from requests>=2.0.0->requests-oauthlib>=0.7.0->google-auth-oauthlib>=0.4.1->gspread>=3.0.0->gspread_dataframe) (2022.5.18.1)\nRequirement already satisfied: charset-normalizer~=2.0.0 in /shared-libs/python3.9/py-core/lib/python3.9/site-packages (from requests>=2.0.0->requests-oauthlib>=0.7.0->google-auth-oauthlib>=0.4.1->gspread>=3.0.0->gspread_dataframe) (2.0.12)\nRequirement already satisfied: idna<4,>=2.5 in /shared-libs/python3.9/py-core/lib/python3.9/site-packages (from requests>=2.0.0->requests-oauthlib>=0.7.0->google-auth-oauthlib>=0.4.1->gspread>=3.0.0->gspread_dataframe) (3.3)\nRequirement already satisfied: urllib3<1.27,>=1.21.1 in /shared-libs/python3.9/py/lib/python3.9/site-packages (from requests>=2.0.0->requests-oauthlib>=0.7.0->google-auth-oauthlib>=0.4.1->gspread>=3.0.0->gspread_dataframe) (1.26.9)\n\u001b[33mWARNING: You are using pip version 22.0.4; however, version 22.1.2 is available.\nYou should consider upgrading via the '/root/venv/bin/python -m pip install --upgrade pip' command.\u001b[0m\u001b[33m\n\u001b[0m",
     "output_type": "stream"
    }
   ]
  },
  {
   "cell_type": "markdown",
   "source": "# Extract",
   "metadata": {
    "formattedRanges": [],
    "cell_id": "b65ad254c20e4000a6f58267eddb5d57",
    "tags": [],
    "is_collapsed": false,
    "deepnote_cell_type": "text-cell-h1"
   }
  },
  {
   "cell_type": "code",
   "metadata": {
    "cell_id": "a042b483f34742f0a4aeae09be9eab35",
    "tags": [],
    "deepnote_to_be_reexecuted": false,
    "source_hash": "4e16b713",
    "execution_start": 1657584877720,
    "execution_millis": 9,
    "deepnote_cell_type": "code",
    "deepnote_cell_height": 117
   },
   "source": "# extract first df and create variable \"prices\". \n# list of default na values is redefined to exclude string 'NA' which happens to be Namibia's country code\nprices = pd.read_csv('/work/cerebro/worldwide internet prices in 2022 - IN 2022.csv',keep_default_na=False, na_values=['-1.#IND', '1.#QNAN', '1.#IND', '-1.#QNAN', '#N/A N/A', '#N/A', 'N/A', 'n/a', '#NA', 'NULL', 'null', 'NaN', '-NaN', 'nan', '-nan', ''])",
   "execution_count": 2,
   "outputs": []
  },
  {
   "cell_type": "code",
   "metadata": {
    "cell_id": "f4c6be76dc934fb8851a1610933f770c",
    "tags": [],
    "deepnote_to_be_reexecuted": false,
    "source_hash": "281128c8",
    "execution_start": 1657584877744,
    "execution_millis": 57,
    "deepnote_cell_type": "code",
    "deepnote_cell_height": 99
   },
   "source": "# extract second df and create variable \"speed\"\nspeed = pd.read_csv('/work/cerebro/worldwide internet speed in 2022  - avg speed.csv')",
   "execution_count": 3,
   "outputs": []
  },
  {
   "cell_type": "code",
   "metadata": {
    "cell_id": "a6cb254e7cda4ca28bf213e8c013f5d2",
    "tags": [],
    "deepnote_to_be_reexecuted": false,
    "source_hash": "77cf50ab",
    "execution_start": 1657584877801,
    "execution_millis": 1,
    "deepnote_cell_type": "code",
    "deepnote_cell_height": 99
   },
   "source": "# extract third df and create variable \"users\"\nusers = pd.read_csv('/work/cerebro/worldwide internet users - users.csv')",
   "execution_count": 4,
   "outputs": []
  },
  {
   "cell_type": "markdown",
   "source": "# Transform",
   "metadata": {
    "cell_id": "a76d6afd74bd4900bda662429aa1e6d2",
    "tags": [],
    "is_collapsed": false,
    "formattedRanges": [],
    "deepnote_cell_type": "text-cell-h1"
   }
  },
  {
   "cell_type": "code",
   "metadata": {
    "cell_id": "8f7b2ae0983f41eaa9d12a5a9a559d55",
    "tags": [],
    "deepnote_to_be_reexecuted": false,
    "source_hash": "d9501042",
    "execution_start": 1657584877803,
    "execution_millis": 7,
    "deepnote_cell_type": "code",
    "deepnote_cell_height": 433
   },
   "source": "# Checking prices columns, null values and data types\nprices.info()",
   "execution_count": 5,
   "outputs": [
    {
     "name": "stdout",
     "text": "<class 'pandas.core.frame.DataFrame'>\nRangeIndex: 242 entries, 0 to 241\nData columns (total 9 columns):\n #   Column                                            Non-Null Count  Dtype  \n---  ------                                            --------------  -----  \n 0   Country code                                      242 non-null    object \n 1   Name                                              242 non-null    object \n 2   Continental region                                242 non-null    object \n 3   NO. OF Internet Plans                             230 non-null    float64\n 4   Average price of 1GB (USD)                        242 non-null    object \n 5   Cheapest 1GB for 30 days (USD)                    230 non-null    object \n 6   Most expensive 1GB (USD)                          230 non-null    object \n 7   Average price of 1GB (USD  at the start of 2021)  230 non-null    object \n 8   Average price of 1GB (USD – at start of 2020)     230 non-null    object \ndtypes: float64(1), object(8)\nmemory usage: 17.1+ KB\n",
     "output_type": "stream"
    }
   ]
  },
  {
   "cell_type": "markdown",
   "source": "#### DF has some few null values in 5 of the columns. Let's explore them.",
   "metadata": {
    "cell_id": "91b4c97204284477a1a6c07c790ef461",
    "tags": [],
    "deepnote_cell_type": "markdown",
    "deepnote_cell_height": 54
   }
  },
  {
   "cell_type": "code",
   "source": "prices.loc[prices['NO. OF Internet Plans '].isnull(),]",
   "metadata": {
    "cell_id": "28a739f681dd49ceadf2e55955105be6",
    "tags": [],
    "deepnote_to_be_reexecuted": false,
    "source_hash": "842d0d56",
    "execution_start": 1657584877809,
    "execution_millis": 29,
    "deepnote_table_state": {
     "pageSize": 10,
     "pageIndex": 0,
     "filters": [],
     "sortBy": []
    },
    "deepnote_table_loading": false,
    "deepnote_table_invalid": false,
    "deepnote_cell_type": "code",
    "deepnote_cell_height": 617
   },
   "outputs": [
    {
     "output_type": "execute_result",
     "execution_count": 6,
     "data": {
      "application/vnd.deepnote.dataframe.v3+json": {
       "column_count": 9,
       "row_count": 12,
       "columns": [
        {
         "name": "Country code",
         "dtype": "object",
         "stats": {
          "unique_count": 12,
          "nan_count": 0,
          "categories": [
           {
            "name": "CW",
            "count": 1
           },
           {
            "name": "ER",
            "count": 1
           },
           {
            "name": "10 others",
            "count": 10
           }
          ]
         }
        },
        {
         "name": "Name",
         "dtype": "object",
         "stats": {
          "unique_count": 12,
          "nan_count": 0,
          "categories": [
           {
            "name": "Christmas Island",
            "count": 1
           },
           {
            "name": "Eritrea",
            "count": 1
           },
           {
            "name": "10 others",
            "count": 10
           }
          ]
         }
        },
        {
         "name": "Continental region",
         "dtype": "object",
         "stats": {
          "unique_count": 6,
          "nan_count": 0,
          "categories": [
           {
            "name": "CARIBBEAN",
            "count": 3
           },
           {
            "name": "OCEANIA",
            "count": 3
           },
           {
            "name": "4 others",
            "count": 6
           }
          ]
         }
        },
        {
         "name": "NO. OF Internet Plans ",
         "dtype": "float64",
         "stats": {
          "unique_count": 0,
          "nan_count": 12,
          "min": null,
          "max": null,
          "histogram": [
           {
            "bin_start": 0,
            "bin_end": 0.1,
            "count": 0
           },
           {
            "bin_start": 0.1,
            "bin_end": 0.2,
            "count": 0
           },
           {
            "bin_start": 0.2,
            "bin_end": 0.30000000000000004,
            "count": 0
           },
           {
            "bin_start": 0.30000000000000004,
            "bin_end": 0.4,
            "count": 0
           },
           {
            "bin_start": 0.4,
            "bin_end": 0.5,
            "count": 0
           },
           {
            "bin_start": 0.5,
            "bin_end": 0.6000000000000001,
            "count": 0
           },
           {
            "bin_start": 0.6000000000000001,
            "bin_end": 0.7000000000000001,
            "count": 0
           },
           {
            "bin_start": 0.7000000000000001,
            "bin_end": 0.8,
            "count": 0
           },
           {
            "bin_start": 0.8,
            "bin_end": 0.9,
            "count": 0
           },
           {
            "bin_start": 0.9,
            "bin_end": 1,
            "count": 0
           }
          ]
         }
        },
        {
         "name": "Average price of 1GB (USD)",
         "dtype": "object",
         "stats": {
          "unique_count": 4,
          "nan_count": 0,
          "categories": [
           {
            "name": "NO PROVIDERS",
            "count": 9
           },
           {
            "name": "HYPERINFLATION",
            "count": 1
           },
           {
            "name": "2 others",
            "count": 2
           }
          ]
         }
        },
        {
         "name": "Cheapest 1GB for 30 days (USD)",
         "dtype": "object",
         "stats": {
          "unique_count": 0,
          "nan_count": 12,
          "categories": [
           {
            "name": "Missing",
            "count": 12
           }
          ]
         }
        },
        {
         "name": "Most expensive 1GB (USD)",
         "dtype": "object",
         "stats": {
          "unique_count": 0,
          "nan_count": 12,
          "categories": [
           {
            "name": "Missing",
            "count": 12
           }
          ]
         }
        },
        {
         "name": "Average price of 1GB (USD  at the start of 2021)",
         "dtype": "object",
         "stats": {
          "unique_count": 0,
          "nan_count": 12,
          "categories": [
           {
            "name": "Missing",
            "count": 12
           }
          ]
         }
        },
        {
         "name": "Average price of 1GB (USD – at start of 2020)",
         "dtype": "object",
         "stats": {
          "unique_count": 0,
          "nan_count": 12,
          "categories": [
           {
            "name": "Missing",
            "count": 12
           }
          ]
         }
        },
        {
         "name": "_deepnote_index_column",
         "dtype": "int64"
        }
       ],
       "rows": [
        {
         "Country code": "CW",
         "Name": "Christmas Island",
         "Continental region": "CARIBBEAN",
         "NO. OF Internet Plans ": "nan",
         "Average price of 1GB (USD)": "NO PROVIDERS",
         "Cheapest 1GB for 30 days (USD)": "nan",
         "Most expensive 1GB (USD)": "nan",
         "Average price of 1GB (USD  at the start of 2021)": "nan",
         "Average price of 1GB (USD – at start of 2020)": "nan",
         "_deepnote_index_column": 230
        },
        {
         "Country code": "ER",
         "Name": "Eritrea",
         "Continental region": "NORTHERN AFRICA",
         "NO. OF Internet Plans ": "nan",
         "Average price of 1GB (USD)": "NO PROVIDERS",
         "Cheapest 1GB for 30 days (USD)": "nan",
         "Most expensive 1GB (USD)": "nan",
         "Average price of 1GB (USD  at the start of 2021)": "nan",
         "Average price of 1GB (USD – at start of 2020)": "nan",
         "_deepnote_index_column": 231
        },
        {
         "Country code": "KP",
         "Name": "North Korea",
         "Continental region": "CARIBBEAN",
         "NO. OF Internet Plans ": "nan",
         "Average price of 1GB (USD)": "NO PROVIDERS",
         "Cheapest 1GB for 30 days (USD)": "nan",
         "Most expensive 1GB (USD)": "nan",
         "Average price of 1GB (USD  at the start of 2021)": "nan",
         "Average price of 1GB (USD – at start of 2020)": "nan",
         "_deepnote_index_column": 232
        },
        {
         "Country code": "MH",
         "Name": "Marshall Islands",
         "Continental region": "OCEANIA",
         "NO. OF Internet Plans ": "nan",
         "Average price of 1GB (USD)": "NO PROVIDERS",
         "Cheapest 1GB for 30 days (USD)": "nan",
         "Most expensive 1GB (USD)": "nan",
         "Average price of 1GB (USD  at the start of 2021)": "nan",
         "Average price of 1GB (USD – at start of 2020)": "nan",
         "_deepnote_index_column": 233
        },
        {
         "Country code": "PM",
         "Name": "St. Pierre and Miquelon",
         "Continental region": "CARIBBEAN",
         "NO. OF Internet Plans ": "nan",
         "Average price of 1GB (USD)": "NO PROVIDERS",
         "Cheapest 1GB for 30 days (USD)": "nan",
         "Most expensive 1GB (USD)": "nan",
         "Average price of 1GB (USD  at the start of 2021)": "nan",
         "Average price of 1GB (USD – at start of 2020)": "nan",
         "_deepnote_index_column": 234
        },
        {
         "Country code": "SS",
         "Name": "South Sudan",
         "Continental region": "SUB-SAHARAN AFRICA",
         "NO. OF Internet Plans ": "nan",
         "Average price of 1GB (USD)": "NO PROVIDERS",
         "Cheapest 1GB for 30 days (USD)": "nan",
         "Most expensive 1GB (USD)": "nan",
         "Average price of 1GB (USD  at the start of 2021)": "nan",
         "Average price of 1GB (USD – at start of 2020)": "nan",
         "_deepnote_index_column": 235
        },
        {
         "Country code": "TT",
         "Name": "Tuvalu",
         "Continental region": "OCEANIA",
         "NO. OF Internet Plans ": "nan",
         "Average price of 1GB (USD)": "NO PROVIDERS",
         "Cheapest 1GB for 30 days (USD)": "nan",
         "Most expensive 1GB (USD)": "nan",
         "Average price of 1GB (USD  at the start of 2021)": "nan",
         "Average price of 1GB (USD – at start of 2020)": "nan",
         "_deepnote_index_column": 236
        },
        {
         "Country code": "VA",
         "Name": "Vatican City (Holy See)",
         "Continental region": "Europe",
         "NO. OF Internet Plans ": "nan",
         "Average price of 1GB (USD)": "NO PROVIDERS",
         "Cheapest 1GB for 30 days (USD)": "nan",
         "Most expensive 1GB (USD)": "nan",
         "Average price of 1GB (USD  at the start of 2021)": "nan",
         "Average price of 1GB (USD – at start of 2020)": "nan",
         "_deepnote_index_column": 237
        },
        {
         "Country code": "VE",
         "Name": "Venezuela",
         "Continental region": "SOUTH AMERICA",
         "NO. OF Internet Plans ": "nan",
         "Average price of 1GB (USD)": "HYPERINFLATION",
         "Cheapest 1GB for 30 days (USD)": "nan",
         "Most expensive 1GB (USD)": "nan",
         "Average price of 1GB (USD  at the start of 2021)": "nan",
         "Average price of 1GB (USD – at start of 2020)": "nan",
         "_deepnote_index_column": 238
        },
        {
         "Country code": "WF",
         "Name": "Wallis and Futuna",
         "Continental region": "OCEANIA",
         "NO. OF Internet Plans ": "nan",
         "Average price of 1GB (USD)": "NO PROVIDERS",
         "Cheapest 1GB for 30 days (USD)": "nan",
         "Most expensive 1GB (USD)": "nan",
         "Average price of 1GB (USD  at the start of 2021)": "nan",
         "Average price of 1GB (USD – at start of 2020)": "nan",
         "_deepnote_index_column": 239
        }
       ]
      },
      "text/plain": "    Country code                            Name  Continental region  \\\n230           CW                Christmas Island           CARIBBEAN   \n231           ER                         Eritrea     NORTHERN AFRICA   \n232           KP                     North Korea           CARIBBEAN   \n233           MH                Marshall Islands             OCEANIA   \n234           PM         St. Pierre and Miquelon           CARIBBEAN   \n235           SS                     South Sudan  SUB-SAHARAN AFRICA   \n236           TT                          Tuvalu             OCEANIA   \n237           VA         Vatican City (Holy See)              Europe   \n238           VE                       Venezuela       SOUTH AMERICA   \n239           WF               Wallis and Futuna             OCEANIA   \n240           CD  Congo (Democratic Republic of)  SUB-SAHARAN AFRICA   \n241           ZW                        Zimbabwe  SUB-SAHARAN AFRICA   \n\n     NO. OF Internet Plans                 Average price of 1GB (USD)  \\\n230                     NaN                              NO PROVIDERS   \n231                     NaN                              NO PROVIDERS   \n232                     NaN                              NO PROVIDERS   \n233                     NaN                              NO PROVIDERS   \n234                     NaN                              NO PROVIDERS   \n235                     NaN                              NO PROVIDERS   \n236                     NaN                              NO PROVIDERS   \n237                     NaN                              NO PROVIDERS   \n238                     NaN                            HYPERINFLATION   \n239                     NaN                              NO PROVIDERS   \n240                     NaN  Prices listed in non-convertible 'units'   \n241                     NaN                 UNRELIABLE EXCHANGE RATES   \n\n    Cheapest 1GB for 30 days (USD) Most expensive 1GB (USD)  \\\n230                            NaN                      NaN   \n231                            NaN                      NaN   \n232                            NaN                      NaN   \n233                            NaN                      NaN   \n234                            NaN                      NaN   \n235                            NaN                      NaN   \n236                            NaN                      NaN   \n237                            NaN                      NaN   \n238                            NaN                      NaN   \n239                            NaN                      NaN   \n240                            NaN                      NaN   \n241                            NaN                      NaN   \n\n    Average price of 1GB (USD  at the start of 2021)  \\\n230                                              NaN   \n231                                              NaN   \n232                                              NaN   \n233                                              NaN   \n234                                              NaN   \n235                                              NaN   \n236                                              NaN   \n237                                              NaN   \n238                                              NaN   \n239                                              NaN   \n240                                              NaN   \n241                                              NaN   \n\n    Average price of 1GB (USD – at start of 2020)  \n230                                           NaN  \n231                                           NaN  \n232                                           NaN  \n233                                           NaN  \n234                                           NaN  \n235                                           NaN  \n236                                           NaN  \n237                                           NaN  \n238                                           NaN  \n239                                           NaN  \n240                                           NaN  \n241                                           NaN  ",
      "text/html": "<div>\n<style scoped>\n    .dataframe tbody tr th:only-of-type {\n        vertical-align: middle;\n    }\n\n    .dataframe tbody tr th {\n        vertical-align: top;\n    }\n\n    .dataframe thead th {\n        text-align: right;\n    }\n</style>\n<table border=\"1\" class=\"dataframe\">\n  <thead>\n    <tr style=\"text-align: right;\">\n      <th></th>\n      <th>Country code</th>\n      <th>Name</th>\n      <th>Continental region</th>\n      <th>NO. OF Internet Plans</th>\n      <th>Average price of 1GB (USD)</th>\n      <th>Cheapest 1GB for 30 days (USD)</th>\n      <th>Most expensive 1GB (USD)</th>\n      <th>Average price of 1GB (USD  at the start of 2021)</th>\n      <th>Average price of 1GB (USD – at start of 2020)</th>\n    </tr>\n  </thead>\n  <tbody>\n    <tr>\n      <th>230</th>\n      <td>CW</td>\n      <td>Christmas Island</td>\n      <td>CARIBBEAN</td>\n      <td>NaN</td>\n      <td>NO PROVIDERS</td>\n      <td>NaN</td>\n      <td>NaN</td>\n      <td>NaN</td>\n      <td>NaN</td>\n    </tr>\n    <tr>\n      <th>231</th>\n      <td>ER</td>\n      <td>Eritrea</td>\n      <td>NORTHERN AFRICA</td>\n      <td>NaN</td>\n      <td>NO PROVIDERS</td>\n      <td>NaN</td>\n      <td>NaN</td>\n      <td>NaN</td>\n      <td>NaN</td>\n    </tr>\n    <tr>\n      <th>232</th>\n      <td>KP</td>\n      <td>North Korea</td>\n      <td>CARIBBEAN</td>\n      <td>NaN</td>\n      <td>NO PROVIDERS</td>\n      <td>NaN</td>\n      <td>NaN</td>\n      <td>NaN</td>\n      <td>NaN</td>\n    </tr>\n    <tr>\n      <th>233</th>\n      <td>MH</td>\n      <td>Marshall Islands</td>\n      <td>OCEANIA</td>\n      <td>NaN</td>\n      <td>NO PROVIDERS</td>\n      <td>NaN</td>\n      <td>NaN</td>\n      <td>NaN</td>\n      <td>NaN</td>\n    </tr>\n    <tr>\n      <th>234</th>\n      <td>PM</td>\n      <td>St. Pierre and Miquelon</td>\n      <td>CARIBBEAN</td>\n      <td>NaN</td>\n      <td>NO PROVIDERS</td>\n      <td>NaN</td>\n      <td>NaN</td>\n      <td>NaN</td>\n      <td>NaN</td>\n    </tr>\n    <tr>\n      <th>235</th>\n      <td>SS</td>\n      <td>South Sudan</td>\n      <td>SUB-SAHARAN AFRICA</td>\n      <td>NaN</td>\n      <td>NO PROVIDERS</td>\n      <td>NaN</td>\n      <td>NaN</td>\n      <td>NaN</td>\n      <td>NaN</td>\n    </tr>\n    <tr>\n      <th>236</th>\n      <td>TT</td>\n      <td>Tuvalu</td>\n      <td>OCEANIA</td>\n      <td>NaN</td>\n      <td>NO PROVIDERS</td>\n      <td>NaN</td>\n      <td>NaN</td>\n      <td>NaN</td>\n      <td>NaN</td>\n    </tr>\n    <tr>\n      <th>237</th>\n      <td>VA</td>\n      <td>Vatican City (Holy See)</td>\n      <td>Europe</td>\n      <td>NaN</td>\n      <td>NO PROVIDERS</td>\n      <td>NaN</td>\n      <td>NaN</td>\n      <td>NaN</td>\n      <td>NaN</td>\n    </tr>\n    <tr>\n      <th>238</th>\n      <td>VE</td>\n      <td>Venezuela</td>\n      <td>SOUTH AMERICA</td>\n      <td>NaN</td>\n      <td>HYPERINFLATION</td>\n      <td>NaN</td>\n      <td>NaN</td>\n      <td>NaN</td>\n      <td>NaN</td>\n    </tr>\n    <tr>\n      <th>239</th>\n      <td>WF</td>\n      <td>Wallis and Futuna</td>\n      <td>OCEANIA</td>\n      <td>NaN</td>\n      <td>NO PROVIDERS</td>\n      <td>NaN</td>\n      <td>NaN</td>\n      <td>NaN</td>\n      <td>NaN</td>\n    </tr>\n    <tr>\n      <th>240</th>\n      <td>CD</td>\n      <td>Congo (Democratic Republic of)</td>\n      <td>SUB-SAHARAN AFRICA</td>\n      <td>NaN</td>\n      <td>Prices listed in non-convertible 'units'</td>\n      <td>NaN</td>\n      <td>NaN</td>\n      <td>NaN</td>\n      <td>NaN</td>\n    </tr>\n    <tr>\n      <th>241</th>\n      <td>ZW</td>\n      <td>Zimbabwe</td>\n      <td>SUB-SAHARAN AFRICA</td>\n      <td>NaN</td>\n      <td>UNRELIABLE EXCHANGE RATES</td>\n      <td>NaN</td>\n      <td>NaN</td>\n      <td>NaN</td>\n      <td>NaN</td>\n    </tr>\n  </tbody>\n</table>\n</div>"
     },
     "metadata": {}
    }
   ],
   "execution_count": 6
  },
  {
   "cell_type": "markdown",
   "source": "#### Indeed, this DF has basically no info from index 230 to 241, besides the country/region reference. We can drop this rows and we won't miss any valuable information.  ",
   "metadata": {
    "cell_id": "a224e0a64f5841c28d2b9a242eaeba83",
    "tags": [],
    "deepnote_cell_type": "markdown",
    "deepnote_cell_height": 78
   },
   "outputs": [],
   "execution_count": null
  },
  {
   "cell_type": "code",
   "source": "# drop rows with null values for selected columns only\nprices.dropna(subset=['NO. OF Internet Plans ','Average price of 1GB (USD)','Cheapest 1GB for 30 days (USD)',\n    'Most expensive 1GB (USD)','Average price of 1GB (USD  at the start of 2021)',\n    'Average price of 1GB (USD – at start of 2020)'],inplace=True)",
   "metadata": {
    "cell_id": "aa47092414bf4ede87dddc7f39b13920",
    "tags": [],
    "deepnote_to_be_reexecuted": false,
    "source_hash": "741a859",
    "execution_start": 1657584877842,
    "execution_millis": 58,
    "deepnote_cell_type": "code",
    "deepnote_cell_height": 135
   },
   "outputs": [],
   "execution_count": 7
  },
  {
   "cell_type": "markdown",
   "source": "#### Let's now check our DF in more detail, without null values",
   "metadata": {
    "cell_id": "403916944427492aa77249c870a6e068",
    "tags": [],
    "deepnote_cell_type": "markdown",
    "deepnote_cell_height": 54
   },
   "outputs": [],
   "execution_count": null
  },
  {
   "cell_type": "code",
   "source": "prices.head()",
   "metadata": {
    "cell_id": "9b6352b55e2f46d7a255d64d5a14c98e",
    "tags": [],
    "deepnote_to_be_reexecuted": false,
    "source_hash": "419969e4",
    "execution_start": 1657584877900,
    "execution_millis": 27,
    "deepnote_cell_type": "code",
    "deepnote_cell_height": 412
   },
   "outputs": [
    {
     "output_type": "execute_result",
     "execution_count": 8,
     "data": {
      "application/vnd.deepnote.dataframe.v3+json": {
       "column_count": 9,
       "row_count": 5,
       "columns": [
        {
         "name": "Country code",
         "dtype": "object",
         "stats": {
          "unique_count": 5,
          "nan_count": 0,
          "categories": [
           {
            "name": "IL",
            "count": 1
           },
           {
            "name": "KG",
            "count": 1
           },
           {
            "name": "3 others",
            "count": 3
           }
          ]
         }
        },
        {
         "name": "Name",
         "dtype": "object",
         "stats": {
          "unique_count": 5,
          "nan_count": 0,
          "categories": [
           {
            "name": "Israel",
            "count": 1
           },
           {
            "name": "Kyrgyzstan",
            "count": 1
           },
           {
            "name": "3 others",
            "count": 3
           }
          ]
         }
        },
        {
         "name": "Continental region",
         "dtype": "object",
         "stats": {
          "unique_count": 5,
          "nan_count": 0,
          "categories": [
           {
            "name": "NEAR EAST",
            "count": 1
           },
           {
            "name": "CIS (FORMER USSR)",
            "count": 1
           },
           {
            "name": "3 others",
            "count": 3
           }
          ]
         }
        },
        {
         "name": "NO. OF Internet Plans ",
         "dtype": "float64",
         "stats": {
          "unique_count": 5,
          "nan_count": 0,
          "min": "18.0",
          "max": "33.0",
          "histogram": [
           {
            "bin_start": 18,
            "bin_end": 19.5,
            "count": 1
           },
           {
            "bin_start": 19.5,
            "bin_end": 21,
            "count": 1
           },
           {
            "bin_start": 21,
            "bin_end": 22.5,
            "count": 0
           },
           {
            "bin_start": 22.5,
            "bin_end": 24,
            "count": 0
           },
           {
            "bin_start": 24,
            "bin_end": 25.5,
            "count": 0
           },
           {
            "bin_start": 25.5,
            "bin_end": 27,
            "count": 0
           },
           {
            "bin_start": 27,
            "bin_end": 28.5,
            "count": 1
           },
           {
            "bin_start": 28.5,
            "bin_end": 30,
            "count": 1
           },
           {
            "bin_start": 30,
            "bin_end": 31.5,
            "count": 0
           },
           {
            "bin_start": 31.5,
            "bin_end": 33,
            "count": 1
           }
          ]
         }
        },
        {
         "name": "Average price of 1GB (USD)",
         "dtype": "object",
         "stats": {
          "unique_count": 4,
          "nan_count": 0,
          "categories": [
           {
            "name": "$0.27",
            "count": 2
           },
           {
            "name": "$0.05",
            "count": 1
           },
           {
            "name": "2 others",
            "count": 2
           }
          ]
         }
        },
        {
         "name": "Cheapest 1GB for 30 days (USD)",
         "dtype": "object",
         "stats": {
          "unique_count": 5,
          "nan_count": 0,
          "categories": [
           {
            "name": "$0.02",
            "count": 1
           },
           {
            "name": "$0.10",
            "count": 1
           },
           {
            "name": "3 others",
            "count": 3
           }
          ]
         }
        },
        {
         "name": "Most expensive 1GB (USD)",
         "dtype": "object",
         "stats": {
          "unique_count": 5,
          "nan_count": 0,
          "categories": [
           {
            "name": "$20.95",
            "count": 1
           },
           {
            "name": "$7.08",
            "count": 1
           },
           {
            "name": "3 others",
            "count": 3
           }
          ]
         }
        },
        {
         "name": "Average price of 1GB (USD  at the start of 2021)",
         "dtype": "object",
         "stats": {
          "unique_count": 5,
          "nan_count": 0,
          "categories": [
           {
            "name": "$0.11",
            "count": 1
           },
           {
            "name": "$0.21",
            "count": 1
           },
           {
            "name": "3 others",
            "count": 3
           }
          ]
         }
        },
        {
         "name": "Average price of 1GB (USD – at start of 2020)",
         "dtype": "object",
         "stats": {
          "unique_count": 5,
          "nan_count": 0,
          "categories": [
           {
            "name": "$0.90",
            "count": 1
           },
           {
            "name": "$0.27",
            "count": 1
           },
           {
            "name": "3 others",
            "count": 3
           }
          ]
         }
        },
        {
         "name": "_deepnote_index_column",
         "dtype": "int64"
        }
       ],
       "rows": [
        {
         "Country code": "IL",
         "Name": "Israel",
         "Continental region": "NEAR EAST",
         "NO. OF Internet Plans ": 27,
         "Average price of 1GB (USD)": "$0.05",
         "Cheapest 1GB for 30 days (USD)": "$0.02",
         "Most expensive 1GB (USD)": "$20.95",
         "Average price of 1GB (USD  at the start of 2021)": "$0.11",
         "Average price of 1GB (USD – at start of 2020)": "$0.90",
         "_deepnote_index_column": 0
        },
        {
         "Country code": "KG",
         "Name": "Kyrgyzstan",
         "Continental region": "CIS (FORMER USSR)",
         "NO. OF Internet Plans ": 20,
         "Average price of 1GB (USD)": "$0.15",
         "Cheapest 1GB for 30 days (USD)": "$0.10",
         "Most expensive 1GB (USD)": "$7.08",
         "Average price of 1GB (USD  at the start of 2021)": "$0.21",
         "Average price of 1GB (USD – at start of 2020)": "$0.27",
         "_deepnote_index_column": 1
        },
        {
         "Country code": "FJ",
         "Name": "Fiji",
         "Continental region": "OCEANIA",
         "NO. OF Internet Plans ": 18,
         "Average price of 1GB (USD)": "$0.19",
         "Cheapest 1GB for 30 days (USD)": "$0.05",
         "Most expensive 1GB (USD)": "$0.85",
         "Average price of 1GB (USD  at the start of 2021)": "$0.59",
         "Average price of 1GB (USD – at start of 2020)": "$3.57",
         "_deepnote_index_column": 2
        },
        {
         "Country code": "IT",
         "Name": "Italy",
         "Continental region": "WESTERN EUROPE",
         "NO. OF Internet Plans ": 29,
         "Average price of 1GB (USD)": "$0.27",
         "Cheapest 1GB for 30 days (USD)": "$0.09",
         "Most expensive 1GB (USD)": "$3.54",
         "Average price of 1GB (USD  at the start of 2021)": "$0.43",
         "Average price of 1GB (USD – at start of 2020)": "$1.73",
         "_deepnote_index_column": 3
        },
        {
         "Country code": "SD",
         "Name": "Sudan",
         "Continental region": "SUB-SAHARAN AFRICA",
         "NO. OF Internet Plans ": 33,
         "Average price of 1GB (USD)": "$0.27",
         "Cheapest 1GB for 30 days (USD)": "$0.03",
         "Most expensive 1GB (USD)": "$0.92",
         "Average price of 1GB (USD  at the start of 2021)": "$0.63",
         "Average price of 1GB (USD – at start of 2020)": "$0.68",
         "_deepnote_index_column": 4
        }
       ]
      },
      "text/plain": "  Country code        Name  Continental region  NO. OF Internet Plans   \\\n0           IL      Israel           NEAR EAST                    27.0   \n1           KG  Kyrgyzstan   CIS (FORMER USSR)                    20.0   \n2           FJ        Fiji             OCEANIA                    18.0   \n3           IT       Italy      WESTERN EUROPE                    29.0   \n4           SD       Sudan  SUB-SAHARAN AFRICA                    33.0   \n\n  Average price of 1GB (USD) Cheapest 1GB for 30 days (USD)  \\\n0                      $0.05                          $0.02   \n1                      $0.15                          $0.10   \n2                      $0.19                          $0.05   \n3                      $0.27                          $0.09   \n4                      $0.27                          $0.03   \n\n  Most expensive 1GB (USD) Average price of 1GB (USD  at the start of 2021)  \\\n0                   $20.95                                            $0.11   \n1                    $7.08                                            $0.21   \n2                    $0.85                                            $0.59   \n3                    $3.54                                            $0.43   \n4                    $0.92                                            $0.63   \n\n  Average price of 1GB (USD – at start of 2020)  \n0                                         $0.90  \n1                                         $0.27  \n2                                         $3.57  \n3                                         $1.73  \n4                                         $0.68  ",
      "text/html": "<div>\n<style scoped>\n    .dataframe tbody tr th:only-of-type {\n        vertical-align: middle;\n    }\n\n    .dataframe tbody tr th {\n        vertical-align: top;\n    }\n\n    .dataframe thead th {\n        text-align: right;\n    }\n</style>\n<table border=\"1\" class=\"dataframe\">\n  <thead>\n    <tr style=\"text-align: right;\">\n      <th></th>\n      <th>Country code</th>\n      <th>Name</th>\n      <th>Continental region</th>\n      <th>NO. OF Internet Plans</th>\n      <th>Average price of 1GB (USD)</th>\n      <th>Cheapest 1GB for 30 days (USD)</th>\n      <th>Most expensive 1GB (USD)</th>\n      <th>Average price of 1GB (USD  at the start of 2021)</th>\n      <th>Average price of 1GB (USD – at start of 2020)</th>\n    </tr>\n  </thead>\n  <tbody>\n    <tr>\n      <th>0</th>\n      <td>IL</td>\n      <td>Israel</td>\n      <td>NEAR EAST</td>\n      <td>27.0</td>\n      <td>$0.05</td>\n      <td>$0.02</td>\n      <td>$20.95</td>\n      <td>$0.11</td>\n      <td>$0.90</td>\n    </tr>\n    <tr>\n      <th>1</th>\n      <td>KG</td>\n      <td>Kyrgyzstan</td>\n      <td>CIS (FORMER USSR)</td>\n      <td>20.0</td>\n      <td>$0.15</td>\n      <td>$0.10</td>\n      <td>$7.08</td>\n      <td>$0.21</td>\n      <td>$0.27</td>\n    </tr>\n    <tr>\n      <th>2</th>\n      <td>FJ</td>\n      <td>Fiji</td>\n      <td>OCEANIA</td>\n      <td>18.0</td>\n      <td>$0.19</td>\n      <td>$0.05</td>\n      <td>$0.85</td>\n      <td>$0.59</td>\n      <td>$3.57</td>\n    </tr>\n    <tr>\n      <th>3</th>\n      <td>IT</td>\n      <td>Italy</td>\n      <td>WESTERN EUROPE</td>\n      <td>29.0</td>\n      <td>$0.27</td>\n      <td>$0.09</td>\n      <td>$3.54</td>\n      <td>$0.43</td>\n      <td>$1.73</td>\n    </tr>\n    <tr>\n      <th>4</th>\n      <td>SD</td>\n      <td>Sudan</td>\n      <td>SUB-SAHARAN AFRICA</td>\n      <td>33.0</td>\n      <td>$0.27</td>\n      <td>$0.03</td>\n      <td>$0.92</td>\n      <td>$0.63</td>\n      <td>$0.68</td>\n    </tr>\n  </tbody>\n</table>\n</div>"
     },
     "metadata": {}
    }
   ],
   "execution_count": 8
  },
  {
   "cell_type": "markdown",
   "source": "#### Last five columns represent different types of internet costs for every country. We should convert those columns to integers and delete the $ sign for a better manipulation. ",
   "metadata": {
    "cell_id": "5419c6937b9e4f8d870cb8805273857c",
    "tags": [],
    "deepnote_cell_type": "markdown",
    "deepnote_cell_height": 78
   },
   "outputs": [],
   "execution_count": null
  },
  {
   "cell_type": "code",
   "metadata": {
    "cell_id": "991df8091abe41339c53ce70d00fed6d",
    "tags": [],
    "deepnote_to_be_reexecuted": false,
    "source_hash": "30017d8",
    "execution_start": 1657584877921,
    "execution_millis": 5,
    "deepnote_cell_type": "code",
    "deepnote_cell_height": 225
   },
   "source": "# First, let's create a function to strip the $ sign \ncols = ['Average price of 1GB (USD)', 'Cheapest 1GB for 30 days (USD)', 'Most expensive 1GB (USD)','Average price of 1GB (USD  at the start of 2021)','Average price of 1GB (USD – at start of 2020)']\nprices[cols] = prices[cols].apply(lambda x: x.str.lstrip('$'))\n\n# Now let's make sure there aren't any white spaces at begining or end \nprices[cols] = prices[cols].apply(lambda x: x.str.strip())\n\n# now let's convert these columns to numeric\nprices[cols] = prices[cols].apply(pd.to_numeric, errors= 'coerce')",
   "execution_count": 9,
   "outputs": []
  },
  {
   "cell_type": "code",
   "source": "prices['Continental region'].value_counts()\n## set to lower case and reduce to 5 regions",
   "metadata": {
    "cell_id": "5de71ccf5e124055902df01f552af297",
    "tags": [],
    "deepnote_to_be_reexecuted": false,
    "source_hash": "f74e5eab",
    "execution_start": 1657585589420,
    "execution_millis": 10,
    "deepnote_table_state": {
     "pageSize": 10,
     "pageIndex": 0,
     "filters": [],
     "sortBy": []
    },
    "deepnote_table_loading": false,
    "deepnote_cell_type": "code",
    "deepnote_cell_height": 385.625,
    "deepnote_output_heights": [
     270.625
    ]
   },
   "outputs": [
    {
     "output_type": "execute_result",
     "execution_count": 24,
     "data": {
      "text/plain": "SUB-SAHARAN AFRICA      47\nWESTERN EUROPE          30\nCARIBBEAN               28\nASIA (EX. NEAR EAST)    28\nOCEANIA                 22\nNEAR EAST               15\nEASTERN EUROPE          14\nSOUTH AMERICA           13\nCIS (FORMER USSR)       11\nCENTRAL AMERICA          8\nNORTHERN AFRICA          7\nNORTHERN AMERICA         4\nBALTICS                  3\nName: Continental region, dtype: int64"
     },
     "metadata": {}
    }
   ],
   "execution_count": 24
  },
  {
   "cell_type": "code",
   "source": "prices",
   "metadata": {
    "cell_id": "23fec06bb0b84e2db4ca8ed4a807b8df",
    "tags": [],
    "deepnote_to_be_reexecuted": false,
    "source_hash": "125d7fb6",
    "execution_start": 1657585663816,
    "execution_millis": 35,
    "deepnote_table_state": {
     "pageSize": 10,
     "pageIndex": 0,
     "filters": [
      {
       "id": "Continental region",
       "value": "cis",
       "type": "contains"
      }
     ],
     "sortBy": []
    },
    "deepnote_table_loading": false,
    "owner_user_id": "a75a09da-af1d-43d3-afa9-7caf9a44a34e",
    "deepnote_cell_type": "code",
    "deepnote_cell_height": 617,
    "deepnote_output_heights": [
     193.875
    ]
   },
   "outputs": [
    {
     "output_type": "execute_result",
     "execution_count": 26,
     "data": {
      "application/vnd.deepnote.dataframe.v3+json": {
       "column_count": 9,
       "row_count": 11,
       "columns": [
        {
         "name": "Country code",
         "dtype": "object",
         "stats": {
          "unique_count": 11,
          "nan_count": 0,
          "categories": [
           {
            "name": "KG",
            "count": 1
           },
           {
            "name": "RU",
            "count": 1
           },
           {
            "name": "9 others",
            "count": 9
           }
          ]
         }
        },
        {
         "name": "Name",
         "dtype": "object",
         "stats": {
          "unique_count": 11,
          "nan_count": 0,
          "categories": [
           {
            "name": "Kyrgyzstan",
            "count": 1
           },
           {
            "name": "Russian Federation",
            "count": 1
           },
           {
            "name": "9 others",
            "count": 9
           }
          ]
         }
        },
        {
         "name": "Continental region",
         "dtype": "object",
         "stats": {
          "unique_count": 1,
          "nan_count": 0,
          "categories": [
           {
            "name": "CIS (FORMER USSR)",
            "count": 11
           }
          ]
         }
        },
        {
         "name": "NO. OF Internet Plans ",
         "dtype": "float64",
         "stats": {
          "unique_count": 8,
          "nan_count": 0,
          "min": "4.0",
          "max": "60.0",
          "histogram": [
           {
            "bin_start": 4,
            "bin_end": 9.6,
            "count": 1
           },
           {
            "bin_start": 9.6,
            "bin_end": 15.2,
            "count": 1
           },
           {
            "bin_start": 15.2,
            "bin_end": 20.799999999999997,
            "count": 4
           },
           {
            "bin_start": 20.799999999999997,
            "bin_end": 26.4,
            "count": 3
           },
           {
            "bin_start": 26.4,
            "bin_end": 32,
            "count": 0
           },
           {
            "bin_start": 32,
            "bin_end": 37.599999999999994,
            "count": 0
           },
           {
            "bin_start": 37.599999999999994,
            "bin_end": 43.199999999999996,
            "count": 1
           },
           {
            "bin_start": 43.199999999999996,
            "bin_end": 48.8,
            "count": 0
           },
           {
            "bin_start": 48.8,
            "bin_end": 54.4,
            "count": 0
           },
           {
            "bin_start": 54.4,
            "bin_end": 60,
            "count": 1
           }
          ]
         }
        },
        {
         "name": "Average price of 1GB (USD)",
         "dtype": "float64",
         "stats": {
          "unique_count": 11,
          "nan_count": 0,
          "min": "0.15",
          "max": "21.41",
          "histogram": [
           {
            "bin_start": 0.15,
            "bin_end": 2.2760000000000002,
            "count": 9
           },
           {
            "bin_start": 2.2760000000000002,
            "bin_end": 4.402000000000001,
            "count": 1
           },
           {
            "bin_start": 4.402000000000001,
            "bin_end": 6.528000000000001,
            "count": 0
           },
           {
            "bin_start": 6.528000000000001,
            "bin_end": 8.654000000000002,
            "count": 0
           },
           {
            "bin_start": 8.654000000000002,
            "bin_end": 10.780000000000003,
            "count": 0
           },
           {
            "bin_start": 10.780000000000003,
            "bin_end": 12.906000000000002,
            "count": 0
           },
           {
            "bin_start": 12.906000000000002,
            "bin_end": 15.032000000000002,
            "count": 0
           },
           {
            "bin_start": 15.032000000000002,
            "bin_end": 17.158,
            "count": 0
           },
           {
            "bin_start": 17.158,
            "bin_end": 19.284000000000002,
            "count": 0
           },
           {
            "bin_start": 19.284000000000002,
            "bin_end": 21.41,
            "count": 1
           }
          ]
         }
        },
        {
         "name": "Cheapest 1GB for 30 days (USD)",
         "dtype": "float64",
         "stats": {
          "unique_count": 11,
          "nan_count": 0,
          "min": "0.01",
          "max": "7.14",
          "histogram": [
           {
            "bin_start": 0.01,
            "bin_end": 0.723,
            "count": 9
           },
           {
            "bin_start": 0.723,
            "bin_end": 1.436,
            "count": 1
           },
           {
            "bin_start": 1.436,
            "bin_end": 2.1489999999999996,
            "count": 0
           },
           {
            "bin_start": 2.1489999999999996,
            "bin_end": 2.8619999999999997,
            "count": 0
           },
           {
            "bin_start": 2.8619999999999997,
            "bin_end": 3.5749999999999997,
            "count": 0
           },
           {
            "bin_start": 3.5749999999999997,
            "bin_end": 4.287999999999999,
            "count": 0
           },
           {
            "bin_start": 4.287999999999999,
            "bin_end": 5.0009999999999994,
            "count": 0
           },
           {
            "bin_start": 5.0009999999999994,
            "bin_end": 5.7139999999999995,
            "count": 0
           },
           {
            "bin_start": 5.7139999999999995,
            "bin_end": 6.427,
            "count": 0
           },
           {
            "bin_start": 6.427,
            "bin_end": 7.14,
            "count": 1
           }
          ]
         }
        },
        {
         "name": "Most expensive 1GB (USD)",
         "dtype": "float64",
         "stats": {
          "unique_count": 11,
          "nan_count": 0,
          "min": "1.86",
          "max": "35.88",
          "histogram": [
           {
            "bin_start": 1.86,
            "bin_end": 5.2620000000000005,
            "count": 2
           },
           {
            "bin_start": 5.2620000000000005,
            "bin_end": 8.664,
            "count": 2
           },
           {
            "bin_start": 8.664,
            "bin_end": 12.065999999999999,
            "count": 1
           },
           {
            "bin_start": 12.065999999999999,
            "bin_end": 15.468,
            "count": 2
           },
           {
            "bin_start": 15.468,
            "bin_end": 18.87,
            "count": 1
           },
           {
            "bin_start": 18.87,
            "bin_end": 22.272,
            "count": 0
           },
           {
            "bin_start": 22.272,
            "bin_end": 25.674,
            "count": 1
           },
           {
            "bin_start": 25.674,
            "bin_end": 29.076,
            "count": 0
           },
           {
            "bin_start": 29.076,
            "bin_end": 32.478,
            "count": 1
           },
           {
            "bin_start": 32.478,
            "bin_end": 35.88,
            "count": 1
           }
          ]
         }
        },
        {
         "name": "Average price of 1GB (USD  at the start of 2021)",
         "dtype": "float64",
         "stats": {
          "unique_count": 10,
          "nan_count": 0,
          "min": "0.21",
          "max": "11.44",
          "histogram": [
           {
            "bin_start": 0.21,
            "bin_end": 1.3329999999999997,
            "count": 7
           },
           {
            "bin_start": 1.3329999999999997,
            "bin_end": 2.4559999999999995,
            "count": 2
           },
           {
            "bin_start": 2.4559999999999995,
            "bin_end": 3.5789999999999993,
            "count": 0
           },
           {
            "bin_start": 3.5789999999999993,
            "bin_end": 4.701999999999999,
            "count": 1
           },
           {
            "bin_start": 4.701999999999999,
            "bin_end": 5.824999999999998,
            "count": 0
           },
           {
            "bin_start": 5.824999999999998,
            "bin_end": 6.947999999999999,
            "count": 0
           },
           {
            "bin_start": 6.947999999999999,
            "bin_end": 8.071,
            "count": 0
           },
           {
            "bin_start": 8.071,
            "bin_end": 9.193999999999999,
            "count": 0
           },
           {
            "bin_start": 9.193999999999999,
            "bin_end": 10.316999999999998,
            "count": 0
           },
           {
            "bin_start": 10.316999999999998,
            "bin_end": 11.44,
            "count": 1
           }
          ]
         }
        },
        {
         "name": "Average price of 1GB (USD – at start of 2020)",
         "dtype": "float64",
         "stats": {
          "unique_count": 11,
          "nan_count": 0,
          "min": "0.27",
          "max": "19.81",
          "histogram": [
           {
            "bin_start": 0.27,
            "bin_end": 2.224,
            "count": 3
           },
           {
            "bin_start": 2.224,
            "bin_end": 4.178,
            "count": 4
           },
           {
            "bin_start": 4.178,
            "bin_end": 6.132,
            "count": 2
           },
           {
            "bin_start": 6.132,
            "bin_end": 8.086,
            "count": 1
           },
           {
            "bin_start": 8.086,
            "bin_end": 10.04,
            "count": 0
           },
           {
            "bin_start": 10.04,
            "bin_end": 11.994,
            "count": 0
           },
           {
            "bin_start": 11.994,
            "bin_end": 13.947999999999999,
            "count": 0
           },
           {
            "bin_start": 13.947999999999999,
            "bin_end": 15.902,
            "count": 0
           },
           {
            "bin_start": 15.902,
            "bin_end": 17.855999999999998,
            "count": 0
           },
           {
            "bin_start": 17.855999999999998,
            "bin_end": 19.81,
            "count": 1
           }
          ]
         }
        },
        {
         "name": "_deepnote_index_column",
         "dtype": "int64"
        }
       ],
       "rows": [
        {
         "Country code": "KG",
         "Name": "Kyrgyzstan",
         "Continental region": "CIS (FORMER USSR)",
         "NO. OF Internet Plans ": 20,
         "Average price of 1GB (USD)": 0.15,
         "Cheapest 1GB for 30 days (USD)": 0.1,
         "Most expensive 1GB (USD)": 7.08,
         "Average price of 1GB (USD  at the start of 2021)": 0.21,
         "Average price of 1GB (USD – at start of 2020)": 0.27,
         "_deepnote_index_column": 1
        },
        {
         "Country code": "RU",
         "Name": "Russian Federation",
         "Continental region": "CIS (FORMER USSR)",
         "NO. OF Internet Plans ": 22,
         "Average price of 1GB (USD)": 0.29,
         "Cheapest 1GB for 30 days (USD)": 0.13,
         "Most expensive 1GB (USD)": 1.86,
         "Average price of 1GB (USD  at the start of 2021)": 0.52,
         "Average price of 1GB (USD – at start of 2020)": 0.91,
         "_deepnote_index_column": 5
        },
        {
         "Country code": "BY",
         "Name": "Belarus",
         "Continental region": "CIS (FORMER USSR)",
         "NO. OF Internet Plans ": 14,
         "Average price of 1GB (USD)": 0.43,
         "Cheapest 1GB for 30 days (USD)": 0.02,
         "Most expensive 1GB (USD)": 16.62,
         "Average price of 1GB (USD  at the start of 2021)": 0.89,
         "Average price of 1GB (USD – at start of 2020)": 2.36,
         "_deepnote_index_column": 12
        },
        {
         "Country code": "KZ",
         "Name": "Kazakhstan",
         "Continental region": "CIS (FORMER USSR)",
         "NO. OF Internet Plans ": 19,
         "Average price of 1GB (USD)": 0.59,
         "Cheapest 1GB for 30 days (USD)": 0.25,
         "Most expensive 1GB (USD)": 2.35,
         "Average price of 1GB (USD  at the start of 2021)": 0.46,
         "Average price of 1GB (USD – at start of 2020)": 0.49,
         "_deepnote_index_column": 19
        },
        {
         "Country code": "UZ",
         "Name": "Uzbekistan",
         "Continental region": "CIS (FORMER USSR)",
         "NO. OF Internet Plans ": 60,
         "Average price of 1GB (USD)": 0.6,
         "Cheapest 1GB for 30 days (USD)": 0.01,
         "Most expensive 1GB (USD)": 23.75,
         "Average price of 1GB (USD  at the start of 2021)": 1.34,
         "Average price of 1GB (USD – at start of 2020)": 3.27,
         "_deepnote_index_column": 20
        },
        {
         "Country code": "UA",
         "Name": "Ukraine",
         "Continental region": "CIS (FORMER USSR)",
         "NO. OF Internet Plans ": 19,
         "Average price of 1GB (USD)": 0.75,
         "Cheapest 1GB for 30 days (USD)": 0.14,
         "Most expensive 1GB (USD)": 35.88,
         "Average price of 1GB (USD  at the start of 2021)": 0.46,
         "Average price of 1GB (USD – at start of 2020)": 5.93,
         "_deepnote_index_column": 30
        },
        {
         "Country code": "AM",
         "Name": "Armenia",
         "Continental region": "CIS (FORMER USSR)",
         "NO. OF Internet Plans ": 21,
         "Average price of 1GB (USD)": 0.76,
         "Cheapest 1GB for 30 days (USD)": 0.22,
         "Most expensive 1GB (USD)": 13.02,
         "Average price of 1GB (USD  at the start of 2021)": 1.05,
         "Average price of 1GB (USD – at start of 2020)": 2.51,
         "_deepnote_index_column": 34
        },
        {
         "Country code": "GE",
         "Name": "Georgia",
         "Continental region": "CIS (FORMER USSR)",
         "NO. OF Internet Plans ": 20,
         "Average price of 1GB (USD)": 1.8,
         "Cheapest 1GB for 30 days (USD)": 0.3,
         "Most expensive 1GB (USD)": 7.98,
         "Average price of 1GB (USD  at the start of 2021)": 0.93,
         "Average price of 1GB (USD – at start of 2020)": 5.63,
         "_deepnote_index_column": 97
        },
        {
         "Country code": "AZ",
         "Name": "Azerbaijan",
         "Continental region": "CIS (FORMER USSR)",
         "NO. OF Internet Plans ": 42,
         "Average price of 1GB (USD)": 1.82,
         "Cheapest 1GB for 30 days (USD)": 0.24,
         "Most expensive 1GB (USD)": 9.8,
         "Average price of 1GB (USD  at the start of 2021)": 1.86,
         "Average price of 1GB (USD – at start of 2020)": 6.42,
         "_deepnote_index_column": 99
        },
        {
         "Country code": "TJ",
         "Name": "Tajikistan",
         "Continental region": "CIS (FORMER USSR)",
         "NO. OF Internet Plans ": 22,
         "Average price of 1GB (USD)": 2.6,
         "Cheapest 1GB for 30 days (USD)": 0.87,
         "Most expensive 1GB (USD)": 13.12,
         "Average price of 1GB (USD  at the start of 2021)": 4.65,
         "Average price of 1GB (USD – at start of 2020)": 4.1,
         "_deepnote_index_column": 131
        }
       ]
      },
      "text/plain": "    Country code                   Name  Continental region  \\\n0             IL                 Israel           NEAR EAST   \n1             KG             Kyrgyzstan   CIS (FORMER USSR)   \n2             FJ                   Fiji             OCEANIA   \n3             IT                  Italy      WESTERN EUROPE   \n4             SD                  Sudan  SUB-SAHARAN AFRICA   \n..           ...                    ...                 ...   \n225           MW                 Malawi  SUB-SAHARAN AFRICA   \n226           ST  São Tomé and Príncipe  SUB-SAHARAN AFRICA   \n227           SH           Saint Helena  SUB-SAHARAN AFRICA   \n228           FK       Falkland Islands       SOUTH AMERICA   \n229           GQ      Equatorial Guinea  SUB-SAHARAN AFRICA   \n\n     NO. OF Internet Plans   Average price of 1GB (USD)  \\\n0                      27.0                        0.05   \n1                      20.0                        0.15   \n2                      18.0                        0.19   \n3                      29.0                        0.27   \n4                      33.0                        0.27   \n..                      ...                         ...   \n225                     5.0                       25.46   \n226                    16.0                       30.97   \n227                     4.0                       39.87   \n228                     4.0                       44.56   \n229                     4.0                       49.67   \n\n     Cheapest 1GB for 30 days (USD)  Most expensive 1GB (USD)  \\\n0                              0.02                     20.95   \n1                              0.10                      7.08   \n2                              0.05                      0.85   \n3                              0.09                      3.54   \n4                              0.03                      0.92   \n..                              ...                       ...   \n225                           20.37                     25.46   \n226                           13.27                    121.65   \n227                           38.57                     51.42   \n228                           29.71                     82.26   \n229                           45.16                     63.22   \n\n     Average price of 1GB (USD  at the start of 2021)  \\\n0                                                0.11   \n1                                                0.21   \n2                                                0.59   \n3                                                0.43   \n4                                                0.63   \n..                                                ...   \n225                                             27.41   \n226                                             28.26   \n227                                             52.50   \n228                                             40.41   \n229                                             12.78   \n\n     Average price of 1GB (USD – at start of 2020)  \n0                                             0.90  \n1                                             0.27  \n2                                             3.57  \n3                                             1.73  \n4                                             0.68  \n..                                             ...  \n225                                           3.59  \n226                                           5.33  \n227                                           6.04  \n228                                          55.47  \n229                                          47.39  \n\n[230 rows x 9 columns]",
      "text/html": "<div>\n<style scoped>\n    .dataframe tbody tr th:only-of-type {\n        vertical-align: middle;\n    }\n\n    .dataframe tbody tr th {\n        vertical-align: top;\n    }\n\n    .dataframe thead th {\n        text-align: right;\n    }\n</style>\n<table border=\"1\" class=\"dataframe\">\n  <thead>\n    <tr style=\"text-align: right;\">\n      <th></th>\n      <th>Country code</th>\n      <th>Name</th>\n      <th>Continental region</th>\n      <th>NO. OF Internet Plans</th>\n      <th>Average price of 1GB (USD)</th>\n      <th>Cheapest 1GB for 30 days (USD)</th>\n      <th>Most expensive 1GB (USD)</th>\n      <th>Average price of 1GB (USD  at the start of 2021)</th>\n      <th>Average price of 1GB (USD – at start of 2020)</th>\n    </tr>\n  </thead>\n  <tbody>\n    <tr>\n      <th>0</th>\n      <td>IL</td>\n      <td>Israel</td>\n      <td>NEAR EAST</td>\n      <td>27.0</td>\n      <td>0.05</td>\n      <td>0.02</td>\n      <td>20.95</td>\n      <td>0.11</td>\n      <td>0.90</td>\n    </tr>\n    <tr>\n      <th>1</th>\n      <td>KG</td>\n      <td>Kyrgyzstan</td>\n      <td>CIS (FORMER USSR)</td>\n      <td>20.0</td>\n      <td>0.15</td>\n      <td>0.10</td>\n      <td>7.08</td>\n      <td>0.21</td>\n      <td>0.27</td>\n    </tr>\n    <tr>\n      <th>2</th>\n      <td>FJ</td>\n      <td>Fiji</td>\n      <td>OCEANIA</td>\n      <td>18.0</td>\n      <td>0.19</td>\n      <td>0.05</td>\n      <td>0.85</td>\n      <td>0.59</td>\n      <td>3.57</td>\n    </tr>\n    <tr>\n      <th>3</th>\n      <td>IT</td>\n      <td>Italy</td>\n      <td>WESTERN EUROPE</td>\n      <td>29.0</td>\n      <td>0.27</td>\n      <td>0.09</td>\n      <td>3.54</td>\n      <td>0.43</td>\n      <td>1.73</td>\n    </tr>\n    <tr>\n      <th>4</th>\n      <td>SD</td>\n      <td>Sudan</td>\n      <td>SUB-SAHARAN AFRICA</td>\n      <td>33.0</td>\n      <td>0.27</td>\n      <td>0.03</td>\n      <td>0.92</td>\n      <td>0.63</td>\n      <td>0.68</td>\n    </tr>\n    <tr>\n      <th>...</th>\n      <td>...</td>\n      <td>...</td>\n      <td>...</td>\n      <td>...</td>\n      <td>...</td>\n      <td>...</td>\n      <td>...</td>\n      <td>...</td>\n      <td>...</td>\n    </tr>\n    <tr>\n      <th>225</th>\n      <td>MW</td>\n      <td>Malawi</td>\n      <td>SUB-SAHARAN AFRICA</td>\n      <td>5.0</td>\n      <td>25.46</td>\n      <td>20.37</td>\n      <td>25.46</td>\n      <td>27.41</td>\n      <td>3.59</td>\n    </tr>\n    <tr>\n      <th>226</th>\n      <td>ST</td>\n      <td>São Tomé and Príncipe</td>\n      <td>SUB-SAHARAN AFRICA</td>\n      <td>16.0</td>\n      <td>30.97</td>\n      <td>13.27</td>\n      <td>121.65</td>\n      <td>28.26</td>\n      <td>5.33</td>\n    </tr>\n    <tr>\n      <th>227</th>\n      <td>SH</td>\n      <td>Saint Helena</td>\n      <td>SUB-SAHARAN AFRICA</td>\n      <td>4.0</td>\n      <td>39.87</td>\n      <td>38.57</td>\n      <td>51.42</td>\n      <td>52.50</td>\n      <td>6.04</td>\n    </tr>\n    <tr>\n      <th>228</th>\n      <td>FK</td>\n      <td>Falkland Islands</td>\n      <td>SOUTH AMERICA</td>\n      <td>4.0</td>\n      <td>44.56</td>\n      <td>29.71</td>\n      <td>82.26</td>\n      <td>40.41</td>\n      <td>55.47</td>\n    </tr>\n    <tr>\n      <th>229</th>\n      <td>GQ</td>\n      <td>Equatorial Guinea</td>\n      <td>SUB-SAHARAN AFRICA</td>\n      <td>4.0</td>\n      <td>49.67</td>\n      <td>45.16</td>\n      <td>63.22</td>\n      <td>12.78</td>\n      <td>47.39</td>\n    </tr>\n  </tbody>\n</table>\n<p>230 rows × 9 columns</p>\n</div>"
     },
     "metadata": {}
    }
   ],
   "execution_count": 25
  },
  {
   "cell_type": "code",
   "metadata": {
    "cell_id": "f5f51563c917424bbece62287b987afb",
    "tags": [],
    "deepnote_to_be_reexecuted": false,
    "source_hash": "2a7c52cd",
    "execution_start": 1657584877961,
    "execution_millis": 8,
    "deepnote_cell_type": "code",
    "deepnote_cell_height": 81
   },
   "source": "prices['Average price of 1GB (USD)'] = pd.to_numeric(prices['Average price of 1GB (USD)'])",
   "execution_count": 12,
   "outputs": []
  },
  {
   "cell_type": "code",
   "metadata": {
    "cell_id": "1a355bacb5c74264a25e16ae4cd17ae6",
    "tags": [],
    "deepnote_to_be_reexecuted": false,
    "source_hash": "bb94174d",
    "execution_start": 1657584877970,
    "execution_millis": 41,
    "deepnote_cell_type": "code",
    "deepnote_cell_height": 118.1875,
    "deepnote_output_heights": [
     21.1875
    ]
   },
   "source": "prices.index[prices['NO. OF Internet Plans '].isnull(),].tolist()",
   "execution_count": 13,
   "outputs": [
    {
     "output_type": "execute_result",
     "execution_count": 13,
     "data": {
      "text/plain": "[]"
     },
     "metadata": {}
    }
   ]
  },
  {
   "cell_type": "code",
   "metadata": {
    "cell_id": "907898925e1d4a198d3095cb2628bc46",
    "tags": [],
    "deepnote_to_be_reexecuted": false,
    "source_hash": "795f14b8",
    "execution_start": 1657584878005,
    "execution_millis": 8,
    "deepnote_table_state": {
     "pageSize": 10,
     "pageIndex": 0,
     "filters": [],
     "sortBy": []
    },
    "deepnote_table_loading": false,
    "deepnote_cell_type": "code",
    "deepnote_cell_height": 118.1875,
    "deepnote_output_heights": [
     21.1875
    ]
   },
   "source": "prices.loc[230:241,'Name']",
   "execution_count": 14,
   "outputs": [
    {
     "output_type": "execute_result",
     "execution_count": 14,
     "data": {
      "text/plain": "Series([], Name: Name, dtype: object)"
     },
     "metadata": {}
    }
   ]
  },
  {
   "cell_type": "code",
   "metadata": {
    "cell_id": "74fcaa0db44a4f75bcf4254dc353284d",
    "tags": [],
    "deepnote_to_be_reexecuted": false,
    "source_hash": "238fd73",
    "execution_start": 1657584878007,
    "execution_millis": 6,
    "deepnote_cell_type": "code",
    "deepnote_cell_height": 214.125,
    "deepnote_output_heights": [
     117.125
    ]
   },
   "source": "prices.columns",
   "execution_count": 15,
   "outputs": [
    {
     "output_type": "execute_result",
     "execution_count": 15,
     "data": {
      "text/plain": "Index(['Country code', 'Name', 'Continental region', 'NO. OF Internet Plans ',\n       'Average price of 1GB (USD)', 'Cheapest 1GB for 30 days (USD)',\n       'Most expensive 1GB (USD)',\n       'Average price of 1GB (USD  at the start of 2021)',\n       'Average price of 1GB (USD – at start of 2020)'],\n      dtype='object')"
     },
     "metadata": {}
    }
   ]
  },
  {
   "cell_type": "code",
   "metadata": {
    "cell_id": "9bf587cd0ab04182a7e714779311d5e8",
    "tags": [],
    "deepnote_to_be_reexecuted": false,
    "source_hash": "17d266d4",
    "execution_start": 1657584878008,
    "execution_millis": 6,
    "deepnote_cell_type": "code",
    "deepnote_cell_height": 600
   },
   "source": "speed",
   "execution_count": 16,
   "outputs": [
    {
     "output_type": "execute_result",
     "execution_count": 16,
     "data": {
      "application/vnd.deepnote.dataframe.v3+json": {
       "column_count": 2,
       "row_count": 144,
       "columns": [
        {
         "name": "Country",
         "dtype": "object",
         "stats": {
          "unique_count": 143,
          "nan_count": 0,
          "categories": [
           {
            "name": "Lebanon",
            "count": 2
           },
           {
            "name": "Canada",
            "count": 1
           },
           {
            "name": "141 others",
            "count": 141
           }
          ]
         }
        },
        {
         "name": "Avg \n(Mbit/s)Ookla",
         "dtype": "float64",
         "stats": {
          "unique_count": 141,
          "nan_count": 1,
          "min": "4.89",
          "max": "135.35",
          "histogram": [
           {
            "bin_start": 4.89,
            "bin_end": 17.936,
            "count": 44
           },
           {
            "bin_start": 17.936,
            "bin_end": 30.982000000000003,
            "count": 40
           },
           {
            "bin_start": 30.982000000000003,
            "bin_end": 44.028000000000006,
            "count": 16
           },
           {
            "bin_start": 44.028000000000006,
            "bin_end": 57.074000000000005,
            "count": 17
           },
           {
            "bin_start": 57.074000000000005,
            "bin_end": 70.12,
            "count": 7
           },
           {
            "bin_start": 70.12,
            "bin_end": 83.16600000000001,
            "count": 8
           },
           {
            "bin_start": 83.16600000000001,
            "bin_end": 96.212,
            "count": 3
           },
           {
            "bin_start": 96.212,
            "bin_end": 109.25800000000001,
            "count": 4
           },
           {
            "bin_start": 109.25800000000001,
            "bin_end": 122.30400000000002,
            "count": 2
           },
           {
            "bin_start": 122.30400000000002,
            "bin_end": 135.35,
            "count": 2
           }
          ]
         }
        },
        {
         "name": "_deepnote_index_column",
         "dtype": "int64"
        }
       ],
       "rows": [
        {
         "Country": "Canada",
         "Avg \n(Mbit/s)Ookla": 75.18,
         "_deepnote_index_column": 0
        },
        {
         "Country": "South Korea",
         "Avg \n(Mbit/s)Ookla": 117.95,
         "_deepnote_index_column": 1
        },
        {
         "Country": "Netherlands",
         "Avg \n(Mbit/s)Ookla": 108.33,
         "_deepnote_index_column": 2
        },
        {
         "Country": "Japan",
         "Avg \n(Mbit/s)Ookla": 44.05,
         "_deepnote_index_column": 3
        },
        {
         "Country": "Norway",
         "Avg \n(Mbit/s)Ookla": 134.73,
         "_deepnote_index_column": 4
        },
        {
         "Country": "Singapore",
         "Avg \n(Mbit/s)Ookla": 67.99,
         "_deepnote_index_column": 5
        },
        {
         "Country": "Australia",
         "Avg \n(Mbit/s)Ookla": 76.52,
         "_deepnote_index_column": 6
        },
        {
         "Country": "Switzerland",
         "Avg \n(Mbit/s)Ookla": 82.29,
         "_deepnote_index_column": 7
        },
        {
         "Country": "Belgium",
         "Avg \n(Mbit/s)Ookla": 58.65,
         "_deepnote_index_column": 8
        },
        {
         "Country": "Croatia",
         "Avg \n(Mbit/s)Ookla": 86.48,
         "_deepnote_index_column": 9
        }
       ]
      },
      "text/plain": "         Country  Avg \\n(Mbit/s)Ookla\n0         Canada                75.18\n1    South Korea               117.95\n2    Netherlands               108.33\n3          Japan                44.05\n4         Norway               134.73\n..           ...                  ...\n139        Sudan                 9.50\n140         Cuba                 9.10\n141   Tajikistan                 7.05\n142    Venezuela                 5.68\n143    Palestine                 4.89\n\n[144 rows x 2 columns]",
      "text/html": "<div>\n<style scoped>\n    .dataframe tbody tr th:only-of-type {\n        vertical-align: middle;\n    }\n\n    .dataframe tbody tr th {\n        vertical-align: top;\n    }\n\n    .dataframe thead th {\n        text-align: right;\n    }\n</style>\n<table border=\"1\" class=\"dataframe\">\n  <thead>\n    <tr style=\"text-align: right;\">\n      <th></th>\n      <th>Country</th>\n      <th>Avg \\n(Mbit/s)Ookla</th>\n    </tr>\n  </thead>\n  <tbody>\n    <tr>\n      <th>0</th>\n      <td>Canada</td>\n      <td>75.18</td>\n    </tr>\n    <tr>\n      <th>1</th>\n      <td>South Korea</td>\n      <td>117.95</td>\n    </tr>\n    <tr>\n      <th>2</th>\n      <td>Netherlands</td>\n      <td>108.33</td>\n    </tr>\n    <tr>\n      <th>3</th>\n      <td>Japan</td>\n      <td>44.05</td>\n    </tr>\n    <tr>\n      <th>4</th>\n      <td>Norway</td>\n      <td>134.73</td>\n    </tr>\n    <tr>\n      <th>...</th>\n      <td>...</td>\n      <td>...</td>\n    </tr>\n    <tr>\n      <th>139</th>\n      <td>Sudan</td>\n      <td>9.50</td>\n    </tr>\n    <tr>\n      <th>140</th>\n      <td>Cuba</td>\n      <td>9.10</td>\n    </tr>\n    <tr>\n      <th>141</th>\n      <td>Tajikistan</td>\n      <td>7.05</td>\n    </tr>\n    <tr>\n      <th>142</th>\n      <td>Venezuela</td>\n      <td>5.68</td>\n    </tr>\n    <tr>\n      <th>143</th>\n      <td>Palestine</td>\n      <td>4.89</td>\n    </tr>\n  </tbody>\n</table>\n<p>144 rows × 2 columns</p>\n</div>"
     },
     "metadata": {}
    }
   ]
  },
  {
   "cell_type": "code",
   "metadata": {
    "cell_id": "e5814e31e12b4c33a2c3d8f454f91578",
    "tags": [],
    "deepnote_to_be_reexecuted": false,
    "source_hash": "3c07af22",
    "execution_start": 1657584878032,
    "execution_millis": 8,
    "deepnote_cell_type": "code",
    "deepnote_cell_height": 600
   },
   "source": "users",
   "execution_count": 17,
   "outputs": [
    {
     "output_type": "execute_result",
     "execution_count": 17,
     "data": {
      "application/vnd.deepnote.dataframe.v3+json": {
       "column_count": 5,
       "row_count": 214,
       "columns": [
        {
         "name": "Country or area",
         "dtype": "object",
         "stats": {
          "unique_count": 214,
          "nan_count": 0,
          "categories": [
           {
            "name": "China",
            "count": 1
           },
           {
            "name": "India",
            "count": 1
           },
           {
            "name": "212 others",
            "count": 212
           }
          ]
         }
        },
        {
         "name": "Subregion",
         "dtype": "object",
         "stats": {
          "unique_count": 22,
          "nan_count": 0,
          "categories": [
           {
            "name": "Caribbean",
            "count": 20
           },
           {
            "name": "Western Asia",
            "count": 18
           },
           {
            "name": "20 others",
            "count": 176
           }
          ]
         }
        },
        {
         "name": "Region",
         "dtype": "object",
         "stats": {
          "unique_count": 5,
          "nan_count": 0,
          "categories": [
           {
            "name": "Africa",
            "count": 55
           },
           {
            "name": "Asia",
            "count": 49
           },
           {
            "name": "3 others",
            "count": 110
           }
          ]
         }
        },
        {
         "name": "Internet users",
         "dtype": "object",
         "stats": {
          "unique_count": 214,
          "nan_count": 0,
          "categories": [
           {
            "name": "1,010,740,000",
            "count": 1
           },
           {
            "name": "833,710,000",
            "count": 1
           },
           {
            "name": "212 others",
            "count": 212
           }
          ]
         }
        },
        {
         "name": "Population",
         "dtype": "object",
         "stats": {
          "unique_count": 212,
          "nan_count": 2,
          "categories": [
           {
            "name": "1,427,647,786",
            "count": 1
           },
           {
            "name": "211 others",
            "count": 211
           },
           {
            "name": "Missing",
            "count": 2
           }
          ]
         }
        },
        {
         "name": "_deepnote_index_column",
         "dtype": "int64"
        }
       ],
       "rows": [
        {
         "Country or area": "China",
         "Subregion": "Eastern Asia",
         "Region": "Asia",
         "Internet users": "1,010,740,000",
         "Population": "1,427,647,786",
         "_deepnote_index_column": 0
        },
        {
         "Country or area": "India",
         "Subregion": "Southern Asia",
         "Region": "Asia",
         "Internet users": "833,710,000",
         "Population": "1,352,642,280",
         "_deepnote_index_column": 1
        },
        {
         "Country or area": "United States",
         "Subregion": "Northern America",
         "Region": "Americas",
         "Internet users": "312,320,000",
         "Population": "327,096,265",
         "_deepnote_index_column": 2
        },
        {
         "Country or area": "Indonesia",
         "Subregion": "South-eastern Asia",
         "Region": "Asia",
         "Internet users": "196,000,000",
         "Population": "267,670,543",
         "_deepnote_index_column": 3
        },
        {
         "Country or area": "Brazil",
         "Subregion": "South America",
         "Region": "Americas",
         "Internet users": "160,010,801",
         "Population": "209,469,323",
         "_deepnote_index_column": 4
        },
        {
         "Country or area": "Nigeria",
         "Subregion": "Western Africa",
         "Region": "Africa",
         "Internet users": "136,203,231",
         "Population": "195,874,685",
         "_deepnote_index_column": 5
        },
        {
         "Country or area": "Bangladesh",
         "Subregion": "Southern Asia",
         "Region": "Asia",
         "Internet users": "129,180,000",
         "Population": "166,303,498",
         "_deepnote_index_column": 6
        },
        {
         "Country or area": "Russia",
         "Subregion": "Eastern Europe",
         "Region": "Europe",
         "Internet users": "124,000,000",
         "Population": "145,734,038",
         "_deepnote_index_column": 7
        },
        {
         "Country or area": "Pakistan",
         "Subregion": "Southern Asia",
         "Region": "Asia",
         "Internet users": "118,800,000",
         "Population": "213,756,286",
         "_deepnote_index_column": 8
        },
        {
         "Country or area": "Japan",
         "Subregion": "Eastern Asia",
         "Region": "Asia",
         "Internet users": "117,400,000",
         "Population": "127,202,192",
         "_deepnote_index_column": 9
        }
       ]
      },
      "text/plain": "                                  Country or area           Subregion  \\\n0                                           China        Eastern Asia   \n1                                           India       Southern Asia   \n2                                   United States    Northern America   \n3                                       Indonesia  South-eastern Asia   \n4                                          Brazil       South America   \n..                                            ...                 ...   \n209  Saint Helena, Ascension and Tristan da Cunha      Western Africa   \n210                              Falkland Islands       South America   \n211                                    Montserrat           Caribbean   \n212                             Wallis and Futuna           Polynesia   \n213                                          Niue           Polynesia   \n\n       Region Internet users     Population  \n0        Asia  1,010,740,000  1,427,647,786  \n1        Asia    833,710,000  1,352,642,280  \n2    Americas    312,320,000    327,096,265  \n3        Asia    196,000,000    267,670,543  \n4    Americas    160,010,801    209,469,323  \n..        ...            ...            ...  \n209    Africa          2,906          6,035  \n210  Americas          2,881          3,234  \n211  Americas          2,833          4,993  \n212   Oceania          1,383         11,661  \n213   Oceania          1,034          1,620  \n\n[214 rows x 5 columns]",
      "text/html": "<div>\n<style scoped>\n    .dataframe tbody tr th:only-of-type {\n        vertical-align: middle;\n    }\n\n    .dataframe tbody tr th {\n        vertical-align: top;\n    }\n\n    .dataframe thead th {\n        text-align: right;\n    }\n</style>\n<table border=\"1\" class=\"dataframe\">\n  <thead>\n    <tr style=\"text-align: right;\">\n      <th></th>\n      <th>Country or area</th>\n      <th>Subregion</th>\n      <th>Region</th>\n      <th>Internet users</th>\n      <th>Population</th>\n    </tr>\n  </thead>\n  <tbody>\n    <tr>\n      <th>0</th>\n      <td>China</td>\n      <td>Eastern Asia</td>\n      <td>Asia</td>\n      <td>1,010,740,000</td>\n      <td>1,427,647,786</td>\n    </tr>\n    <tr>\n      <th>1</th>\n      <td>India</td>\n      <td>Southern Asia</td>\n      <td>Asia</td>\n      <td>833,710,000</td>\n      <td>1,352,642,280</td>\n    </tr>\n    <tr>\n      <th>2</th>\n      <td>United States</td>\n      <td>Northern America</td>\n      <td>Americas</td>\n      <td>312,320,000</td>\n      <td>327,096,265</td>\n    </tr>\n    <tr>\n      <th>3</th>\n      <td>Indonesia</td>\n      <td>South-eastern Asia</td>\n      <td>Asia</td>\n      <td>196,000,000</td>\n      <td>267,670,543</td>\n    </tr>\n    <tr>\n      <th>4</th>\n      <td>Brazil</td>\n      <td>South America</td>\n      <td>Americas</td>\n      <td>160,010,801</td>\n      <td>209,469,323</td>\n    </tr>\n    <tr>\n      <th>...</th>\n      <td>...</td>\n      <td>...</td>\n      <td>...</td>\n      <td>...</td>\n      <td>...</td>\n    </tr>\n    <tr>\n      <th>209</th>\n      <td>Saint Helena, Ascension and Tristan da Cunha</td>\n      <td>Western Africa</td>\n      <td>Africa</td>\n      <td>2,906</td>\n      <td>6,035</td>\n    </tr>\n    <tr>\n      <th>210</th>\n      <td>Falkland Islands</td>\n      <td>South America</td>\n      <td>Americas</td>\n      <td>2,881</td>\n      <td>3,234</td>\n    </tr>\n    <tr>\n      <th>211</th>\n      <td>Montserrat</td>\n      <td>Caribbean</td>\n      <td>Americas</td>\n      <td>2,833</td>\n      <td>4,993</td>\n    </tr>\n    <tr>\n      <th>212</th>\n      <td>Wallis and Futuna</td>\n      <td>Polynesia</td>\n      <td>Oceania</td>\n      <td>1,383</td>\n      <td>11,661</td>\n    </tr>\n    <tr>\n      <th>213</th>\n      <td>Niue</td>\n      <td>Polynesia</td>\n      <td>Oceania</td>\n      <td>1,034</td>\n      <td>1,620</td>\n    </tr>\n  </tbody>\n</table>\n<p>214 rows × 5 columns</p>\n</div>"
     },
     "metadata": {}
    }
   ]
  },
  {
   "cell_type": "code",
   "metadata": {
    "cell_id": "5dfff4d13c364664b2002195df3b13ca",
    "tags": [],
    "deepnote_to_be_reexecuted": false,
    "source_hash": "759377",
    "execution_start": 1657584878083,
    "execution_millis": 1,
    "deepnote_cell_type": "code",
    "deepnote_cell_height": 81
   },
   "source": "prices_speed_users = pd.merge(prices,speed,left_on='Name',right_on='Country',how='inner')",
   "execution_count": 18,
   "outputs": []
  },
  {
   "cell_type": "code",
   "metadata": {
    "cell_id": "a5971b8eb5a54afbb940f8d5529b0554",
    "tags": [],
    "deepnote_to_be_reexecuted": false,
    "source_hash": "69d4a3b0",
    "execution_start": 1657584878084,
    "execution_millis": 19,
    "deepnote_table_state": {
     "pageSize": 10,
     "pageIndex": 0,
     "filters": [],
     "sortBy": [
      {
       "id": "Name",
       "type": "asc"
      }
     ]
    },
    "deepnote_table_loading": false,
    "deepnote_table_invalid": false,
    "deepnote_cell_type": "code",
    "deepnote_cell_height": 667
   },
   "source": "# prices_speed_users.loc[prices_speed_users['Country'].isnull(),]\nprices_speed_users",
   "execution_count": 19,
   "outputs": [
    {
     "output_type": "execute_result",
     "execution_count": 19,
     "data": {
      "application/vnd.deepnote.dataframe.v3+json": {
       "column_count": 11,
       "row_count": 133,
       "columns": [
        {
         "name": "Country code",
         "dtype": "object",
         "stats": {
          "unique_count": 132,
          "nan_count": 0,
          "categories": [
           {
            "name": "LB",
            "count": 2
           },
           {
            "name": "AF",
            "count": 1
           },
           {
            "name": "130 others",
            "count": 130
           }
          ]
         }
        },
        {
         "name": "Name",
         "dtype": "object",
         "stats": {
          "unique_count": 132,
          "nan_count": 0,
          "categories": [
           {
            "name": "Lebanon",
            "count": 2
           },
           {
            "name": "Afghanistan",
            "count": 1
           },
           {
            "name": "130 others",
            "count": 130
           }
          ]
         }
        },
        {
         "name": "Continental region",
         "dtype": "object",
         "stats": {
          "unique_count": 13,
          "nan_count": 0,
          "categories": [
           {
            "name": "ASIA (EX. NEAR EAST)",
            "count": 23
           },
           {
            "name": "SUB-SAHARAN AFRICA",
            "count": 19
           },
           {
            "name": "11 others",
            "count": 91
           }
          ]
         }
        },
        {
         "name": "NO. OF Internet Plans ",
         "dtype": "float64",
         "stats": {
          "unique_count": 45,
          "nan_count": 0,
          "min": "3.0",
          "max": "60.0",
          "histogram": [
           {
            "bin_start": 3,
            "bin_end": 8.7,
            "count": 3
           },
           {
            "bin_start": 8.7,
            "bin_end": 14.4,
            "count": 10
           },
           {
            "bin_start": 14.4,
            "bin_end": 20.1,
            "count": 24
           },
           {
            "bin_start": 20.1,
            "bin_end": 25.8,
            "count": 21
           },
           {
            "bin_start": 25.8,
            "bin_end": 31.5,
            "count": 11
           },
           {
            "bin_start": 31.5,
            "bin_end": 37.2,
            "count": 18
           },
           {
            "bin_start": 37.2,
            "bin_end": 42.9,
            "count": 7
           },
           {
            "bin_start": 42.9,
            "bin_end": 48.6,
            "count": 9
           },
           {
            "bin_start": 48.6,
            "bin_end": 54.300000000000004,
            "count": 6
           },
           {
            "bin_start": 54.300000000000004,
            "bin_end": 60,
            "count": 24
           }
          ]
         }
        },
        {
         "name": "Average price of 1GB (USD)",
         "dtype": "float64",
         "stats": {
          "unique_count": 114,
          "nan_count": 0,
          "min": "0.05",
          "max": "25.46",
          "histogram": [
           {
            "bin_start": 0.05,
            "bin_end": 2.5909999999999997,
            "count": 94
           },
           {
            "bin_start": 2.5909999999999997,
            "bin_end": 5.132,
            "count": 23
           },
           {
            "bin_start": 5.132,
            "bin_end": 7.672999999999999,
            "count": 10
           },
           {
            "bin_start": 7.672999999999999,
            "bin_end": 10.214,
            "count": 3
           },
           {
            "bin_start": 10.214,
            "bin_end": 12.755,
            "count": 0
           },
           {
            "bin_start": 12.755,
            "bin_end": 15.296,
            "count": 0
           },
           {
            "bin_start": 15.296,
            "bin_end": 17.837,
            "count": 1
           },
           {
            "bin_start": 17.837,
            "bin_end": 20.378,
            "count": 0
           },
           {
            "bin_start": 20.378,
            "bin_end": 22.919,
            "count": 1
           },
           {
            "bin_start": 22.919,
            "bin_end": 25.46,
            "count": 1
           }
          ]
         }
        },
        {
         "name": "Cheapest 1GB for 30 days (USD)",
         "dtype": "float64",
         "stats": {
          "unique_count": 78,
          "nan_count": 0,
          "min": "0.0",
          "max": "20.37",
          "histogram": [
           {
            "bin_start": 0,
            "bin_end": 2.037,
            "count": 129
           },
           {
            "bin_start": 2.037,
            "bin_end": 4.074,
            "count": 3
           },
           {
            "bin_start": 4.074,
            "bin_end": 6.111,
            "count": 0
           },
           {
            "bin_start": 6.111,
            "bin_end": 8.148,
            "count": 0
           },
           {
            "bin_start": 8.148,
            "bin_end": 10.184999999999999,
            "count": 0
           },
           {
            "bin_start": 10.184999999999999,
            "bin_end": 12.222,
            "count": 0
           },
           {
            "bin_start": 12.222,
            "bin_end": 14.259,
            "count": 0
           },
           {
            "bin_start": 14.259,
            "bin_end": 16.296,
            "count": 0
           },
           {
            "bin_start": 16.296,
            "bin_end": 18.333,
            "count": 0
           },
           {
            "bin_start": 18.333,
            "bin_end": 20.37,
            "count": 1
           }
          ]
         }
        },
        {
         "name": "Most expensive 1GB (USD)",
         "dtype": "float64",
         "stats": {
          "unique_count": 127,
          "nan_count": 0,
          "min": "0.85",
          "max": "768.87",
          "histogram": [
           {
            "bin_start": 0.85,
            "bin_end": 77.65199999999999,
            "count": 123
           },
           {
            "bin_start": 77.65199999999999,
            "bin_end": 154.45399999999998,
            "count": 9
           },
           {
            "bin_start": 154.45399999999998,
            "bin_end": 231.25599999999997,
            "count": 0
           },
           {
            "bin_start": 231.25599999999997,
            "bin_end": 308.058,
            "count": 0
           },
           {
            "bin_start": 308.058,
            "bin_end": 384.86,
            "count": 0
           },
           {
            "bin_start": 384.86,
            "bin_end": 461.662,
            "count": 0
           },
           {
            "bin_start": 461.662,
            "bin_end": 538.4639999999999,
            "count": 0
           },
           {
            "bin_start": 538.4639999999999,
            "bin_end": 615.266,
            "count": 0
           },
           {
            "bin_start": 615.266,
            "bin_end": 692.068,
            "count": 0
           },
           {
            "bin_start": 692.068,
            "bin_end": 768.87,
            "count": 1
           }
          ]
         }
        },
        {
         "name": "Average price of 1GB (USD  at the start of 2021)",
         "dtype": "float64",
         "stats": {
          "unique_count": 120,
          "nan_count": 0,
          "min": "0.09",
          "max": "27.41",
          "histogram": [
           {
            "bin_start": 0.09,
            "bin_end": 2.822,
            "count": 79
           },
           {
            "bin_start": 2.822,
            "bin_end": 5.554,
            "count": 36
           },
           {
            "bin_start": 5.554,
            "bin_end": 8.286000000000001,
            "count": 8
           },
           {
            "bin_start": 8.286000000000001,
            "bin_end": 11.018,
            "count": 3
           },
           {
            "bin_start": 11.018,
            "bin_end": 13.75,
            "count": 4
           },
           {
            "bin_start": 13.75,
            "bin_end": 16.482000000000003,
            "count": 2
           },
           {
            "bin_start": 16.482000000000003,
            "bin_end": 19.214000000000002,
            "count": 0
           },
           {
            "bin_start": 19.214000000000002,
            "bin_end": 21.946,
            "count": 0
           },
           {
            "bin_start": 21.946,
            "bin_end": 24.678,
            "count": 0
           },
           {
            "bin_start": 24.678,
            "bin_end": 27.41,
            "count": 1
           }
          ]
         }
        },
        {
         "name": "Average price of 1GB (USD – at start of 2020)",
         "dtype": "float64",
         "stats": {
          "unique_count": 124,
          "nan_count": 1,
          "min": "0.26",
          "max": "65.83",
          "histogram": [
           {
            "bin_start": 0.26,
            "bin_end": 6.816999999999999,
            "count": 94
           },
           {
            "bin_start": 6.816999999999999,
            "bin_end": 13.373999999999999,
            "count": 25
           },
           {
            "bin_start": 13.373999999999999,
            "bin_end": 19.931,
            "count": 9
           },
           {
            "bin_start": 19.931,
            "bin_end": 26.488,
            "count": 2
           },
           {
            "bin_start": 26.488,
            "bin_end": 33.044999999999995,
            "count": 1
           },
           {
            "bin_start": 33.044999999999995,
            "bin_end": 39.602,
            "count": 0
           },
           {
            "bin_start": 39.602,
            "bin_end": 46.15899999999999,
            "count": 0
           },
           {
            "bin_start": 46.15899999999999,
            "bin_end": 52.715999999999994,
            "count": 0
           },
           {
            "bin_start": 52.715999999999994,
            "bin_end": 59.272999999999996,
            "count": 0
           },
           {
            "bin_start": 59.272999999999996,
            "bin_end": 65.83,
            "count": 1
           }
          ]
         }
        },
        {
         "name": "Country",
         "dtype": "object",
         "stats": {
          "unique_count": 132,
          "nan_count": 0,
          "categories": [
           {
            "name": "Lebanon",
            "count": 2
           },
           {
            "name": "Afghanistan",
            "count": 1
           },
           {
            "name": "130 others",
            "count": 130
           }
          ]
         }
        },
        {
         "name": "Avg \n(Mbit/s)Ookla",
         "dtype": "float64",
         "stats": {
          "unique_count": 130,
          "nan_count": 1,
          "min": "5.5",
          "max": "135.35",
          "histogram": [
           {
            "bin_start": 5.5,
            "bin_end": 18.485,
            "count": 43
           },
           {
            "bin_start": 18.485,
            "bin_end": 31.47,
            "count": 33
           },
           {
            "bin_start": 31.47,
            "bin_end": 44.455,
            "count": 17
           },
           {
            "bin_start": 44.455,
            "bin_end": 57.44,
            "count": 16
           },
           {
            "bin_start": 57.44,
            "bin_end": 70.425,
            "count": 6
           },
           {
            "bin_start": 70.425,
            "bin_end": 83.41,
            "count": 7
           },
           {
            "bin_start": 83.41,
            "bin_end": 96.395,
            "count": 4
           },
           {
            "bin_start": 96.395,
            "bin_end": 109.38,
            "count": 2
           },
           {
            "bin_start": 109.38,
            "bin_end": 122.365,
            "count": 2
           },
           {
            "bin_start": 122.365,
            "bin_end": 135.35,
            "count": 2
           }
          ]
         }
        },
        {
         "name": "_deepnote_index_column",
         "dtype": "int64"
        }
       ],
       "rows": [
        {
         "Country code": "AF",
         "Name": "Afghanistan",
         "Continental region": "ASIA (EX. NEAR EAST)",
         "NO. OF Internet Plans ": 35,
         "Average price of 1GB (USD)": 1.02,
         "Cheapest 1GB for 30 days (USD)": 0.38,
         "Most expensive 1GB (USD)": 2.12,
         "Average price of 1GB (USD  at the start of 2021)": 1.55,
         "Average price of 1GB (USD – at start of 2020)": 1.6,
         "Country": "Afghanistan",
         "Avg \n(Mbit/s)Ookla": 5.5,
         "_deepnote_index_column": 44
        },
        {
         "Country code": "AL",
         "Name": "Albania",
         "Continental region": "EASTERN EUROPE",
         "NO. OF Internet Plans ": 32,
         "Average price of 1GB (USD)": 2.8,
         "Cheapest 1GB for 30 days (USD)": 0.72,
         "Most expensive 1GB (USD)": 96.39,
         "Average price of 1GB (USD  at the start of 2021)": 2.83,
         "Average price of 1GB (USD – at start of 2020)": 5.28,
         "Country": "Albania",
         "Avg \n(Mbit/s)Ookla": 40.48,
         "_deepnote_index_column": 98
        },
        {
         "Country code": "DZ",
         "Name": "Algeria",
         "Continental region": "NORTHERN AFRICA",
         "NO. OF Internet Plans ": 20,
         "Average price of 1GB (USD)": 0.51,
         "Cheapest 1GB for 30 days (USD)": 0.16,
         "Most expensive 1GB (USD)": 2.24,
         "Average price of 1GB (USD  at the start of 2021)": 0.65,
         "Average price of 1GB (USD – at start of 2020)": 5.15,
         "Country": "Algeria",
         "Avg \n(Mbit/s)Ookla": 12.44,
         "_deepnote_index_column": 13
        },
        {
         "Country code": "AO",
         "Name": "Angola",
         "Continental region": "SUB-SAHARAN AFRICA",
         "NO. OF Internet Plans ": 20,
         "Average price of 1GB (USD)": 1.61,
         "Cheapest 1GB for 30 days (USD)": 1.03,
         "Most expensive 1GB (USD)": 3.21,
         "Average price of 1GB (USD  at the start of 2021)": 5.29,
         "Average price of 1GB (USD – at start of 2020)": 7.95,
         "Country": "Angola",
         "Avg \n(Mbit/s)Ookla": 22.59,
         "_deepnote_index_column": 70
        },
        {
         "Country code": "AR",
         "Name": "Argentina",
         "Continental region": "SOUTH AMERICA",
         "NO. OF Internet Plans ": 28,
         "Average price of 1GB (USD)": 2.38,
         "Cheapest 1GB for 30 days (USD)": 0.44,
         "Most expensive 1GB (USD)": 11.47,
         "Average price of 1GB (USD  at the start of 2021)": 1.45,
         "Average price of 1GB (USD – at start of 2020)": 7.4,
         "Country": "Argentina",
         "Avg \n(Mbit/s)Ookla": 20.64,
         "_deepnote_index_column": 91
        },
        {
         "Country code": "AM",
         "Name": "Armenia",
         "Continental region": "CIS (FORMER USSR)",
         "NO. OF Internet Plans ": 21,
         "Average price of 1GB (USD)": 0.76,
         "Cheapest 1GB for 30 days (USD)": 0.22,
         "Most expensive 1GB (USD)": 13.02,
         "Average price of 1GB (USD  at the start of 2021)": 1.05,
         "Average price of 1GB (USD – at start of 2020)": 2.51,
         "Country": "Armenia",
         "Avg \n(Mbit/s)Ookla": 22.01,
         "_deepnote_index_column": 30
        },
        {
         "Country code": "AU",
         "Name": "Australia",
         "Continental region": "OCEANIA",
         "NO. OF Internet Plans ": 46,
         "Average price of 1GB (USD)": 0.7,
         "Cheapest 1GB for 30 days (USD)": 0.1,
         "Most expensive 1GB (USD)": 7.62,
         "Average price of 1GB (USD  at the start of 2021)": 0.68,
         "Average price of 1GB (USD – at start of 2020)": 2.47,
         "Country": "Australia",
         "Avg \n(Mbit/s)Ookla": 76.52,
         "_deepnote_index_column": 25
        },
        {
         "Country code": "AT",
         "Name": "Austria",
         "Continental region": "WESTERN EUROPE",
         "NO. OF Internet Plans ": 60,
         "Average price of 1GB (USD)": 1.17,
         "Cheapest 1GB for 30 days (USD)": 0.24,
         "Most expensive 1GB (USD)": 23.43,
         "Average price of 1GB (USD  at the start of 2021)": 1.08,
         "Average price of 1GB (USD – at start of 2020)": 1.88,
         "Country": "Austria",
         "Avg \n(Mbit/s)Ookla": 56.6,
         "_deepnote_index_column": 53
        },
        {
         "Country code": "AZ",
         "Name": "Azerbaijan",
         "Continental region": "CIS (FORMER USSR)",
         "NO. OF Internet Plans ": 42,
         "Average price of 1GB (USD)": 1.82,
         "Cheapest 1GB for 30 days (USD)": 0.24,
         "Most expensive 1GB (USD)": 9.8,
         "Average price of 1GB (USD  at the start of 2021)": 1.86,
         "Average price of 1GB (USD – at start of 2020)": 6.42,
         "Country": "Azerbaijan",
         "Avg \n(Mbit/s)Ookla": 30.4,
         "_deepnote_index_column": 76
        },
        {
         "Country code": "BS",
         "Name": "Bahamas",
         "Continental region": "CARIBBEAN",
         "NO. OF Internet Plans ": 17,
         "Average price of 1GB (USD)": 5.98,
         "Cheapest 1GB for 30 days (USD)": 3.99,
         "Most expensive 1GB (USD)": 10.74,
         "Average price of 1GB (USD  at the start of 2021)": 6.02,
         "Average price of 1GB (USD – at start of 2020)": 4.94,
         "Country": "Bahamas",
         "Avg \n(Mbit/s)Ookla": 26.77,
         "_deepnote_index_column": 122
        }
       ]
      },
      "text/plain": "    Country code        Name  Continental region  NO. OF Internet Plans   \\\n0             IL      Israel           NEAR EAST                    27.0   \n1             KG  Kyrgyzstan   CIS (FORMER USSR)                    20.0   \n2             FJ        Fiji             OCEANIA                    18.0   \n3             IT       Italy      WESTERN EUROPE                    29.0   \n4             SD       Sudan  SUB-SAHARAN AFRICA                    33.0   \n..           ...         ...                 ...                     ...   \n128           GR      Greece      WESTERN EUROPE                    22.0   \n129           CY      Cyprus           NEAR EAST                    22.0   \n130           YE       Yemen           NEAR EAST                    17.0   \n131           NA     Namibia  SUB-SAHARAN AFRICA                    33.0   \n132           MW      Malawi  SUB-SAHARAN AFRICA                     5.0   \n\n     Average price of 1GB (USD)  Cheapest 1GB for 30 days (USD)  \\\n0                          0.05                            0.02   \n1                          0.15                            0.10   \n2                          0.19                            0.05   \n3                          0.27                            0.09   \n4                          0.27                            0.03   \n..                          ...                             ...   \n128                        8.16                            1.06   \n129                        8.84                            2.06   \n130                       15.98                            0.40   \n131                       22.37                            1.20   \n132                       25.46                           20.37   \n\n     Most expensive 1GB (USD)  \\\n0                       20.95   \n1                        7.08   \n2                        0.85   \n3                        3.54   \n4                        0.92   \n..                        ...   \n128                    768.87   \n129                     59.10   \n130                     39.94   \n131                     72.06   \n132                     25.46   \n\n     Average price of 1GB (USD  at the start of 2021)  \\\n0                                                0.11   \n1                                                0.21   \n2                                                0.59   \n3                                                0.43   \n4                                                0.63   \n..                                                ...   \n128                                             12.06   \n129                                             13.56   \n130                                             15.98   \n131                                              4.78   \n132                                             27.41   \n\n     Average price of 1GB (USD – at start of 2020)     Country  \\\n0                                             0.90      Israel   \n1                                             0.27  Kyrgyzstan   \n2                                             3.57        Fiji   \n3                                             1.73       Italy   \n4                                             0.68       Sudan   \n..                                             ...         ...   \n128                                           4.91      Greece   \n129                                          20.25      Cyprus   \n130                                          15.73       Yemen   \n131                                          11.02     Namibia   \n132                                           3.59      Malawi   \n\n     Avg \\n(Mbit/s)Ookla  \n0                  28.01  \n1                  16.30  \n2                  25.99  \n3                  37.15  \n4                   9.50  \n..                   ...  \n128                59.42  \n129                75.48  \n130                16.89  \n131                18.43  \n132                17.95  \n\n[133 rows x 11 columns]",
      "text/html": "<div>\n<style scoped>\n    .dataframe tbody tr th:only-of-type {\n        vertical-align: middle;\n    }\n\n    .dataframe tbody tr th {\n        vertical-align: top;\n    }\n\n    .dataframe thead th {\n        text-align: right;\n    }\n</style>\n<table border=\"1\" class=\"dataframe\">\n  <thead>\n    <tr style=\"text-align: right;\">\n      <th></th>\n      <th>Country code</th>\n      <th>Name</th>\n      <th>Continental region</th>\n      <th>NO. OF Internet Plans</th>\n      <th>Average price of 1GB (USD)</th>\n      <th>Cheapest 1GB for 30 days (USD)</th>\n      <th>Most expensive 1GB (USD)</th>\n      <th>Average price of 1GB (USD  at the start of 2021)</th>\n      <th>Average price of 1GB (USD – at start of 2020)</th>\n      <th>Country</th>\n      <th>Avg \\n(Mbit/s)Ookla</th>\n    </tr>\n  </thead>\n  <tbody>\n    <tr>\n      <th>0</th>\n      <td>IL</td>\n      <td>Israel</td>\n      <td>NEAR EAST</td>\n      <td>27.0</td>\n      <td>0.05</td>\n      <td>0.02</td>\n      <td>20.95</td>\n      <td>0.11</td>\n      <td>0.90</td>\n      <td>Israel</td>\n      <td>28.01</td>\n    </tr>\n    <tr>\n      <th>1</th>\n      <td>KG</td>\n      <td>Kyrgyzstan</td>\n      <td>CIS (FORMER USSR)</td>\n      <td>20.0</td>\n      <td>0.15</td>\n      <td>0.10</td>\n      <td>7.08</td>\n      <td>0.21</td>\n      <td>0.27</td>\n      <td>Kyrgyzstan</td>\n      <td>16.30</td>\n    </tr>\n    <tr>\n      <th>2</th>\n      <td>FJ</td>\n      <td>Fiji</td>\n      <td>OCEANIA</td>\n      <td>18.0</td>\n      <td>0.19</td>\n      <td>0.05</td>\n      <td>0.85</td>\n      <td>0.59</td>\n      <td>3.57</td>\n      <td>Fiji</td>\n      <td>25.99</td>\n    </tr>\n    <tr>\n      <th>3</th>\n      <td>IT</td>\n      <td>Italy</td>\n      <td>WESTERN EUROPE</td>\n      <td>29.0</td>\n      <td>0.27</td>\n      <td>0.09</td>\n      <td>3.54</td>\n      <td>0.43</td>\n      <td>1.73</td>\n      <td>Italy</td>\n      <td>37.15</td>\n    </tr>\n    <tr>\n      <th>4</th>\n      <td>SD</td>\n      <td>Sudan</td>\n      <td>SUB-SAHARAN AFRICA</td>\n      <td>33.0</td>\n      <td>0.27</td>\n      <td>0.03</td>\n      <td>0.92</td>\n      <td>0.63</td>\n      <td>0.68</td>\n      <td>Sudan</td>\n      <td>9.50</td>\n    </tr>\n    <tr>\n      <th>...</th>\n      <td>...</td>\n      <td>...</td>\n      <td>...</td>\n      <td>...</td>\n      <td>...</td>\n      <td>...</td>\n      <td>...</td>\n      <td>...</td>\n      <td>...</td>\n      <td>...</td>\n      <td>...</td>\n    </tr>\n    <tr>\n      <th>128</th>\n      <td>GR</td>\n      <td>Greece</td>\n      <td>WESTERN EUROPE</td>\n      <td>22.0</td>\n      <td>8.16</td>\n      <td>1.06</td>\n      <td>768.87</td>\n      <td>12.06</td>\n      <td>4.91</td>\n      <td>Greece</td>\n      <td>59.42</td>\n    </tr>\n    <tr>\n      <th>129</th>\n      <td>CY</td>\n      <td>Cyprus</td>\n      <td>NEAR EAST</td>\n      <td>22.0</td>\n      <td>8.84</td>\n      <td>2.06</td>\n      <td>59.10</td>\n      <td>13.56</td>\n      <td>20.25</td>\n      <td>Cyprus</td>\n      <td>75.48</td>\n    </tr>\n    <tr>\n      <th>130</th>\n      <td>YE</td>\n      <td>Yemen</td>\n      <td>NEAR EAST</td>\n      <td>17.0</td>\n      <td>15.98</td>\n      <td>0.40</td>\n      <td>39.94</td>\n      <td>15.98</td>\n      <td>15.73</td>\n      <td>Yemen</td>\n      <td>16.89</td>\n    </tr>\n    <tr>\n      <th>131</th>\n      <td>NA</td>\n      <td>Namibia</td>\n      <td>SUB-SAHARAN AFRICA</td>\n      <td>33.0</td>\n      <td>22.37</td>\n      <td>1.20</td>\n      <td>72.06</td>\n      <td>4.78</td>\n      <td>11.02</td>\n      <td>Namibia</td>\n      <td>18.43</td>\n    </tr>\n    <tr>\n      <th>132</th>\n      <td>MW</td>\n      <td>Malawi</td>\n      <td>SUB-SAHARAN AFRICA</td>\n      <td>5.0</td>\n      <td>25.46</td>\n      <td>20.37</td>\n      <td>25.46</td>\n      <td>27.41</td>\n      <td>3.59</td>\n      <td>Malawi</td>\n      <td>17.95</td>\n    </tr>\n  </tbody>\n</table>\n<p>133 rows × 11 columns</p>\n</div>"
     },
     "metadata": {}
    }
   ]
  },
  {
   "cell_type": "code",
   "metadata": {
    "cell_id": "c57f12c0e5304dd1aadc65b2918cc6d6",
    "tags": [],
    "deepnote_to_be_reexecuted": false,
    "source_hash": "17d266d4",
    "execution_start": 1657584878104,
    "execution_millis": 20,
    "deepnote_table_state": {
     "pageSize": 10,
     "pageIndex": 0,
     "filters": [
      {
       "id": "Country",
       "value": "",
       "type": "contains"
      }
     ],
     "sortBy": [
      {
       "id": "Country",
       "type": "asc"
      }
     ]
    },
    "deepnote_table_loading": false,
    "deepnote_cell_type": "code",
    "deepnote_cell_height": 660
   },
   "source": "speed",
   "execution_count": 20,
   "outputs": [
    {
     "output_type": "execute_result",
     "execution_count": 20,
     "data": {
      "application/vnd.deepnote.dataframe.v3+json": {
       "column_count": 2,
       "row_count": 144,
       "columns": [
        {
         "name": "Country",
         "dtype": "object",
         "stats": {
          "unique_count": 143,
          "nan_count": 0,
          "categories": [
           {
            "name": "Lebanon",
            "count": 2
           },
           {
            "name": "Afghanistan",
            "count": 1
           },
           {
            "name": "141 others",
            "count": 141
           }
          ]
         }
        },
        {
         "name": "Avg \n(Mbit/s)Ookla",
         "dtype": "float64",
         "stats": {
          "unique_count": 141,
          "nan_count": 1,
          "min": "4.89",
          "max": "135.35",
          "histogram": [
           {
            "bin_start": 4.89,
            "bin_end": 17.936,
            "count": 44
           },
           {
            "bin_start": 17.936,
            "bin_end": 30.982000000000003,
            "count": 40
           },
           {
            "bin_start": 30.982000000000003,
            "bin_end": 44.028000000000006,
            "count": 16
           },
           {
            "bin_start": 44.028000000000006,
            "bin_end": 57.074000000000005,
            "count": 17
           },
           {
            "bin_start": 57.074000000000005,
            "bin_end": 70.12,
            "count": 7
           },
           {
            "bin_start": 70.12,
            "bin_end": 83.16600000000001,
            "count": 8
           },
           {
            "bin_start": 83.16600000000001,
            "bin_end": 96.212,
            "count": 3
           },
           {
            "bin_start": 96.212,
            "bin_end": 109.25800000000001,
            "count": 4
           },
           {
            "bin_start": 109.25800000000001,
            "bin_end": 122.30400000000002,
            "count": 2
           },
           {
            "bin_start": 122.30400000000002,
            "bin_end": 135.35,
            "count": 2
           }
          ]
         }
        },
        {
         "name": "_deepnote_index_column",
         "dtype": "int64"
        }
       ],
       "rows": [
        {
         "Country": "Afghanistan",
         "Avg \n(Mbit/s)Ookla": 5.5,
         "_deepnote_index_column": 70
        },
        {
         "Country": "Albania",
         "Avg \n(Mbit/s)Ookla": 40.48,
         "_deepnote_index_column": 28
        },
        {
         "Country": "Algeria",
         "Avg \n(Mbit/s)Ookla": 12.44,
         "_deepnote_index_column": 96
        },
        {
         "Country": "Angola",
         "Avg \n(Mbit/s)Ookla": 22.59,
         "_deepnote_index_column": 121
        },
        {
         "Country": "Argentina",
         "Avg \n(Mbit/s)Ookla": 20.64,
         "_deepnote_index_column": 49
        },
        {
         "Country": "Armenia",
         "Avg \n(Mbit/s)Ookla": 22.01,
         "_deepnote_index_column": 122
        },
        {
         "Country": "Australia",
         "Avg \n(Mbit/s)Ookla": 76.52,
         "_deepnote_index_column": 6
        },
        {
         "Country": "Austria",
         "Avg \n(Mbit/s)Ookla": 56.6,
         "_deepnote_index_column": 11
        },
        {
         "Country": "Azerbaijan",
         "Avg \n(Mbit/s)Ookla": 30.4,
         "_deepnote_index_column": 48
        },
        {
         "Country": "Bahamas",
         "Avg \n(Mbit/s)Ookla": 26.77,
         "_deepnote_index_column": 116
        }
       ]
      },
      "text/plain": "         Country  Avg \\n(Mbit/s)Ookla\n0         Canada                75.18\n1    South Korea               117.95\n2    Netherlands               108.33\n3          Japan                44.05\n4         Norway               134.73\n..           ...                  ...\n139        Sudan                 9.50\n140         Cuba                 9.10\n141   Tajikistan                 7.05\n142    Venezuela                 5.68\n143    Palestine                 4.89\n\n[144 rows x 2 columns]",
      "text/html": "<div>\n<style scoped>\n    .dataframe tbody tr th:only-of-type {\n        vertical-align: middle;\n    }\n\n    .dataframe tbody tr th {\n        vertical-align: top;\n    }\n\n    .dataframe thead th {\n        text-align: right;\n    }\n</style>\n<table border=\"1\" class=\"dataframe\">\n  <thead>\n    <tr style=\"text-align: right;\">\n      <th></th>\n      <th>Country</th>\n      <th>Avg \\n(Mbit/s)Ookla</th>\n    </tr>\n  </thead>\n  <tbody>\n    <tr>\n      <th>0</th>\n      <td>Canada</td>\n      <td>75.18</td>\n    </tr>\n    <tr>\n      <th>1</th>\n      <td>South Korea</td>\n      <td>117.95</td>\n    </tr>\n    <tr>\n      <th>2</th>\n      <td>Netherlands</td>\n      <td>108.33</td>\n    </tr>\n    <tr>\n      <th>3</th>\n      <td>Japan</td>\n      <td>44.05</td>\n    </tr>\n    <tr>\n      <th>4</th>\n      <td>Norway</td>\n      <td>134.73</td>\n    </tr>\n    <tr>\n      <th>...</th>\n      <td>...</td>\n      <td>...</td>\n    </tr>\n    <tr>\n      <th>139</th>\n      <td>Sudan</td>\n      <td>9.50</td>\n    </tr>\n    <tr>\n      <th>140</th>\n      <td>Cuba</td>\n      <td>9.10</td>\n    </tr>\n    <tr>\n      <th>141</th>\n      <td>Tajikistan</td>\n      <td>7.05</td>\n    </tr>\n    <tr>\n      <th>142</th>\n      <td>Venezuela</td>\n      <td>5.68</td>\n    </tr>\n    <tr>\n      <th>143</th>\n      <td>Palestine</td>\n      <td>4.89</td>\n    </tr>\n  </tbody>\n</table>\n<p>144 rows × 2 columns</p>\n</div>"
     },
     "metadata": {}
    }
   ]
  },
  {
   "cell_type": "markdown",
   "source": "# Load",
   "metadata": {
    "formattedRanges": [],
    "cell_id": "1efcd1bf959246f88bf5639f2c8b0bc5",
    "tags": [],
    "is_collapsed": false,
    "deepnote_cell_type": "text-cell-h1"
   }
  },
  {
   "cell_type": "code",
   "metadata": {
    "cell_id": "e76ecf2f801147cc9bc6960586cd523f",
    "tags": [],
    "deepnote_to_be_reexecuted": false,
    "source_hash": "59a5d537",
    "execution_start": 1657584878125,
    "execution_millis": 4018,
    "deepnote_cell_type": "code",
    "deepnote_cell_height": 387
   },
   "source": "#load data to google sheets\n#Create key\nkey = \"1ta2iOwjKzIRu7CL60DqzXpVlYhvaTOz7618GmgF8Kts\"\n\n#Selects the sheet to export to\nsheet = gc.open_by_key(key).worksheet('prices')\nsheet1 = gc.open_by_key(key).worksheet('speed')\nsheet2 = gc.open_by_key(key).worksheet('users')\n\n#Clears the sheet and exports data\nsheet.batch_clear([\"A100:L40000\"])\nset_with_dataframe(sheet, prices) \n\nsheet1.batch_clear([\"A100:R15000\"])\nset_with_dataframe(sheet1, speed) \n\nsheet2.batch_clear([\"A100:Z15000\"])\nset_with_dataframe(sheet2, users)",
   "execution_count": 21,
   "outputs": []
  },
  {
   "cell_type": "markdown",
   "source": "<a style='text-decoration:none;line-height:16px;display:flex;color:#5B5B62;padding:10px;justify-content:end;' href='https://deepnote.com?utm_source=created-in-deepnote-cell&projectId=07a4ffe0-c8ed-4f4e-b576-dc2d51ba276d' target=\"_blank\">\n<img alt='Created in deepnote.com' style='display:inline;max-height:16px;margin:0px;margin-right:7.5px;' src='data:image/svg+xml;base64,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' > </img>\nCreated in <span style='font-weight:600;margin-left:4px;'>Deepnote</span></a>",
   "metadata": {
    "tags": [],
    "created_in_deepnote_cell": true,
    "deepnote_cell_type": "markdown"
   }
  }
 ],
 "nbformat": 4,
 "nbformat_minor": 2,
 "metadata": {
  "orig_nbformat": 2,
  "deepnote": {},
  "deepnote_notebook_id": "ef00011f-1fd0-4834-8d1a-ef3b393682c4",
  "deepnote_execution_queue": []
 }
}