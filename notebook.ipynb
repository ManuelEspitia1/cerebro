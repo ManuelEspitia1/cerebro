{
 "cells": [
  {
   "cell_type": "markdown",
   "source": "# SET UP",
   "metadata": {
    "formattedRanges": [],
    "cell_id": "66dd3c69f261426db82b559e6d8d6dcd",
    "tags": [],
    "is_collapsed": false,
    "deepnote_cell_type": "text-cell-h1"
   }
  },
  {
   "cell_type": "code",
   "metadata": {
    "cell_id": "78bf77c9a6a24bbbb7550b710972bd05",
    "tags": [],
    "deepnote_to_be_reexecuted": false,
    "source_hash": "f0b17186",
    "execution_start": 1657574702988,
    "execution_millis": 12350,
    "deepnote_cell_type": "code",
    "deepnote_cell_height": 863
   },
   "source": "# Import requried libraries \nimport pandas as pd\nimport numpy as np\nimport time\nfrom datetime import datetime\n!pip install gspread\n!pip install gspread_dataframe\nfrom gspread_dataframe import set_with_dataframe\nimport gspread\ngc = gspread.service_account(filename='world-wide-web-356017-564c77672260.json')",
   "execution_count": 20,
   "outputs": [
    {
     "name": "stdout",
     "text": "Requirement already satisfied: gspread in /root/venv/lib/python3.9/site-packages (5.4.0)\nRequirement already satisfied: google-auth-oauthlib>=0.4.1 in /shared-libs/python3.9/py/lib/python3.9/site-packages (from gspread) (0.4.6)\nRequirement already satisfied: google-auth>=1.12.0 in /shared-libs/python3.9/py/lib/python3.9/site-packages (from gspread) (2.7.0)\nRequirement already satisfied: pyasn1-modules>=0.2.1 in /shared-libs/python3.9/py/lib/python3.9/site-packages (from google-auth>=1.12.0->gspread) (0.2.8)\nRequirement already satisfied: six>=1.9.0 in /shared-libs/python3.9/py-core/lib/python3.9/site-packages (from google-auth>=1.12.0->gspread) (1.16.0)\nRequirement already satisfied: cachetools<6.0,>=2.0.0 in /shared-libs/python3.9/py/lib/python3.9/site-packages (from google-auth>=1.12.0->gspread) (5.2.0)\nRequirement already satisfied: rsa<5,>=3.1.4 in /shared-libs/python3.9/py/lib/python3.9/site-packages (from google-auth>=1.12.0->gspread) (4.8)\nRequirement already satisfied: requests-oauthlib>=0.7.0 in /shared-libs/python3.9/py/lib/python3.9/site-packages (from google-auth-oauthlib>=0.4.1->gspread) (1.3.1)\nRequirement already satisfied: pyasn1<0.5.0,>=0.4.6 in /shared-libs/python3.9/py/lib/python3.9/site-packages (from pyasn1-modules>=0.2.1->google-auth>=1.12.0->gspread) (0.4.8)\nRequirement already satisfied: oauthlib>=3.0.0 in /shared-libs/python3.9/py/lib/python3.9/site-packages (from requests-oauthlib>=0.7.0->google-auth-oauthlib>=0.4.1->gspread) (3.2.0)\nRequirement already satisfied: requests>=2.0.0 in /shared-libs/python3.9/py/lib/python3.9/site-packages (from requests-oauthlib>=0.7.0->google-auth-oauthlib>=0.4.1->gspread) (2.27.1)\nRequirement already satisfied: idna<4,>=2.5 in /shared-libs/python3.9/py-core/lib/python3.9/site-packages (from requests>=2.0.0->requests-oauthlib>=0.7.0->google-auth-oauthlib>=0.4.1->gspread) (3.3)\nRequirement already satisfied: urllib3<1.27,>=1.21.1 in /shared-libs/python3.9/py/lib/python3.9/site-packages (from requests>=2.0.0->requests-oauthlib>=0.7.0->google-auth-oauthlib>=0.4.1->gspread) (1.26.9)\nRequirement already satisfied: charset-normalizer~=2.0.0 in /shared-libs/python3.9/py-core/lib/python3.9/site-packages (from requests>=2.0.0->requests-oauthlib>=0.7.0->google-auth-oauthlib>=0.4.1->gspread) (2.0.12)\nRequirement already satisfied: certifi>=2017.4.17 in /shared-libs/python3.9/py/lib/python3.9/site-packages (from requests>=2.0.0->requests-oauthlib>=0.7.0->google-auth-oauthlib>=0.4.1->gspread) (2022.5.18.1)\n\u001b[33mWARNING: You are using pip version 22.0.4; however, version 22.1.2 is available.\nYou should consider upgrading via the '/root/venv/bin/python -m pip install --upgrade pip' command.\u001b[0m\u001b[33m\n\u001b[0mRequirement already satisfied: gspread_dataframe in /root/venv/lib/python3.9/site-packages (3.3.0)\nRequirement already satisfied: six>=1.12.0 in /shared-libs/python3.9/py-core/lib/python3.9/site-packages (from gspread_dataframe) (1.16.0)\nRequirement already satisfied: pandas>=0.24.0 in /shared-libs/python3.9/py/lib/python3.9/site-packages (from gspread_dataframe) (1.2.5)\nRequirement already satisfied: gspread>=3.0.0 in /root/venv/lib/python3.9/site-packages (from gspread_dataframe) (5.4.0)\nRequirement already satisfied: google-auth-oauthlib>=0.4.1 in /shared-libs/python3.9/py/lib/python3.9/site-packages (from gspread>=3.0.0->gspread_dataframe) (0.4.6)\nRequirement already satisfied: google-auth>=1.12.0 in /shared-libs/python3.9/py/lib/python3.9/site-packages (from gspread>=3.0.0->gspread_dataframe) (2.7.0)\nRequirement already satisfied: pytz>=2017.3 in /shared-libs/python3.9/py/lib/python3.9/site-packages (from pandas>=0.24.0->gspread_dataframe) (2022.1)\nRequirement already satisfied: numpy>=1.16.5 in /shared-libs/python3.9/py/lib/python3.9/site-packages (from pandas>=0.24.0->gspread_dataframe) (1.22.4)\nRequirement already satisfied: python-dateutil>=2.7.3 in /shared-libs/python3.9/py-core/lib/python3.9/site-packages (from pandas>=0.24.0->gspread_dataframe) (2.8.2)\nRequirement already satisfied: pyasn1-modules>=0.2.1 in /shared-libs/python3.9/py/lib/python3.9/site-packages (from google-auth>=1.12.0->gspread>=3.0.0->gspread_dataframe) (0.2.8)\nRequirement already satisfied: rsa<5,>=3.1.4 in /shared-libs/python3.9/py/lib/python3.9/site-packages (from google-auth>=1.12.0->gspread>=3.0.0->gspread_dataframe) (4.8)\nRequirement already satisfied: cachetools<6.0,>=2.0.0 in /shared-libs/python3.9/py/lib/python3.9/site-packages (from google-auth>=1.12.0->gspread>=3.0.0->gspread_dataframe) (5.2.0)\nRequirement already satisfied: requests-oauthlib>=0.7.0 in /shared-libs/python3.9/py/lib/python3.9/site-packages (from google-auth-oauthlib>=0.4.1->gspread>=3.0.0->gspread_dataframe) (1.3.1)\nRequirement already satisfied: pyasn1<0.5.0,>=0.4.6 in /shared-libs/python3.9/py/lib/python3.9/site-packages (from pyasn1-modules>=0.2.1->google-auth>=1.12.0->gspread>=3.0.0->gspread_dataframe) (0.4.8)\nRequirement already satisfied: requests>=2.0.0 in /shared-libs/python3.9/py/lib/python3.9/site-packages (from requests-oauthlib>=0.7.0->google-auth-oauthlib>=0.4.1->gspread>=3.0.0->gspread_dataframe) (2.27.1)\nRequirement already satisfied: oauthlib>=3.0.0 in /shared-libs/python3.9/py/lib/python3.9/site-packages (from requests-oauthlib>=0.7.0->google-auth-oauthlib>=0.4.1->gspread>=3.0.0->gspread_dataframe) (3.2.0)\nRequirement already satisfied: certifi>=2017.4.17 in /shared-libs/python3.9/py/lib/python3.9/site-packages (from requests>=2.0.0->requests-oauthlib>=0.7.0->google-auth-oauthlib>=0.4.1->gspread>=3.0.0->gspread_dataframe) (2022.5.18.1)\nRequirement already satisfied: urllib3<1.27,>=1.21.1 in /shared-libs/python3.9/py/lib/python3.9/site-packages (from requests>=2.0.0->requests-oauthlib>=0.7.0->google-auth-oauthlib>=0.4.1->gspread>=3.0.0->gspread_dataframe) (1.26.9)\nRequirement already satisfied: idna<4,>=2.5 in /shared-libs/python3.9/py-core/lib/python3.9/site-packages (from requests>=2.0.0->requests-oauthlib>=0.7.0->google-auth-oauthlib>=0.4.1->gspread>=3.0.0->gspread_dataframe) (3.3)\nRequirement already satisfied: charset-normalizer~=2.0.0 in /shared-libs/python3.9/py-core/lib/python3.9/site-packages (from requests>=2.0.0->requests-oauthlib>=0.7.0->google-auth-oauthlib>=0.4.1->gspread>=3.0.0->gspread_dataframe) (2.0.12)\n\u001b[33mWARNING: You are using pip version 22.0.4; however, version 22.1.2 is available.\nYou should consider upgrading via the '/root/venv/bin/python -m pip install --upgrade pip' command.\u001b[0m\u001b[33m\n\u001b[0m",
     "output_type": "stream"
    }
   ]
  },
  {
   "cell_type": "markdown",
   "source": "# Extract",
   "metadata": {
    "formattedRanges": [],
    "cell_id": "b65ad254c20e4000a6f58267eddb5d57",
    "tags": [],
    "is_collapsed": false,
    "deepnote_cell_type": "text-cell-h1"
   }
  },
  {
   "cell_type": "code",
   "metadata": {
    "cell_id": "a042b483f34742f0a4aeae09be9eab35",
    "tags": [],
    "deepnote_to_be_reexecuted": false,
    "source_hash": "f0db962d",
    "execution_start": 1657574715350,
    "execution_millis": 25,
    "deepnote_cell_type": "code",
    "deepnote_cell_height": 99
   },
   "source": "# extract first df and create variable \"prices\"\nprices = pd.read_csv('/work/cerebro/worldwide internet prices in 2022 - IN 2022.csv')",
   "execution_count": 21,
   "outputs": []
  },
  {
   "cell_type": "code",
   "metadata": {
    "cell_id": "f4c6be76dc934fb8851a1610933f770c",
    "tags": [],
    "deepnote_to_be_reexecuted": false,
    "source_hash": "281128c8",
    "execution_start": 1657574715384,
    "execution_millis": 13,
    "deepnote_cell_type": "code",
    "deepnote_cell_height": 99
   },
   "source": "# extract second df and create variable \"speed\"\nspeed = pd.read_csv('/work/cerebro/worldwide internet speed in 2022  - avg speed.csv')",
   "execution_count": 22,
   "outputs": []
  },
  {
   "cell_type": "code",
   "metadata": {
    "cell_id": "a6cb254e7cda4ca28bf213e8c013f5d2",
    "tags": [],
    "deepnote_to_be_reexecuted": false,
    "source_hash": "77cf50ab",
    "execution_start": 1657574715408,
    "execution_millis": 19,
    "deepnote_cell_type": "code",
    "deepnote_cell_height": 99
   },
   "source": "# extract third df and create variable \"users\"\nusers = pd.read_csv('/work/cerebro/worldwide internet users - users.csv')",
   "execution_count": 23,
   "outputs": []
  },
  {
   "cell_type": "code",
   "metadata": {
    "cell_id": "8f7b2ae0983f41eaa9d12a5a9a559d55",
    "tags": [],
    "deepnote_to_be_reexecuted": false,
    "source_hash": "d9501042",
    "execution_start": 1657573005899,
    "execution_millis": 3,
    "deepnote_cell_type": "code",
    "deepnote_cell_height": 433
   },
   "source": "# Checking prices columns, null values and data types\nprices.info()",
   "execution_count": 4,
   "outputs": [
    {
     "name": "stdout",
     "text": "<class 'pandas.core.frame.DataFrame'>\nRangeIndex: 242 entries, 0 to 241\nData columns (total 9 columns):\n #   Column                                            Non-Null Count  Dtype  \n---  ------                                            --------------  -----  \n 0   Country code                                      241 non-null    object \n 1   Name                                              242 non-null    object \n 2   Continental region                                242 non-null    object \n 3   NO. OF Internet Plans                             230 non-null    float64\n 4   Average price of 1GB (USD)                        242 non-null    object \n 5   Cheapest 1GB for 30 days (USD)                    230 non-null    object \n 6   Most expensive 1GB (USD)                          230 non-null    object \n 7   Average price of 1GB (USD  at the start of 2021)  230 non-null    object \n 8   Average price of 1GB (USD – at start of 2020)     230 non-null    object \ndtypes: float64(1), object(8)\nmemory usage: 17.1+ KB\n",
     "output_type": "stream"
    }
   ]
  },
  {
   "cell_type": "code",
   "source": "prices['Average price of 1GB (USD)'] = prices['Average price of 1GB (USD)'].str.lstrip('$')",
   "metadata": {
    "cell_id": "991df8091abe41339c53ce70d00fed6d",
    "tags": [],
    "deepnote_to_be_reexecuted": false,
    "source_hash": "2fc563bb",
    "execution_start": 1657576678072,
    "execution_millis": 6,
    "deepnote_cell_type": "code",
    "deepnote_cell_height": 81
   },
   "outputs": [],
   "execution_count": 57
  },
  {
   "cell_type": "code",
   "source": "prices['Average price of 1GB (USD)'] = pd.to_numeric(prices['Average price of 1GB (USD)'])",
   "metadata": {
    "cell_id": "f5f51563c917424bbece62287b987afb",
    "tags": [],
    "deepnote_to_be_reexecuted": false,
    "source_hash": "2a7c52cd",
    "execution_start": 1657576707781,
    "execution_millis": 255,
    "owner_user_id": "a75a09da-af1d-43d3-afa9-7caf9a44a34e",
    "deepnote_cell_type": "code",
    "deepnote_cell_height": 144.1875
   },
   "outputs": [
    {
     "output_type": "error",
     "ename": "ValueError",
     "evalue": "Unable to parse string \"NO PROVIDERS\" at position 230",
     "traceback": [
      "\u001b[0;31m---------------------------------------------------------------------------\u001b[0m",
      "\u001b[0;31mValueError\u001b[0m                                Traceback (most recent call last)",
      "\u001b[0;32mpandas/_libs/lib.pyx\u001b[0m in \u001b[0;36mpandas._libs.lib.maybe_convert_numeric\u001b[0;34m()\u001b[0m\n",
      "\u001b[0;31mValueError\u001b[0m: Unable to parse string \"NO PROVIDERS\"",
      "\nDuring handling of the above exception, another exception occurred:\n",
      "\u001b[0;31mValueError\u001b[0m                                Traceback (most recent call last)",
      "\u001b[0;32m<ipython-input-59-571951947c05>\u001b[0m in \u001b[0;36m<cell line: 1>\u001b[0;34m()\u001b[0m\n\u001b[0;32m----> 1\u001b[0;31m \u001b[0mprices\u001b[0m\u001b[0;34m[\u001b[0m\u001b[0;34m'Average price of 1GB (USD)'\u001b[0m\u001b[0;34m]\u001b[0m \u001b[0;34m=\u001b[0m \u001b[0mpd\u001b[0m\u001b[0;34m.\u001b[0m\u001b[0mto_numeric\u001b[0m\u001b[0;34m(\u001b[0m\u001b[0mprices\u001b[0m\u001b[0;34m[\u001b[0m\u001b[0;34m'Average price of 1GB (USD)'\u001b[0m\u001b[0;34m]\u001b[0m\u001b[0;34m)\u001b[0m\u001b[0;34m\u001b[0m\u001b[0;34m\u001b[0m\u001b[0m\n\u001b[0m",
      "\u001b[0;32m/shared-libs/python3.9/py/lib/python3.9/site-packages/pandas/core/tools/numeric.py\u001b[0m in \u001b[0;36mto_numeric\u001b[0;34m(arg, errors, downcast)\u001b[0m\n\u001b[1;32m    152\u001b[0m         \u001b[0mcoerce_numeric\u001b[0m \u001b[0;34m=\u001b[0m \u001b[0merrors\u001b[0m \u001b[0;32mnot\u001b[0m \u001b[0;32min\u001b[0m \u001b[0;34m(\u001b[0m\u001b[0;34m\"ignore\"\u001b[0m\u001b[0;34m,\u001b[0m \u001b[0;34m\"raise\"\u001b[0m\u001b[0;34m)\u001b[0m\u001b[0;34m\u001b[0m\u001b[0;34m\u001b[0m\u001b[0m\n\u001b[1;32m    153\u001b[0m         \u001b[0;32mtry\u001b[0m\u001b[0;34m:\u001b[0m\u001b[0;34m\u001b[0m\u001b[0;34m\u001b[0m\u001b[0m\n\u001b[0;32m--> 154\u001b[0;31m             values = lib.maybe_convert_numeric(\n\u001b[0m\u001b[1;32m    155\u001b[0m                 \u001b[0mvalues\u001b[0m\u001b[0;34m,\u001b[0m \u001b[0mset\u001b[0m\u001b[0;34m(\u001b[0m\u001b[0;34m)\u001b[0m\u001b[0;34m,\u001b[0m \u001b[0mcoerce_numeric\u001b[0m\u001b[0;34m=\u001b[0m\u001b[0mcoerce_numeric\u001b[0m\u001b[0;34m\u001b[0m\u001b[0;34m\u001b[0m\u001b[0m\n\u001b[1;32m    156\u001b[0m             )\n",
      "\u001b[0;32mpandas/_libs/lib.pyx\u001b[0m in \u001b[0;36mpandas._libs.lib.maybe_convert_numeric\u001b[0;34m()\u001b[0m\n",
      "\u001b[0;31mValueError\u001b[0m: Unable to parse string \"NO PROVIDERS\" at position 230"
     ]
    }
   ],
   "execution_count": 59
  },
  {
   "cell_type": "code",
   "metadata": {
    "cell_id": "1a355bacb5c74264a25e16ae4cd17ae6",
    "tags": [],
    "deepnote_to_be_reexecuted": false,
    "source_hash": "bb94174d",
    "execution_start": 1657573005943,
    "execution_millis": 21,
    "deepnote_cell_type": "code",
    "deepnote_cell_height": 118.1875,
    "deepnote_output_heights": [
     21.1875
    ]
   },
   "source": "prices.index[prices['NO. OF Internet Plans '].isnull(),].tolist()",
   "execution_count": 5,
   "outputs": [
    {
     "output_type": "execute_result",
     "execution_count": 5,
     "data": {
      "text/plain": "[230, 231, 232, 233, 234, 235, 236, 237, 238, 239, 240, 241]"
     },
     "metadata": {}
    }
   ]
  },
  {
   "cell_type": "code",
   "metadata": {
    "cell_id": "907898925e1d4a198d3095cb2628bc46",
    "tags": [],
    "deepnote_to_be_reexecuted": false,
    "source_hash": "795f14b8",
    "execution_start": 1657575563259,
    "execution_millis": 37,
    "deepnote_table_state": {
     "pageSize": 10,
     "pageIndex": 0,
     "filters": [],
     "sortBy": []
    },
    "deepnote_table_loading": false,
    "deepnote_cell_type": "code",
    "deepnote_cell_height": 348.4375,
    "deepnote_output_heights": [
     251.4375
    ]
   },
   "source": "prices.loc[230:241,'Name']",
   "execution_count": 55,
   "outputs": [
    {
     "output_type": "execute_result",
     "execution_count": 55,
     "data": {
      "text/plain": "230                  Christmas Island\n231                           Eritrea\n232                       North Korea\n233                  Marshall Islands\n234           St. Pierre and Miquelon\n235                       South Sudan\n236                            Tuvalu\n237           Vatican City (Holy See)\n238                         Venezuela\n239                 Wallis and Futuna\n240    Congo (Democratic Republic of)\n241                          Zimbabwe\nName: Name, dtype: object"
     },
     "metadata": {}
    }
   ]
  },
  {
   "cell_type": "code",
   "metadata": {
    "cell_id": "74fcaa0db44a4f75bcf4254dc353284d",
    "tags": [],
    "deepnote_to_be_reexecuted": false,
    "source_hash": "238fd73",
    "execution_start": 1657575559106,
    "execution_millis": 5,
    "deepnote_cell_type": "code",
    "deepnote_cell_height": 214.125,
    "deepnote_output_heights": [
     117.125
    ]
   },
   "source": "prices.columns",
   "execution_count": 53,
   "outputs": [
    {
     "output_type": "execute_result",
     "execution_count": 53,
     "data": {
      "text/plain": "Index(['Country code', 'Name', 'Continental region', 'NO. OF Internet Plans ',\n       'Average price of 1GB (USD)', 'Cheapest 1GB for 30 days (USD)',\n       'Most expensive 1GB (USD)',\n       'Average price of 1GB (USD  at the start of 2021)',\n       'Average price of 1GB (USD – at start of 2020)'],\n      dtype='object')"
     },
     "metadata": {}
    }
   ]
  },
  {
   "cell_type": "code",
   "metadata": {
    "cell_id": "9bf587cd0ab04182a7e714779311d5e8",
    "tags": [],
    "deepnote_to_be_reexecuted": false,
    "source_hash": "17d266d4",
    "execution_start": 1657575556097,
    "execution_millis": 24,
    "deepnote_cell_type": "code",
    "deepnote_cell_height": 600
   },
   "source": "speed",
   "execution_count": 52,
   "outputs": [
    {
     "output_type": "execute_result",
     "execution_count": 52,
     "data": {
      "application/vnd.deepnote.dataframe.v3+json": {
       "column_count": 2,
       "row_count": 144,
       "columns": [
        {
         "name": "Country",
         "dtype": "object",
         "stats": {
          "unique_count": 143,
          "nan_count": 0,
          "categories": [
           {
            "name": "Lebanon",
            "count": 2
           },
           {
            "name": "Canada",
            "count": 1
           },
           {
            "name": "141 others",
            "count": 141
           }
          ]
         }
        },
        {
         "name": "Avg \n(Mbit/s)Ookla",
         "dtype": "float64",
         "stats": {
          "unique_count": 141,
          "nan_count": 1,
          "min": "4.89",
          "max": "135.35",
          "histogram": [
           {
            "bin_start": 4.89,
            "bin_end": 17.936,
            "count": 44
           },
           {
            "bin_start": 17.936,
            "bin_end": 30.982000000000003,
            "count": 40
           },
           {
            "bin_start": 30.982000000000003,
            "bin_end": 44.028000000000006,
            "count": 16
           },
           {
            "bin_start": 44.028000000000006,
            "bin_end": 57.074000000000005,
            "count": 17
           },
           {
            "bin_start": 57.074000000000005,
            "bin_end": 70.12,
            "count": 7
           },
           {
            "bin_start": 70.12,
            "bin_end": 83.16600000000001,
            "count": 8
           },
           {
            "bin_start": 83.16600000000001,
            "bin_end": 96.212,
            "count": 3
           },
           {
            "bin_start": 96.212,
            "bin_end": 109.25800000000001,
            "count": 4
           },
           {
            "bin_start": 109.25800000000001,
            "bin_end": 122.30400000000002,
            "count": 2
           },
           {
            "bin_start": 122.30400000000002,
            "bin_end": 135.35,
            "count": 2
           }
          ]
         }
        },
        {
         "name": "_deepnote_index_column",
         "dtype": "int64"
        }
       ],
       "rows": [
        {
         "Country": "Canada",
         "Avg \n(Mbit/s)Ookla": 75.18,
         "_deepnote_index_column": 0
        },
        {
         "Country": "South Korea",
         "Avg \n(Mbit/s)Ookla": 117.95,
         "_deepnote_index_column": 1
        },
        {
         "Country": "Netherlands",
         "Avg \n(Mbit/s)Ookla": 108.33,
         "_deepnote_index_column": 2
        },
        {
         "Country": "Japan",
         "Avg \n(Mbit/s)Ookla": 44.05,
         "_deepnote_index_column": 3
        },
        {
         "Country": "Norway",
         "Avg \n(Mbit/s)Ookla": 134.73,
         "_deepnote_index_column": 4
        },
        {
         "Country": "Singapore",
         "Avg \n(Mbit/s)Ookla": 67.99,
         "_deepnote_index_column": 5
        },
        {
         "Country": "Australia",
         "Avg \n(Mbit/s)Ookla": 76.52,
         "_deepnote_index_column": 6
        },
        {
         "Country": "Switzerland",
         "Avg \n(Mbit/s)Ookla": 82.29,
         "_deepnote_index_column": 7
        },
        {
         "Country": "Belgium",
         "Avg \n(Mbit/s)Ookla": 58.65,
         "_deepnote_index_column": 8
        },
        {
         "Country": "Croatia",
         "Avg \n(Mbit/s)Ookla": 86.48,
         "_deepnote_index_column": 9
        }
       ]
      },
      "text/plain": "         Country  Avg \\n(Mbit/s)Ookla\n0         Canada                75.18\n1    South Korea               117.95\n2    Netherlands               108.33\n3          Japan                44.05\n4         Norway               134.73\n..           ...                  ...\n139        Sudan                 9.50\n140         Cuba                 9.10\n141   Tajikistan                 7.05\n142    Venezuela                 5.68\n143    Palestine                 4.89\n\n[144 rows x 2 columns]",
      "text/html": "<div>\n<style scoped>\n    .dataframe tbody tr th:only-of-type {\n        vertical-align: middle;\n    }\n\n    .dataframe tbody tr th {\n        vertical-align: top;\n    }\n\n    .dataframe thead th {\n        text-align: right;\n    }\n</style>\n<table border=\"1\" class=\"dataframe\">\n  <thead>\n    <tr style=\"text-align: right;\">\n      <th></th>\n      <th>Country</th>\n      <th>Avg \\n(Mbit/s)Ookla</th>\n    </tr>\n  </thead>\n  <tbody>\n    <tr>\n      <th>0</th>\n      <td>Canada</td>\n      <td>75.18</td>\n    </tr>\n    <tr>\n      <th>1</th>\n      <td>South Korea</td>\n      <td>117.95</td>\n    </tr>\n    <tr>\n      <th>2</th>\n      <td>Netherlands</td>\n      <td>108.33</td>\n    </tr>\n    <tr>\n      <th>3</th>\n      <td>Japan</td>\n      <td>44.05</td>\n    </tr>\n    <tr>\n      <th>4</th>\n      <td>Norway</td>\n      <td>134.73</td>\n    </tr>\n    <tr>\n      <th>...</th>\n      <td>...</td>\n      <td>...</td>\n    </tr>\n    <tr>\n      <th>139</th>\n      <td>Sudan</td>\n      <td>9.50</td>\n    </tr>\n    <tr>\n      <th>140</th>\n      <td>Cuba</td>\n      <td>9.10</td>\n    </tr>\n    <tr>\n      <th>141</th>\n      <td>Tajikistan</td>\n      <td>7.05</td>\n    </tr>\n    <tr>\n      <th>142</th>\n      <td>Venezuela</td>\n      <td>5.68</td>\n    </tr>\n    <tr>\n      <th>143</th>\n      <td>Palestine</td>\n      <td>4.89</td>\n    </tr>\n  </tbody>\n</table>\n<p>144 rows × 2 columns</p>\n</div>"
     },
     "metadata": {}
    }
   ]
  },
  {
   "cell_type": "code",
   "metadata": {
    "cell_id": "e5814e31e12b4c33a2c3d8f454f91578",
    "tags": [],
    "deepnote_to_be_reexecuted": false,
    "source_hash": "3c07af22",
    "execution_start": 1657575552149,
    "execution_millis": 40,
    "deepnote_cell_type": "code",
    "deepnote_cell_height": 600,
    "deepnote_output_heights": [
     21.1875
    ]
   },
   "source": "users",
   "execution_count": 51,
   "outputs": [
    {
     "output_type": "execute_result",
     "execution_count": 51,
     "data": {
      "application/vnd.deepnote.dataframe.v3+json": {
       "column_count": 5,
       "row_count": 214,
       "columns": [
        {
         "name": "Country or area",
         "dtype": "object",
         "stats": {
          "unique_count": 214,
          "nan_count": 0,
          "categories": [
           {
            "name": "China",
            "count": 1
           },
           {
            "name": "India",
            "count": 1
           },
           {
            "name": "212 others",
            "count": 212
           }
          ]
         }
        },
        {
         "name": "Subregion",
         "dtype": "object",
         "stats": {
          "unique_count": 22,
          "nan_count": 0,
          "categories": [
           {
            "name": "Caribbean",
            "count": 20
           },
           {
            "name": "Western Asia",
            "count": 18
           },
           {
            "name": "20 others",
            "count": 176
           }
          ]
         }
        },
        {
         "name": "Region",
         "dtype": "object",
         "stats": {
          "unique_count": 5,
          "nan_count": 0,
          "categories": [
           {
            "name": "Africa",
            "count": 55
           },
           {
            "name": "Asia",
            "count": 49
           },
           {
            "name": "3 others",
            "count": 110
           }
          ]
         }
        },
        {
         "name": "Internet users",
         "dtype": "object",
         "stats": {
          "unique_count": 214,
          "nan_count": 0,
          "categories": [
           {
            "name": "1,010,740,000",
            "count": 1
           },
           {
            "name": "833,710,000",
            "count": 1
           },
           {
            "name": "212 others",
            "count": 212
           }
          ]
         }
        },
        {
         "name": "Population",
         "dtype": "object",
         "stats": {
          "unique_count": 212,
          "nan_count": 2,
          "categories": [
           {
            "name": "1,427,647,786",
            "count": 1
           },
           {
            "name": "211 others",
            "count": 211
           },
           {
            "name": "Missing",
            "count": 2
           }
          ]
         }
        },
        {
         "name": "_deepnote_index_column",
         "dtype": "int64"
        }
       ],
       "rows": [
        {
         "Country or area": "China",
         "Subregion": "Eastern Asia",
         "Region": "Asia",
         "Internet users": "1,010,740,000",
         "Population": "1,427,647,786",
         "_deepnote_index_column": 0
        },
        {
         "Country or area": "India",
         "Subregion": "Southern Asia",
         "Region": "Asia",
         "Internet users": "833,710,000",
         "Population": "1,352,642,280",
         "_deepnote_index_column": 1
        },
        {
         "Country or area": "United States",
         "Subregion": "Northern America",
         "Region": "Americas",
         "Internet users": "312,320,000",
         "Population": "327,096,265",
         "_deepnote_index_column": 2
        },
        {
         "Country or area": "Indonesia",
         "Subregion": "South-eastern Asia",
         "Region": "Asia",
         "Internet users": "196,000,000",
         "Population": "267,670,543",
         "_deepnote_index_column": 3
        },
        {
         "Country or area": "Brazil",
         "Subregion": "South America",
         "Region": "Americas",
         "Internet users": "160,010,801",
         "Population": "209,469,323",
         "_deepnote_index_column": 4
        },
        {
         "Country or area": "Nigeria",
         "Subregion": "Western Africa",
         "Region": "Africa",
         "Internet users": "136,203,231",
         "Population": "195,874,685",
         "_deepnote_index_column": 5
        },
        {
         "Country or area": "Bangladesh",
         "Subregion": "Southern Asia",
         "Region": "Asia",
         "Internet users": "129,180,000",
         "Population": "166,303,498",
         "_deepnote_index_column": 6
        },
        {
         "Country or area": "Russia",
         "Subregion": "Eastern Europe",
         "Region": "Europe",
         "Internet users": "124,000,000",
         "Population": "145,734,038",
         "_deepnote_index_column": 7
        },
        {
         "Country or area": "Pakistan",
         "Subregion": "Southern Asia",
         "Region": "Asia",
         "Internet users": "118,800,000",
         "Population": "213,756,286",
         "_deepnote_index_column": 8
        },
        {
         "Country or area": "Japan",
         "Subregion": "Eastern Asia",
         "Region": "Asia",
         "Internet users": "117,400,000",
         "Population": "127,202,192",
         "_deepnote_index_column": 9
        }
       ]
      },
      "text/plain": "                                  Country or area           Subregion  \\\n0                                           China        Eastern Asia   \n1                                           India       Southern Asia   \n2                                   United States    Northern America   \n3                                       Indonesia  South-eastern Asia   \n4                                          Brazil       South America   \n..                                            ...                 ...   \n209  Saint Helena, Ascension and Tristan da Cunha      Western Africa   \n210                              Falkland Islands       South America   \n211                                    Montserrat           Caribbean   \n212                             Wallis and Futuna           Polynesia   \n213                                          Niue           Polynesia   \n\n       Region Internet users     Population  \n0        Asia  1,010,740,000  1,427,647,786  \n1        Asia    833,710,000  1,352,642,280  \n2    Americas    312,320,000    327,096,265  \n3        Asia    196,000,000    267,670,543  \n4    Americas    160,010,801    209,469,323  \n..        ...            ...            ...  \n209    Africa          2,906          6,035  \n210  Americas          2,881          3,234  \n211  Americas          2,833          4,993  \n212   Oceania          1,383         11,661  \n213   Oceania          1,034          1,620  \n\n[214 rows x 5 columns]",
      "text/html": "<div>\n<style scoped>\n    .dataframe tbody tr th:only-of-type {\n        vertical-align: middle;\n    }\n\n    .dataframe tbody tr th {\n        vertical-align: top;\n    }\n\n    .dataframe thead th {\n        text-align: right;\n    }\n</style>\n<table border=\"1\" class=\"dataframe\">\n  <thead>\n    <tr style=\"text-align: right;\">\n      <th></th>\n      <th>Country or area</th>\n      <th>Subregion</th>\n      <th>Region</th>\n      <th>Internet users</th>\n      <th>Population</th>\n    </tr>\n  </thead>\n  <tbody>\n    <tr>\n      <th>0</th>\n      <td>China</td>\n      <td>Eastern Asia</td>\n      <td>Asia</td>\n      <td>1,010,740,000</td>\n      <td>1,427,647,786</td>\n    </tr>\n    <tr>\n      <th>1</th>\n      <td>India</td>\n      <td>Southern Asia</td>\n      <td>Asia</td>\n      <td>833,710,000</td>\n      <td>1,352,642,280</td>\n    </tr>\n    <tr>\n      <th>2</th>\n      <td>United States</td>\n      <td>Northern America</td>\n      <td>Americas</td>\n      <td>312,320,000</td>\n      <td>327,096,265</td>\n    </tr>\n    <tr>\n      <th>3</th>\n      <td>Indonesia</td>\n      <td>South-eastern Asia</td>\n      <td>Asia</td>\n      <td>196,000,000</td>\n      <td>267,670,543</td>\n    </tr>\n    <tr>\n      <th>4</th>\n      <td>Brazil</td>\n      <td>South America</td>\n      <td>Americas</td>\n      <td>160,010,801</td>\n      <td>209,469,323</td>\n    </tr>\n    <tr>\n      <th>...</th>\n      <td>...</td>\n      <td>...</td>\n      <td>...</td>\n      <td>...</td>\n      <td>...</td>\n    </tr>\n    <tr>\n      <th>209</th>\n      <td>Saint Helena, Ascension and Tristan da Cunha</td>\n      <td>Western Africa</td>\n      <td>Africa</td>\n      <td>2,906</td>\n      <td>6,035</td>\n    </tr>\n    <tr>\n      <th>210</th>\n      <td>Falkland Islands</td>\n      <td>South America</td>\n      <td>Americas</td>\n      <td>2,881</td>\n      <td>3,234</td>\n    </tr>\n    <tr>\n      <th>211</th>\n      <td>Montserrat</td>\n      <td>Caribbean</td>\n      <td>Americas</td>\n      <td>2,833</td>\n      <td>4,993</td>\n    </tr>\n    <tr>\n      <th>212</th>\n      <td>Wallis and Futuna</td>\n      <td>Polynesia</td>\n      <td>Oceania</td>\n      <td>1,383</td>\n      <td>11,661</td>\n    </tr>\n    <tr>\n      <th>213</th>\n      <td>Niue</td>\n      <td>Polynesia</td>\n      <td>Oceania</td>\n      <td>1,034</td>\n      <td>1,620</td>\n    </tr>\n  </tbody>\n</table>\n<p>214 rows × 5 columns</p>\n</div>"
     },
     "metadata": {}
    }
   ]
  },
  {
   "cell_type": "code",
   "source": "prices_speed_users = pd.merge(prices,speed,left_on='Name',right_on='Country',how='inner')",
   "metadata": {
    "cell_id": "5dfff4d13c364664b2002195df3b13ca",
    "tags": [],
    "deepnote_to_be_reexecuted": false,
    "source_hash": "759377",
    "execution_start": 1657575475067,
    "execution_millis": 30,
    "deepnote_cell_type": "code",
    "deepnote_cell_height": 81
   },
   "outputs": [],
   "execution_count": 45
  },
  {
   "cell_type": "code",
   "source": "# prices_speed_users.loc[prices_speed_users['Country'].isnull(),]\nprices_speed_users",
   "metadata": {
    "cell_id": "a5971b8eb5a54afbb940f8d5529b0554",
    "tags": [],
    "deepnote_to_be_reexecuted": false,
    "source_hash": "69d4a3b0",
    "execution_start": 1657575544860,
    "execution_millis": 512,
    "deepnote_table_state": {
     "pageSize": 10,
     "pageIndex": 0,
     "filters": [],
     "sortBy": [
      {
       "id": "Name",
       "type": "asc"
      }
     ]
    },
    "deepnote_table_loading": false,
    "deepnote_table_invalid": false,
    "deepnote_cell_type": "code",
    "deepnote_cell_height": 667
   },
   "outputs": [
    {
     "output_type": "execute_result",
     "execution_count": 50,
     "data": {
      "application/vnd.deepnote.dataframe.v3+json": {
       "column_count": 11,
       "row_count": 135,
       "columns": [
        {
         "name": "Country code",
         "dtype": "object",
         "stats": {
          "unique_count": 133,
          "nan_count": 1,
          "categories": [
           {
            "name": "LB",
            "count": 2
           },
           {
            "name": "132 others",
            "count": 132
           },
           {
            "name": "Missing",
            "count": 1
           }
          ]
         }
        },
        {
         "name": "Name",
         "dtype": "object",
         "stats": {
          "unique_count": 134,
          "nan_count": 0,
          "categories": [
           {
            "name": "Lebanon",
            "count": 2
           },
           {
            "name": "Afghanistan",
            "count": 1
           },
           {
            "name": "132 others",
            "count": 132
           }
          ]
         }
        },
        {
         "name": "Continental region",
         "dtype": "object",
         "stats": {
          "unique_count": 13,
          "nan_count": 0,
          "categories": [
           {
            "name": "ASIA (EX. NEAR EAST)",
            "count": 23
           },
           {
            "name": "SUB-SAHARAN AFRICA",
            "count": 20
           },
           {
            "name": "11 others",
            "count": 92
           }
          ]
         }
        },
        {
         "name": "NO. OF Internet Plans ",
         "dtype": "float64",
         "stats": {
          "unique_count": 45,
          "nan_count": 2,
          "min": "3.0",
          "max": "60.0",
          "histogram": [
           {
            "bin_start": 3,
            "bin_end": 8.7,
            "count": 3
           },
           {
            "bin_start": 8.7,
            "bin_end": 14.4,
            "count": 10
           },
           {
            "bin_start": 14.4,
            "bin_end": 20.1,
            "count": 24
           },
           {
            "bin_start": 20.1,
            "bin_end": 25.8,
            "count": 21
           },
           {
            "bin_start": 25.8,
            "bin_end": 31.5,
            "count": 11
           },
           {
            "bin_start": 31.5,
            "bin_end": 37.2,
            "count": 18
           },
           {
            "bin_start": 37.2,
            "bin_end": 42.9,
            "count": 7
           },
           {
            "bin_start": 42.9,
            "bin_end": 48.6,
            "count": 9
           },
           {
            "bin_start": 48.6,
            "bin_end": 54.300000000000004,
            "count": 6
           },
           {
            "bin_start": 54.300000000000004,
            "bin_end": 60,
            "count": 24
           }
          ]
         }
        },
        {
         "name": "Average price of 1GB (USD)",
         "dtype": "object",
         "stats": {
          "unique_count": 116,
          "nan_count": 0,
          "categories": [
           {
            "name": "$2.12",
            "count": 3
           },
           {
            "name": "$0.75",
            "count": 3
           },
           {
            "name": "114 others",
            "count": 129
           }
          ]
         }
        },
        {
         "name": "Cheapest 1GB for 30 days (USD)",
         "dtype": "object",
         "stats": {
          "unique_count": 78,
          "nan_count": 2,
          "categories": [
           {
            "name": "$0.02",
            "count": 5
           },
           {
            "name": "77 others",
            "count": 128
           },
           {
            "name": "Missing",
            "count": 2
           }
          ]
         }
        },
        {
         "name": "Most expensive 1GB (USD)",
         "dtype": "object",
         "stats": {
          "unique_count": 127,
          "nan_count": 2,
          "categories": [
           {
            "name": "$2.22",
            "count": 2
           },
           {
            "name": "126 others",
            "count": 131
           },
           {
            "name": "Missing",
            "count": 2
           }
          ]
         }
        },
        {
         "name": "Average price of 1GB (USD  at the start of 2021)",
         "dtype": "object",
         "stats": {
          "unique_count": 120,
          "nan_count": 2,
          "categories": [
           {
            "name": "$1.45",
            "count": 2
           },
           {
            "name": "119 others",
            "count": 131
           },
           {
            "name": "Missing",
            "count": 2
           }
          ]
         }
        },
        {
         "name": "Average price of 1GB (USD – at start of 2020)",
         "dtype": "object",
         "stats": {
          "unique_count": 125,
          "nan_count": 2,
          "categories": [
           {
            "name": "$2.25",
            "count": 3
           },
           {
            "name": "124 others",
            "count": 130
           },
           {
            "name": "Missing",
            "count": 2
           }
          ]
         }
        },
        {
         "name": "Country",
         "dtype": "object",
         "stats": {
          "unique_count": 134,
          "nan_count": 0,
          "categories": [
           {
            "name": "Lebanon",
            "count": 2
           },
           {
            "name": "Afghanistan",
            "count": 1
           },
           {
            "name": "132 others",
            "count": 132
           }
          ]
         }
        },
        {
         "name": "Avg \n(Mbit/s)Ookla",
         "dtype": "float64",
         "stats": {
          "unique_count": 132,
          "nan_count": 1,
          "min": "5.5",
          "max": "135.35",
          "histogram": [
           {
            "bin_start": 5.5,
            "bin_end": 18.485,
            "count": 45
           },
           {
            "bin_start": 18.485,
            "bin_end": 31.47,
            "count": 33
           },
           {
            "bin_start": 31.47,
            "bin_end": 44.455,
            "count": 17
           },
           {
            "bin_start": 44.455,
            "bin_end": 57.44,
            "count": 16
           },
           {
            "bin_start": 57.44,
            "bin_end": 70.425,
            "count": 6
           },
           {
            "bin_start": 70.425,
            "bin_end": 83.41,
            "count": 7
           },
           {
            "bin_start": 83.41,
            "bin_end": 96.395,
            "count": 4
           },
           {
            "bin_start": 96.395,
            "bin_end": 109.38,
            "count": 2
           },
           {
            "bin_start": 109.38,
            "bin_end": 122.365,
            "count": 2
           },
           {
            "bin_start": 122.365,
            "bin_end": 135.35,
            "count": 2
           }
          ]
         }
        },
        {
         "name": "_deepnote_index_column",
         "dtype": "int64"
        }
       ],
       "rows": [
        {
         "Country code": "AF",
         "Name": "Afghanistan",
         "Continental region": "ASIA (EX. NEAR EAST)",
         "NO. OF Internet Plans ": 35,
         "Average price of 1GB (USD)": "$1.02",
         "Cheapest 1GB for 30 days (USD)": "$0.38",
         "Most expensive 1GB (USD)": "$2.12",
         "Average price of 1GB (USD  at the start of 2021)": "$1.55",
         "Average price of 1GB (USD – at start of 2020)": "$1.60",
         "Country": "Afghanistan",
         "Avg \n(Mbit/s)Ookla": 5.5,
         "_deepnote_index_column": 44
        },
        {
         "Country code": "AL",
         "Name": "Albania",
         "Continental region": "EASTERN EUROPE",
         "NO. OF Internet Plans ": 32,
         "Average price of 1GB (USD)": "$2.80",
         "Cheapest 1GB for 30 days (USD)": "$0.72",
         "Most expensive 1GB (USD)": "$96.39",
         "Average price of 1GB (USD  at the start of 2021)": "$2.83",
         "Average price of 1GB (USD – at start of 2020)": "$5.28",
         "Country": "Albania",
         "Avg \n(Mbit/s)Ookla": 40.48,
         "_deepnote_index_column": 98
        },
        {
         "Country code": "DZ",
         "Name": "Algeria",
         "Continental region": "NORTHERN AFRICA",
         "NO. OF Internet Plans ": 20,
         "Average price of 1GB (USD)": "$0.51",
         "Cheapest 1GB for 30 days (USD)": "$0.16",
         "Most expensive 1GB (USD)": "$2.24",
         "Average price of 1GB (USD  at the start of 2021)": "$0.65",
         "Average price of 1GB (USD – at start of 2020)": "$5.15",
         "Country": "Algeria",
         "Avg \n(Mbit/s)Ookla": 12.44,
         "_deepnote_index_column": 13
        },
        {
         "Country code": "AO",
         "Name": "Angola",
         "Continental region": "SUB-SAHARAN AFRICA",
         "NO. OF Internet Plans ": 20,
         "Average price of 1GB (USD)": "$1.61",
         "Cheapest 1GB for 30 days (USD)": "$1.03",
         "Most expensive 1GB (USD)": "$3.21",
         "Average price of 1GB (USD  at the start of 2021)": "$5.29",
         "Average price of 1GB (USD – at start of 2020)": "$7.95",
         "Country": "Angola",
         "Avg \n(Mbit/s)Ookla": 22.59,
         "_deepnote_index_column": 70
        },
        {
         "Country code": "AR",
         "Name": "Argentina",
         "Continental region": "SOUTH AMERICA",
         "NO. OF Internet Plans ": 28,
         "Average price of 1GB (USD)": "$2.38",
         "Cheapest 1GB for 30 days (USD)": "$0.44",
         "Most expensive 1GB (USD)": "$11.47",
         "Average price of 1GB (USD  at the start of 2021)": "$1.45",
         "Average price of 1GB (USD – at start of 2020)": "$7.40",
         "Country": "Argentina",
         "Avg \n(Mbit/s)Ookla": 20.64,
         "_deepnote_index_column": 91
        },
        {
         "Country code": "AM",
         "Name": "Armenia",
         "Continental region": "CIS (FORMER USSR)",
         "NO. OF Internet Plans ": 21,
         "Average price of 1GB (USD)": "$0.76",
         "Cheapest 1GB for 30 days (USD)": "$0.22",
         "Most expensive 1GB (USD)": "$13.02",
         "Average price of 1GB (USD  at the start of 2021)": "$1.05",
         "Average price of 1GB (USD – at start of 2020)": "$2.51",
         "Country": "Armenia",
         "Avg \n(Mbit/s)Ookla": 22.01,
         "_deepnote_index_column": 30
        },
        {
         "Country code": "AU",
         "Name": "Australia",
         "Continental region": "OCEANIA",
         "NO. OF Internet Plans ": 46,
         "Average price of 1GB (USD)": "$0.70",
         "Cheapest 1GB for 30 days (USD)": "$0.10",
         "Most expensive 1GB (USD)": "$7.62",
         "Average price of 1GB (USD  at the start of 2021)": "$0.68",
         "Average price of 1GB (USD – at start of 2020)": "$2.47",
         "Country": "Australia",
         "Avg \n(Mbit/s)Ookla": 76.52,
         "_deepnote_index_column": 25
        },
        {
         "Country code": "AT",
         "Name": "Austria",
         "Continental region": "WESTERN EUROPE",
         "NO. OF Internet Plans ": 60,
         "Average price of 1GB (USD)": "$1.17",
         "Cheapest 1GB for 30 days (USD)": "$0.24",
         "Most expensive 1GB (USD)": "$23.43",
         "Average price of 1GB (USD  at the start of 2021)": "$1.08",
         "Average price of 1GB (USD – at start of 2020)": "$1.88",
         "Country": "Austria",
         "Avg \n(Mbit/s)Ookla": 56.6,
         "_deepnote_index_column": 53
        },
        {
         "Country code": "AZ",
         "Name": "Azerbaijan",
         "Continental region": "CIS (FORMER USSR)",
         "NO. OF Internet Plans ": 42,
         "Average price of 1GB (USD)": "$1.82",
         "Cheapest 1GB for 30 days (USD)": "$0.24",
         "Most expensive 1GB (USD)": "$9.80",
         "Average price of 1GB (USD  at the start of 2021)": "$1.86",
         "Average price of 1GB (USD – at start of 2020)": "$6.42",
         "Country": "Azerbaijan",
         "Avg \n(Mbit/s)Ookla": 30.4,
         "_deepnote_index_column": 76
        },
        {
         "Country code": "BS",
         "Name": "Bahamas",
         "Continental region": "CARIBBEAN",
         "NO. OF Internet Plans ": 17,
         "Average price of 1GB (USD)": "$5.98",
         "Cheapest 1GB for 30 days (USD)": "$3.99",
         "Most expensive 1GB (USD)": "$10.74",
         "Average price of 1GB (USD  at the start of 2021)": "$6.02",
         "Average price of 1GB (USD – at start of 2020)": "$4.94",
         "Country": "Bahamas",
         "Avg \n(Mbit/s)Ookla": 26.77,
         "_deepnote_index_column": 122
        }
       ]
      },
      "text/plain": "    Country code        Name  Continental region  NO. OF Internet Plans   \\\n0             IL      Israel           NEAR EAST                    27.0   \n1             KG  Kyrgyzstan   CIS (FORMER USSR)                    20.0   \n2             FJ        Fiji             OCEANIA                    18.0   \n3             IT       Italy      WESTERN EUROPE                    29.0   \n4             SD       Sudan  SUB-SAHARAN AFRICA                    33.0   \n..           ...         ...                 ...                     ...   \n130           YE       Yemen           NEAR EAST                    17.0   \n131          NaN     Namibia  SUB-SAHARAN AFRICA                    33.0   \n132           MW      Malawi  SUB-SAHARAN AFRICA                     5.0   \n133           VE   Venezuela       SOUTH AMERICA                     NaN   \n134           ZW    Zimbabwe  SUB-SAHARAN AFRICA                     NaN   \n\n    Average price of 1GB (USD) Cheapest 1GB for 30 days (USD)  \\\n0                        $0.05                          $0.02   \n1                        $0.15                          $0.10   \n2                        $0.19                          $0.05   \n3                        $0.27                          $0.09   \n4                        $0.27                          $0.03   \n..                         ...                            ...   \n130                     $15.98                          $0.40   \n131                     $22.37                          $1.20   \n132                     $25.46                         $20.37   \n133             HYPERINFLATION                            NaN   \n134  UNRELIABLE EXCHANGE RATES                            NaN   \n\n    Most expensive 1GB (USD) Average price of 1GB (USD  at the start of 2021)  \\\n0                     $20.95                                            $0.11   \n1                      $7.08                                            $0.21   \n2                      $0.85                                            $0.59   \n3                      $3.54                                            $0.43   \n4                      $0.92                                            $0.63   \n..                       ...                                              ...   \n130                   $39.94                                           $15.98   \n131                   $72.06                                            $4.78   \n132                   $25.46                                           $27.41   \n133                      NaN                                              NaN   \n134                      NaN                                              NaN   \n\n    Average price of 1GB (USD – at start of 2020)     Country  \\\n0                                           $0.90      Israel   \n1                                           $0.27  Kyrgyzstan   \n2                                           $3.57        Fiji   \n3                                           $1.73       Italy   \n4                                           $0.68       Sudan   \n..                                            ...         ...   \n130                                        $15.73       Yemen   \n131                                        $11.02     Namibia   \n132                                         $3.59      Malawi   \n133                                           NaN   Venezuela   \n134                                           NaN    Zimbabwe   \n\n     Avg \\n(Mbit/s)Ookla  \n0                  28.01  \n1                  16.30  \n2                  25.99  \n3                  37.15  \n4                   9.50  \n..                   ...  \n130                16.89  \n131                18.43  \n132                17.95  \n133                 5.68  \n134                13.99  \n\n[135 rows x 11 columns]",
      "text/html": "<div>\n<style scoped>\n    .dataframe tbody tr th:only-of-type {\n        vertical-align: middle;\n    }\n\n    .dataframe tbody tr th {\n        vertical-align: top;\n    }\n\n    .dataframe thead th {\n        text-align: right;\n    }\n</style>\n<table border=\"1\" class=\"dataframe\">\n  <thead>\n    <tr style=\"text-align: right;\">\n      <th></th>\n      <th>Country code</th>\n      <th>Name</th>\n      <th>Continental region</th>\n      <th>NO. OF Internet Plans</th>\n      <th>Average price of 1GB (USD)</th>\n      <th>Cheapest 1GB for 30 days (USD)</th>\n      <th>Most expensive 1GB (USD)</th>\n      <th>Average price of 1GB (USD  at the start of 2021)</th>\n      <th>Average price of 1GB (USD – at start of 2020)</th>\n      <th>Country</th>\n      <th>Avg \\n(Mbit/s)Ookla</th>\n    </tr>\n  </thead>\n  <tbody>\n    <tr>\n      <th>0</th>\n      <td>IL</td>\n      <td>Israel</td>\n      <td>NEAR EAST</td>\n      <td>27.0</td>\n      <td>$0.05</td>\n      <td>$0.02</td>\n      <td>$20.95</td>\n      <td>$0.11</td>\n      <td>$0.90</td>\n      <td>Israel</td>\n      <td>28.01</td>\n    </tr>\n    <tr>\n      <th>1</th>\n      <td>KG</td>\n      <td>Kyrgyzstan</td>\n      <td>CIS (FORMER USSR)</td>\n      <td>20.0</td>\n      <td>$0.15</td>\n      <td>$0.10</td>\n      <td>$7.08</td>\n      <td>$0.21</td>\n      <td>$0.27</td>\n      <td>Kyrgyzstan</td>\n      <td>16.30</td>\n    </tr>\n    <tr>\n      <th>2</th>\n      <td>FJ</td>\n      <td>Fiji</td>\n      <td>OCEANIA</td>\n      <td>18.0</td>\n      <td>$0.19</td>\n      <td>$0.05</td>\n      <td>$0.85</td>\n      <td>$0.59</td>\n      <td>$3.57</td>\n      <td>Fiji</td>\n      <td>25.99</td>\n    </tr>\n    <tr>\n      <th>3</th>\n      <td>IT</td>\n      <td>Italy</td>\n      <td>WESTERN EUROPE</td>\n      <td>29.0</td>\n      <td>$0.27</td>\n      <td>$0.09</td>\n      <td>$3.54</td>\n      <td>$0.43</td>\n      <td>$1.73</td>\n      <td>Italy</td>\n      <td>37.15</td>\n    </tr>\n    <tr>\n      <th>4</th>\n      <td>SD</td>\n      <td>Sudan</td>\n      <td>SUB-SAHARAN AFRICA</td>\n      <td>33.0</td>\n      <td>$0.27</td>\n      <td>$0.03</td>\n      <td>$0.92</td>\n      <td>$0.63</td>\n      <td>$0.68</td>\n      <td>Sudan</td>\n      <td>9.50</td>\n    </tr>\n    <tr>\n      <th>...</th>\n      <td>...</td>\n      <td>...</td>\n      <td>...</td>\n      <td>...</td>\n      <td>...</td>\n      <td>...</td>\n      <td>...</td>\n      <td>...</td>\n      <td>...</td>\n      <td>...</td>\n      <td>...</td>\n    </tr>\n    <tr>\n      <th>130</th>\n      <td>YE</td>\n      <td>Yemen</td>\n      <td>NEAR EAST</td>\n      <td>17.0</td>\n      <td>$15.98</td>\n      <td>$0.40</td>\n      <td>$39.94</td>\n      <td>$15.98</td>\n      <td>$15.73</td>\n      <td>Yemen</td>\n      <td>16.89</td>\n    </tr>\n    <tr>\n      <th>131</th>\n      <td>NaN</td>\n      <td>Namibia</td>\n      <td>SUB-SAHARAN AFRICA</td>\n      <td>33.0</td>\n      <td>$22.37</td>\n      <td>$1.20</td>\n      <td>$72.06</td>\n      <td>$4.78</td>\n      <td>$11.02</td>\n      <td>Namibia</td>\n      <td>18.43</td>\n    </tr>\n    <tr>\n      <th>132</th>\n      <td>MW</td>\n      <td>Malawi</td>\n      <td>SUB-SAHARAN AFRICA</td>\n      <td>5.0</td>\n      <td>$25.46</td>\n      <td>$20.37</td>\n      <td>$25.46</td>\n      <td>$27.41</td>\n      <td>$3.59</td>\n      <td>Malawi</td>\n      <td>17.95</td>\n    </tr>\n    <tr>\n      <th>133</th>\n      <td>VE</td>\n      <td>Venezuela</td>\n      <td>SOUTH AMERICA</td>\n      <td>NaN</td>\n      <td>HYPERINFLATION</td>\n      <td>NaN</td>\n      <td>NaN</td>\n      <td>NaN</td>\n      <td>NaN</td>\n      <td>Venezuela</td>\n      <td>5.68</td>\n    </tr>\n    <tr>\n      <th>134</th>\n      <td>ZW</td>\n      <td>Zimbabwe</td>\n      <td>SUB-SAHARAN AFRICA</td>\n      <td>NaN</td>\n      <td>UNRELIABLE EXCHANGE RATES</td>\n      <td>NaN</td>\n      <td>NaN</td>\n      <td>NaN</td>\n      <td>NaN</td>\n      <td>Zimbabwe</td>\n      <td>13.99</td>\n    </tr>\n  </tbody>\n</table>\n<p>135 rows × 11 columns</p>\n</div>"
     },
     "metadata": {}
    }
   ],
   "execution_count": 50
  },
  {
   "cell_type": "code",
   "source": "speed",
   "metadata": {
    "cell_id": "c57f12c0e5304dd1aadc65b2918cc6d6",
    "tags": [],
    "deepnote_to_be_reexecuted": false,
    "source_hash": "17d266d4",
    "execution_start": 1657575538569,
    "execution_millis": 48,
    "deepnote_table_state": {
     "pageSize": 10,
     "pageIndex": 0,
     "filters": [
      {
       "id": "Country",
       "value": "",
       "type": "contains"
      }
     ],
     "sortBy": [
      {
       "id": "Country",
       "type": "asc"
      }
     ]
    },
    "deepnote_table_loading": false,
    "deepnote_cell_type": "code",
    "deepnote_cell_height": 660
   },
   "outputs": [
    {
     "output_type": "execute_result",
     "execution_count": 49,
     "data": {
      "application/vnd.deepnote.dataframe.v3+json": {
       "column_count": 2,
       "row_count": 144,
       "columns": [
        {
         "name": "Country",
         "dtype": "object",
         "stats": {
          "unique_count": 143,
          "nan_count": 0,
          "categories": [
           {
            "name": "Lebanon",
            "count": 2
           },
           {
            "name": "Afghanistan",
            "count": 1
           },
           {
            "name": "141 others",
            "count": 141
           }
          ]
         }
        },
        {
         "name": "Avg \n(Mbit/s)Ookla",
         "dtype": "float64",
         "stats": {
          "unique_count": 141,
          "nan_count": 1,
          "min": "4.89",
          "max": "135.35",
          "histogram": [
           {
            "bin_start": 4.89,
            "bin_end": 17.936,
            "count": 44
           },
           {
            "bin_start": 17.936,
            "bin_end": 30.982000000000003,
            "count": 40
           },
           {
            "bin_start": 30.982000000000003,
            "bin_end": 44.028000000000006,
            "count": 16
           },
           {
            "bin_start": 44.028000000000006,
            "bin_end": 57.074000000000005,
            "count": 17
           },
           {
            "bin_start": 57.074000000000005,
            "bin_end": 70.12,
            "count": 7
           },
           {
            "bin_start": 70.12,
            "bin_end": 83.16600000000001,
            "count": 8
           },
           {
            "bin_start": 83.16600000000001,
            "bin_end": 96.212,
            "count": 3
           },
           {
            "bin_start": 96.212,
            "bin_end": 109.25800000000001,
            "count": 4
           },
           {
            "bin_start": 109.25800000000001,
            "bin_end": 122.30400000000002,
            "count": 2
           },
           {
            "bin_start": 122.30400000000002,
            "bin_end": 135.35,
            "count": 2
           }
          ]
         }
        },
        {
         "name": "_deepnote_index_column",
         "dtype": "int64"
        }
       ],
       "rows": [
        {
         "Country": "Afghanistan",
         "Avg \n(Mbit/s)Ookla": 5.5,
         "_deepnote_index_column": 70
        },
        {
         "Country": "Albania",
         "Avg \n(Mbit/s)Ookla": 40.48,
         "_deepnote_index_column": 28
        },
        {
         "Country": "Algeria",
         "Avg \n(Mbit/s)Ookla": 12.44,
         "_deepnote_index_column": 96
        },
        {
         "Country": "Angola",
         "Avg \n(Mbit/s)Ookla": 22.59,
         "_deepnote_index_column": 121
        },
        {
         "Country": "Argentina",
         "Avg \n(Mbit/s)Ookla": 20.64,
         "_deepnote_index_column": 49
        },
        {
         "Country": "Armenia",
         "Avg \n(Mbit/s)Ookla": 22.01,
         "_deepnote_index_column": 122
        },
        {
         "Country": "Australia",
         "Avg \n(Mbit/s)Ookla": 76.52,
         "_deepnote_index_column": 6
        },
        {
         "Country": "Austria",
         "Avg \n(Mbit/s)Ookla": 56.6,
         "_deepnote_index_column": 11
        },
        {
         "Country": "Azerbaijan",
         "Avg \n(Mbit/s)Ookla": 30.4,
         "_deepnote_index_column": 48
        },
        {
         "Country": "Bahamas",
         "Avg \n(Mbit/s)Ookla": 26.77,
         "_deepnote_index_column": 116
        }
       ]
      },
      "text/plain": "         Country  Avg \\n(Mbit/s)Ookla\n0         Canada                75.18\n1    South Korea               117.95\n2    Netherlands               108.33\n3          Japan                44.05\n4         Norway               134.73\n..           ...                  ...\n139        Sudan                 9.50\n140         Cuba                 9.10\n141   Tajikistan                 7.05\n142    Venezuela                 5.68\n143    Palestine                 4.89\n\n[144 rows x 2 columns]",
      "text/html": "<div>\n<style scoped>\n    .dataframe tbody tr th:only-of-type {\n        vertical-align: middle;\n    }\n\n    .dataframe tbody tr th {\n        vertical-align: top;\n    }\n\n    .dataframe thead th {\n        text-align: right;\n    }\n</style>\n<table border=\"1\" class=\"dataframe\">\n  <thead>\n    <tr style=\"text-align: right;\">\n      <th></th>\n      <th>Country</th>\n      <th>Avg \\n(Mbit/s)Ookla</th>\n    </tr>\n  </thead>\n  <tbody>\n    <tr>\n      <th>0</th>\n      <td>Canada</td>\n      <td>75.18</td>\n    </tr>\n    <tr>\n      <th>1</th>\n      <td>South Korea</td>\n      <td>117.95</td>\n    </tr>\n    <tr>\n      <th>2</th>\n      <td>Netherlands</td>\n      <td>108.33</td>\n    </tr>\n    <tr>\n      <th>3</th>\n      <td>Japan</td>\n      <td>44.05</td>\n    </tr>\n    <tr>\n      <th>4</th>\n      <td>Norway</td>\n      <td>134.73</td>\n    </tr>\n    <tr>\n      <th>...</th>\n      <td>...</td>\n      <td>...</td>\n    </tr>\n    <tr>\n      <th>139</th>\n      <td>Sudan</td>\n      <td>9.50</td>\n    </tr>\n    <tr>\n      <th>140</th>\n      <td>Cuba</td>\n      <td>9.10</td>\n    </tr>\n    <tr>\n      <th>141</th>\n      <td>Tajikistan</td>\n      <td>7.05</td>\n    </tr>\n    <tr>\n      <th>142</th>\n      <td>Venezuela</td>\n      <td>5.68</td>\n    </tr>\n    <tr>\n      <th>143</th>\n      <td>Palestine</td>\n      <td>4.89</td>\n    </tr>\n  </tbody>\n</table>\n<p>144 rows × 2 columns</p>\n</div>"
     },
     "metadata": {}
    }
   ],
   "execution_count": 49
  },
  {
   "cell_type": "markdown",
   "source": "# Load",
   "metadata": {
    "cell_id": "1efcd1bf959246f88bf5639f2c8b0bc5",
    "tags": [],
    "is_collapsed": false,
    "formattedRanges": [],
    "deepnote_cell_type": "text-cell-h1"
   }
  },
  {
   "cell_type": "code",
   "metadata": {
    "cell_id": "e76ecf2f801147cc9bc6960586cd523f",
    "tags": [],
    "deepnote_to_be_reexecuted": false,
    "source_hash": "59a5d537",
    "execution_start": 1657576919961,
    "execution_millis": 4831,
    "deepnote_cell_type": "code",
    "deepnote_cell_height": 387,
    "deepnote_output_heights": [
     78.75
    ]
   },
   "source": "#load data to google sheets\n#Create key\nkey = \"1ta2iOwjKzIRu7CL60DqzXpVlYhvaTOz7618GmgF8Kts\"\n\n#Selects the sheet to export to\nsheet = gc.open_by_key(key).worksheet('prices')\nsheet1 = gc.open_by_key(key).worksheet('speed')\nsheet2 = gc.open_by_key(key).worksheet('users')\n\n#Clears the sheet and exports data\nsheet.batch_clear([\"A100:L40000\"])\nset_with_dataframe(sheet, prices) \n\nsheet1.batch_clear([\"A100:R15000\"])\nset_with_dataframe(sheet1, speed) \n\nsheet2.batch_clear([\"A100:Z15000\"])\nset_with_dataframe(sheet2, users)",
   "execution_count": 62,
   "outputs": []
  },
  {
   "cell_type": "markdown",
   "source": "<a style='text-decoration:none;line-height:16px;display:flex;color:#5B5B62;padding:10px;justify-content:end;' href='https://deepnote.com?utm_source=created-in-deepnote-cell&projectId=07a4ffe0-c8ed-4f4e-b576-dc2d51ba276d' target=\"_blank\">\n<img alt='Created in deepnote.com' style='display:inline;max-height:16px;margin:0px;margin-right:7.5px;' src='data:image/svg+xml;base64,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' > </img>\nCreated in <span style='font-weight:600;margin-left:4px;'>Deepnote</span></a>",
   "metadata": {
    "tags": [],
    "created_in_deepnote_cell": true,
    "deepnote_cell_type": "markdown"
   }
  }
 ],
 "nbformat": 4,
 "nbformat_minor": 2,
 "metadata": {
  "orig_nbformat": 2,
  "deepnote": {},
  "deepnote_notebook_id": "ef00011f-1fd0-4834-8d1a-ef3b393682c4",
  "deepnote_execution_queue": []
 }
}